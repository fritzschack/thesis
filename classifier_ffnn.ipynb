{
 "cells": [
  {
   "cell_type": "markdown",
   "id": "0a73f2e4-dcf3-4212-ae1e-5534fd238a9f",
   "metadata": {},
   "source": [
    "## Imports & Variables"
   ]
  },
  {
   "cell_type": "code",
   "execution_count": 1,
   "id": "7246787a-8e21-4978-852b-ec60e6bb2df6",
   "metadata": {},
   "outputs": [
    {
     "data": {
      "text/plain": [
       "<Figure size 2160x720 with 0 Axes>"
      ]
     },
     "metadata": {},
     "output_type": "display_data"
    }
   ],
   "source": [
    "import json\n",
    "import librosa\n",
    "import matplotlib.pyplot as plt\n",
    "import numpy as np\n",
    "import pandas as pd\n",
    "import requests\n",
    "import seaborn\n",
    "import tensorflow\n",
    "\n",
    "from collections import Counter\n",
    "from datetime import datetime\n",
    "from imblearn.under_sampling import RandomUnderSampler\n",
    "from sklearn import metrics\n",
    "from sklearn.model_selection import train_test_split\n",
    "from sklearn.preprocessing import LabelEncoder\n",
    "from sklearn.utils.multiclass import unique_labels\n",
    "from sklearn.metrics import confusion_matrix\n",
    "from tensorflow.keras.callbacks import ModelCheckpoint\n",
    "from tensorflow.keras.layers import Dense,Dropout,Activation,Flatten\n",
    "from tensorflow.keras.models import Sequential\n",
    "from tensorflow.keras.optimizers import Adam\n",
    "from tensorflow.keras.utils import to_categorical\n",
    "from tqdm import tqdm\n",
    "\n",
    "plt.figure(figsize=(30,10))\n",
    "\n",
    "seaborn.set(style=\"ticks\")"
   ]
  },
  {
   "cell_type": "markdown",
   "id": "73570ca5-96c9-4ca8-bbd4-27b19a6a2d2c",
   "metadata": {},
   "source": [
    "## Data Collection & Feature Extraction"
   ]
  },
  {
   "cell_type": "code",
   "execution_count": 2,
   "id": "dc961f77-9cf5-4239-8303-e4821922cf13",
   "metadata": {},
   "outputs": [
    {
     "data": {
      "text/html": [
       "<div>\n",
       "<style scoped>\n",
       "    .dataframe tbody tr th:only-of-type {\n",
       "        vertical-align: middle;\n",
       "    }\n",
       "\n",
       "    .dataframe tbody tr th {\n",
       "        vertical-align: top;\n",
       "    }\n",
       "\n",
       "    .dataframe thead th {\n",
       "        text-align: right;\n",
       "    }\n",
       "</style>\n",
       "<table border=\"1\" class=\"dataframe\">\n",
       "  <thead>\n",
       "    <tr style=\"text-align: right;\">\n",
       "      <th></th>\n",
       "      <th>path</th>\n",
       "      <th>label</th>\n",
       "      <th>environment</th>\n",
       "    </tr>\n",
       "  </thead>\n",
       "  <tbody>\n",
       "    <tr>\n",
       "      <th>0</th>\n",
       "      <td>../recordings/combined/a196dbae-1f50-4d0e-b345...</td>\n",
       "      <td>washing_hands</td>\n",
       "      <td>marsberg</td>\n",
       "    </tr>\n",
       "    <tr>\n",
       "      <th>1</th>\n",
       "      <td>../recordings/combined/826e36b1-2a7e-4d22-9c81...</td>\n",
       "      <td>washing_hands</td>\n",
       "      <td>marsberg</td>\n",
       "    </tr>\n",
       "    <tr>\n",
       "      <th>2</th>\n",
       "      <td>../recordings/combined/9a6b6b01-e466-47fb-9fcc...</td>\n",
       "      <td>washing_hands</td>\n",
       "      <td>marsberg</td>\n",
       "    </tr>\n",
       "    <tr>\n",
       "      <th>3</th>\n",
       "      <td>../recordings/combined/84ee02e6-44d5-4ab3-b875...</td>\n",
       "      <td>washing_hands</td>\n",
       "      <td>marsberg</td>\n",
       "    </tr>\n",
       "    <tr>\n",
       "      <th>4</th>\n",
       "      <td>../recordings/combined/ec24c55a-39ec-4b36-86fe...</td>\n",
       "      <td>washing_hands</td>\n",
       "      <td>marsberg</td>\n",
       "    </tr>\n",
       "  </tbody>\n",
       "</table>\n",
       "</div>"
      ],
      "text/plain": [
       "                                                path          label  \\\n",
       "0  ../recordings/combined/a196dbae-1f50-4d0e-b345...  washing_hands   \n",
       "1  ../recordings/combined/826e36b1-2a7e-4d22-9c81...  washing_hands   \n",
       "2  ../recordings/combined/9a6b6b01-e466-47fb-9fcc...  washing_hands   \n",
       "3  ../recordings/combined/84ee02e6-44d5-4ab3-b875...  washing_hands   \n",
       "4  ../recordings/combined/ec24c55a-39ec-4b36-86fe...  washing_hands   \n",
       "\n",
       "  environment  \n",
       "0    marsberg  \n",
       "1    marsberg  \n",
       "2    marsberg  \n",
       "3    marsberg  \n",
       "4    marsberg  "
      ]
     },
     "execution_count": 2,
     "metadata": {},
     "output_type": "execute_result"
    }
   ],
   "source": [
    "data = requests.get(\"https://dolphin-app-9sdeq.ondigitalocean.app/api/v1/recordings\").json()\n",
    "\n",
    "recordings = []\n",
    "\n",
    "for recording in data:\n",
    "    recordings.append({\n",
    "        \"path\": f'../recordings/combined/{recording[\"name\"]}',\n",
    "        \"label\": recording[\"label\"],\n",
    "        \"environment\": recording[\"environment\"]\n",
    "    })\n",
    "\n",
    "dataframe = pd.json_normalize(recordings)\n",
    "\n",
    "dataframe.head()"
   ]
  },
  {
   "cell_type": "code",
   "execution_count": 3,
   "id": "5a46a54c-18ac-4ba9-b82b-474aec7e884c",
   "metadata": {},
   "outputs": [
    {
     "name": "stderr",
     "output_type": "stream",
     "text": [
      "119it [02:32,  1.28s/it]\n"
     ]
    }
   ],
   "source": [
    "def preprocess(dataframe):\n",
    "    features = []\n",
    "    for index, row in tqdm(dataframe.iterrows()):\n",
    "        audio, sample_rate = librosa.load(row[\"path\"])\n",
    "        mfcc = librosa.feature.mfcc(y=audio, n_mfcc=24, sr=sample_rate)\n",
    "        features.append(np.mean(mfcc.T, axis=0))\n",
    "        \n",
    "    dataframe[\"features\"] = features\n",
    "    \n",
    "    return dataframe\n",
    "\n",
    "dataframe = preprocess(dataframe)"
   ]
  },
  {
   "cell_type": "code",
   "execution_count": 4,
   "id": "09eecd86-3088-4b6b-8d12-efeb20b7b695",
   "metadata": {},
   "outputs": [],
   "source": [
    "dataframe_marsberg = dataframe[dataframe[\"environment\"] == \"marsberg\"]\n",
    "dataframe_duesseldorf = dataframe[dataframe[\"environment\"] == \"duesseldorf\"]"
   ]
  },
  {
   "cell_type": "markdown",
   "id": "474f9e6f-f369-4120-b07c-fe58c6422707",
   "metadata": {},
   "source": [
    "## Feed-Forward Neural Network trained on data from _marsberg_"
   ]
  },
  {
   "cell_type": "code",
   "execution_count": 5,
   "id": "bf323cdd-6aef-422c-a944-f1ba9dbd3b05",
   "metadata": {},
   "outputs": [
    {
     "name": "stdout",
     "output_type": "stream",
     "text": [
      "(51, 24) (11, 24) (9, 24)\n"
     ]
    }
   ],
   "source": [
    "x = np.array(dataframe_marsberg[\"features\"].tolist())\n",
    "y = np.array(dataframe_marsberg[\"label\"].tolist())\n",
    "\n",
    "label_encoder = LabelEncoder()\n",
    "y = to_categorical(label_encoder.fit_transform(y))\n",
    "\n",
    "x_train, x_test, y_train, y_test = train_test_split(x, y, test_size=0.15, random_state=0)\n",
    "x_train, x_val, y_train, y_val = train_test_split(x_train, y_train, test_size=0.15, random_state=0)\n",
    "\n",
    "print(x_train.shape, x_test.shape, x_val.shape)"
   ]
  },
  {
   "cell_type": "code",
   "execution_count": 6,
   "id": "634881bc-eaa9-4b78-a944-6b918d08c699",
   "metadata": {},
   "outputs": [
    {
     "name": "stderr",
     "output_type": "stream",
     "text": [
      "2022-09-20 21:24:08.463967: I tensorflow/core/platform/cpu_feature_guard.cc:193] This TensorFlow binary is optimized with oneAPI Deep Neural Network Library (oneDNN) to use the following CPU instructions in performance-critical operations:  AVX2 AVX512F AVX512_VNNI FMA\n",
      "To enable them in other operations, rebuild TensorFlow with the appropriate compiler flags.\n"
     ]
    },
    {
     "name": "stdout",
     "output_type": "stream",
     "text": [
      "Model: \"sequential\"\n",
      "_________________________________________________________________\n",
      " Layer (type)                Output Shape              Param #   \n",
      "=================================================================\n",
      " dense (Dense)               (None, 400)               10000     \n",
      "                                                                 \n",
      " activation (Activation)     (None, 400)               0         \n",
      "                                                                 \n",
      " dropout (Dropout)           (None, 400)               0         \n",
      "                                                                 \n",
      " dense_1 (Dense)             (None, 800)               320800    \n",
      "                                                                 \n",
      " activation_1 (Activation)   (None, 800)               0         \n",
      "                                                                 \n",
      " dropout_1 (Dropout)         (None, 800)               0         \n",
      "                                                                 \n",
      " dense_2 (Dense)             (None, 400)               320400    \n",
      "                                                                 \n",
      " activation_2 (Activation)   (None, 400)               0         \n",
      "                                                                 \n",
      " dropout_2 (Dropout)         (None, 400)               0         \n",
      "                                                                 \n",
      " dense_3 (Dense)             (None, 5)                 2005      \n",
      "                                                                 \n",
      " activation_3 (Activation)   (None, 5)                 0         \n",
      "                                                                 \n",
      "=================================================================\n",
      "Total params: 653,205\n",
      "Trainable params: 653,205\n",
      "Non-trainable params: 0\n",
      "_________________________________________________________________\n"
     ]
    }
   ],
   "source": [
    "model = Sequential()\n",
    "model.add(Dense(400,input_shape=(24,)))\n",
    "model.add(Activation(\"relu\"))\n",
    "model.add(Dropout(0.5))\n",
    "model.add(Dense(800))\n",
    "model.add(Activation(\"relu\"))\n",
    "model.add(Dropout(0.5))\n",
    "model.add(Dense(400))\n",
    "model.add(Activation('relu'))\n",
    "model.add(Dropout(0.5))\n",
    "model.add(Dense(5))\n",
    "model.add(Activation('softmax'))\n",
    "model.summary()"
   ]
  },
  {
   "cell_type": "code",
   "execution_count": 7,
   "id": "8c0c1e21-ac90-469a-a5e6-e48b7f1bd40d",
   "metadata": {},
   "outputs": [],
   "source": [
    "model.compile(\n",
    "    optimizer='rmsprop',\n",
    "    loss='categorical_crossentropy',\n",
    "    metrics=['acc'],\n",
    "    steps_per_execution=100\n",
    ")"
   ]
  },
  {
   "cell_type": "code",
   "execution_count": 8,
   "id": "7bfd0282-4ba6-442f-ac17-e535ea5fc4a3",
   "metadata": {},
   "outputs": [
    {
     "name": "stdout",
     "output_type": "stream",
     "text": [
      "Epoch 1/100\n",
      "1/1 [==============================] - 1s 1s/step - loss: 52.2879 - acc: 0.1373 - val_loss: 59.4892 - val_acc: 0.2222\n",
      "Epoch 2/100\n",
      "1/1 [==============================] - 0s 30ms/step - loss: 70.2848 - acc: 0.1765 - val_loss: 101.1537 - val_acc: 0.3333\n",
      "Epoch 3/100\n",
      "1/1 [==============================] - 0s 31ms/step - loss: 117.0702 - acc: 0.3137 - val_loss: 78.8398 - val_acc: 0.0000e+00\n",
      "Epoch 4/100\n",
      "1/1 [==============================] - 0s 29ms/step - loss: 111.7553 - acc: 0.1373 - val_loss: 11.8213 - val_acc: 0.3333\n",
      "Epoch 5/100\n",
      "1/1 [==============================] - 0s 29ms/step - loss: 40.7128 - acc: 0.1765 - val_loss: 19.5486 - val_acc: 0.0000e+00\n",
      "Epoch 6/100\n",
      "1/1 [==============================] - 0s 30ms/step - loss: 35.0975 - acc: 0.2549 - val_loss: 10.6005 - val_acc: 0.3333\n",
      "Epoch 7/100\n",
      "1/1 [==============================] - 0s 28ms/step - loss: 29.5667 - acc: 0.3137 - val_loss: 17.8918 - val_acc: 0.2222\n",
      "Epoch 8/100\n",
      "1/1 [==============================] - 0s 31ms/step - loss: 36.8215 - acc: 0.1961 - val_loss: 8.9786 - val_acc: 0.2222\n",
      "Epoch 9/100\n",
      "1/1 [==============================] - 0s 31ms/step - loss: 32.5242 - acc: 0.2353 - val_loss: 17.7103 - val_acc: 0.1111\n",
      "Epoch 10/100\n",
      "1/1 [==============================] - 0s 28ms/step - loss: 36.3557 - acc: 0.1765 - val_loss: 11.4911 - val_acc: 0.2222\n",
      "Epoch 11/100\n",
      "1/1 [==============================] - 0s 30ms/step - loss: 33.6828 - acc: 0.1569 - val_loss: 4.3925 - val_acc: 0.3333\n",
      "Epoch 12/100\n",
      "1/1 [==============================] - 0s 29ms/step - loss: 27.0603 - acc: 0.2549 - val_loss: 5.9794 - val_acc: 0.0000e+00\n",
      "Epoch 13/100\n",
      "1/1 [==============================] - 0s 28ms/step - loss: 24.5235 - acc: 0.2157 - val_loss: 3.3522 - val_acc: 0.3333\n",
      "Epoch 14/100\n",
      "1/1 [==============================] - 0s 29ms/step - loss: 18.3292 - acc: 0.3137 - val_loss: 3.9405 - val_acc: 0.3333\n",
      "Epoch 15/100\n",
      "1/1 [==============================] - 0s 29ms/step - loss: 22.3492 - acc: 0.1961 - val_loss: 6.1932 - val_acc: 0.3333\n",
      "Epoch 16/100\n",
      "1/1 [==============================] - 0s 30ms/step - loss: 20.0504 - acc: 0.2157 - val_loss: 5.7796 - val_acc: 0.3333\n",
      "Epoch 17/100\n",
      "1/1 [==============================] - 0s 31ms/step - loss: 18.5409 - acc: 0.2745 - val_loss: 4.5935 - val_acc: 0.3333\n",
      "Epoch 18/100\n",
      "1/1 [==============================] - 0s 29ms/step - loss: 21.4604 - acc: 0.1961 - val_loss: 4.2683 - val_acc: 0.2222\n",
      "Epoch 19/100\n",
      "1/1 [==============================] - 0s 30ms/step - loss: 16.1246 - acc: 0.3333 - val_loss: 3.8741 - val_acc: 0.3333\n",
      "Epoch 20/100\n",
      "1/1 [==============================] - 0s 29ms/step - loss: 15.3166 - acc: 0.3137 - val_loss: 2.7114 - val_acc: 0.2222\n",
      "Epoch 21/100\n",
      "1/1 [==============================] - 0s 29ms/step - loss: 16.0144 - acc: 0.2157 - val_loss: 2.7167 - val_acc: 0.5556\n",
      "Epoch 22/100\n",
      "1/1 [==============================] - 0s 29ms/step - loss: 17.1287 - acc: 0.1961 - val_loss: 4.4987 - val_acc: 0.2222\n",
      "Epoch 23/100\n",
      "1/1 [==============================] - 0s 29ms/step - loss: 14.1576 - acc: 0.2549 - val_loss: 3.1061 - val_acc: 0.3333\n",
      "Epoch 24/100\n",
      "1/1 [==============================] - 0s 29ms/step - loss: 12.2095 - acc: 0.2745 - val_loss: 3.2218 - val_acc: 0.2222\n",
      "Epoch 25/100\n",
      "1/1 [==============================] - 0s 32ms/step - loss: 15.9143 - acc: 0.2157 - val_loss: 3.0870 - val_acc: 0.2222\n",
      "Epoch 26/100\n",
      "1/1 [==============================] - 0s 29ms/step - loss: 19.7630 - acc: 0.1569 - val_loss: 3.4462 - val_acc: 0.1111\n",
      "Epoch 27/100\n",
      "1/1 [==============================] - 0s 31ms/step - loss: 12.2863 - acc: 0.2549 - val_loss: 2.9834 - val_acc: 0.2222\n",
      "Epoch 28/100\n",
      "1/1 [==============================] - 0s 31ms/step - loss: 14.4650 - acc: 0.1569 - val_loss: 2.4729 - val_acc: 0.2222\n",
      "Epoch 29/100\n",
      "1/1 [==============================] - 0s 30ms/step - loss: 13.3869 - acc: 0.2353 - val_loss: 4.9509 - val_acc: 0.2222\n",
      "Epoch 30/100\n",
      "1/1 [==============================] - 0s 32ms/step - loss: 14.8438 - acc: 0.1569 - val_loss: 1.9028 - val_acc: 0.3333\n",
      "Epoch 31/100\n",
      "1/1 [==============================] - 0s 30ms/step - loss: 9.6195 - acc: 0.3137 - val_loss: 1.9575 - val_acc: 0.2222\n",
      "Epoch 32/100\n",
      "1/1 [==============================] - 0s 30ms/step - loss: 11.6867 - acc: 0.1961 - val_loss: 1.6053 - val_acc: 0.3333\n",
      "Epoch 33/100\n",
      "1/1 [==============================] - 0s 29ms/step - loss: 12.6134 - acc: 0.2745 - val_loss: 1.9470 - val_acc: 0.2222\n",
      "Epoch 34/100\n",
      "1/1 [==============================] - 0s 28ms/step - loss: 12.0466 - acc: 0.1373 - val_loss: 1.6131 - val_acc: 0.3333\n",
      "Epoch 35/100\n",
      "1/1 [==============================] - 0s 29ms/step - loss: 14.5677 - acc: 0.1961 - val_loss: 1.5392 - val_acc: 0.2222\n",
      "Epoch 36/100\n",
      "1/1 [==============================] - 0s 30ms/step - loss: 8.3559 - acc: 0.2941 - val_loss: 1.6545 - val_acc: 0.0000e+00\n",
      "Epoch 37/100\n",
      "1/1 [==============================] - 0s 29ms/step - loss: 9.4742 - acc: 0.2353 - val_loss: 1.5670 - val_acc: 0.3333\n",
      "Epoch 38/100\n",
      "1/1 [==============================] - 0s 30ms/step - loss: 9.4976 - acc: 0.3137 - val_loss: 1.5657 - val_acc: 0.1111\n",
      "Epoch 39/100\n",
      "1/1 [==============================] - 0s 31ms/step - loss: 11.8528 - acc: 0.1961 - val_loss: 1.7390 - val_acc: 0.1111\n",
      "Epoch 40/100\n",
      "1/1 [==============================] - 0s 30ms/step - loss: 9.6269 - acc: 0.2353 - val_loss: 1.4739 - val_acc: 0.2222\n",
      "Epoch 41/100\n",
      "1/1 [==============================] - 0s 31ms/step - loss: 8.1416 - acc: 0.3137 - val_loss: 1.8237 - val_acc: 0.2222\n",
      "Epoch 42/100\n",
      "1/1 [==============================] - 0s 32ms/step - loss: 8.9710 - acc: 0.2941 - val_loss: 1.5814 - val_acc: 0.2222\n",
      "Epoch 43/100\n",
      "1/1 [==============================] - 0s 31ms/step - loss: 6.6061 - acc: 0.2549 - val_loss: 1.4744 - val_acc: 0.0000e+00\n",
      "Epoch 44/100\n",
      "1/1 [==============================] - 0s 31ms/step - loss: 8.5359 - acc: 0.1961 - val_loss: 1.7326 - val_acc: 0.0000e+00\n",
      "Epoch 45/100\n",
      "1/1 [==============================] - 0s 33ms/step - loss: 7.1416 - acc: 0.1765 - val_loss: 1.5448 - val_acc: 0.2222\n",
      "Epoch 46/100\n",
      "1/1 [==============================] - 0s 32ms/step - loss: 7.0007 - acc: 0.3529 - val_loss: 1.8901 - val_acc: 0.2222\n",
      "Epoch 47/100\n",
      "1/1 [==============================] - 0s 32ms/step - loss: 6.2174 - acc: 0.3922 - val_loss: 1.6320 - val_acc: 0.2222\n",
      "Epoch 48/100\n",
      "1/1 [==============================] - 0s 30ms/step - loss: 5.4086 - acc: 0.3529 - val_loss: 1.4166 - val_acc: 0.3333\n",
      "Epoch 49/100\n",
      "1/1 [==============================] - 0s 29ms/step - loss: 6.4076 - acc: 0.1373 - val_loss: 1.5470 - val_acc: 0.4444\n",
      "Epoch 50/100\n",
      "1/1 [==============================] - 0s 28ms/step - loss: 7.8049 - acc: 0.1961 - val_loss: 1.5700 - val_acc: 0.3333\n",
      "Epoch 51/100\n",
      "1/1 [==============================] - 0s 29ms/step - loss: 4.1586 - acc: 0.4118 - val_loss: 1.5076 - val_acc: 0.3333\n",
      "Epoch 52/100\n",
      "1/1 [==============================] - 0s 29ms/step - loss: 7.6121 - acc: 0.1961 - val_loss: 1.5750 - val_acc: 0.3333\n",
      "Epoch 53/100\n",
      "1/1 [==============================] - 0s 29ms/step - loss: 8.2055 - acc: 0.2745 - val_loss: 1.5937 - val_acc: 0.3333\n",
      "Epoch 54/100\n",
      "1/1 [==============================] - 0s 28ms/step - loss: 7.9492 - acc: 0.1569 - val_loss: 1.4818 - val_acc: 0.3333\n",
      "Epoch 55/100\n",
      "1/1 [==============================] - 0s 30ms/step - loss: 8.1889 - acc: 0.1765 - val_loss: 1.5163 - val_acc: 0.3333\n",
      "Epoch 56/100\n",
      "1/1 [==============================] - 0s 29ms/step - loss: 6.6746 - acc: 0.2549 - val_loss: 1.4738 - val_acc: 0.3333\n",
      "Epoch 57/100\n",
      "1/1 [==============================] - 0s 30ms/step - loss: 5.0873 - acc: 0.2941 - val_loss: 1.5186 - val_acc: 0.3333\n",
      "Epoch 58/100\n",
      "1/1 [==============================] - 0s 30ms/step - loss: 5.6986 - acc: 0.1961 - val_loss: 1.5525 - val_acc: 0.3333\n",
      "Epoch 59/100\n",
      "1/1 [==============================] - 0s 30ms/step - loss: 5.3633 - acc: 0.1569 - val_loss: 1.4778 - val_acc: 0.2222\n",
      "Epoch 60/100\n",
      "1/1 [==============================] - 0s 29ms/step - loss: 5.3433 - acc: 0.2157 - val_loss: 1.4787 - val_acc: 0.5556\n",
      "Epoch 61/100\n",
      "1/1 [==============================] - 0s 30ms/step - loss: 6.1098 - acc: 0.2353 - val_loss: 1.4383 - val_acc: 0.3333\n",
      "Epoch 62/100\n",
      "1/1 [==============================] - 0s 29ms/step - loss: 4.6990 - acc: 0.3333 - val_loss: 1.5291 - val_acc: 0.3333\n",
      "Epoch 63/100\n",
      "1/1 [==============================] - 0s 29ms/step - loss: 4.2038 - acc: 0.2353 - val_loss: 1.5543 - val_acc: 0.3333\n",
      "Epoch 64/100\n",
      "1/1 [==============================] - 0s 31ms/step - loss: 4.7652 - acc: 0.2941 - val_loss: 1.5755 - val_acc: 0.3333\n",
      "Epoch 65/100\n",
      "1/1 [==============================] - 0s 29ms/step - loss: 5.0957 - acc: 0.1961 - val_loss: 1.5657 - val_acc: 0.3333\n",
      "Epoch 66/100\n",
      "1/1 [==============================] - 0s 30ms/step - loss: 4.7977 - acc: 0.3529 - val_loss: 1.5712 - val_acc: 0.3333\n",
      "Epoch 67/100\n",
      "1/1 [==============================] - 0s 29ms/step - loss: 3.7864 - acc: 0.1765 - val_loss: 1.5738 - val_acc: 0.3333\n",
      "Epoch 68/100\n",
      "1/1 [==============================] - 0s 29ms/step - loss: 4.1174 - acc: 0.3137 - val_loss: 1.5007 - val_acc: 0.5556\n",
      "Epoch 69/100\n",
      "1/1 [==============================] - 0s 31ms/step - loss: 4.5213 - acc: 0.2745 - val_loss: 1.5424 - val_acc: 0.5556\n",
      "Epoch 70/100\n",
      "1/1 [==============================] - 0s 29ms/step - loss: 3.5015 - acc: 0.3922 - val_loss: 1.5468 - val_acc: 0.3333\n",
      "Epoch 71/100\n",
      "1/1 [==============================] - 0s 30ms/step - loss: 3.5702 - acc: 0.3725 - val_loss: 1.5399 - val_acc: 0.3333\n",
      "Epoch 72/100\n",
      "1/1 [==============================] - 0s 29ms/step - loss: 3.3841 - acc: 0.3137 - val_loss: 1.5750 - val_acc: 0.4444\n",
      "Epoch 73/100\n",
      "1/1 [==============================] - 0s 31ms/step - loss: 3.3509 - acc: 0.3725 - val_loss: 1.5989 - val_acc: 0.4444\n",
      "Epoch 74/100\n",
      "1/1 [==============================] - 0s 30ms/step - loss: 3.6345 - acc: 0.1961 - val_loss: 1.5953 - val_acc: 0.4444\n",
      "Epoch 75/100\n",
      "1/1 [==============================] - 0s 29ms/step - loss: 3.5587 - acc: 0.2941 - val_loss: 1.5839 - val_acc: 0.4444\n",
      "Epoch 76/100\n",
      "1/1 [==============================] - 0s 31ms/step - loss: 3.5669 - acc: 0.2745 - val_loss: 1.5963 - val_acc: 0.4444\n",
      "Epoch 77/100\n",
      "1/1 [==============================] - 0s 30ms/step - loss: 2.7194 - acc: 0.3922 - val_loss: 1.5961 - val_acc: 0.4444\n",
      "Epoch 78/100\n",
      "1/1 [==============================] - 0s 27ms/step - loss: 3.0827 - acc: 0.2353 - val_loss: 1.5959 - val_acc: 0.5556\n",
      "Epoch 79/100\n",
      "1/1 [==============================] - 0s 31ms/step - loss: 2.9471 - acc: 0.3137 - val_loss: 1.6030 - val_acc: 0.4444\n",
      "Epoch 80/100\n",
      "1/1 [==============================] - 0s 29ms/step - loss: 2.8150 - acc: 0.3529 - val_loss: 1.5986 - val_acc: 0.4444\n",
      "Epoch 81/100\n",
      "1/1 [==============================] - 0s 29ms/step - loss: 2.6772 - acc: 0.3922 - val_loss: 1.5840 - val_acc: 0.5556\n",
      "Epoch 82/100\n",
      "1/1 [==============================] - 0s 29ms/step - loss: 2.4508 - acc: 0.4314 - val_loss: 1.5846 - val_acc: 0.1111\n",
      "Epoch 83/100\n",
      "1/1 [==============================] - 0s 29ms/step - loss: 2.4766 - acc: 0.3529 - val_loss: 1.5842 - val_acc: 0.4444\n",
      "Epoch 84/100\n",
      "1/1 [==============================] - 0s 30ms/step - loss: 2.9532 - acc: 0.2353 - val_loss: 1.5884 - val_acc: 0.3333\n",
      "Epoch 85/100\n",
      "1/1 [==============================] - 0s 30ms/step - loss: 2.8017 - acc: 0.2941 - val_loss: 1.5714 - val_acc: 0.4444\n",
      "Epoch 86/100\n",
      "1/1 [==============================] - 0s 29ms/step - loss: 2.5967 - acc: 0.3529 - val_loss: 1.5389 - val_acc: 0.4444\n",
      "Epoch 87/100\n",
      "1/1 [==============================] - 0s 30ms/step - loss: 2.5169 - acc: 0.3922 - val_loss: 1.5518 - val_acc: 0.2222\n",
      "Epoch 88/100\n",
      "1/1 [==============================] - 0s 30ms/step - loss: 2.3969 - acc: 0.3725 - val_loss: 1.5864 - val_acc: 0.5556\n",
      "Epoch 89/100\n",
      "1/1 [==============================] - 0s 30ms/step - loss: 2.3594 - acc: 0.2745 - val_loss: 1.5939 - val_acc: 0.4444\n",
      "Epoch 90/100\n",
      "1/1 [==============================] - 0s 29ms/step - loss: 2.6328 - acc: 0.2353 - val_loss: 1.6010 - val_acc: 0.4444\n",
      "Epoch 91/100\n",
      "1/1 [==============================] - 0s 29ms/step - loss: 2.5560 - acc: 0.2549 - val_loss: 1.5862 - val_acc: 0.4444\n",
      "Epoch 92/100\n",
      "1/1 [==============================] - 0s 30ms/step - loss: 1.9300 - acc: 0.2941 - val_loss: 1.6071 - val_acc: 0.1111\n",
      "Epoch 93/100\n",
      "1/1 [==============================] - 0s 30ms/step - loss: 2.2321 - acc: 0.2549 - val_loss: 1.6057 - val_acc: 0.2222\n",
      "Epoch 94/100\n",
      "1/1 [==============================] - 0s 29ms/step - loss: 1.9607 - acc: 0.4314 - val_loss: 1.6070 - val_acc: 0.1111\n",
      "Epoch 95/100\n",
      "1/1 [==============================] - 0s 31ms/step - loss: 2.6088 - acc: 0.2353 - val_loss: 1.6060 - val_acc: 0.2222\n",
      "Epoch 96/100\n",
      "1/1 [==============================] - 0s 30ms/step - loss: 1.9765 - acc: 0.3333 - val_loss: 1.6007 - val_acc: 0.2222\n",
      "Epoch 97/100\n",
      "1/1 [==============================] - 0s 30ms/step - loss: 2.3106 - acc: 0.2549 - val_loss: 1.5968 - val_acc: 0.3333\n",
      "Epoch 98/100\n",
      "1/1 [==============================] - 0s 30ms/step - loss: 1.9453 - acc: 0.4118 - val_loss: 1.5855 - val_acc: 0.3333\n",
      "Epoch 99/100\n",
      "1/1 [==============================] - 0s 28ms/step - loss: 2.4163 - acc: 0.2549 - val_loss: 1.6033 - val_acc: 0.3333\n",
      "Epoch 100/100\n",
      "1/1 [==============================] - 0s 29ms/step - loss: 2.0371 - acc: 0.3725 - val_loss: 1.5894 - val_acc: 0.3333\n"
     ]
    }
   ],
   "source": [
    "history = model.fit(\n",
    "    x_train,\n",
    "    y_train,\n",
    "    epochs=100,\n",
    "    batch_size=51,\n",
    "    validation_data=(x_val, y_val),\n",
    "    shuffle=True\n",
    ")"
   ]
  },
  {
   "cell_type": "code",
   "execution_count": 9,
   "id": "f4254c86-2701-42b5-98f7-111c96a67e3f",
   "metadata": {},
   "outputs": [
    {
     "name": "stdout",
     "output_type": "stream",
     "text": [
      "0.1818181872367859\n"
     ]
    }
   ],
   "source": [
    "test_accuracy=model.evaluate(x_test, y_test, verbose=0)\n",
    "print(test_accuracy[1])"
   ]
  },
  {
   "cell_type": "code",
   "execution_count": 10,
   "id": "f0bdbc09-f1d6-4273-a295-86845daccade",
   "metadata": {},
   "outputs": [
    {
     "name": "stdout",
     "output_type": "stream",
     "text": [
      "1/1 [==============================] - 0s 214ms/step\n",
      "[1 1 2 1 1 2 3 4 1 0 4] [3 3 3 3 3 3 3 3 3 0 3]\n"
     ]
    },
    {
     "data": {
      "text/plain": [
       "<AxesSubplot:xlabel='PREDICTED LABEL', ylabel='GROUND TRUTH'>"
      ]
     },
     "execution_count": 10,
     "metadata": {},
     "output_type": "execute_result"
    },
    {
     "data": {
      "image/png": "[encoded data removed]",
      "text/plain": [
       "<Figure size 432x288 with 2 Axes>"
      ]
     },
     "metadata": {},
     "output_type": "display_data"
    }
   ],
   "source": [
    "y_true, y_pred = np.argmax(y_test, axis=1), np.argmax(model.predict(x_test), axis=1)\n",
    "\n",
    "def confusion_matrix_table(y_true, y_pred):\n",
    "    columns = [f'Predicted {label}' for label in label_encoder.classes_]\n",
    "    index = [f'Actual {label}' for label in label_encoder.classes_]\n",
    "    print(y_true, y_pred)\n",
    "    cm = confusion_matrix(y_true, y_pred)\n",
    "    table = pd.DataFrame(cm, columns=columns, index=index)\n",
    "    return table\n",
    "\n",
    "def confusion_matrix_plot(y_true, y_pred):\n",
    "    table = confusion_matrix_table(y_true, y_pred)\n",
    "    plot = seaborn.heatmap(table, annot=True, fmt=\"d\", cmap=\"viridis\")\n",
    "    plt.yticks(rotation=0)  \n",
    "    plt.ylabel(\n",
    "        'GROUND TRUTH', \n",
    "        fontsize = 12, \n",
    "        fontweight = 600\n",
    "    )\n",
    "    plt.xlabel(\n",
    "        'PREDICTED LABEL', \n",
    "        fontsize = 12, \n",
    "        fontweight = 600\n",
    "    )\n",
    "    return plot\n",
    "\n",
    "confusion_matrix_plot(y_true, y_pred)"
   ]
  },
  {
   "cell_type": "code",
   "execution_count": 11,
   "id": "a83f52b3-bdc5-41dc-8ad9-c38930168bf5",
   "metadata": {},
   "outputs": [
    {
     "name": "stdout",
     "output_type": "stream",
     "text": [
      "0.0\n"
     ]
    }
   ],
   "source": [
    "# Calculate accuracy on data from duesseldorf\n",
    "x_duesseldorf = np.array(dataframe_duesseldorf[\"features\"].tolist())\n",
    "y_duesseldorf = np.array(dataframe_duesseldorf[\"label\"].tolist())\n",
    "\n",
    "y_duesseldorf = to_categorical(label_encoder.fit_transform(y_duesseldorf))\n",
    "\n",
    "test_accuracy=model.evaluate(x_duesseldorf, y_duesseldorf, verbose=0)\n",
    "print(test_accuracy[1])"
   ]
  },
  {
   "cell_type": "code",
   "execution_count": 12,
   "id": "fd75e6ba-b2cb-4ad4-9b75-18ffc123d9ef",
   "metadata": {},
   "outputs": [
    {
     "name": "stdout",
     "output_type": "stream",
     "text": [
      "2/2 [==============================] - 0s 10ms/step\n"
     ]
    },
    {
     "data": {
      "text/plain": [
       "<AxesSubplot:xlabel='PREDICTED LABEL', ylabel='GROUND TRUTH'>"
      ]
     },
     "execution_count": 12,
     "metadata": {},
     "output_type": "execute_result"
    },
    {
     "data": {
      "image/png": "[encoded data removed]",
      "text/plain": [
       "<Figure size 432x288 with 2 Axes>"
      ]
     },
     "metadata": {},
     "output_type": "display_data"
    }
   ],
   "source": [
    "# Generate confusion matrix on data from duesseldorf\n",
    "y_true, y_pred = np.argmax(y_duesseldorf, axis=1), np.argmax(model.predict(x_duesseldorf), axis=1)\n",
    "\n",
    "def confusion_matrix_table(y_true, y_pred):\n",
    "    columns = [f'Predicted {label}' for label in label_encoder.classes_]\n",
    "    index = [f'Actual {label}' for label in label_encoder.classes_]\n",
    "    cm = confusion_matrix(y_true, y_pred)\n",
    "    table = pd.DataFrame(cm, columns=columns, index=index)\n",
    "    return table\n",
    "\n",
    "def confusion_matrix_plot(y_true, y_pred):\n",
    "    table = confusion_matrix_table(y_true, y_pred)\n",
    "    plot = seaborn.heatmap(table, annot=True, fmt=\"d\", cmap=\"viridis\")\n",
    "    plt.yticks(rotation=0)  \n",
    "    plt.ylabel(\n",
    "        'GROUND TRUTH', \n",
    "        fontsize = 12, \n",
    "        fontweight = 600\n",
    "    )\n",
    "    plt.xlabel(\n",
    "        'PREDICTED LABEL', \n",
    "        fontsize = 12, \n",
    "        fontweight = 600\n",
    "    )\n",
    "    return plot\n",
    "\n",
    "confusion_matrix_plot(y_true, y_pred)"
   ]
  },
  {
   "cell_type": "markdown",
   "id": "0db529b4-5980-4b1f-a007-6d1b68e7dcea",
   "metadata": {
    "tags": []
   },
   "source": [
    "## Feed-Forward Neural Network trained on all data"
   ]
  },
  {
   "cell_type": "code",
   "execution_count": 13,
   "id": "46504bc5-2c72-4d44-8b65-f7dc3950d04e",
   "metadata": {},
   "outputs": [
    {
     "name": "stdout",
     "output_type": "stream",
     "text": [
      "(85, 24) (18, 24) (16, 24)\n"
     ]
    }
   ],
   "source": [
    "# Prepare and split data for training\n",
    "x_all = np.array(dataframe[\"features\"].tolist())\n",
    "y_all = np.array(dataframe[\"label\"].tolist())\n",
    "\n",
    "label_encoder = LabelEncoder()\n",
    "y_all = to_categorical(label_encoder.fit_transform(y_all))\n",
    "\n",
    "x_all_train, x_all_test, y_all_train, y_all_test = train_test_split(x_all, y_all, test_size=0.15, random_state=1)\n",
    "x_all_train, x_all_val, y_all_train, y_all_val = train_test_split(x_all_train, y_all_train, test_size=0.15, random_state=1)\n",
    "\n",
    "print(x_all_train.shape, x_all_test.shape, x_all_val.shape)"
   ]
  },
  {
   "cell_type": "code",
   "execution_count": 14,
   "id": "8df2ac4d-21c7-4a68-9941-5b72688efb68",
   "metadata": {},
   "outputs": [
    {
     "name": "stdout",
     "output_type": "stream",
     "text": [
      "Epoch 1/72\n",
      "3/3 [==============================] - 1s 244ms/step - loss: 3.0828 - acc: 0.2000 - val_loss: 1.6017 - val_acc: 0.5000\n",
      "Epoch 2/72\n",
      "3/3 [==============================] - 0s 14ms/step - loss: 2.3644 - acc: 0.2588 - val_loss: 1.5825 - val_acc: 0.5000\n",
      "Epoch 3/72\n",
      "3/3 [==============================] - 0s 12ms/step - loss: 2.4823 - acc: 0.2000 - val_loss: 1.6003 - val_acc: 0.5000\n",
      "Epoch 4/72\n",
      "3/3 [==============================] - 0s 12ms/step - loss: 2.3267 - acc: 0.2353 - val_loss: 1.5840 - val_acc: 0.5000\n",
      "Epoch 5/72\n",
      "3/3 [==============================] - 0s 12ms/step - loss: 2.2452 - acc: 0.1529 - val_loss: 1.5867 - val_acc: 0.3125\n",
      "Epoch 6/72\n",
      "3/3 [==============================] - 0s 14ms/step - loss: 2.1861 - acc: 0.2588 - val_loss: 1.6060 - val_acc: 0.3750\n",
      "Epoch 7/72\n",
      "3/3 [==============================] - 0s 13ms/step - loss: 1.8724 - acc: 0.2706 - val_loss: 1.6058 - val_acc: 0.3750\n",
      "Epoch 8/72\n",
      "3/3 [==============================] - 0s 13ms/step - loss: 2.1250 - acc: 0.2000 - val_loss: 1.5998 - val_acc: 0.5000\n",
      "Epoch 9/72\n",
      "3/3 [==============================] - 0s 14ms/step - loss: 1.7950 - acc: 0.2824 - val_loss: 1.6056 - val_acc: 0.3750\n",
      "Epoch 10/72\n",
      "3/3 [==============================] - 0s 13ms/step - loss: 2.0210 - acc: 0.2941 - val_loss: 1.6019 - val_acc: 0.5000\n",
      "Epoch 11/72\n",
      "3/3 [==============================] - 0s 12ms/step - loss: 2.1930 - acc: 0.2824 - val_loss: 1.6054 - val_acc: 0.3750\n",
      "Epoch 12/72\n",
      "3/3 [==============================] - 0s 14ms/step - loss: 1.7371 - acc: 0.2824 - val_loss: 1.6056 - val_acc: 0.3750\n",
      "Epoch 13/72\n",
      "3/3 [==============================] - 0s 12ms/step - loss: 1.9729 - acc: 0.2588 - val_loss: 1.6057 - val_acc: 0.3750\n",
      "Epoch 14/72\n",
      "3/3 [==============================] - 0s 13ms/step - loss: 2.0453 - acc: 0.1647 - val_loss: 1.5914 - val_acc: 0.1250\n",
      "Epoch 15/72\n",
      "3/3 [==============================] - 0s 13ms/step - loss: 1.9807 - acc: 0.2235 - val_loss: 1.6053 - val_acc: 0.3750\n",
      "Epoch 16/72\n",
      "3/3 [==============================] - 0s 13ms/step - loss: 2.0703 - acc: 0.2471 - val_loss: 1.5996 - val_acc: 0.5000\n",
      "Epoch 17/72\n",
      "3/3 [==============================] - 0s 12ms/step - loss: 1.9720 - acc: 0.2353 - val_loss: 1.5763 - val_acc: 0.5000\n",
      "Epoch 18/72\n",
      "3/3 [==============================] - 0s 13ms/step - loss: 1.9539 - acc: 0.2235 - val_loss: 1.6002 - val_acc: 0.5000\n",
      "Epoch 19/72\n",
      "3/3 [==============================] - 0s 12ms/step - loss: 1.8225 - acc: 0.2706 - val_loss: 1.6045 - val_acc: 0.3750\n",
      "Epoch 20/72\n",
      "3/3 [==============================] - 0s 13ms/step - loss: 1.9646 - acc: 0.1882 - val_loss: 1.6043 - val_acc: 0.3750\n",
      "Epoch 21/72\n",
      "3/3 [==============================] - 0s 12ms/step - loss: 1.9258 - acc: 0.2471 - val_loss: 1.6044 - val_acc: 0.3750\n",
      "Epoch 22/72\n",
      "3/3 [==============================] - 0s 13ms/step - loss: 1.9516 - acc: 0.2471 - val_loss: 1.6043 - val_acc: 0.3750\n",
      "Epoch 23/72\n",
      "3/3 [==============================] - 0s 12ms/step - loss: 1.8843 - acc: 0.2118 - val_loss: 1.6043 - val_acc: 0.3750\n",
      "Epoch 24/72\n",
      "3/3 [==============================] - 0s 13ms/step - loss: 1.8491 - acc: 0.2824 - val_loss: 1.6043 - val_acc: 0.3750\n",
      "Epoch 25/72\n",
      "3/3 [==============================] - 0s 12ms/step - loss: 1.6823 - acc: 0.2353 - val_loss: 1.6035 - val_acc: 0.4375\n",
      "Epoch 26/72\n",
      "3/3 [==============================] - 0s 13ms/step - loss: 1.9843 - acc: 0.2588 - val_loss: 1.5993 - val_acc: 0.5000\n",
      "Epoch 27/72\n",
      "3/3 [==============================] - 0s 12ms/step - loss: 1.7858 - acc: 0.3294 - val_loss: 1.6036 - val_acc: 0.3750\n",
      "Epoch 28/72\n",
      "3/3 [==============================] - 0s 13ms/step - loss: 1.8010 - acc: 0.3176 - val_loss: 1.6038 - val_acc: 0.3750\n",
      "Epoch 29/72\n",
      "3/3 [==============================] - 0s 13ms/step - loss: 1.6836 - acc: 0.2235 - val_loss: 1.6035 - val_acc: 0.3750\n",
      "Epoch 30/72\n",
      "3/3 [==============================] - 0s 13ms/step - loss: 1.7076 - acc: 0.2824 - val_loss: 1.6033 - val_acc: 0.3750\n",
      "Epoch 31/72\n",
      "3/3 [==============================] - 0s 13ms/step - loss: 1.8636 - acc: 0.2353 - val_loss: 1.6031 - val_acc: 0.3750\n",
      "Epoch 32/72\n",
      "3/3 [==============================] - 0s 13ms/step - loss: 1.6729 - acc: 0.2706 - val_loss: 1.6029 - val_acc: 0.3750\n",
      "Epoch 33/72\n",
      "3/3 [==============================] - 0s 12ms/step - loss: 1.6728 - acc: 0.3412 - val_loss: 1.5587 - val_acc: 0.3125\n",
      "Epoch 34/72\n",
      "3/3 [==============================] - 0s 13ms/step - loss: 1.8832 - acc: 0.2000 - val_loss: 1.5980 - val_acc: 0.5000\n",
      "Epoch 35/72\n",
      "3/3 [==============================] - 0s 12ms/step - loss: 1.7656 - acc: 0.2118 - val_loss: 1.6024 - val_acc: 0.3750\n",
      "Epoch 36/72\n",
      "3/3 [==============================] - 0s 22ms/step - loss: 1.5555 - acc: 0.2471 - val_loss: 1.5768 - val_acc: 0.5000\n",
      "Epoch 37/72\n",
      "3/3 [==============================] - 0s 13ms/step - loss: 1.7728 - acc: 0.2353 - val_loss: 1.6016 - val_acc: 0.3750\n",
      "Epoch 38/72\n",
      "3/3 [==============================] - 0s 13ms/step - loss: 1.6512 - acc: 0.2353 - val_loss: 1.6017 - val_acc: 0.3750\n",
      "Epoch 39/72\n",
      "3/3 [==============================] - 0s 13ms/step - loss: 1.6986 - acc: 0.2706 - val_loss: 1.5662 - val_acc: 0.5000\n",
      "Epoch 40/72\n",
      "3/3 [==============================] - 0s 13ms/step - loss: 1.8420 - acc: 0.2706 - val_loss: 1.5940 - val_acc: 0.3750\n",
      "Epoch 41/72\n",
      "3/3 [==============================] - 0s 13ms/step - loss: 1.7864 - acc: 0.3176 - val_loss: 1.5557 - val_acc: 0.5000\n",
      "Epoch 42/72\n",
      "3/3 [==============================] - 0s 12ms/step - loss: 1.8353 - acc: 0.3294 - val_loss: 1.5723 - val_acc: 0.3750\n",
      "Epoch 43/72\n",
      "3/3 [==============================] - 0s 12ms/step - loss: 1.6667 - acc: 0.3294 - val_loss: 1.5679 - val_acc: 0.5000\n",
      "Epoch 44/72\n",
      "3/3 [==============================] - 0s 13ms/step - loss: 1.6461 - acc: 0.3176 - val_loss: 1.5824 - val_acc: 0.5000\n",
      "Epoch 45/72\n",
      "3/3 [==============================] - 0s 12ms/step - loss: 1.6199 - acc: 0.3294 - val_loss: 1.5589 - val_acc: 0.5000\n",
      "Epoch 46/72\n",
      "3/3 [==============================] - 0s 12ms/step - loss: 1.7871 - acc: 0.2706 - val_loss: 1.5833 - val_acc: 0.5000\n",
      "Epoch 47/72\n",
      "3/3 [==============================] - 0s 13ms/step - loss: 1.6547 - acc: 0.2471 - val_loss: 1.5888 - val_acc: 0.5000\n",
      "Epoch 48/72\n",
      "3/3 [==============================] - 0s 13ms/step - loss: 1.5634 - acc: 0.3176 - val_loss: 1.5682 - val_acc: 0.5000\n",
      "Epoch 49/72\n",
      "3/3 [==============================] - 0s 13ms/step - loss: 1.7880 - acc: 0.2235 - val_loss: 1.5728 - val_acc: 0.5000\n",
      "Epoch 50/72\n",
      "3/3 [==============================] - 0s 13ms/step - loss: 1.6419 - acc: 0.3529 - val_loss: 1.5256 - val_acc: 0.4375\n",
      "Epoch 51/72\n",
      "3/3 [==============================] - 0s 12ms/step - loss: 1.5512 - acc: 0.3412 - val_loss: 1.5160 - val_acc: 0.3125\n",
      "Epoch 52/72\n",
      "3/3 [==============================] - 0s 13ms/step - loss: 1.8615 - acc: 0.2235 - val_loss: 1.5635 - val_acc: 0.5000\n",
      "Epoch 53/72\n",
      "3/3 [==============================] - 0s 14ms/step - loss: 1.7309 - acc: 0.2118 - val_loss: 1.5525 - val_acc: 0.5000\n",
      "Epoch 54/72\n",
      "3/3 [==============================] - 0s 12ms/step - loss: 1.9085 - acc: 0.2941 - val_loss: 1.5520 - val_acc: 0.5000\n",
      "Epoch 55/72\n",
      "3/3 [==============================] - 0s 13ms/step - loss: 1.6932 - acc: 0.2941 - val_loss: 1.4994 - val_acc: 0.5000\n",
      "Epoch 56/72\n",
      "3/3 [==============================] - 0s 13ms/step - loss: 1.6757 - acc: 0.3059 - val_loss: 1.5025 - val_acc: 0.5000\n",
      "Epoch 57/72\n",
      "3/3 [==============================] - 0s 12ms/step - loss: 1.6091 - acc: 0.2706 - val_loss: 1.5119 - val_acc: 0.5000\n",
      "Epoch 58/72\n",
      "3/3 [==============================] - 0s 12ms/step - loss: 1.6433 - acc: 0.2706 - val_loss: 1.4982 - val_acc: 0.4375\n",
      "Epoch 59/72\n",
      "3/3 [==============================] - 0s 13ms/step - loss: 1.6602 - acc: 0.2941 - val_loss: 1.4869 - val_acc: 0.5000\n",
      "Epoch 60/72\n",
      "3/3 [==============================] - 0s 12ms/step - loss: 1.6181 - acc: 0.3294 - val_loss: 1.4846 - val_acc: 0.5000\n",
      "Epoch 61/72\n",
      "3/3 [==============================] - 0s 14ms/step - loss: 1.6696 - acc: 0.3059 - val_loss: 1.4625 - val_acc: 0.4375\n",
      "Epoch 62/72\n",
      "3/3 [==============================] - 0s 12ms/step - loss: 1.7951 - acc: 0.2824 - val_loss: 1.4731 - val_acc: 0.5000\n",
      "Epoch 63/72\n",
      "3/3 [==============================] - 0s 12ms/step - loss: 1.5839 - acc: 0.3412 - val_loss: 1.4434 - val_acc: 0.5000\n",
      "Epoch 64/72\n",
      "3/3 [==============================] - 0s 12ms/step - loss: 1.6103 - acc: 0.2941 - val_loss: 1.4284 - val_acc: 0.5000\n",
      "Epoch 65/72\n",
      "3/3 [==============================] - 0s 13ms/step - loss: 1.5640 - acc: 0.3176 - val_loss: 1.4208 - val_acc: 0.5000\n",
      "Epoch 66/72\n",
      "3/3 [==============================] - 0s 12ms/step - loss: 1.6863 - acc: 0.3647 - val_loss: 1.4582 - val_acc: 0.5000\n",
      "Epoch 67/72\n",
      "3/3 [==============================] - 0s 12ms/step - loss: 1.7607 - acc: 0.3059 - val_loss: 1.4454 - val_acc: 0.5000\n",
      "Epoch 68/72\n",
      "3/3 [==============================] - 0s 13ms/step - loss: 1.5494 - acc: 0.3529 - val_loss: 1.4691 - val_acc: 0.5000\n",
      "Epoch 69/72\n",
      "3/3 [==============================] - 0s 13ms/step - loss: 1.4970 - acc: 0.3176 - val_loss: 1.4337 - val_acc: 0.5000\n",
      "Epoch 70/72\n",
      "3/3 [==============================] - 0s 13ms/step - loss: 1.6481 - acc: 0.3412 - val_loss: 1.4154 - val_acc: 0.5625\n",
      "Epoch 71/72\n",
      "3/3 [==============================] - 0s 12ms/step - loss: 1.5821 - acc: 0.3059 - val_loss: 1.4451 - val_acc: 0.5000\n",
      "Epoch 72/72\n",
      "3/3 [==============================] - 0s 12ms/step - loss: 1.5558 - acc: 0.3176 - val_loss: 1.4594 - val_acc: 0.5000\n"
     ]
    }
   ],
   "source": [
    "# Configure, compile, and fit model\n",
    "history_all = model.fit(x_all_train, y_all_train, epochs=72, validation_data=(x_all_val, y_all_val), shuffle=False)"
   ]
  },
  {
   "cell_type": "code",
   "execution_count": 15,
   "id": "7e3a660d-a348-44d1-97c3-faaa397363db",
   "metadata": {},
   "outputs": [
    {
     "name": "stdout",
     "output_type": "stream",
     "text": [
      "0.2222222238779068\n"
     ]
    }
   ],
   "source": [
    "# Calculate accuracy on test dataset\n",
    "test_accuracy=model.evaluate(x_all_test, y_all_test, verbose=0)\n",
    "print(test_accuracy[1])"
   ]
  },
  {
   "cell_type": "code",
   "execution_count": 16,
   "id": "eed88ad3-659c-4f51-996d-91e941190364",
   "metadata": {},
   "outputs": [
    {
     "name": "stdout",
     "output_type": "stream",
     "text": [
      "1/1 [==============================] - 0s 18ms/step\n"
     ]
    },
    {
     "data": {
      "text/plain": [
       "<AxesSubplot:xlabel='PREDICTED LABEL', ylabel='GROUND TRUTH'>"
      ]
     },
     "execution_count": 16,
     "metadata": {},
     "output_type": "execute_result"
    },
    {
     "data": {
      "image/png": "[encoded data removed]",
      "text/plain": [
       "<Figure size 432x288 with 2 Axes>"
      ]
     },
     "metadata": {},
     "output_type": "display_data"
    }
   ],
   "source": [
    "# Generate confusion matrix\n",
    "y_all_true, y_all_pred = np.argmax(y_all_test, axis=1), np.argmax(model.predict(x_all_test), axis=1)\n",
    "\n",
    "confusion_matrix_plot(y_all_true, y_all_pred)"
   ]
  }
 ],
 "metadata": {
  "kernelspec": {
   "display_name": "Python 3 (ipykernel)",
   "language": "python",
   "name": "python3"
  },
  "language_info": {
   "codemirror_mode": {
    "name": "ipython",
    "version": 3
   },
   "file_extension": ".py",
   "mimetype": "text/x-python",
   "name": "python",
   "nbconvert_exporter": "python",
   "pygments_lexer": "ipython3",
   "version": "3.7.9"
  }
 },
 "nbformat": 4,
 "nbformat_minor": 5
}
