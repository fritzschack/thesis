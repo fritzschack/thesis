{
 "cells": [
  {
   "cell_type": "code",
   "execution_count": 1,
   "id": "7246787a-8e21-4978-852b-ec60e6bb2df6",
   "metadata": {},
   "outputs": [
    {
     "data": {
      "text/plain": [
       "<Figure size 2160x720 with 0 Axes>"
      ]
     },
     "metadata": {},
     "output_type": "display_data"
    }
   ],
   "source": [
    "import json\n",
    "import librosa\n",
    "import matplotlib.pyplot as plt\n",
    "import numpy as np\n",
    "import pandas as pd\n",
    "import requests\n",
    "import seaborn\n",
    "import tensorflow\n",
    "\n",
    "from collections import Counter\n",
    "from datetime import datetime\n",
    "from imblearn.under_sampling import RandomUnderSampler\n",
    "from sklearn import metrics\n",
    "from sklearn.model_selection import train_test_split\n",
    "from sklearn.preprocessing import LabelEncoder\n",
    "from sklearn.utils.multiclass import unique_labels\n",
    "from sklearn.metrics import confusion_matrix\n",
    "from tensorflow.keras.callbacks import ModelCheckpoint\n",
    "from tensorflow.keras.layers import Dense,Dropout,Activation,Flatten\n",
    "from tensorflow.keras.models import Sequential\n",
    "from tensorflow.keras.optimizers import Adam\n",
    "from tensorflow.keras.utils import to_categorical\n",
    "from tqdm import tqdm\n",
    "\n",
    "plt.figure(figsize=(30,10))\n",
    "\n",
    "seaborn.set(style=\"ticks\")"
   ]
  },
  {
   "cell_type": "code",
   "execution_count": 2,
   "id": "dc961f77-9cf5-4239-8303-e4821922cf13",
   "metadata": {},
   "outputs": [
    {
     "data": {
      "text/html": [
       "<div>\n",
       "<style scoped>\n",
       "    .dataframe tbody tr th:only-of-type {\n",
       "        vertical-align: middle;\n",
       "    }\n",
       "\n",
       "    .dataframe tbody tr th {\n",
       "        vertical-align: top;\n",
       "    }\n",
       "\n",
       "    .dataframe thead th {\n",
       "        text-align: right;\n",
       "    }\n",
       "</style>\n",
       "<table border=\"1\" class=\"dataframe\">\n",
       "  <thead>\n",
       "    <tr style=\"text-align: right;\">\n",
       "      <th></th>\n",
       "      <th>path</th>\n",
       "      <th>label</th>\n",
       "      <th>environment</th>\n",
       "    </tr>\n",
       "  </thead>\n",
       "  <tbody>\n",
       "    <tr>\n",
       "      <th>0</th>\n",
       "      <td>../recordings/combined/a196dbae-1f50-4d0e-b345...</td>\n",
       "      <td>washing_hands</td>\n",
       "      <td>marsberg</td>\n",
       "    </tr>\n",
       "    <tr>\n",
       "      <th>1</th>\n",
       "      <td>../recordings/combined/826e36b1-2a7e-4d22-9c81...</td>\n",
       "      <td>washing_hands</td>\n",
       "      <td>marsberg</td>\n",
       "    </tr>\n",
       "    <tr>\n",
       "      <th>2</th>\n",
       "      <td>../recordings/combined/9a6b6b01-e466-47fb-9fcc...</td>\n",
       "      <td>washing_hands</td>\n",
       "      <td>marsberg</td>\n",
       "    </tr>\n",
       "    <tr>\n",
       "      <th>3</th>\n",
       "      <td>../recordings/combined/84ee02e6-44d5-4ab3-b875...</td>\n",
       "      <td>washing_hands</td>\n",
       "      <td>marsberg</td>\n",
       "    </tr>\n",
       "    <tr>\n",
       "      <th>4</th>\n",
       "      <td>../recordings/combined/ec24c55a-39ec-4b36-86fe...</td>\n",
       "      <td>washing_hands</td>\n",
       "      <td>marsberg</td>\n",
       "    </tr>\n",
       "  </tbody>\n",
       "</table>\n",
       "</div>"
      ],
      "text/plain": [
       "                                                path          label  \\\n",
       "0  ../recordings/combined/a196dbae-1f50-4d0e-b345...  washing_hands   \n",
       "1  ../recordings/combined/826e36b1-2a7e-4d22-9c81...  washing_hands   \n",
       "2  ../recordings/combined/9a6b6b01-e466-47fb-9fcc...  washing_hands   \n",
       "3  ../recordings/combined/84ee02e6-44d5-4ab3-b875...  washing_hands   \n",
       "4  ../recordings/combined/ec24c55a-39ec-4b36-86fe...  washing_hands   \n",
       "\n",
       "  environment  \n",
       "0    marsberg  \n",
       "1    marsberg  \n",
       "2    marsberg  \n",
       "3    marsberg  \n",
       "4    marsberg  "
      ]
     },
     "execution_count": 2,
     "metadata": {},
     "output_type": "execute_result"
    }
   ],
   "source": [
    "data = requests.get(\"https://dolphin-app-9sdeq.ondigitalocean.app/api/v1/recordings\").json()\n",
    "\n",
    "recordings = []\n",
    "\n",
    "for recording in data:\n",
    "    recordings.append({\n",
    "        \"path\": f'../recordings/combined/{recording[\"name\"]}',\n",
    "        \"label\": recording[\"label\"],\n",
    "        \"environment\": recording[\"environment\"]\n",
    "    })\n",
    "\n",
    "dataframe = pd.json_normalize(recordings)\n",
    "\n",
    "dataframe.head()"
   ]
  },
  {
   "cell_type": "code",
   "execution_count": 3,
   "id": "09eecd86-3088-4b6b-8d12-efeb20b7b695",
   "metadata": {},
   "outputs": [],
   "source": [
    "dataframe = dataframe[dataframe[\"environment\"] == \"marsberg\"]"
   ]
  },
  {
   "cell_type": "code",
   "execution_count": 4,
   "id": "5a46a54c-18ac-4ba9-b82b-474aec7e884c",
   "metadata": {},
   "outputs": [],
   "source": [
    "def preprocess(dataframe):\n",
    "    features = []\n",
    "    for index, row in tqdm(dataframe.iterrows()):\n",
    "        audio, sample_rate = librosa.load(row[\"path\"])\n",
    "        mfcc = librosa.feature.mfcc(y=audio, n_mfcc=24, sr=sample_rate)\n",
    "        features.append(np.mean(mfcc.T, axis=0))\n",
    "        \n",
    "    dataframe[\"features\"] = features\n",
    "    \n",
    "    return dataframe"
   ]
  },
  {
   "cell_type": "code",
   "execution_count": 5,
   "id": "1c7f1b0a-805e-41d0-a672-e8139b6ec14c",
   "metadata": {},
   "outputs": [
    {
     "name": "stderr",
     "output_type": "stream",
     "text": [
      "71it [01:14,  1.04s/it]\n"
     ]
    }
   ],
   "source": [
    "dataframe = preprocess(dataframe)"
   ]
  },
  {
   "cell_type": "code",
   "execution_count": 6,
   "id": "bf323cdd-6aef-422c-a944-f1ba9dbd3b05",
   "metadata": {},
   "outputs": [
    {
     "name": "stdout",
     "output_type": "stream",
     "text": [
      "(51, 24) (11, 24) (9, 24)\n"
     ]
    }
   ],
   "source": [
    "x = np.array(dataframe[\"features\"].tolist())\n",
    "y = np.array(dataframe[\"label\"].tolist())\n",
    "\n",
    "label_encoder = LabelEncoder()\n",
    "y = to_categorical(label_encoder.fit_transform(y))\n",
    "\n",
    "x_train, x_test, y_train, y_test = train_test_split(x, y, test_size=0.15, random_state=1)\n",
    "x_train, x_val, y_train, y_val = train_test_split(x_train, y_train, test_size=0.15, random_state=1)\n",
    "\n",
    "print(x_train.shape, x_test.shape, x_val.shape)"
   ]
  },
  {
   "cell_type": "code",
   "execution_count": 7,
   "id": "634881bc-eaa9-4b78-a944-6b918d08c699",
   "metadata": {},
   "outputs": [
    {
     "name": "stderr",
     "output_type": "stream",
     "text": [
      "2022-09-19 15:58:29.978908: I tensorflow/core/platform/cpu_feature_guard.cc:193] This TensorFlow binary is optimized with oneAPI Deep Neural Network Library (oneDNN) to use the following CPU instructions in performance-critical operations:  AVX2 AVX512F AVX512_VNNI FMA\n",
      "To enable them in other operations, rebuild TensorFlow with the appropriate compiler flags.\n"
     ]
    },
    {
     "name": "stdout",
     "output_type": "stream",
     "text": [
      "Model: \"sequential\"\n",
      "_________________________________________________________________\n",
      " Layer (type)                Output Shape              Param #   \n",
      "=================================================================\n",
      " dense (Dense)               (None, 400)               10000     \n",
      "                                                                 \n",
      " activation (Activation)     (None, 400)               0         \n",
      "                                                                 \n",
      " dropout (Dropout)           (None, 400)               0         \n",
      "                                                                 \n",
      " dense_1 (Dense)             (None, 800)               320800    \n",
      "                                                                 \n",
      " activation_1 (Activation)   (None, 800)               0         \n",
      "                                                                 \n",
      " dropout_1 (Dropout)         (None, 800)               0         \n",
      "                                                                 \n",
      " dense_2 (Dense)             (None, 400)               320400    \n",
      "                                                                 \n",
      " activation_2 (Activation)   (None, 400)               0         \n",
      "                                                                 \n",
      " dropout_2 (Dropout)         (None, 400)               0         \n",
      "                                                                 \n",
      " dense_3 (Dense)             (None, 5)                 2005      \n",
      "                                                                 \n",
      " activation_3 (Activation)   (None, 5)                 0         \n",
      "                                                                 \n",
      "=================================================================\n",
      "Total params: 653,205\n",
      "Trainable params: 653,205\n",
      "Non-trainable params: 0\n",
      "_________________________________________________________________\n"
     ]
    }
   ],
   "source": [
    "model = Sequential()\n",
    "model.add(Dense(400,input_shape=(24,)))\n",
    "model.add(Activation(\"relu\"))\n",
    "model.add(Dropout(0.5))\n",
    "model.add(Dense(800))\n",
    "model.add(Activation(\"relu\"))\n",
    "model.add(Dropout(0.5))\n",
    "model.add(Dense(400))\n",
    "model.add(Activation('relu'))\n",
    "model.add(Dropout(0.5))\n",
    "model.add(Dense(5))\n",
    "model.add(Activation('softmax'))\n",
    "model.summary()"
   ]
  },
  {
   "cell_type": "code",
   "execution_count": 8,
   "id": "8c0c1e21-ac90-469a-a5e6-e48b7f1bd40d",
   "metadata": {},
   "outputs": [],
   "source": [
    "model.compile(\n",
    "    optimizer='rmsprop',\n",
    "    loss='categorical_crossentropy',\n",
    "    metrics=['acc'],\n",
    "    steps_per_execution=100\n",
    ")"
   ]
  },
  {
   "cell_type": "code",
   "execution_count": 11,
   "id": "7bfd0282-4ba6-442f-ac17-e535ea5fc4a3",
   "metadata": {},
   "outputs": [
    {
     "name": "stdout",
     "output_type": "stream",
     "text": [
      "Epoch 1/100\n",
      "1/1 [==============================] - 0s 59ms/step - loss: 1.7680 - acc: 0.3529 - val_loss: 1.6106 - val_acc: 0.2222\n",
      "Epoch 2/100\n",
      "1/1 [==============================] - 0s 30ms/step - loss: 2.3203 - acc: 0.1961 - val_loss: 1.6082 - val_acc: 0.2222\n",
      "Epoch 3/100\n",
      "1/1 [==============================] - 0s 31ms/step - loss: 2.3166 - acc: 0.4314 - val_loss: 1.6103 - val_acc: 0.2222\n",
      "Epoch 4/100\n",
      "1/1 [==============================] - 0s 31ms/step - loss: 2.2974 - acc: 0.2745 - val_loss: 1.6008 - val_acc: 0.2222\n",
      "Epoch 5/100\n",
      "1/1 [==============================] - 0s 33ms/step - loss: 2.0446 - acc: 0.2353 - val_loss: 1.6102 - val_acc: 0.2222\n",
      "Epoch 6/100\n",
      "1/1 [==============================] - 0s 32ms/step - loss: 2.1626 - acc: 0.2353 - val_loss: 1.6103 - val_acc: 0.2222\n",
      "Epoch 7/100\n",
      "1/1 [==============================] - 0s 32ms/step - loss: 1.8196 - acc: 0.2941 - val_loss: 1.6025 - val_acc: 0.2222\n",
      "Epoch 8/100\n",
      "1/1 [==============================] - 0s 33ms/step - loss: 1.9001 - acc: 0.2157 - val_loss: 1.5933 - val_acc: 0.2222\n",
      "Epoch 9/100\n",
      "1/1 [==============================] - 0s 32ms/step - loss: 2.3926 - acc: 0.1961 - val_loss: 1.5816 - val_acc: 0.2222\n",
      "Epoch 10/100\n",
      "1/1 [==============================] - 0s 33ms/step - loss: 2.0801 - acc: 0.2353 - val_loss: 1.5866 - val_acc: 0.4444\n",
      "Epoch 11/100\n",
      "1/1 [==============================] - 0s 32ms/step - loss: 2.2479 - acc: 0.1765 - val_loss: 1.6054 - val_acc: 0.2222\n",
      "Epoch 12/100\n",
      "1/1 [==============================] - 0s 32ms/step - loss: 2.2575 - acc: 0.2157 - val_loss: 1.5973 - val_acc: 0.2222\n",
      "Epoch 13/100\n",
      "1/1 [==============================] - 0s 32ms/step - loss: 1.8918 - acc: 0.1961 - val_loss: 1.6092 - val_acc: 0.2222\n",
      "Epoch 14/100\n",
      "1/1 [==============================] - 0s 33ms/step - loss: 2.1919 - acc: 0.2745 - val_loss: 1.5958 - val_acc: 0.2222\n",
      "Epoch 15/100\n",
      "1/1 [==============================] - 0s 31ms/step - loss: 2.1324 - acc: 0.2353 - val_loss: 1.5869 - val_acc: 0.4444\n",
      "Epoch 16/100\n",
      "1/1 [==============================] - 0s 33ms/step - loss: 1.7800 - acc: 0.3137 - val_loss: 1.6112 - val_acc: 0.2222\n",
      "Epoch 17/100\n",
      "1/1 [==============================] - 0s 32ms/step - loss: 2.0942 - acc: 0.2745 - val_loss: 1.6111 - val_acc: 0.2222\n",
      "Epoch 18/100\n",
      "1/1 [==============================] - 0s 32ms/step - loss: 1.8876 - acc: 0.1961 - val_loss: 1.6111 - val_acc: 0.2222\n",
      "Epoch 19/100\n",
      "1/1 [==============================] - 0s 33ms/step - loss: 1.8573 - acc: 0.3529 - val_loss: 1.6050 - val_acc: 0.2222\n",
      "Epoch 20/100\n",
      "1/1 [==============================] - 0s 30ms/step - loss: 1.9486 - acc: 0.3333 - val_loss: 1.6111 - val_acc: 0.2222\n",
      "Epoch 21/100\n",
      "1/1 [==============================] - 0s 32ms/step - loss: 1.9463 - acc: 0.2353 - val_loss: 1.6112 - val_acc: 0.2222\n",
      "Epoch 22/100\n",
      "1/1 [==============================] - 0s 33ms/step - loss: 1.6779 - acc: 0.3333 - val_loss: 1.6111 - val_acc: 0.2222\n",
      "Epoch 23/100\n",
      "1/1 [==============================] - 0s 34ms/step - loss: 1.8539 - acc: 0.3529 - val_loss: 1.6111 - val_acc: 0.2222\n",
      "Epoch 24/100\n",
      "1/1 [==============================] - 0s 37ms/step - loss: 1.8253 - acc: 0.2549 - val_loss: 1.6110 - val_acc: 0.2222\n",
      "Epoch 25/100\n",
      "1/1 [==============================] - 0s 35ms/step - loss: 1.8070 - acc: 0.2941 - val_loss: 1.5919 - val_acc: 0.2222\n",
      "Epoch 26/100\n",
      "1/1 [==============================] - 0s 33ms/step - loss: 1.6706 - acc: 0.2549 - val_loss: 1.6022 - val_acc: 0.2222\n",
      "Epoch 27/100\n",
      "1/1 [==============================] - 0s 31ms/step - loss: 1.7057 - acc: 0.3725 - val_loss: 1.6032 - val_acc: 0.2222\n",
      "Epoch 28/100\n",
      "1/1 [==============================] - 0s 35ms/step - loss: 1.9842 - acc: 0.1961 - val_loss: 1.5576 - val_acc: 0.2222\n",
      "Epoch 29/100\n",
      "1/1 [==============================] - 0s 32ms/step - loss: 1.7930 - acc: 0.3529 - val_loss: 1.6105 - val_acc: 0.2222\n",
      "Epoch 30/100\n",
      "1/1 [==============================] - 0s 34ms/step - loss: 1.7879 - acc: 0.3529 - val_loss: 1.5925 - val_acc: 0.4444\n",
      "Epoch 31/100\n",
      "1/1 [==============================] - 0s 31ms/step - loss: 1.9547 - acc: 0.2745 - val_loss: 1.5887 - val_acc: 0.2222\n",
      "Epoch 32/100\n",
      "1/1 [==============================] - 0s 36ms/step - loss: 1.8561 - acc: 0.1961 - val_loss: 1.6086 - val_acc: 0.2222\n",
      "Epoch 33/100\n",
      "1/1 [==============================] - 0s 33ms/step - loss: 2.1945 - acc: 0.3137 - val_loss: 1.6105 - val_acc: 0.2222\n",
      "Epoch 34/100\n",
      "1/1 [==============================] - 0s 34ms/step - loss: 1.4929 - acc: 0.3333 - val_loss: 1.6106 - val_acc: 0.2222\n",
      "Epoch 35/100\n",
      "1/1 [==============================] - 0s 35ms/step - loss: 1.5950 - acc: 0.3529 - val_loss: 1.5583 - val_acc: 0.2222\n",
      "Epoch 36/100\n",
      "1/1 [==============================] - 0s 33ms/step - loss: 1.8458 - acc: 0.3922 - val_loss: 1.6081 - val_acc: 0.2222\n",
      "Epoch 37/100\n",
      "1/1 [==============================] - 0s 30ms/step - loss: 1.8945 - acc: 0.2745 - val_loss: 1.5980 - val_acc: 0.2222\n",
      "Epoch 38/100\n",
      "1/1 [==============================] - 0s 33ms/step - loss: 1.5218 - acc: 0.3725 - val_loss: 1.5504 - val_acc: 0.2222\n",
      "Epoch 39/100\n",
      "1/1 [==============================] - 0s 33ms/step - loss: 1.6749 - acc: 0.4314 - val_loss: 1.5615 - val_acc: 0.4444\n",
      "Epoch 40/100\n",
      "1/1 [==============================] - 0s 33ms/step - loss: 1.8966 - acc: 0.2941 - val_loss: 1.5746 - val_acc: 0.4444\n",
      "Epoch 41/100\n",
      "1/1 [==============================] - 0s 34ms/step - loss: 1.8712 - acc: 0.3529 - val_loss: 1.5794 - val_acc: 0.2222\n",
      "Epoch 42/100\n",
      "1/1 [==============================] - 0s 35ms/step - loss: 1.5564 - acc: 0.3922 - val_loss: 1.5499 - val_acc: 0.2222\n",
      "Epoch 43/100\n",
      "1/1 [==============================] - 0s 36ms/step - loss: 1.5463 - acc: 0.4706 - val_loss: 1.5250 - val_acc: 0.4444\n",
      "Epoch 44/100\n",
      "1/1 [==============================] - 0s 34ms/step - loss: 1.6632 - acc: 0.2157 - val_loss: 1.4988 - val_acc: 0.4444\n",
      "Epoch 45/100\n",
      "1/1 [==============================] - 0s 35ms/step - loss: 1.5204 - acc: 0.3333 - val_loss: 1.4767 - val_acc: 0.5556\n",
      "Epoch 46/100\n",
      "1/1 [==============================] - 0s 33ms/step - loss: 1.6492 - acc: 0.2549 - val_loss: 1.5342 - val_acc: 0.2222\n",
      "Epoch 47/100\n",
      "1/1 [==============================] - 0s 34ms/step - loss: 1.5880 - acc: 0.4118 - val_loss: 1.5230 - val_acc: 0.2222\n",
      "Epoch 48/100\n",
      "1/1 [==============================] - 0s 33ms/step - loss: 1.5986 - acc: 0.4510 - val_loss: 1.5325 - val_acc: 0.4444\n",
      "Epoch 49/100\n",
      "1/1 [==============================] - 0s 33ms/step - loss: 2.0521 - acc: 0.3137 - val_loss: 1.5365 - val_acc: 0.3333\n",
      "Epoch 50/100\n",
      "1/1 [==============================] - 0s 33ms/step - loss: 1.5698 - acc: 0.3529 - val_loss: 1.5447 - val_acc: 0.4444\n",
      "Epoch 51/100\n",
      "1/1 [==============================] - 0s 35ms/step - loss: 1.8194 - acc: 0.2745 - val_loss: 1.5753 - val_acc: 0.2222\n",
      "Epoch 52/100\n",
      "1/1 [==============================] - 0s 35ms/step - loss: 1.4637 - acc: 0.3137 - val_loss: 1.5500 - val_acc: 0.4444\n",
      "Epoch 53/100\n",
      "1/1 [==============================] - 0s 39ms/step - loss: 1.9139 - acc: 0.3137 - val_loss: 1.5676 - val_acc: 0.2222\n",
      "Epoch 54/100\n",
      "1/1 [==============================] - 0s 37ms/step - loss: 1.5389 - acc: 0.3529 - val_loss: 1.5449 - val_acc: 0.4444\n",
      "Epoch 55/100\n",
      "1/1 [==============================] - 0s 39ms/step - loss: 1.6116 - acc: 0.4118 - val_loss: 1.5171 - val_acc: 0.4444\n",
      "Epoch 56/100\n",
      "1/1 [==============================] - 0s 35ms/step - loss: 1.6857 - acc: 0.2941 - val_loss: 1.4878 - val_acc: 0.4444\n",
      "Epoch 57/100\n",
      "1/1 [==============================] - 0s 41ms/step - loss: 1.5665 - acc: 0.4314 - val_loss: 1.4763 - val_acc: 0.4444\n",
      "Epoch 58/100\n",
      "1/1 [==============================] - 0s 38ms/step - loss: 1.7997 - acc: 0.4510 - val_loss: 1.5042 - val_acc: 0.4444\n",
      "Epoch 59/100\n",
      "1/1 [==============================] - 0s 38ms/step - loss: 1.6645 - acc: 0.3529 - val_loss: 1.5067 - val_acc: 0.2222\n",
      "Epoch 60/100\n",
      "1/1 [==============================] - 0s 35ms/step - loss: 1.6687 - acc: 0.2941 - val_loss: 1.4719 - val_acc: 0.2222\n",
      "Epoch 61/100\n",
      "1/1 [==============================] - 0s 35ms/step - loss: 1.4657 - acc: 0.4118 - val_loss: 1.4602 - val_acc: 0.2222\n",
      "Epoch 62/100\n",
      "1/1 [==============================] - 0s 34ms/step - loss: 1.7148 - acc: 0.2549 - val_loss: 1.4650 - val_acc: 0.4444\n",
      "Epoch 63/100\n",
      "1/1 [==============================] - 0s 34ms/step - loss: 1.6806 - acc: 0.3529 - val_loss: 1.4755 - val_acc: 0.4444\n",
      "Epoch 64/100\n",
      "1/1 [==============================] - 0s 31ms/step - loss: 1.4518 - acc: 0.4510 - val_loss: 1.4335 - val_acc: 0.2222\n",
      "Epoch 65/100\n",
      "1/1 [==============================] - 0s 32ms/step - loss: 1.8052 - acc: 0.2157 - val_loss: 1.4062 - val_acc: 0.4444\n",
      "Epoch 66/100\n",
      "1/1 [==============================] - 0s 32ms/step - loss: 1.7838 - acc: 0.2941 - val_loss: 1.4242 - val_acc: 0.2222\n",
      "Epoch 67/100\n",
      "1/1 [==============================] - 0s 36ms/step - loss: 1.4653 - acc: 0.4314 - val_loss: 1.3374 - val_acc: 0.3333\n",
      "Epoch 68/100\n",
      "1/1 [==============================] - 0s 34ms/step - loss: 1.4650 - acc: 0.4706 - val_loss: 1.2573 - val_acc: 0.5556\n",
      "Epoch 69/100\n",
      "1/1 [==============================] - 0s 35ms/step - loss: 1.5158 - acc: 0.4314 - val_loss: 1.2698 - val_acc: 0.5556\n",
      "Epoch 70/100\n",
      "1/1 [==============================] - 0s 33ms/step - loss: 1.3918 - acc: 0.3725 - val_loss: 1.3318 - val_acc: 0.3333\n",
      "Epoch 71/100\n",
      "1/1 [==============================] - 0s 33ms/step - loss: 1.3221 - acc: 0.3725 - val_loss: 1.3423 - val_acc: 0.5556\n",
      "Epoch 72/100\n",
      "1/1 [==============================] - 0s 32ms/step - loss: 1.4749 - acc: 0.3137 - val_loss: 1.3456 - val_acc: 0.5556\n",
      "Epoch 73/100\n",
      "1/1 [==============================] - 0s 33ms/step - loss: 1.5897 - acc: 0.3137 - val_loss: 1.3586 - val_acc: 0.3333\n",
      "Epoch 74/100\n",
      "1/1 [==============================] - 0s 32ms/step - loss: 1.3999 - acc: 0.3725 - val_loss: 1.3434 - val_acc: 0.5556\n",
      "Epoch 75/100\n",
      "1/1 [==============================] - 0s 30ms/step - loss: 1.2337 - acc: 0.4706 - val_loss: 1.2686 - val_acc: 0.5556\n",
      "Epoch 76/100\n",
      "1/1 [==============================] - 0s 32ms/step - loss: 1.4958 - acc: 0.4314 - val_loss: 1.2914 - val_acc: 0.4444\n",
      "Epoch 77/100\n",
      "1/1 [==============================] - 0s 35ms/step - loss: 1.4636 - acc: 0.3529 - val_loss: 1.3040 - val_acc: 0.5556\n",
      "Epoch 78/100\n",
      "1/1 [==============================] - 0s 33ms/step - loss: 1.4253 - acc: 0.3922 - val_loss: 1.3342 - val_acc: 0.4444\n",
      "Epoch 79/100\n",
      "1/1 [==============================] - 0s 33ms/step - loss: 1.4783 - acc: 0.4118 - val_loss: 1.2869 - val_acc: 0.5556\n",
      "Epoch 80/100\n",
      "1/1 [==============================] - 0s 31ms/step - loss: 1.4409 - acc: 0.5098 - val_loss: 1.3179 - val_acc: 0.3333\n",
      "Epoch 81/100\n",
      "1/1 [==============================] - 0s 31ms/step - loss: 1.4298 - acc: 0.4118 - val_loss: 1.2721 - val_acc: 0.5556\n",
      "Epoch 82/100\n",
      "1/1 [==============================] - 0s 33ms/step - loss: 1.4396 - acc: 0.4510 - val_loss: 1.2228 - val_acc: 0.5556\n",
      "Epoch 83/100\n",
      "1/1 [==============================] - 0s 34ms/step - loss: 1.4730 - acc: 0.4706 - val_loss: 1.2104 - val_acc: 0.5556\n",
      "Epoch 84/100\n",
      "1/1 [==============================] - 0s 87ms/step - loss: 1.3966 - acc: 0.4902 - val_loss: 1.2837 - val_acc: 0.3333\n",
      "Epoch 85/100\n",
      "1/1 [==============================] - 0s 32ms/step - loss: 1.1479 - acc: 0.5098 - val_loss: 1.2397 - val_acc: 0.4444\n",
      "Epoch 86/100\n",
      "1/1 [==============================] - 0s 38ms/step - loss: 1.4004 - acc: 0.4314 - val_loss: 1.1471 - val_acc: 0.5556\n",
      "Epoch 87/100\n",
      "1/1 [==============================] - 0s 67ms/step - loss: 1.2723 - acc: 0.5686 - val_loss: 1.1935 - val_acc: 0.3333\n",
      "Epoch 88/100\n",
      "1/1 [==============================] - 0s 45ms/step - loss: 1.2306 - acc: 0.4510 - val_loss: 1.1228 - val_acc: 0.5556\n",
      "Epoch 89/100\n",
      "1/1 [==============================] - 0s 31ms/step - loss: 1.3640 - acc: 0.5098 - val_loss: 1.1670 - val_acc: 0.4444\n",
      "Epoch 90/100\n",
      "1/1 [==============================] - 0s 32ms/step - loss: 1.2387 - acc: 0.5294 - val_loss: 1.2124 - val_acc: 0.3333\n",
      "Epoch 91/100\n",
      "1/1 [==============================] - 0s 51ms/step - loss: 1.1410 - acc: 0.5294 - val_loss: 1.2495 - val_acc: 0.3333\n",
      "Epoch 92/100\n",
      "1/1 [==============================] - 0s 36ms/step - loss: 1.5537 - acc: 0.3922 - val_loss: 1.1201 - val_acc: 0.5556\n",
      "Epoch 93/100\n",
      "1/1 [==============================] - 0s 39ms/step - loss: 1.4518 - acc: 0.4118 - val_loss: 1.1233 - val_acc: 0.5556\n",
      "Epoch 94/100\n",
      "1/1 [==============================] - 0s 33ms/step - loss: 1.1483 - acc: 0.5098 - val_loss: 1.0301 - val_acc: 0.5556\n",
      "Epoch 95/100\n",
      "1/1 [==============================] - 0s 32ms/step - loss: 1.6223 - acc: 0.3922 - val_loss: 1.1753 - val_acc: 0.4444\n",
      "Epoch 96/100\n",
      "1/1 [==============================] - 0s 32ms/step - loss: 1.1233 - acc: 0.5294 - val_loss: 1.0395 - val_acc: 0.5556\n",
      "Epoch 97/100\n",
      "1/1 [==============================] - 0s 32ms/step - loss: 1.2136 - acc: 0.4902 - val_loss: 1.1042 - val_acc: 0.5556\n",
      "Epoch 98/100\n",
      "1/1 [==============================] - 0s 32ms/step - loss: 1.0103 - acc: 0.6078 - val_loss: 1.1852 - val_acc: 0.4444\n",
      "Epoch 99/100\n",
      "1/1 [==============================] - 0s 32ms/step - loss: 1.1352 - acc: 0.5294 - val_loss: 1.0377 - val_acc: 0.5556\n",
      "Epoch 100/100\n",
      "1/1 [==============================] - 0s 34ms/step - loss: 1.0921 - acc: 0.5882 - val_loss: 0.9450 - val_acc: 0.5556\n"
     ]
    }
   ],
   "source": [
    "history = model.fit(\n",
    "    x_train,\n",
    "    y_train,\n",
    "    epochs=100,\n",
    "    batch_size=51,\n",
    "    validation_data=(x_val, y_val),\n",
    "    shuffle=True\n",
    ")"
   ]
  },
  {
   "cell_type": "code",
   "execution_count": 12,
   "id": "f4254c86-2701-42b5-98f7-111c96a67e3f",
   "metadata": {},
   "outputs": [
    {
     "name": "stdout",
     "output_type": "stream",
     "text": [
      "0.5454545617103577\n"
     ]
    }
   ],
   "source": [
    "test_accuracy=model.evaluate(x_test, y_test, verbose=0)\n",
    "print(test_accuracy[1])"
   ]
  },
  {
   "cell_type": "code",
   "execution_count": 13,
   "id": "f0bdbc09-f1d6-4273-a295-86845daccade",
   "metadata": {},
   "outputs": [
    {
     "name": "stdout",
     "output_type": "stream",
     "text": [
      "1/1 [==============================] - 0s 201ms/step\n"
     ]
    },
    {
     "data": {
      "text/plain": [
       "<AxesSubplot:>"
      ]
     },
     "execution_count": 13,
     "metadata": {},
     "output_type": "execute_result"
    },
    {
     "data": {
      "image/png": "[encoded data removed]",
      "text/plain": [
       "<Figure size 432x288 with 2 Axes>"
      ]
     },
     "metadata": {},
     "output_type": "display_data"
    }
   ],
   "source": [
    "y_true, y_pred = np.argmax(y_test, axis=1), np.argmax(model.predict(x_test), axis=1)\n",
    "\n",
    "def confusion_matrix_table(y_true, y_pred):\n",
    "    labels = unique_labels(y_test)\n",
    "    columns = [f'Predicted {label}' for label in labels]\n",
    "    index = [f'Actual {label}' for label in labels]\n",
    "    cm = confusion_matrix(y_true, y_pred, labels=labels)\n",
    "    table = pd.DataFrame(cm, columns=columns, index=index)\n",
    "    return table\n",
    "\n",
    "def confusion_matrix_plot(y_true, y_pred):\n",
    "    table = confusion_matrix_table(y_true, y_pred)\n",
    "    plot = seaborn.heatmap(table, annot=True, fmt=\"d\", cmap=\"viridis\")\n",
    "    plt.yticks(rotation=0) \n",
    "    return plot\n",
    "\n",
    "confusion_matrix_plot(y_true, y_pred)"
   ]
  }
 ],
 "metadata": {
  "kernelspec": {
   "display_name": "Python 3 (ipykernel)",
   "language": "python",
   "name": "python3"
  },
  "language_info": {
   "codemirror_mode": {
    "name": "ipython",
    "version": 3
   },
   "file_extension": ".py",
   "mimetype": "text/x-python",
   "name": "python",
   "nbconvert_exporter": "python",
   "pygments_lexer": "ipython3",
   "version": "3.7.9"
  }
 },
 "nbformat": 4,
 "nbformat_minor": 5
}
