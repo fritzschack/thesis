{
 "cells": [
  {
   "cell_type": "code",
   "execution_count": 1,
   "id": "7246787a-8e21-4978-852b-ec60e6bb2df6",
   "metadata": {},
   "outputs": [
    {
     "data": {
      "text/plain": [
       "<Figure size 2160x720 with 0 Axes>"
      ]
     },
     "metadata": {},
     "output_type": "display_data"
    }
   ],
   "source": [
    "import json\n",
    "import librosa\n",
    "import matplotlib.pyplot as plt\n",
    "import numpy as np\n",
    "import pandas as pd\n",
    "import requests\n",
    "import seaborn\n",
    "import tensorflow\n",
    "\n",
    "from collections import Counter\n",
    "from datetime import datetime\n",
    "from imblearn.under_sampling import RandomUnderSampler\n",
    "from sklearn import metrics\n",
    "from sklearn.model_selection import train_test_split\n",
    "from sklearn.preprocessing import LabelEncoder\n",
    "from sklearn.utils.multiclass import unique_labels\n",
    "from sklearn.metrics import confusion_matrix\n",
    "from tensorflow.keras.callbacks import ModelCheckpoint\n",
    "from tensorflow.keras.layers import Dense,Dropout,Activation,Flatten\n",
    "from tensorflow.keras.models import Sequential\n",
    "from tensorflow.keras.optimizers import Adam\n",
    "from tensorflow.keras.utils import to_categorical\n",
    "from tqdm import tqdm\n",
    "\n",
    "plt.figure(figsize=(30,10))\n",
    "\n",
    "seaborn.set(style=\"ticks\")"
   ]
  },
  {
   "cell_type": "code",
   "execution_count": 2,
   "id": "dc961f77-9cf5-4239-8303-e4821922cf13",
   "metadata": {},
   "outputs": [
    {
     "data": {
      "text/html": [
       "<div>\n",
       "<style scoped>\n",
       "    .dataframe tbody tr th:only-of-type {\n",
       "        vertical-align: middle;\n",
       "    }\n",
       "\n",
       "    .dataframe tbody tr th {\n",
       "        vertical-align: top;\n",
       "    }\n",
       "\n",
       "    .dataframe thead th {\n",
       "        text-align: right;\n",
       "    }\n",
       "</style>\n",
       "<table border=\"1\" class=\"dataframe\">\n",
       "  <thead>\n",
       "    <tr style=\"text-align: right;\">\n",
       "      <th></th>\n",
       "      <th>path</th>\n",
       "      <th>label</th>\n",
       "      <th>environment</th>\n",
       "    </tr>\n",
       "  </thead>\n",
       "  <tbody>\n",
       "    <tr>\n",
       "      <th>0</th>\n",
       "      <td>../recordings/combined/a196dbae-1f50-4d0e-b345...</td>\n",
       "      <td>washing_hands</td>\n",
       "      <td>marsberg</td>\n",
       "    </tr>\n",
       "    <tr>\n",
       "      <th>1</th>\n",
       "      <td>../recordings/combined/826e36b1-2a7e-4d22-9c81...</td>\n",
       "      <td>washing_hands</td>\n",
       "      <td>marsberg</td>\n",
       "    </tr>\n",
       "    <tr>\n",
       "      <th>2</th>\n",
       "      <td>../recordings/combined/9a6b6b01-e466-47fb-9fcc...</td>\n",
       "      <td>washing_hands</td>\n",
       "      <td>marsberg</td>\n",
       "    </tr>\n",
       "    <tr>\n",
       "      <th>3</th>\n",
       "      <td>../recordings/combined/84ee02e6-44d5-4ab3-b875...</td>\n",
       "      <td>washing_hands</td>\n",
       "      <td>marsberg</td>\n",
       "    </tr>\n",
       "    <tr>\n",
       "      <th>4</th>\n",
       "      <td>../recordings/combined/ec24c55a-39ec-4b36-86fe...</td>\n",
       "      <td>washing_hands</td>\n",
       "      <td>marsberg</td>\n",
       "    </tr>\n",
       "  </tbody>\n",
       "</table>\n",
       "</div>"
      ],
      "text/plain": [
       "                                                path          label  \\\n",
       "0  ../recordings/combined/a196dbae-1f50-4d0e-b345...  washing_hands   \n",
       "1  ../recordings/combined/826e36b1-2a7e-4d22-9c81...  washing_hands   \n",
       "2  ../recordings/combined/9a6b6b01-e466-47fb-9fcc...  washing_hands   \n",
       "3  ../recordings/combined/84ee02e6-44d5-4ab3-b875...  washing_hands   \n",
       "4  ../recordings/combined/ec24c55a-39ec-4b36-86fe...  washing_hands   \n",
       "\n",
       "  environment  \n",
       "0    marsberg  \n",
       "1    marsberg  \n",
       "2    marsberg  \n",
       "3    marsberg  \n",
       "4    marsberg  "
      ]
     },
     "execution_count": 2,
     "metadata": {},
     "output_type": "execute_result"
    }
   ],
   "source": [
    "data = requests.get(\"https://dolphin-app-9sdeq.ondigitalocean.app/api/v1/recordings\").json()\n",
    "\n",
    "recordings = []\n",
    "\n",
    "for recording in data:\n",
    "    recordings.append({\n",
    "        \"path\": f'../recordings/combined/{recording[\"name\"]}',\n",
    "        \"label\": recording[\"label\"],\n",
    "        \"environment\": recording[\"environment\"]\n",
    "    })\n",
    "\n",
    "dataframe = pd.json_normalize(recordings)\n",
    "\n",
    "dataframe.head()"
   ]
  },
  {
   "cell_type": "code",
   "execution_count": 3,
   "id": "5a46a54c-18ac-4ba9-b82b-474aec7e884c",
   "metadata": {},
   "outputs": [
    {
     "name": "stderr",
     "output_type": "stream",
     "text": [
      "119it [02:12,  1.12s/it]\n"
     ]
    }
   ],
   "source": [
    "def preprocess(dataframe):\n",
    "    features = []\n",
    "    for index, row in tqdm(dataframe.iterrows()):\n",
    "        audio, sample_rate = librosa.load(row[\"path\"])\n",
    "        mfcc = librosa.feature.mfcc(y=audio, n_mfcc=24, sr=sample_rate)\n",
    "        features.append(np.mean(mfcc.T, axis=0))\n",
    "        \n",
    "    dataframe[\"features\"] = features\n",
    "    \n",
    "    return dataframe\n",
    "\n",
    "dataframe = preprocess(dataframe)"
   ]
  },
  {
   "cell_type": "code",
   "execution_count": 4,
   "id": "09eecd86-3088-4b6b-8d12-efeb20b7b695",
   "metadata": {},
   "outputs": [],
   "source": [
    "dataframe_marsberg = dataframe[dataframe[\"environment\"] == \"marsberg\"]\n",
    "dataframe_duesseldorf = dataframe[dataframe[\"environment\"] == \"duesseldorf\"]"
   ]
  },
  {
   "cell_type": "code",
   "execution_count": 5,
   "id": "bf323cdd-6aef-422c-a944-f1ba9dbd3b05",
   "metadata": {},
   "outputs": [
    {
     "name": "stdout",
     "output_type": "stream",
     "text": [
      "(51, 24) (11, 24) (9, 24)\n"
     ]
    }
   ],
   "source": [
    "x = np.array(dataframe_marsberg[\"features\"].tolist())\n",
    "y = np.array(dataframe_marsberg[\"label\"].tolist())\n",
    "\n",
    "label_encoder = LabelEncoder()\n",
    "y = to_categorical(label_encoder.fit_transform(y))\n",
    "\n",
    "x_train, x_test, y_train, y_test = train_test_split(x, y, test_size=0.15, random_state=1)\n",
    "x_train, x_val, y_train, y_val = train_test_split(x_train, y_train, test_size=0.15, random_state=1)\n",
    "\n",
    "print(x_train.shape, x_test.shape, x_val.shape)"
   ]
  },
  {
   "cell_type": "code",
   "execution_count": 6,
   "id": "634881bc-eaa9-4b78-a944-6b918d08c699",
   "metadata": {},
   "outputs": [
    {
     "name": "stderr",
     "output_type": "stream",
     "text": [
      "2022-09-20 12:37:47.040051: I tensorflow/core/platform/cpu_feature_guard.cc:193] This TensorFlow binary is optimized with oneAPI Deep Neural Network Library (oneDNN) to use the following CPU instructions in performance-critical operations:  AVX2 AVX512F AVX512_VNNI FMA\n",
      "To enable them in other operations, rebuild TensorFlow with the appropriate compiler flags.\n"
     ]
    },
    {
     "name": "stdout",
     "output_type": "stream",
     "text": [
      "Model: \"sequential\"\n",
      "_________________________________________________________________\n",
      " Layer (type)                Output Shape              Param #   \n",
      "=================================================================\n",
      " dense (Dense)               (None, 400)               10000     \n",
      "                                                                 \n",
      " activation (Activation)     (None, 400)               0         \n",
      "                                                                 \n",
      " dropout (Dropout)           (None, 400)               0         \n",
      "                                                                 \n",
      " dense_1 (Dense)             (None, 800)               320800    \n",
      "                                                                 \n",
      " activation_1 (Activation)   (None, 800)               0         \n",
      "                                                                 \n",
      " dropout_1 (Dropout)         (None, 800)               0         \n",
      "                                                                 \n",
      " dense_2 (Dense)             (None, 400)               320400    \n",
      "                                                                 \n",
      " activation_2 (Activation)   (None, 400)               0         \n",
      "                                                                 \n",
      " dropout_2 (Dropout)         (None, 400)               0         \n",
      "                                                                 \n",
      " dense_3 (Dense)             (None, 5)                 2005      \n",
      "                                                                 \n",
      " activation_3 (Activation)   (None, 5)                 0         \n",
      "                                                                 \n",
      "=================================================================\n",
      "Total params: 653,205\n",
      "Trainable params: 653,205\n",
      "Non-trainable params: 0\n",
      "_________________________________________________________________\n"
     ]
    }
   ],
   "source": [
    "model = Sequential()\n",
    "model.add(Dense(400,input_shape=(24,)))\n",
    "model.add(Activation(\"relu\"))\n",
    "model.add(Dropout(0.5))\n",
    "model.add(Dense(800))\n",
    "model.add(Activation(\"relu\"))\n",
    "model.add(Dropout(0.5))\n",
    "model.add(Dense(400))\n",
    "model.add(Activation('relu'))\n",
    "model.add(Dropout(0.5))\n",
    "model.add(Dense(5))\n",
    "model.add(Activation('softmax'))\n",
    "model.summary()"
   ]
  },
  {
   "cell_type": "code",
   "execution_count": 7,
   "id": "8c0c1e21-ac90-469a-a5e6-e48b7f1bd40d",
   "metadata": {},
   "outputs": [],
   "source": [
    "model.compile(\n",
    "    optimizer='rmsprop',\n",
    "    loss='categorical_crossentropy',\n",
    "    metrics=['acc'],\n",
    "    steps_per_execution=100\n",
    ")"
   ]
  },
  {
   "cell_type": "code",
   "execution_count": 8,
   "id": "7bfd0282-4ba6-442f-ac17-e535ea5fc4a3",
   "metadata": {},
   "outputs": [
    {
     "name": "stdout",
     "output_type": "stream",
     "text": [
      "Epoch 1/100\n",
      "1/1 [==============================] - 1s 1s/step - loss: 65.5243 - acc: 0.1569 - val_loss: 80.0773 - val_acc: 0.2222\n",
      "Epoch 2/100\n",
      "1/1 [==============================] - 0s 32ms/step - loss: 98.2781 - acc: 0.3529 - val_loss: 46.3733 - val_acc: 0.1111\n",
      "Epoch 3/100\n",
      "1/1 [==============================] - 0s 31ms/step - loss: 99.5092 - acc: 0.2353 - val_loss: 45.4028 - val_acc: 0.2222\n",
      "Epoch 4/100\n",
      "1/1 [==============================] - 0s 32ms/step - loss: 58.2966 - acc: 0.1765 - val_loss: 44.1740 - val_acc: 0.2222\n",
      "Epoch 5/100\n",
      "1/1 [==============================] - 0s 31ms/step - loss: 52.5231 - acc: 0.2353 - val_loss: 14.4499 - val_acc: 0.3333\n",
      "Epoch 6/100\n",
      "1/1 [==============================] - 0s 32ms/step - loss: 44.8111 - acc: 0.2353 - val_loss: 31.3284 - val_acc: 0.2222\n",
      "Epoch 7/100\n",
      "1/1 [==============================] - 0s 32ms/step - loss: 42.6848 - acc: 0.2353 - val_loss: 7.2174 - val_acc: 0.2222\n",
      "Epoch 8/100\n",
      "1/1 [==============================] - 0s 31ms/step - loss: 34.8893 - acc: 0.2549 - val_loss: 20.7794 - val_acc: 0.2222\n",
      "Epoch 9/100\n",
      "1/1 [==============================] - 0s 31ms/step - loss: 34.8891 - acc: 0.1961 - val_loss: 5.7823 - val_acc: 0.1111\n",
      "Epoch 10/100\n",
      "1/1 [==============================] - 0s 31ms/step - loss: 22.0758 - acc: 0.2353 - val_loss: 7.1283 - val_acc: 0.2222\n",
      "Epoch 11/100\n",
      "1/1 [==============================] - 0s 31ms/step - loss: 20.6962 - acc: 0.1961 - val_loss: 10.7046 - val_acc: 0.2222\n",
      "Epoch 12/100\n",
      "1/1 [==============================] - 0s 32ms/step - loss: 23.0249 - acc: 0.2941 - val_loss: 2.6513 - val_acc: 0.1111\n",
      "Epoch 13/100\n",
      "1/1 [==============================] - 0s 31ms/step - loss: 33.3605 - acc: 0.1176 - val_loss: 9.1646 - val_acc: 0.2222\n",
      "Epoch 14/100\n",
      "1/1 [==============================] - 0s 32ms/step - loss: 23.2800 - acc: 0.3333 - val_loss: 7.9686 - val_acc: 0.2222\n",
      "Epoch 15/100\n",
      "1/1 [==============================] - 0s 31ms/step - loss: 26.5805 - acc: 0.2549 - val_loss: 3.8316 - val_acc: 0.3333\n",
      "Epoch 16/100\n",
      "1/1 [==============================] - 0s 31ms/step - loss: 23.8073 - acc: 0.2745 - val_loss: 3.7240 - val_acc: 0.2222\n",
      "Epoch 17/100\n",
      "1/1 [==============================] - 0s 30ms/step - loss: 23.6662 - acc: 0.2745 - val_loss: 3.6701 - val_acc: 0.3333\n",
      "Epoch 18/100\n",
      "1/1 [==============================] - 0s 54ms/step - loss: 24.0247 - acc: 0.1961 - val_loss: 4.4825 - val_acc: 0.4444\n",
      "Epoch 19/100\n",
      "1/1 [==============================] - 0s 39ms/step - loss: 19.8576 - acc: 0.2353 - val_loss: 2.3529 - val_acc: 0.4444\n",
      "Epoch 20/100\n",
      "1/1 [==============================] - 0s 32ms/step - loss: 16.4097 - acc: 0.2157 - val_loss: 3.9654 - val_acc: 0.1111\n",
      "Epoch 21/100\n",
      "1/1 [==============================] - 0s 31ms/step - loss: 18.0661 - acc: 0.3137 - val_loss: 2.6284 - val_acc: 0.3333\n",
      "Epoch 22/100\n",
      "1/1 [==============================] - 0s 31ms/step - loss: 15.8466 - acc: 0.1176 - val_loss: 2.9489 - val_acc: 0.2222\n",
      "Epoch 23/100\n",
      "1/1 [==============================] - 0s 32ms/step - loss: 16.5842 - acc: 0.2353 - val_loss: 3.1146 - val_acc: 0.2222\n",
      "Epoch 24/100\n",
      "1/1 [==============================] - 0s 31ms/step - loss: 16.8997 - acc: 0.2941 - val_loss: 3.3079 - val_acc: 0.2222\n",
      "Epoch 25/100\n",
      "1/1 [==============================] - 0s 31ms/step - loss: 12.6470 - acc: 0.3137 - val_loss: 2.3750 - val_acc: 0.4444\n",
      "Epoch 26/100\n",
      "1/1 [==============================] - 0s 32ms/step - loss: 14.1142 - acc: 0.1961 - val_loss: 2.3295 - val_acc: 0.3333\n",
      "Epoch 27/100\n",
      "1/1 [==============================] - 0s 31ms/step - loss: 15.3044 - acc: 0.2157 - val_loss: 2.6284 - val_acc: 0.2222\n",
      "Epoch 28/100\n",
      "1/1 [==============================] - 0s 32ms/step - loss: 16.0889 - acc: 0.2549 - val_loss: 1.7838 - val_acc: 0.3333\n",
      "Epoch 29/100\n",
      "1/1 [==============================] - 0s 53ms/step - loss: 13.0960 - acc: 0.2941 - val_loss: 1.5276 - val_acc: 0.2222\n",
      "Epoch 30/100\n",
      "1/1 [==============================] - 0s 30ms/step - loss: 11.5522 - acc: 0.2941 - val_loss: 1.7768 - val_acc: 0.2222\n",
      "Epoch 31/100\n",
      "1/1 [==============================] - 0s 31ms/step - loss: 14.8275 - acc: 0.1961 - val_loss: 1.4842 - val_acc: 0.3333\n",
      "Epoch 32/100\n",
      "1/1 [==============================] - 0s 32ms/step - loss: 12.8606 - acc: 0.2353 - val_loss: 1.6647 - val_acc: 0.2222\n",
      "Epoch 33/100\n",
      "1/1 [==============================] - 0s 33ms/step - loss: 10.6135 - acc: 0.2549 - val_loss: 2.3921 - val_acc: 0.2222\n",
      "Epoch 34/100\n",
      "1/1 [==============================] - 0s 32ms/step - loss: 12.4670 - acc: 0.3529 - val_loss: 1.9663 - val_acc: 0.3333\n",
      "Epoch 35/100\n",
      "1/1 [==============================] - 0s 36ms/step - loss: 10.6136 - acc: 0.2549 - val_loss: 2.1723 - val_acc: 0.2222\n",
      "Epoch 36/100\n",
      "1/1 [==============================] - 0s 35ms/step - loss: 10.8459 - acc: 0.2941 - val_loss: 2.1290 - val_acc: 0.2222\n",
      "Epoch 37/100\n",
      "1/1 [==============================] - 0s 31ms/step - loss: 9.6847 - acc: 0.3137 - val_loss: 1.8899 - val_acc: 0.2222\n",
      "Epoch 38/100\n",
      "1/1 [==============================] - 0s 31ms/step - loss: 10.3806 - acc: 0.2745 - val_loss: 1.6852 - val_acc: 0.3333\n",
      "Epoch 39/100\n",
      "1/1 [==============================] - 0s 32ms/step - loss: 9.9096 - acc: 0.3333 - val_loss: 1.5779 - val_acc: 0.2222\n",
      "Epoch 40/100\n",
      "1/1 [==============================] - 0s 31ms/step - loss: 12.1043 - acc: 0.2157 - val_loss: 1.6226 - val_acc: 0.3333\n",
      "Epoch 41/100\n",
      "1/1 [==============================] - 0s 33ms/step - loss: 10.8726 - acc: 0.2157 - val_loss: 1.9997 - val_acc: 0.3333\n",
      "Epoch 42/100\n",
      "1/1 [==============================] - 0s 33ms/step - loss: 8.9085 - acc: 0.2353 - val_loss: 1.9366 - val_acc: 0.3333\n",
      "Epoch 43/100\n",
      "1/1 [==============================] - 0s 32ms/step - loss: 9.9491 - acc: 0.2549 - val_loss: 1.7439 - val_acc: 0.2222\n",
      "Epoch 44/100\n",
      "1/1 [==============================] - 0s 29ms/step - loss: 10.5267 - acc: 0.1765 - val_loss: 1.6561 - val_acc: 0.3333\n",
      "Epoch 45/100\n",
      "1/1 [==============================] - 0s 32ms/step - loss: 6.0285 - acc: 0.3137 - val_loss: 1.6843 - val_acc: 0.2222\n",
      "Epoch 46/100\n",
      "1/1 [==============================] - 0s 32ms/step - loss: 9.7615 - acc: 0.1961 - val_loss: 2.0974 - val_acc: 0.1111\n",
      "Epoch 47/100\n",
      "1/1 [==============================] - 0s 31ms/step - loss: 7.4539 - acc: 0.3333 - val_loss: 2.1099 - val_acc: 0.2222\n",
      "Epoch 48/100\n",
      "1/1 [==============================] - 0s 31ms/step - loss: 7.4107 - acc: 0.2353 - val_loss: 1.7042 - val_acc: 0.2222\n",
      "Epoch 49/100\n",
      "1/1 [==============================] - 0s 33ms/step - loss: 9.2567 - acc: 0.2353 - val_loss: 1.7970 - val_acc: 0.2222\n",
      "Epoch 50/100\n",
      "1/1 [==============================] - 0s 32ms/step - loss: 8.7802 - acc: 0.2941 - val_loss: 1.7457 - val_acc: 0.3333\n",
      "Epoch 51/100\n",
      "1/1 [==============================] - 0s 32ms/step - loss: 9.5465 - acc: 0.2353 - val_loss: 1.4852 - val_acc: 0.2222\n",
      "Epoch 52/100\n",
      "1/1 [==============================] - 0s 31ms/step - loss: 6.5679 - acc: 0.1961 - val_loss: 1.4755 - val_acc: 0.1111\n",
      "Epoch 53/100\n",
      "1/1 [==============================] - 0s 31ms/step - loss: 7.5621 - acc: 0.2745 - val_loss: 1.5314 - val_acc: 0.2222\n",
      "Epoch 54/100\n",
      "1/1 [==============================] - 0s 30ms/step - loss: 6.7285 - acc: 0.2353 - val_loss: 1.5623 - val_acc: 0.3333\n",
      "Epoch 55/100\n",
      "1/1 [==============================] - 0s 32ms/step - loss: 8.2176 - acc: 0.2353 - val_loss: 1.7520 - val_acc: 0.2222\n",
      "Epoch 56/100\n",
      "1/1 [==============================] - 0s 32ms/step - loss: 8.0797 - acc: 0.2157 - val_loss: 1.9048 - val_acc: 0.1111\n",
      "Epoch 57/100\n",
      "1/1 [==============================] - 0s 32ms/step - loss: 6.3366 - acc: 0.2353 - val_loss: 1.5993 - val_acc: 0.2222\n",
      "Epoch 58/100\n",
      "1/1 [==============================] - 0s 31ms/step - loss: 6.4399 - acc: 0.3529 - val_loss: 1.6099 - val_acc: 0.4444\n",
      "Epoch 59/100\n",
      "1/1 [==============================] - 0s 33ms/step - loss: 6.8299 - acc: 0.1765 - val_loss: 1.6871 - val_acc: 0.2222\n",
      "Epoch 60/100\n",
      "1/1 [==============================] - 0s 30ms/step - loss: 5.4986 - acc: 0.3137 - val_loss: 1.6002 - val_acc: 0.1111\n",
      "Epoch 61/100\n",
      "1/1 [==============================] - 0s 30ms/step - loss: 5.3237 - acc: 0.2941 - val_loss: 1.5914 - val_acc: 0.1111\n",
      "Epoch 62/100\n",
      "1/1 [==============================] - 0s 31ms/step - loss: 5.7124 - acc: 0.3137 - val_loss: 1.4911 - val_acc: 0.4444\n",
      "Epoch 63/100\n",
      "1/1 [==============================] - 0s 33ms/step - loss: 4.8362 - acc: 0.2549 - val_loss: 1.4868 - val_acc: 0.4444\n",
      "Epoch 64/100\n",
      "1/1 [==============================] - 0s 51ms/step - loss: 4.5416 - acc: 0.2745 - val_loss: 1.5099 - val_acc: 0.3333\n",
      "Epoch 65/100\n",
      "1/1 [==============================] - 0s 31ms/step - loss: 4.1032 - acc: 0.3725 - val_loss: 1.4950 - val_acc: 0.3333\n",
      "Epoch 66/100\n",
      "1/1 [==============================] - 0s 31ms/step - loss: 4.9341 - acc: 0.2549 - val_loss: 1.5527 - val_acc: 0.3333\n",
      "Epoch 67/100\n",
      "1/1 [==============================] - 0s 31ms/step - loss: 6.1414 - acc: 0.1765 - val_loss: 1.5552 - val_acc: 0.3333\n",
      "Epoch 68/100\n",
      "1/1 [==============================] - 0s 31ms/step - loss: 5.3626 - acc: 0.2353 - val_loss: 1.5522 - val_acc: 0.0000e+00\n",
      "Epoch 69/100\n",
      "1/1 [==============================] - 0s 35ms/step - loss: 4.8252 - acc: 0.3529 - val_loss: 1.5424 - val_acc: 0.2222\n",
      "Epoch 70/100\n",
      "1/1 [==============================] - 0s 32ms/step - loss: 4.6900 - acc: 0.3137 - val_loss: 1.5403 - val_acc: 0.2222\n",
      "Epoch 71/100\n",
      "1/1 [==============================] - 0s 32ms/step - loss: 5.1537 - acc: 0.1961 - val_loss: 1.5776 - val_acc: 0.3333\n",
      "Epoch 72/100\n",
      "1/1 [==============================] - 0s 32ms/step - loss: 4.4827 - acc: 0.3333 - val_loss: 1.5762 - val_acc: 0.3333\n",
      "Epoch 73/100\n",
      "1/1 [==============================] - 0s 32ms/step - loss: 4.8185 - acc: 0.2941 - val_loss: 1.5939 - val_acc: 0.3333\n",
      "Epoch 74/100\n",
      "1/1 [==============================] - 0s 32ms/step - loss: 3.8913 - acc: 0.3333 - val_loss: 1.5987 - val_acc: 0.4444\n",
      "Epoch 75/100\n",
      "1/1 [==============================] - 0s 76ms/step - loss: 3.5812 - acc: 0.2941 - val_loss: 1.5977 - val_acc: 0.3333\n",
      "Epoch 76/100\n",
      "1/1 [==============================] - 0s 30ms/step - loss: 2.8144 - acc: 0.3725 - val_loss: 1.6008 - val_acc: 0.2222\n",
      "Epoch 77/100\n",
      "1/1 [==============================] - 0s 30ms/step - loss: 4.1930 - acc: 0.3333 - val_loss: 1.5919 - val_acc: 0.1111\n",
      "Epoch 78/100\n",
      "1/1 [==============================] - 0s 32ms/step - loss: 3.3468 - acc: 0.2745 - val_loss: 1.6045 - val_acc: 0.1111\n",
      "Epoch 79/100\n",
      "1/1 [==============================] - 0s 32ms/step - loss: 3.9804 - acc: 0.1373 - val_loss: 1.6087 - val_acc: 0.1111\n",
      "Epoch 80/100\n",
      "1/1 [==============================] - 0s 31ms/step - loss: 3.2849 - acc: 0.2549 - val_loss: 1.5770 - val_acc: 0.2222\n",
      "Epoch 81/100\n",
      "1/1 [==============================] - 0s 31ms/step - loss: 3.1937 - acc: 0.2353 - val_loss: 1.6059 - val_acc: 0.1111\n",
      "Epoch 82/100\n",
      "1/1 [==============================] - 0s 31ms/step - loss: 3.3496 - acc: 0.1961 - val_loss: 1.6022 - val_acc: 0.2222\n",
      "Epoch 83/100\n",
      "1/1 [==============================] - 0s 31ms/step - loss: 3.8987 - acc: 0.2941 - val_loss: 1.6082 - val_acc: 0.1111\n",
      "Epoch 84/100\n",
      "1/1 [==============================] - 0s 32ms/step - loss: 2.8857 - acc: 0.2549 - val_loss: 1.6028 - val_acc: 0.3333\n",
      "Epoch 85/100\n",
      "1/1 [==============================] - 0s 29ms/step - loss: 3.4220 - acc: 0.1765 - val_loss: 1.6102 - val_acc: 0.1111\n",
      "Epoch 86/100\n",
      "1/1 [==============================] - 0s 30ms/step - loss: 3.3199 - acc: 0.2941 - val_loss: 1.6077 - val_acc: 0.3333\n",
      "Epoch 87/100\n",
      "1/1 [==============================] - 0s 32ms/step - loss: 2.3671 - acc: 0.3137 - val_loss: 1.6088 - val_acc: 0.1111\n",
      "Epoch 88/100\n",
      "1/1 [==============================] - 0s 30ms/step - loss: 2.8437 - acc: 0.2549 - val_loss: 1.6016 - val_acc: 0.1111\n",
      "Epoch 89/100\n",
      "1/1 [==============================] - 0s 30ms/step - loss: 3.2948 - acc: 0.2549 - val_loss: 1.5837 - val_acc: 0.3333\n",
      "Epoch 90/100\n",
      "1/1 [==============================] - 0s 32ms/step - loss: 3.0815 - acc: 0.1961 - val_loss: 1.5848 - val_acc: 0.3333\n",
      "Epoch 91/100\n",
      "1/1 [==============================] - 0s 32ms/step - loss: 3.0323 - acc: 0.2941 - val_loss: 1.5938 - val_acc: 0.4444\n",
      "Epoch 92/100\n",
      "1/1 [==============================] - 0s 52ms/step - loss: 2.8151 - acc: 0.2353 - val_loss: 1.6123 - val_acc: 0.1111\n",
      "Epoch 93/100\n",
      "1/1 [==============================] - 0s 30ms/step - loss: 2.8649 - acc: 0.1961 - val_loss: 1.6009 - val_acc: 0.2222\n",
      "Epoch 94/100\n",
      "1/1 [==============================] - 0s 31ms/step - loss: 2.2630 - acc: 0.3333 - val_loss: 1.6098 - val_acc: 0.2222\n",
      "Epoch 95/100\n",
      "1/1 [==============================] - 0s 32ms/step - loss: 2.3455 - acc: 0.1569 - val_loss: 1.6036 - val_acc: 0.3333\n",
      "Epoch 96/100\n",
      "1/1 [==============================] - 0s 32ms/step - loss: 2.7827 - acc: 0.1765 - val_loss: 1.6028 - val_acc: 0.3333\n",
      "Epoch 97/100\n",
      "1/1 [==============================] - 0s 31ms/step - loss: 2.0460 - acc: 0.2941 - val_loss: 1.6099 - val_acc: 0.2222\n",
      "Epoch 98/100\n",
      "1/1 [==============================] - 0s 31ms/step - loss: 2.2911 - acc: 0.1961 - val_loss: 1.6099 - val_acc: 0.2222\n",
      "Epoch 99/100\n",
      "1/1 [==============================] - 0s 30ms/step - loss: 2.6173 - acc: 0.2353 - val_loss: 1.6094 - val_acc: 0.2222\n",
      "Epoch 100/100\n",
      "1/1 [==============================] - 0s 35ms/step - loss: 2.0122 - acc: 0.3333 - val_loss: 1.6092 - val_acc: 0.2222\n"
     ]
    }
   ],
   "source": [
    "history = model.fit(\n",
    "    x_train,\n",
    "    y_train,\n",
    "    epochs=100,\n",
    "    batch_size=51,\n",
    "    validation_data=(x_val, y_val),\n",
    "    shuffle=True\n",
    ")"
   ]
  },
  {
   "cell_type": "code",
   "execution_count": 9,
   "id": "f4254c86-2701-42b5-98f7-111c96a67e3f",
   "metadata": {},
   "outputs": [
    {
     "name": "stdout",
     "output_type": "stream",
     "text": [
      "0.09090909361839294\n"
     ]
    }
   ],
   "source": [
    "test_accuracy=model.evaluate(x_test, y_test, verbose=0)\n",
    "print(test_accuracy[1])"
   ]
  },
  {
   "cell_type": "code",
   "execution_count": 10,
   "id": "f0bdbc09-f1d6-4273-a295-86845daccade",
   "metadata": {},
   "outputs": [
    {
     "name": "stdout",
     "output_type": "stream",
     "text": [
      "1/1 [==============================] - 0s 203ms/step\n",
      "[4 1 0 0 1 4 2 4 2 1 3] [3 3 3 3 3 3 3 3 3 3 3]\n"
     ]
    },
    {
     "data": {
      "text/plain": [
       "<AxesSubplot:xlabel='PREDICTED LABEL', ylabel='GROUND TRUTH'>"
      ]
     },
     "execution_count": 10,
     "metadata": {},
     "output_type": "execute_result"
    },
    {
     "data": {
      "image/png": "[encoded data removed]",
      "text/plain": [
       "<Figure size 432x288 with 2 Axes>"
      ]
     },
     "metadata": {},
     "output_type": "display_data"
    }
   ],
   "source": [
    "y_true, y_pred = np.argmax(y_test, axis=1), np.argmax(model.predict(x_test), axis=1)\n",
    "\n",
    "def confusion_matrix_table(y_true, y_pred):\n",
    "    columns = [f'Predicted {label}' for label in label_encoder.classes_]\n",
    "    index = [f'Actual {label}' for label in label_encoder.classes_]\n",
    "    print(y_true, y_pred)\n",
    "    cm = confusion_matrix(y_true, y_pred)\n",
    "    table = pd.DataFrame(cm, columns=columns, index=index)\n",
    "    return table\n",
    "\n",
    "def confusion_matrix_plot(y_true, y_pred):\n",
    "    table = confusion_matrix_table(y_true, y_pred)\n",
    "    plot = seaborn.heatmap(table, annot=True, fmt=\"d\", cmap=\"viridis\")\n",
    "    plt.yticks(rotation=0)  \n",
    "    plt.ylabel(\n",
    "        'GROUND TRUTH', \n",
    "        fontsize = 12, \n",
    "        fontweight = 600\n",
    "    )\n",
    "    plt.xlabel(\n",
    "        'PREDICTED LABEL', \n",
    "        fontsize = 12, \n",
    "        fontweight = 600\n",
    "    )\n",
    "    return plot\n",
    "\n",
    "confusion_matrix_plot(y_true, y_pred)"
   ]
  },
  {
   "cell_type": "code",
   "execution_count": 11,
   "id": "a83f52b3-bdc5-41dc-8ad9-c38930168bf5",
   "metadata": {},
   "outputs": [
    {
     "name": "stdout",
     "output_type": "stream",
     "text": [
      "0.0\n"
     ]
    }
   ],
   "source": [
    "# Calculate accuracy on data from duesseldorf\n",
    "x_duesseldorf = np.array(dataframe_duesseldorf[\"features\"].tolist())\n",
    "y_duesseldorf = np.array(dataframe_duesseldorf[\"label\"].tolist())\n",
    "\n",
    "y_duesseldorf = to_categorical(label_encoder.fit_transform(y_duesseldorf))\n",
    "\n",
    "test_accuracy=model.evaluate(x_duesseldorf, y_duesseldorf, verbose=0)\n",
    "print(test_accuracy[1])"
   ]
  },
  {
   "cell_type": "code",
   "execution_count": 12,
   "id": "fd75e6ba-b2cb-4ad4-9b75-18ffc123d9ef",
   "metadata": {},
   "outputs": [
    {
     "name": "stdout",
     "output_type": "stream",
     "text": [
      "2/2 [==============================] - 0s 10ms/step\n"
     ]
    },
    {
     "data": {
      "text/plain": [
       "<AxesSubplot:xlabel='PREDICTED LABEL', ylabel='GROUND TRUTH'>"
      ]
     },
     "execution_count": 12,
     "metadata": {},
     "output_type": "execute_result"
    },
    {
     "data": {
      "image/png": "[encoded data removed]",
      "text/plain": [
       "<Figure size 432x288 with 2 Axes>"
      ]
     },
     "metadata": {},
     "output_type": "display_data"
    }
   ],
   "source": [
    "# Generate confusion matrix on data from duesseldorf\n",
    "y_true, y_pred = np.argmax(y_duesseldorf, axis=1), np.argmax(model.predict(x_duesseldorf), axis=1)\n",
    "\n",
    "def confusion_matrix_table(y_true, y_pred):\n",
    "    columns = [f'Predicted {label}' for label in label_encoder.classes_]\n",
    "    index = [f'Actual {label}' for label in label_encoder.classes_]\n",
    "    cm = confusion_matrix(y_true, y_pred)\n",
    "    table = pd.DataFrame(cm, columns=columns, index=index)\n",
    "    return table\n",
    "\n",
    "def confusion_matrix_plot(y_true, y_pred):\n",
    "    table = confusion_matrix_table(y_true, y_pred)\n",
    "    plot = seaborn.heatmap(table, annot=True, fmt=\"d\", cmap=\"viridis\")\n",
    "    plt.yticks(rotation=0)  \n",
    "    plt.ylabel(\n",
    "        'GROUND TRUTH', \n",
    "        fontsize = 12, \n",
    "        fontweight = 600\n",
    "    )\n",
    "    plt.xlabel(\n",
    "        'PREDICTED LABEL', \n",
    "        fontsize = 12, \n",
    "        fontweight = 600\n",
    "    )\n",
    "    return plot\n",
    "\n",
    "confusion_matrix_plot(y_true, y_pred)"
   ]
  }
 ],
 "metadata": {
  "kernelspec": {
   "display_name": "Python 3 (ipykernel)",
   "language": "python",
   "name": "python3"
  },
  "language_info": {
   "codemirror_mode": {
    "name": "ipython",
    "version": 3
   },
   "file_extension": ".py",
   "mimetype": "text/x-python",
   "name": "python",
   "nbconvert_exporter": "python",
   "pygments_lexer": "ipython3",
   "version": "3.7.9"
  }
 },
 "nbformat": 4,
 "nbformat_minor": 5
}
