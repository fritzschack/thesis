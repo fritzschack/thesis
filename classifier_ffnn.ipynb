{
 "cells": [
  {
   "cell_type": "markdown",
   "id": "0a73f2e4-dcf3-4212-ae1e-5534fd238a9f",
   "metadata": {},
   "source": [
    "## Imports & Variables"
   ]
  },
  {
   "cell_type": "code",
   "execution_count": 1,
   "id": "7246787a-8e21-4978-852b-ec60e6bb2df6",
   "metadata": {},
   "outputs": [
    {
     "data": {
      "text/plain": [
       "<Figure size 2160x720 with 0 Axes>"
      ]
     },
     "metadata": {},
     "output_type": "display_data"
    }
   ],
   "source": [
    "import json\n",
    "import librosa\n",
    "import matplotlib.pyplot as plt\n",
    "import numpy as np\n",
    "import pandas as pd\n",
    "import requests\n",
    "import seaborn\n",
    "import tensorflow\n",
    "\n",
    "from collections import Counter\n",
    "from datetime import datetime\n",
    "from imblearn.under_sampling import RandomUnderSampler\n",
    "from sklearn import metrics\n",
    "from sklearn.model_selection import train_test_split\n",
    "from sklearn.preprocessing import LabelEncoder\n",
    "from sklearn.utils.multiclass import unique_labels\n",
    "from sklearn.metrics import confusion_matrix\n",
    "from tensorflow.keras.callbacks import ModelCheckpoint\n",
    "from tensorflow.keras.layers import Dense,Dropout,Activation,Flatten\n",
    "from tensorflow.keras.models import Sequential\n",
    "from tensorflow.keras.optimizers import Adam\n",
    "from tensorflow.keras.utils import to_categorical, plot_model\n",
    "from tqdm import tqdm\n",
    "\n",
    "plt.figure(figsize=(30,10))\n",
    "\n",
    "seaborn.set(style=\"ticks\")"
   ]
  },
  {
   "cell_type": "markdown",
   "id": "73570ca5-96c9-4ca8-bbd4-27b19a6a2d2c",
   "metadata": {},
   "source": [
    "## Data Collection & Feature Extraction"
   ]
  },
  {
   "cell_type": "code",
   "execution_count": 2,
   "id": "dc961f77-9cf5-4239-8303-e4821922cf13",
   "metadata": {},
   "outputs": [
    {
     "data": {
      "text/html": [
       "<div>\n",
       "<style scoped>\n",
       "    .dataframe tbody tr th:only-of-type {\n",
       "        vertical-align: middle;\n",
       "    }\n",
       "\n",
       "    .dataframe tbody tr th {\n",
       "        vertical-align: top;\n",
       "    }\n",
       "\n",
       "    .dataframe thead th {\n",
       "        text-align: right;\n",
       "    }\n",
       "</style>\n",
       "<table border=\"1\" class=\"dataframe\">\n",
       "  <thead>\n",
       "    <tr style=\"text-align: right;\">\n",
       "      <th></th>\n",
       "      <th>path</th>\n",
       "      <th>label</th>\n",
       "      <th>environment</th>\n",
       "    </tr>\n",
       "  </thead>\n",
       "  <tbody>\n",
       "    <tr>\n",
       "      <th>0</th>\n",
       "      <td>../recordings/combined/a196dbae-1f50-4d0e-b345...</td>\n",
       "      <td>washing_hands</td>\n",
       "      <td>marsberg</td>\n",
       "    </tr>\n",
       "    <tr>\n",
       "      <th>1</th>\n",
       "      <td>../recordings/combined/826e36b1-2a7e-4d22-9c81...</td>\n",
       "      <td>washing_hands</td>\n",
       "      <td>marsberg</td>\n",
       "    </tr>\n",
       "    <tr>\n",
       "      <th>2</th>\n",
       "      <td>../recordings/combined/9a6b6b01-e466-47fb-9fcc...</td>\n",
       "      <td>washing_hands</td>\n",
       "      <td>marsberg</td>\n",
       "    </tr>\n",
       "    <tr>\n",
       "      <th>3</th>\n",
       "      <td>../recordings/combined/84ee02e6-44d5-4ab3-b875...</td>\n",
       "      <td>washing_hands</td>\n",
       "      <td>marsberg</td>\n",
       "    </tr>\n",
       "    <tr>\n",
       "      <th>4</th>\n",
       "      <td>../recordings/combined/ec24c55a-39ec-4b36-86fe...</td>\n",
       "      <td>washing_hands</td>\n",
       "      <td>marsberg</td>\n",
       "    </tr>\n",
       "  </tbody>\n",
       "</table>\n",
       "</div>"
      ],
      "text/plain": [
       "                                                path          label  \\\n",
       "0  ../recordings/combined/a196dbae-1f50-4d0e-b345...  washing_hands   \n",
       "1  ../recordings/combined/826e36b1-2a7e-4d22-9c81...  washing_hands   \n",
       "2  ../recordings/combined/9a6b6b01-e466-47fb-9fcc...  washing_hands   \n",
       "3  ../recordings/combined/84ee02e6-44d5-4ab3-b875...  washing_hands   \n",
       "4  ../recordings/combined/ec24c55a-39ec-4b36-86fe...  washing_hands   \n",
       "\n",
       "  environment  \n",
       "0    marsberg  \n",
       "1    marsberg  \n",
       "2    marsberg  \n",
       "3    marsberg  \n",
       "4    marsberg  "
      ]
     },
     "execution_count": 2,
     "metadata": {},
     "output_type": "execute_result"
    }
   ],
   "source": [
    "data = requests.get(\"https://dolphin-app-9sdeq.ondigitalocean.app/api/v1/recordings\").json()\n",
    "\n",
    "recordings = []\n",
    "\n",
    "for recording in data:\n",
    "    recordings.append({\n",
    "        \"path\": f'../recordings/combined/{recording[\"name\"]}',\n",
    "        \"label\": recording[\"label\"],\n",
    "        \"environment\": recording[\"environment\"]\n",
    "    })\n",
    "\n",
    "dataframe = pd.json_normalize(recordings)\n",
    "\n",
    "dataframe.head()"
   ]
  },
  {
   "cell_type": "code",
   "execution_count": 3,
   "id": "5a46a54c-18ac-4ba9-b82b-474aec7e884c",
   "metadata": {},
   "outputs": [
    {
     "name": "stderr",
     "output_type": "stream",
     "text": [
      "119it [02:46,  1.40s/it]\n"
     ]
    }
   ],
   "source": [
    "def preprocess(dataframe):\n",
    "    features = []\n",
    "    for index, row in tqdm(dataframe.iterrows()):\n",
    "        audio, sample_rate = librosa.load(row[\"path\"])\n",
    "        mfcc = librosa.feature.mfcc(y=audio, n_mfcc=24, sr=sample_rate)\n",
    "        features.append(np.mean(mfcc.T, axis=0))\n",
    "        \n",
    "    dataframe[\"features\"] = features\n",
    "    \n",
    "    return dataframe\n",
    "\n",
    "dataframe = preprocess(dataframe)"
   ]
  },
  {
   "cell_type": "code",
   "execution_count": 4,
   "id": "09eecd86-3088-4b6b-8d12-efeb20b7b695",
   "metadata": {},
   "outputs": [],
   "source": [
    "dataframe_marsberg = dataframe[dataframe[\"environment\"] == \"marsberg\"]\n",
    "dataframe_duesseldorf = dataframe[dataframe[\"environment\"] == \"duesseldorf\"]"
   ]
  },
  {
   "cell_type": "markdown",
   "id": "474f9e6f-f369-4120-b07c-fe58c6422707",
   "metadata": {},
   "source": [
    "## Feed-Forward Neural Network trained on data from _marsberg_"
   ]
  },
  {
   "cell_type": "code",
   "execution_count": 13,
   "id": "bf323cdd-6aef-422c-a944-f1ba9dbd3b05",
   "metadata": {},
   "outputs": [
    {
     "name": "stdout",
     "output_type": "stream",
     "text": [
      "(51, 24) (11, 24) (9, 24)\n"
     ]
    }
   ],
   "source": [
    "x = np.array(dataframe_marsberg[\"features\"].tolist())\n",
    "y = np.array(dataframe_marsberg[\"label\"].tolist())\n",
    "\n",
    "label_encoder = LabelEncoder()\n",
    "y = to_categorical(label_encoder.fit_transform(y))\n",
    "\n",
    "x_train, x_test, y_train, y_test = train_test_split(x, y, test_size=0.15, random_state=1)\n",
    "x_train, x_val, y_train, y_val = train_test_split(x_train, y_train, test_size=0.15, random_state=1)\n",
    "\n",
    "print(x_train.shape, x_test.shape, x_val.shape)"
   ]
  },
  {
   "cell_type": "code",
   "execution_count": 14,
   "id": "634881bc-eaa9-4b78-a944-6b918d08c699",
   "metadata": {},
   "outputs": [
    {
     "name": "stdout",
     "output_type": "stream",
     "text": [
      "Model: \"sequential_1\"\n",
      "_________________________________________________________________\n",
      " Layer (type)                Output Shape              Param #   \n",
      "=================================================================\n",
      " dense_4 (Dense)             (None, 400)               10000     \n",
      "                                                                 \n",
      " activation_4 (Activation)   (None, 400)               0         \n",
      "                                                                 \n",
      " dropout_3 (Dropout)         (None, 400)               0         \n",
      "                                                                 \n",
      " dense_5 (Dense)             (None, 800)               320800    \n",
      "                                                                 \n",
      " activation_5 (Activation)   (None, 800)               0         \n",
      "                                                                 \n",
      " dropout_4 (Dropout)         (None, 800)               0         \n",
      "                                                                 \n",
      " dense_6 (Dense)             (None, 400)               320400    \n",
      "                                                                 \n",
      " activation_6 (Activation)   (None, 400)               0         \n",
      "                                                                 \n",
      " dropout_5 (Dropout)         (None, 400)               0         \n",
      "                                                                 \n",
      " dense_7 (Dense)             (None, 5)                 2005      \n",
      "                                                                 \n",
      " activation_7 (Activation)   (None, 5)                 0         \n",
      "                                                                 \n",
      "=================================================================\n",
      "Total params: 653,205\n",
      "Trainable params: 653,205\n",
      "Non-trainable params: 0\n",
      "_________________________________________________________________\n"
     ]
    }
   ],
   "source": [
    "model = Sequential()\n",
    "model.add(Dense(400,input_shape=(24,)))\n",
    "model.add(Activation(\"relu\"))\n",
    "model.add(Dropout(0.5))\n",
    "model.add(Dense(800))\n",
    "model.add(Activation(\"relu\"))\n",
    "model.add(Dropout(0.5))\n",
    "model.add(Dense(400))\n",
    "model.add(Activation('relu'))\n",
    "model.add(Dropout(0.5))\n",
    "model.add(Dense(5))\n",
    "model.add(Activation('softmax'))\n",
    "model.summary()"
   ]
  },
  {
   "cell_type": "code",
   "execution_count": 15,
   "id": "5f6a1f27-b628-4c92-96de-89c67d951653",
   "metadata": {},
   "outputs": [
    {
     "data": {
      "image/png": "[encoded data removed]",
      "text/plain": [
       "<IPython.core.display.Image object>"
      ]
     },
     "execution_count": 15,
     "metadata": {},
     "output_type": "execute_result"
    }
   ],
   "source": [
    "plot_model(model, to_file=\"files/rnn_visual.png\", rankdir=\"LR\", show_shapes=True)"
   ]
  },
  {
   "cell_type": "code",
   "execution_count": 16,
   "id": "8c0c1e21-ac90-469a-a5e6-e48b7f1bd40d",
   "metadata": {},
   "outputs": [],
   "source": [
    "model.compile(\n",
    "    optimizer='rmsprop',\n",
    "    loss='categorical_crossentropy',\n",
    "    metrics=['acc'],\n",
    "    steps_per_execution=100\n",
    ")"
   ]
  },
  {
   "cell_type": "code",
   "execution_count": 17,
   "id": "7bfd0282-4ba6-442f-ac17-e535ea5fc4a3",
   "metadata": {},
   "outputs": [
    {
     "name": "stdout",
     "output_type": "stream",
     "text": [
      "Epoch 1/100\n",
      "1/1 [==============================] - 1s 1s/step - loss: 66.7696 - acc: 0.1765 - val_loss: 116.1004 - val_acc: 0.1111\n",
      "Epoch 2/100\n",
      "1/1 [==============================] - 0s 36ms/step - loss: 118.7470 - acc: 0.2157 - val_loss: 113.9632 - val_acc: 0.2222\n",
      "Epoch 3/100\n",
      "1/1 [==============================] - 0s 39ms/step - loss: 114.3248 - acc: 0.3529 - val_loss: 48.6765 - val_acc: 0.2222\n",
      "Epoch 4/100\n",
      "1/1 [==============================] - 0s 42ms/step - loss: 91.3825 - acc: 0.1373 - val_loss: 16.3273 - val_acc: 0.1111\n",
      "Epoch 5/100\n",
      "1/1 [==============================] - 0s 34ms/step - loss: 38.9421 - acc: 0.1569 - val_loss: 18.6411 - val_acc: 0.3333\n",
      "Epoch 6/100\n",
      "1/1 [==============================] - 0s 39ms/step - loss: 53.2665 - acc: 0.1373 - val_loss: 22.8822 - val_acc: 0.2222\n",
      "Epoch 7/100\n",
      "1/1 [==============================] - 0s 57ms/step - loss: 40.0545 - acc: 0.2549 - val_loss: 20.5806 - val_acc: 0.2222\n",
      "Epoch 8/100\n",
      "1/1 [==============================] - 0s 33ms/step - loss: 32.7746 - acc: 0.2941 - val_loss: 17.9386 - val_acc: 0.2222\n",
      "Epoch 9/100\n",
      "1/1 [==============================] - 0s 37ms/step - loss: 29.8124 - acc: 0.2549 - val_loss: 4.9277 - val_acc: 0.1111\n",
      "Epoch 10/100\n",
      "1/1 [==============================] - 0s 65ms/step - loss: 23.6291 - acc: 0.1961 - val_loss: 14.5498 - val_acc: 0.2222\n",
      "Epoch 11/100\n",
      "1/1 [==============================] - 0s 39ms/step - loss: 21.8047 - acc: 0.3922 - val_loss: 4.2990 - val_acc: 0.2222\n",
      "Epoch 12/100\n",
      "1/1 [==============================] - 0s 43ms/step - loss: 19.7794 - acc: 0.2941 - val_loss: 6.2156 - val_acc: 0.2222\n",
      "Epoch 13/100\n",
      "1/1 [==============================] - 0s 39ms/step - loss: 21.0773 - acc: 0.1961 - val_loss: 6.3448 - val_acc: 0.2222\n",
      "Epoch 14/100\n",
      "1/1 [==============================] - 0s 43ms/step - loss: 23.9351 - acc: 0.2353 - val_loss: 11.0149 - val_acc: 0.2222\n",
      "Epoch 15/100\n",
      "1/1 [==============================] - 0s 45ms/step - loss: 22.3798 - acc: 0.2549 - val_loss: 5.6820 - val_acc: 0.2222\n",
      "Epoch 16/100\n",
      "1/1 [==============================] - 0s 40ms/step - loss: 20.8317 - acc: 0.2353 - val_loss: 6.3534 - val_acc: 0.2222\n",
      "Epoch 17/100\n",
      "1/1 [==============================] - 0s 39ms/step - loss: 19.1849 - acc: 0.2353 - val_loss: 5.2331 - val_acc: 0.2222\n",
      "Epoch 18/100\n",
      "1/1 [==============================] - 0s 35ms/step - loss: 23.4594 - acc: 0.2157 - val_loss: 6.3615 - val_acc: 0.2222\n",
      "Epoch 19/100\n",
      "1/1 [==============================] - 0s 37ms/step - loss: 19.9203 - acc: 0.3137 - val_loss: 4.5403 - val_acc: 0.2222\n",
      "Epoch 20/100\n",
      "1/1 [==============================] - 0s 39ms/step - loss: 18.6673 - acc: 0.2157 - val_loss: 7.8832 - val_acc: 0.2222\n",
      "Epoch 21/100\n",
      "1/1 [==============================] - 0s 39ms/step - loss: 18.5860 - acc: 0.1961 - val_loss: 2.2008 - val_acc: 0.5556\n",
      "Epoch 22/100\n",
      "1/1 [==============================] - 0s 36ms/step - loss: 15.4035 - acc: 0.2549 - val_loss: 2.2096 - val_acc: 0.2222\n",
      "Epoch 23/100\n",
      "1/1 [==============================] - 0s 40ms/step - loss: 14.2210 - acc: 0.3333 - val_loss: 4.3101 - val_acc: 0.2222\n",
      "Epoch 24/100\n",
      "1/1 [==============================] - 0s 39ms/step - loss: 16.8336 - acc: 0.3137 - val_loss: 2.0609 - val_acc: 0.2222\n",
      "Epoch 25/100\n",
      "1/1 [==============================] - 0s 37ms/step - loss: 14.5871 - acc: 0.2745 - val_loss: 1.8319 - val_acc: 0.3333\n",
      "Epoch 26/100\n",
      "1/1 [==============================] - 0s 38ms/step - loss: 11.2953 - acc: 0.2157 - val_loss: 1.8370 - val_acc: 0.2222\n",
      "Epoch 27/100\n",
      "1/1 [==============================] - 0s 34ms/step - loss: 8.7125 - acc: 0.4118 - val_loss: 3.2710 - val_acc: 0.2222\n",
      "Epoch 28/100\n",
      "1/1 [==============================] - 0s 35ms/step - loss: 14.4679 - acc: 0.2549 - val_loss: 3.1706 - val_acc: 0.3333\n",
      "Epoch 29/100\n",
      "1/1 [==============================] - 0s 39ms/step - loss: 11.6700 - acc: 0.3333 - val_loss: 2.9853 - val_acc: 0.3333\n",
      "Epoch 30/100\n",
      "1/1 [==============================] - 0s 36ms/step - loss: 12.3797 - acc: 0.3333 - val_loss: 2.5683 - val_acc: 0.4444\n",
      "Epoch 31/100\n",
      "1/1 [==============================] - 0s 36ms/step - loss: 15.1100 - acc: 0.2157 - val_loss: 2.5773 - val_acc: 0.1111\n",
      "Epoch 32/100\n",
      "1/1 [==============================] - 0s 39ms/step - loss: 10.5992 - acc: 0.1373 - val_loss: 2.7203 - val_acc: 0.3333\n",
      "Epoch 33/100\n",
      "1/1 [==============================] - 0s 37ms/step - loss: 13.4174 - acc: 0.1569 - val_loss: 3.0321 - val_acc: 0.3333\n",
      "Epoch 34/100\n",
      "1/1 [==============================] - 0s 37ms/step - loss: 8.9478 - acc: 0.3137 - val_loss: 1.6395 - val_acc: 0.3333\n",
      "Epoch 35/100\n",
      "1/1 [==============================] - 0s 33ms/step - loss: 13.1467 - acc: 0.2353 - val_loss: 1.7482 - val_acc: 0.3333\n",
      "Epoch 36/100\n",
      "1/1 [==============================] - 0s 40ms/step - loss: 8.3922 - acc: 0.3137 - val_loss: 1.5333 - val_acc: 0.2222\n",
      "Epoch 37/100\n",
      "1/1 [==============================] - 0s 39ms/step - loss: 8.9692 - acc: 0.3137 - val_loss: 2.2815 - val_acc: 0.2222\n",
      "Epoch 38/100\n",
      "1/1 [==============================] - 0s 44ms/step - loss: 8.6566 - acc: 0.2941 - val_loss: 3.0992 - val_acc: 0.2222\n",
      "Epoch 39/100\n",
      "1/1 [==============================] - 0s 36ms/step - loss: 9.0153 - acc: 0.2745 - val_loss: 2.8245 - val_acc: 0.1111\n",
      "Epoch 40/100\n",
      "1/1 [==============================] - 0s 36ms/step - loss: 9.7761 - acc: 0.2745 - val_loss: 2.0045 - val_acc: 0.2222\n",
      "Epoch 41/100\n",
      "1/1 [==============================] - 0s 38ms/step - loss: 8.7613 - acc: 0.2549 - val_loss: 2.3046 - val_acc: 0.1111\n",
      "Epoch 42/100\n",
      "1/1 [==============================] - 0s 34ms/step - loss: 8.7374 - acc: 0.2941 - val_loss: 1.7827 - val_acc: 0.4444\n",
      "Epoch 43/100\n",
      "1/1 [==============================] - 0s 34ms/step - loss: 8.0271 - acc: 0.1961 - val_loss: 2.0700 - val_acc: 0.3333\n",
      "Epoch 44/100\n",
      "1/1 [==============================] - 0s 36ms/step - loss: 7.1819 - acc: 0.2353 - val_loss: 2.0514 - val_acc: 0.2222\n",
      "Epoch 45/100\n",
      "1/1 [==============================] - 0s 36ms/step - loss: 7.5016 - acc: 0.2549 - val_loss: 2.1247 - val_acc: 0.2222\n",
      "Epoch 46/100\n",
      "1/1 [==============================] - 0s 36ms/step - loss: 7.1450 - acc: 0.2745 - val_loss: 1.8242 - val_acc: 0.2222\n",
      "Epoch 47/100\n",
      "1/1 [==============================] - 0s 33ms/step - loss: 7.6162 - acc: 0.2549 - val_loss: 1.5813 - val_acc: 0.1111\n",
      "Epoch 48/100\n",
      "1/1 [==============================] - 0s 33ms/step - loss: 6.8930 - acc: 0.2745 - val_loss: 1.6889 - val_acc: 0.2222\n",
      "Epoch 49/100\n",
      "1/1 [==============================] - 0s 34ms/step - loss: 6.5613 - acc: 0.2941 - val_loss: 1.7101 - val_acc: 0.3333\n",
      "Epoch 50/100\n",
      "1/1 [==============================] - 0s 56ms/step - loss: 6.9119 - acc: 0.2549 - val_loss: 1.6806 - val_acc: 0.4444\n",
      "Epoch 51/100\n",
      "1/1 [==============================] - 0s 35ms/step - loss: 5.7853 - acc: 0.3529 - val_loss: 1.6763 - val_acc: 0.3333\n",
      "Epoch 52/100\n",
      "1/1 [==============================] - 0s 35ms/step - loss: 5.7425 - acc: 0.3725 - val_loss: 1.7601 - val_acc: 0.1111\n",
      "Epoch 53/100\n",
      "1/1 [==============================] - 0s 34ms/step - loss: 7.1834 - acc: 0.2941 - val_loss: 1.6157 - val_acc: 0.2222\n",
      "Epoch 54/100\n",
      "1/1 [==============================] - 0s 37ms/step - loss: 7.7521 - acc: 0.1765 - val_loss: 1.6080 - val_acc: 0.3333\n",
      "Epoch 55/100\n",
      "1/1 [==============================] - 0s 36ms/step - loss: 6.6997 - acc: 0.1961 - val_loss: 1.6411 - val_acc: 0.1111\n",
      "Epoch 56/100\n",
      "1/1 [==============================] - 0s 38ms/step - loss: 6.4234 - acc: 0.3137 - val_loss: 1.5613 - val_acc: 0.3333\n",
      "Epoch 57/100\n",
      "1/1 [==============================] - 0s 37ms/step - loss: 7.2368 - acc: 0.2157 - val_loss: 1.6616 - val_acc: 0.5556\n",
      "Epoch 58/100\n",
      "1/1 [==============================] - 0s 36ms/step - loss: 5.8199 - acc: 0.2745 - val_loss: 1.7106 - val_acc: 0.0000e+00\n",
      "Epoch 59/100\n",
      "1/1 [==============================] - 0s 36ms/step - loss: 4.4118 - acc: 0.3137 - val_loss: 1.6775 - val_acc: 0.2222\n",
      "Epoch 60/100\n",
      "1/1 [==============================] - 0s 38ms/step - loss: 5.2060 - acc: 0.2745 - val_loss: 1.4566 - val_acc: 0.3333\n",
      "Epoch 61/100\n",
      "1/1 [==============================] - 0s 37ms/step - loss: 4.1466 - acc: 0.3725 - val_loss: 1.5007 - val_acc: 0.3333\n",
      "Epoch 62/100\n",
      "1/1 [==============================] - 0s 37ms/step - loss: 4.4175 - acc: 0.2941 - val_loss: 1.6026 - val_acc: 0.1111\n",
      "Epoch 63/100\n",
      "1/1 [==============================] - 0s 57ms/step - loss: 4.5319 - acc: 0.2549 - val_loss: 1.6017 - val_acc: 0.1111\n",
      "Epoch 64/100\n",
      "1/1 [==============================] - 0s 33ms/step - loss: 5.1220 - acc: 0.2157 - val_loss: 1.5905 - val_acc: 0.1111\n",
      "Epoch 65/100\n",
      "1/1 [==============================] - 0s 36ms/step - loss: 5.1244 - acc: 0.2549 - val_loss: 1.5624 - val_acc: 0.1111\n",
      "Epoch 66/100\n",
      "1/1 [==============================] - 0s 48ms/step - loss: 4.2017 - acc: 0.2353 - val_loss: 1.6019 - val_acc: 0.1111\n",
      "Epoch 67/100\n",
      "1/1 [==============================] - 0s 46ms/step - loss: 3.8520 - acc: 0.1961 - val_loss: 1.6114 - val_acc: 0.1111\n",
      "Epoch 68/100\n",
      "1/1 [==============================] - 0s 41ms/step - loss: 4.6299 - acc: 0.1569 - val_loss: 1.6402 - val_acc: 0.2222\n",
      "Epoch 69/100\n",
      "1/1 [==============================] - 0s 39ms/step - loss: 4.2656 - acc: 0.2745 - val_loss: 1.6580 - val_acc: 0.1111\n",
      "Epoch 70/100\n",
      "1/1 [==============================] - 0s 35ms/step - loss: 3.9345 - acc: 0.2353 - val_loss: 1.5992 - val_acc: 0.1111\n",
      "Epoch 71/100\n",
      "1/1 [==============================] - 0s 37ms/step - loss: 4.2222 - acc: 0.1961 - val_loss: 1.6075 - val_acc: 0.3333\n",
      "Epoch 72/100\n",
      "1/1 [==============================] - 0s 39ms/step - loss: 4.0367 - acc: 0.2353 - val_loss: 1.5914 - val_acc: 0.3333\n",
      "Epoch 73/100\n",
      "1/1 [==============================] - 0s 38ms/step - loss: 4.3780 - acc: 0.2353 - val_loss: 1.6007 - val_acc: 0.3333\n",
      "Epoch 74/100\n",
      "1/1 [==============================] - 0s 51ms/step - loss: 3.1199 - acc: 0.3137 - val_loss: 1.5886 - val_acc: 0.3333\n",
      "Epoch 75/100\n",
      "1/1 [==============================] - 0s 40ms/step - loss: 4.0497 - acc: 0.2745 - val_loss: 1.5944 - val_acc: 0.2222\n",
      "Epoch 76/100\n",
      "1/1 [==============================] - 0s 40ms/step - loss: 3.3787 - acc: 0.3137 - val_loss: 1.6087 - val_acc: 0.4444\n",
      "Epoch 77/100\n",
      "1/1 [==============================] - 0s 37ms/step - loss: 3.6873 - acc: 0.2549 - val_loss: 1.6210 - val_acc: 0.3333\n",
      "Epoch 78/100\n",
      "1/1 [==============================] - 0s 38ms/step - loss: 2.9046 - acc: 0.3333 - val_loss: 1.6639 - val_acc: 0.2222\n",
      "Epoch 79/100\n",
      "1/1 [==============================] - 0s 45ms/step - loss: 3.1037 - acc: 0.2745 - val_loss: 1.6299 - val_acc: 0.3333\n",
      "Epoch 80/100\n",
      "1/1 [==============================] - 0s 41ms/step - loss: 2.6044 - acc: 0.2549 - val_loss: 1.6284 - val_acc: 0.3333\n",
      "Epoch 81/100\n",
      "1/1 [==============================] - 0s 44ms/step - loss: 3.8687 - acc: 0.2353 - val_loss: 1.6511 - val_acc: 0.2222\n",
      "Epoch 82/100\n",
      "1/1 [==============================] - 0s 42ms/step - loss: 3.7224 - acc: 0.1961 - val_loss: 1.6578 - val_acc: 0.2222\n",
      "Epoch 83/100\n",
      "1/1 [==============================] - 0s 43ms/step - loss: 4.1200 - acc: 0.1961 - val_loss: 1.6542 - val_acc: 0.2222\n",
      "Epoch 84/100\n",
      "1/1 [==============================] - 0s 45ms/step - loss: 2.4885 - acc: 0.3529 - val_loss: 1.6630 - val_acc: 0.2222\n",
      "Epoch 85/100\n",
      "1/1 [==============================] - 0s 42ms/step - loss: 3.3078 - acc: 0.2549 - val_loss: 1.6857 - val_acc: 0.2222\n",
      "Epoch 86/100\n",
      "1/1 [==============================] - 0s 64ms/step - loss: 2.5328 - acc: 0.3725 - val_loss: 1.6517 - val_acc: 0.2222\n",
      "Epoch 87/100\n",
      "1/1 [==============================] - 0s 44ms/step - loss: 3.5407 - acc: 0.1765 - val_loss: 1.6299 - val_acc: 0.2222\n",
      "Epoch 88/100\n",
      "1/1 [==============================] - 0s 50ms/step - loss: 2.5355 - acc: 0.3333 - val_loss: 1.6148 - val_acc: 0.2222\n",
      "Epoch 89/100\n",
      "1/1 [==============================] - 0s 50ms/step - loss: 2.5742 - acc: 0.2941 - val_loss: 1.6083 - val_acc: 0.2222\n",
      "Epoch 90/100\n",
      "1/1 [==============================] - 0s 43ms/step - loss: 2.5936 - acc: 0.3333 - val_loss: 1.6062 - val_acc: 0.0000e+00\n",
      "Epoch 91/100\n",
      "1/1 [==============================] - 0s 48ms/step - loss: 2.8334 - acc: 0.2941 - val_loss: 1.6014 - val_acc: 0.0000e+00\n",
      "Epoch 92/100\n",
      "1/1 [==============================] - 0s 41ms/step - loss: 3.1026 - acc: 0.1569 - val_loss: 1.6002 - val_acc: 0.0000e+00\n",
      "Epoch 93/100\n",
      "1/1 [==============================] - 0s 51ms/step - loss: 2.3262 - acc: 0.2941 - val_loss: 1.6007 - val_acc: 0.3333\n",
      "Epoch 94/100\n",
      "1/1 [==============================] - 0s 45ms/step - loss: 3.2448 - acc: 0.2549 - val_loss: 1.6074 - val_acc: 0.2222\n",
      "Epoch 95/100\n",
      "1/1 [==============================] - 0s 46ms/step - loss: 2.5574 - acc: 0.2353 - val_loss: 1.5860 - val_acc: 0.4444\n",
      "Epoch 96/100\n",
      "1/1 [==============================] - 0s 44ms/step - loss: 2.4645 - acc: 0.3137 - val_loss: 1.6072 - val_acc: 0.2222\n",
      "Epoch 97/100\n",
      "1/1 [==============================] - 0s 42ms/step - loss: 2.3864 - acc: 0.3529 - val_loss: 1.5961 - val_acc: 0.3333\n",
      "Epoch 98/100\n",
      "1/1 [==============================] - 0s 47ms/step - loss: 2.0584 - acc: 0.2549 - val_loss: 1.5967 - val_acc: 0.2222\n",
      "Epoch 99/100\n",
      "1/1 [==============================] - 0s 49ms/step - loss: 2.2645 - acc: 0.3333 - val_loss: 1.6032 - val_acc: 0.1111\n",
      "Epoch 100/100\n",
      "1/1 [==============================] - 0s 39ms/step - loss: 2.6666 - acc: 0.1961 - val_loss: 1.6048 - val_acc: 0.1111\n"
     ]
    }
   ],
   "source": [
    "history = model.fit(\n",
    "    x_train,\n",
    "    y_train,\n",
    "    epochs=100,\n",
    "    batch_size=51,\n",
    "    validation_data=(x_val, y_val),\n",
    "    shuffle=True\n",
    ")"
   ]
  },
  {
   "cell_type": "code",
   "execution_count": 18,
   "id": "f4254c86-2701-42b5-98f7-111c96a67e3f",
   "metadata": {},
   "outputs": [
    {
     "name": "stdout",
     "output_type": "stream",
     "text": [
      "0.3636363744735718\n"
     ]
    }
   ],
   "source": [
    "test_accuracy=model.evaluate(x_test, y_test, verbose=0)\n",
    "print(test_accuracy[1])"
   ]
  },
  {
   "cell_type": "code",
   "execution_count": 19,
   "id": "f0bdbc09-f1d6-4273-a295-86845daccade",
   "metadata": {},
   "outputs": [
    {
     "name": "stdout",
     "output_type": "stream",
     "text": [
      "1/1 [==============================] - 0s 146ms/step\n",
      "[4 1 0 0 1 4 2 4 2 1 3] [4 4 0 4 4 4 4 4 4 4 4]\n"
     ]
    },
    {
     "data": {
      "text/plain": [
       "<AxesSubplot:xlabel='PREDICTED LABEL', ylabel='GROUND TRUTH'>"
      ]
     },
     "execution_count": 19,
     "metadata": {},
     "output_type": "execute_result"
    },
    {
     "data": {
      "image/png": "[encoded data removed]",
      "text/plain": [
       "<Figure size 432x288 with 2 Axes>"
      ]
     },
     "metadata": {},
     "output_type": "display_data"
    }
   ],
   "source": [
    "y_true, y_pred = np.argmax(y_test, axis=1), np.argmax(model.predict(x_test), axis=1)\n",
    "\n",
    "def confusion_matrix_table(y_true, y_pred):\n",
    "    columns = [f'Predicted {label}' for label in label_encoder.classes_]\n",
    "    index = [f'Actual {label}' for label in label_encoder.classes_]\n",
    "    print(y_true, y_pred)\n",
    "    cm = confusion_matrix(y_true, y_pred)\n",
    "    table = pd.DataFrame(cm, columns=columns, index=index)\n",
    "    return table\n",
    "\n",
    "def confusion_matrix_plot(y_true, y_pred):\n",
    "    table = confusion_matrix_table(y_true, y_pred)\n",
    "    plot = seaborn.heatmap(table, annot=True, fmt=\"d\", cmap=\"viridis\")\n",
    "    plt.yticks(rotation=0)  \n",
    "    plt.ylabel(\n",
    "        'GROUND TRUTH', \n",
    "        fontsize = 12, \n",
    "        fontweight = 600\n",
    "    )\n",
    "    plt.xlabel(\n",
    "        'PREDICTED LABEL', \n",
    "        fontsize = 12, \n",
    "        fontweight = 600\n",
    "    )\n",
    "    return plot\n",
    "\n",
    "confusion_matrix_plot(y_true, y_pred)"
   ]
  },
  {
   "cell_type": "code",
   "execution_count": 20,
   "id": "a83f52b3-bdc5-41dc-8ad9-c38930168bf5",
   "metadata": {},
   "outputs": [
    {
     "name": "stdout",
     "output_type": "stream",
     "text": [
      "0.03125\n"
     ]
    }
   ],
   "source": [
    "# Calculate accuracy on data from duesseldorf\n",
    "x_duesseldorf = np.array(dataframe_duesseldorf[\"features\"].tolist())\n",
    "y_duesseldorf = np.array(dataframe_duesseldorf[\"label\"].tolist())\n",
    "\n",
    "y_duesseldorf = to_categorical(label_encoder.fit_transform(y_duesseldorf))\n",
    "\n",
    "test_accuracy=model.evaluate(x_duesseldorf, y_duesseldorf, verbose=0)\n",
    "print(test_accuracy[1])"
   ]
  },
  {
   "cell_type": "code",
   "execution_count": 21,
   "id": "fd75e6ba-b2cb-4ad4-9b75-18ffc123d9ef",
   "metadata": {},
   "outputs": [
    {
     "name": "stdout",
     "output_type": "stream",
     "text": [
      "2/2 [==============================] - 0s 10ms/step\n"
     ]
    },
    {
     "data": {
      "text/plain": [
       "<AxesSubplot:xlabel='PREDICTED LABEL', ylabel='GROUND TRUTH'>"
      ]
     },
     "execution_count": 21,
     "metadata": {},
     "output_type": "execute_result"
    },
    {
     "data": {
      "image/png": "[encoded data removed]",
      "text/plain": [
       "<Figure size 432x288 with 2 Axes>"
      ]
     },
     "metadata": {},
     "output_type": "display_data"
    }
   ],
   "source": [
    "# Generate confusion matrix on data from duesseldorf\n",
    "y_true, y_pred = np.argmax(y_duesseldorf, axis=1), np.argmax(model.predict(x_duesseldorf), axis=1)\n",
    "\n",
    "def confusion_matrix_table(y_true, y_pred):\n",
    "    columns = [f'Predicted {label}' for label in label_encoder.classes_]\n",
    "    index = [f'Actual {label}' for label in label_encoder.classes_]\n",
    "    cm = confusion_matrix(y_true, y_pred)\n",
    "    table = pd.DataFrame(cm, columns=columns, index=index)\n",
    "    return table\n",
    "\n",
    "def confusion_matrix_plot(y_true, y_pred):\n",
    "    table = confusion_matrix_table(y_true, y_pred)\n",
    "    plot = seaborn.heatmap(table, annot=True, fmt=\"d\", cmap=\"viridis\")\n",
    "    plt.yticks(rotation=0)  \n",
    "    plt.ylabel(\n",
    "        'GROUND TRUTH', \n",
    "        fontsize = 12, \n",
    "        fontweight = 600\n",
    "    )\n",
    "    plt.xlabel(\n",
    "        'PREDICTED LABEL', \n",
    "        fontsize = 12, \n",
    "        fontweight = 600\n",
    "    )\n",
    "    return plot\n",
    "\n",
    "confusion_matrix_plot(y_true, y_pred)"
   ]
  },
  {
   "cell_type": "markdown",
   "id": "0db529b4-5980-4b1f-a007-6d1b68e7dcea",
   "metadata": {
    "tags": []
   },
   "source": [
    "## Feed-Forward Neural Network trained on all data"
   ]
  },
  {
   "cell_type": "code",
   "execution_count": 22,
   "id": "46504bc5-2c72-4d44-8b65-f7dc3950d04e",
   "metadata": {},
   "outputs": [
    {
     "name": "stdout",
     "output_type": "stream",
     "text": [
      "(85, 24) (18, 24) (16, 24)\n"
     ]
    }
   ],
   "source": [
    "# Prepare and split data for training\n",
    "x_all = np.array(dataframe[\"features\"].tolist())\n",
    "y_all = np.array(dataframe[\"label\"].tolist())\n",
    "\n",
    "label_encoder = LabelEncoder()\n",
    "y_all = to_categorical(label_encoder.fit_transform(y_all))\n",
    "\n",
    "x_all_train, x_all_test, y_all_train, y_all_test = train_test_split(x_all, y_all, test_size=0.15, random_state=1)\n",
    "x_all_train, x_all_val, y_all_train, y_all_val = train_test_split(x_all_train, y_all_train, test_size=0.15, random_state=1)\n",
    "\n",
    "print(x_all_train.shape, x_all_test.shape, x_all_val.shape)"
   ]
  },
  {
   "cell_type": "code",
   "execution_count": 23,
   "id": "8df2ac4d-21c7-4a68-9941-5b72688efb68",
   "metadata": {},
   "outputs": [
    {
     "name": "stdout",
     "output_type": "stream",
     "text": [
      "Epoch 1/72\n",
      "3/3 [==============================] - 1s 243ms/step - loss: 2.3880 - acc: 0.2588 - val_loss: 1.5908 - val_acc: 0.1250\n",
      "Epoch 2/72\n",
      "3/3 [==============================] - 0s 15ms/step - loss: 2.2525 - acc: 0.2588 - val_loss: 1.5990 - val_acc: 0.1250\n",
      "Epoch 3/72\n",
      "3/3 [==============================] - 0s 15ms/step - loss: 2.3498 - acc: 0.2824 - val_loss: 1.5913 - val_acc: 0.1250\n",
      "Epoch 4/72\n",
      "3/3 [==============================] - 0s 15ms/step - loss: 2.6302 - acc: 0.2235 - val_loss: 1.6064 - val_acc: 0.1250\n",
      "Epoch 5/72\n",
      "3/3 [==============================] - 0s 15ms/step - loss: 2.0192 - acc: 0.2118 - val_loss: 1.6068 - val_acc: 0.1250\n",
      "Epoch 6/72\n",
      "3/3 [==============================] - 0s 16ms/step - loss: 2.3015 - acc: 0.2118 - val_loss: 1.6070 - val_acc: 0.1250\n",
      "Epoch 7/72\n",
      "3/3 [==============================] - 0s 16ms/step - loss: 1.9910 - acc: 0.2000 - val_loss: 1.6065 - val_acc: 0.1250\n",
      "Epoch 8/72\n",
      "3/3 [==============================] - 0s 15ms/step - loss: 1.7456 - acc: 0.2471 - val_loss: 1.6066 - val_acc: 0.1250\n",
      "Epoch 9/72\n",
      "3/3 [==============================] - 0s 15ms/step - loss: 1.8850 - acc: 0.2588 - val_loss: 1.6064 - val_acc: 0.1250\n",
      "Epoch 10/72\n",
      "3/3 [==============================] - 0s 16ms/step - loss: 1.9444 - acc: 0.2824 - val_loss: 1.6061 - val_acc: 0.1250\n",
      "Epoch 11/72\n",
      "3/3 [==============================] - 0s 16ms/step - loss: 2.0242 - acc: 0.2471 - val_loss: 1.6060 - val_acc: 0.1250\n",
      "Epoch 12/72\n",
      "3/3 [==============================] - 0s 18ms/step - loss: 2.0963 - acc: 0.1882 - val_loss: 1.6060 - val_acc: 0.1250\n",
      "Epoch 13/72\n",
      "3/3 [==============================] - 0s 17ms/step - loss: 1.8513 - acc: 0.2941 - val_loss: 1.6058 - val_acc: 0.1250\n",
      "Epoch 14/72\n",
      "3/3 [==============================] - 0s 22ms/step - loss: 1.9589 - acc: 0.2824 - val_loss: 1.5944 - val_acc: 0.1250\n",
      "Epoch 15/72\n",
      "3/3 [==============================] - 0s 16ms/step - loss: 2.1202 - acc: 0.3059 - val_loss: 1.6059 - val_acc: 0.1250\n",
      "Epoch 16/72\n",
      "3/3 [==============================] - 0s 16ms/step - loss: 1.8881 - acc: 0.2235 - val_loss: 1.6060 - val_acc: 0.1250\n",
      "Epoch 17/72\n",
      "3/3 [==============================] - 0s 14ms/step - loss: 2.0417 - acc: 0.1647 - val_loss: 1.6059 - val_acc: 0.1250\n",
      "Epoch 18/72\n",
      "3/3 [==============================] - 0s 17ms/step - loss: 1.9562 - acc: 0.2353 - val_loss: 1.6059 - val_acc: 0.1250\n",
      "Epoch 19/72\n",
      "3/3 [==============================] - 0s 16ms/step - loss: 1.8470 - acc: 0.2471 - val_loss: 1.6049 - val_acc: 0.1250\n",
      "Epoch 20/72\n",
      "3/3 [==============================] - 0s 16ms/step - loss: 1.7427 - acc: 0.2471 - val_loss: 1.6057 - val_acc: 0.1250\n",
      "Epoch 21/72\n",
      "3/3 [==============================] - 0s 17ms/step - loss: 1.7704 - acc: 0.2824 - val_loss: 1.6054 - val_acc: 0.1250\n",
      "Epoch 22/72\n",
      "3/3 [==============================] - 0s 16ms/step - loss: 1.6337 - acc: 0.2353 - val_loss: 1.6053 - val_acc: 0.1250\n",
      "Epoch 23/72\n",
      "3/3 [==============================] - 0s 15ms/step - loss: 1.7583 - acc: 0.2706 - val_loss: 1.6054 - val_acc: 0.1250\n",
      "Epoch 24/72\n",
      "3/3 [==============================] - 0s 15ms/step - loss: 1.6994 - acc: 0.2235 - val_loss: 1.6053 - val_acc: 0.1250\n",
      "Epoch 25/72\n",
      "3/3 [==============================] - 0s 15ms/step - loss: 1.7502 - acc: 0.2824 - val_loss: 1.6052 - val_acc: 0.1250\n",
      "Epoch 26/72\n",
      "3/3 [==============================] - 0s 17ms/step - loss: 1.7703 - acc: 0.2000 - val_loss: 1.6050 - val_acc: 0.1250\n",
      "Epoch 27/72\n",
      "3/3 [==============================] - 0s 16ms/step - loss: 1.6933 - acc: 0.3059 - val_loss: 1.6050 - val_acc: 0.1250\n",
      "Epoch 28/72\n",
      "3/3 [==============================] - 0s 16ms/step - loss: 1.7805 - acc: 0.2941 - val_loss: 1.6047 - val_acc: 0.1250\n",
      "Epoch 29/72\n",
      "3/3 [==============================] - 0s 15ms/step - loss: 1.8414 - acc: 0.2235 - val_loss: 1.6044 - val_acc: 0.1250\n",
      "Epoch 30/72\n",
      "3/3 [==============================] - 0s 16ms/step - loss: 1.8019 - acc: 0.2235 - val_loss: 1.6047 - val_acc: 0.1250\n",
      "Epoch 31/72\n",
      "3/3 [==============================] - 0s 16ms/step - loss: 1.8406 - acc: 0.2235 - val_loss: 1.6048 - val_acc: 0.1250\n",
      "Epoch 32/72\n",
      "3/3 [==============================] - 0s 17ms/step - loss: 1.7091 - acc: 0.2588 - val_loss: 1.6050 - val_acc: 0.1250\n",
      "Epoch 33/72\n",
      "3/3 [==============================] - 0s 17ms/step - loss: 1.7456 - acc: 0.1882 - val_loss: 1.6049 - val_acc: 0.1250\n",
      "Epoch 34/72\n",
      "3/3 [==============================] - 0s 16ms/step - loss: 1.6898 - acc: 0.3294 - val_loss: 1.6047 - val_acc: 0.1250\n",
      "Epoch 35/72\n",
      "3/3 [==============================] - 0s 15ms/step - loss: 1.7328 - acc: 0.2118 - val_loss: 1.6047 - val_acc: 0.1250\n",
      "Epoch 36/72\n",
      "3/3 [==============================] - 0s 17ms/step - loss: 1.7494 - acc: 0.1882 - val_loss: 1.6033 - val_acc: 0.1250\n",
      "Epoch 37/72\n",
      "3/3 [==============================] - 0s 17ms/step - loss: 1.9352 - acc: 0.2235 - val_loss: 1.6046 - val_acc: 0.1250\n",
      "Epoch 38/72\n",
      "3/3 [==============================] - 0s 16ms/step - loss: 1.6286 - acc: 0.2235 - val_loss: 1.6043 - val_acc: 0.1250\n",
      "Epoch 39/72\n",
      "3/3 [==============================] - 0s 15ms/step - loss: 1.5949 - acc: 0.1765 - val_loss: 1.6042 - val_acc: 0.1250\n",
      "Epoch 40/72\n",
      "3/3 [==============================] - 0s 16ms/step - loss: 1.7777 - acc: 0.3059 - val_loss: 1.6043 - val_acc: 0.1250\n",
      "Epoch 41/72\n",
      "3/3 [==============================] - 0s 16ms/step - loss: 1.8204 - acc: 0.2118 - val_loss: 1.6043 - val_acc: 0.1250\n",
      "Epoch 42/72\n",
      "3/3 [==============================] - 0s 17ms/step - loss: 1.7487 - acc: 0.2118 - val_loss: 1.6042 - val_acc: 0.1250\n",
      "Epoch 43/72\n",
      "3/3 [==============================] - 0s 16ms/step - loss: 1.7110 - acc: 0.3059 - val_loss: 1.6042 - val_acc: 0.1250\n",
      "Epoch 44/72\n",
      "3/3 [==============================] - 0s 16ms/step - loss: 1.7937 - acc: 0.2588 - val_loss: 1.6039 - val_acc: 0.1250\n",
      "Epoch 45/72\n",
      "3/3 [==============================] - 0s 18ms/step - loss: 1.6519 - acc: 0.2353 - val_loss: 1.6036 - val_acc: 0.1250\n",
      "Epoch 46/72\n",
      "3/3 [==============================] - 0s 16ms/step - loss: 1.5784 - acc: 0.2353 - val_loss: 1.6033 - val_acc: 0.1250\n",
      "Epoch 47/72\n",
      "3/3 [==============================] - 0s 16ms/step - loss: 1.6105 - acc: 0.3176 - val_loss: 1.6032 - val_acc: 0.1250\n",
      "Epoch 48/72\n",
      "3/3 [==============================] - 0s 22ms/step - loss: 1.5725 - acc: 0.2706 - val_loss: 1.5847 - val_acc: 0.1250\n",
      "Epoch 49/72\n",
      "3/3 [==============================] - 0s 18ms/step - loss: 1.8283 - acc: 0.2118 - val_loss: 1.6026 - val_acc: 0.1250\n",
      "Epoch 50/72\n",
      "3/3 [==============================] - 0s 15ms/step - loss: 1.7141 - acc: 0.2235 - val_loss: 1.5957 - val_acc: 0.1250\n",
      "Epoch 51/72\n",
      "3/3 [==============================] - 0s 17ms/step - loss: 1.6406 - acc: 0.1529 - val_loss: 1.5879 - val_acc: 0.1250\n",
      "Epoch 52/72\n",
      "3/3 [==============================] - 0s 15ms/step - loss: 1.6945 - acc: 0.1882 - val_loss: 1.5803 - val_acc: 0.1250\n",
      "Epoch 53/72\n",
      "3/3 [==============================] - 0s 17ms/step - loss: 2.0368 - acc: 0.2471 - val_loss: 1.5854 - val_acc: 0.0625\n",
      "Epoch 54/72\n",
      "3/3 [==============================] - 0s 16ms/step - loss: 1.6653 - acc: 0.2471 - val_loss: 1.6006 - val_acc: 0.1250\n",
      "Epoch 55/72\n",
      "3/3 [==============================] - 0s 16ms/step - loss: 1.6217 - acc: 0.1529 - val_loss: 1.6008 - val_acc: 0.1250\n",
      "Epoch 56/72\n",
      "3/3 [==============================] - 0s 17ms/step - loss: 1.7135 - acc: 0.2588 - val_loss: 1.6008 - val_acc: 0.1250\n",
      "Epoch 57/72\n",
      "3/3 [==============================] - 0s 15ms/step - loss: 1.6097 - acc: 0.2588 - val_loss: 1.5980 - val_acc: 0.1250\n",
      "Epoch 58/72\n",
      "3/3 [==============================] - 0s 16ms/step - loss: 1.7947 - acc: 0.2118 - val_loss: 1.5996 - val_acc: 0.1250\n",
      "Epoch 59/72\n",
      "3/3 [==============================] - 0s 15ms/step - loss: 1.9089 - acc: 0.2824 - val_loss: 1.6001 - val_acc: 0.1250\n",
      "Epoch 60/72\n",
      "3/3 [==============================] - 0s 16ms/step - loss: 1.6832 - acc: 0.2706 - val_loss: 1.6001 - val_acc: 0.1250\n",
      "Epoch 61/72\n",
      "3/3 [==============================] - 0s 17ms/step - loss: 1.6152 - acc: 0.3176 - val_loss: 1.5952 - val_acc: 0.1250\n",
      "Epoch 62/72\n",
      "3/3 [==============================] - 0s 17ms/step - loss: 1.7694 - acc: 0.2824 - val_loss: 1.5998 - val_acc: 0.1250\n",
      "Epoch 63/72\n",
      "3/3 [==============================] - 0s 16ms/step - loss: 1.5554 - acc: 0.3059 - val_loss: 1.5998 - val_acc: 0.1250\n",
      "Epoch 64/72\n",
      "3/3 [==============================] - 0s 16ms/step - loss: 1.6314 - acc: 0.3882 - val_loss: 1.5952 - val_acc: 0.3125\n",
      "Epoch 65/72\n",
      "3/3 [==============================] - 0s 17ms/step - loss: 1.7327 - acc: 0.1647 - val_loss: 1.5997 - val_acc: 0.1250\n",
      "Epoch 66/72\n",
      "3/3 [==============================] - 0s 17ms/step - loss: 1.7431 - acc: 0.3059 - val_loss: 1.5995 - val_acc: 0.1250\n",
      "Epoch 67/72\n",
      "3/3 [==============================] - 0s 17ms/step - loss: 1.7902 - acc: 0.2000 - val_loss: 1.5991 - val_acc: 0.1250\n",
      "Epoch 68/72\n",
      "3/3 [==============================] - 0s 15ms/step - loss: 1.6734 - acc: 0.2824 - val_loss: 1.5990 - val_acc: 0.1250\n",
      "Epoch 69/72\n",
      "3/3 [==============================] - 0s 17ms/step - loss: 1.5670 - acc: 0.2824 - val_loss: 1.5910 - val_acc: 0.3750\n",
      "Epoch 70/72\n",
      "3/3 [==============================] - 0s 17ms/step - loss: 1.7173 - acc: 0.2706 - val_loss: 1.5992 - val_acc: 0.1250\n",
      "Epoch 71/72\n",
      "3/3 [==============================] - 0s 25ms/step - loss: 1.6783 - acc: 0.2353 - val_loss: 1.5990 - val_acc: 0.1250\n",
      "Epoch 72/72\n",
      "3/3 [==============================] - 0s 15ms/step - loss: 1.6612 - acc: 0.2706 - val_loss: 1.5814 - val_acc: 0.3750\n"
     ]
    }
   ],
   "source": [
    "# Configure, compile, and fit model\n",
    "history_all = model.fit(x_all_train, y_all_train, epochs=72, validation_data=(x_all_val, y_all_val), shuffle=False)"
   ]
  },
  {
   "cell_type": "code",
   "execution_count": 24,
   "id": "7e3a660d-a348-44d1-97c3-faaa397363db",
   "metadata": {},
   "outputs": [
    {
     "name": "stdout",
     "output_type": "stream",
     "text": [
      "0.1666666716337204\n"
     ]
    }
   ],
   "source": [
    "# Calculate accuracy on test dataset\n",
    "test_accuracy=model.evaluate(x_all_test, y_all_test, verbose=0)\n",
    "print(test_accuracy[1])"
   ]
  },
  {
   "cell_type": "code",
   "execution_count": 25,
   "id": "eed88ad3-659c-4f51-996d-91e941190364",
   "metadata": {},
   "outputs": [
    {
     "name": "stdout",
     "output_type": "stream",
     "text": [
      "1/1 [==============================] - 0s 18ms/step\n"
     ]
    },
    {
     "data": {
      "text/plain": [
       "<AxesSubplot:xlabel='PREDICTED LABEL', ylabel='GROUND TRUTH'>"
      ]
     },
     "execution_count": 25,
     "metadata": {},
     "output_type": "execute_result"
    },
    {
     "data": {
      "image/png": "[encoded data removed]",
      "text/plain": [
       "<Figure size 432x288 with 2 Axes>"
      ]
     },
     "metadata": {},
     "output_type": "display_data"
    }
   ],
   "source": [
    "# Generate confusion matrix\n",
    "y_all_true, y_all_pred = np.argmax(y_all_test, axis=1), np.argmax(model.predict(x_all_test), axis=1)\n",
    "\n",
    "confusion_matrix_plot(y_all_true, y_all_pred)"
   ]
  }
 ],
 "metadata": {
  "kernelspec": {
   "display_name": "Python 3 (ipykernel)",
   "language": "python",
   "name": "python3"
  },
  "language_info": {
   "codemirror_mode": {
    "name": "ipython",
    "version": 3
   },
   "file_extension": ".py",
   "mimetype": "text/x-python",
   "name": "python",
   "nbconvert_exporter": "python",
   "pygments_lexer": "ipython3",
   "version": "3.7.9"
  }
 },
 "nbformat": 4,
 "nbformat_minor": 5
}
