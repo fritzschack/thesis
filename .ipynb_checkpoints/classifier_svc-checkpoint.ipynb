{
 "cells": [
  {
   "cell_type": "markdown",
   "id": "d21bb9dd-c63e-4c22-abfd-78228789f875",
   "metadata": {},
   "source": [
    "## Imports and Variables"
   ]
  },
  {
   "cell_type": "code",
   "execution_count": 1,
   "id": "c41ad20c-4cb3-449b-bd9c-72efd34652be",
   "metadata": {},
   "outputs": [],
   "source": [
    "import pandas\n",
    "import numpy\n",
    "import librosa\n",
    "import requests\n",
    "import seaborn\n",
    "import sklearn\n",
    "import matplotlib.pyplot as plt\n",
    "from sklearn import preprocessing\n",
    "from sklearn.preprocessing import minmax_scale\n",
    "from sklearn.model_selection import train_test_split\n",
    "from sklearn.svm import SVC\n",
    "from sklearn.metrics import accuracy_score\n",
    "from tqdm import tqdm"
   ]
  },
  {
   "cell_type": "code",
   "execution_count": 2,
   "id": "ea1854dc-84af-49e0-b6c4-072a96ab87f5",
   "metadata": {},
   "outputs": [],
   "source": [
    "labels = ['dishwasher', 'washing_machine', 'shower', 'washing_hands', 'flushing_toilet']"
   ]
  },
  {
   "cell_type": "markdown",
   "id": "22b77dda-4a57-4d11-8cf2-c1900c7820f6",
   "metadata": {},
   "source": [
    "## Data Collection & Feature Extraction"
   ]
  },
  {
   "cell_type": "code",
   "execution_count": 3,
   "id": "caddfd3c-55a6-426b-8317-fffbb1e9db12",
   "metadata": {},
   "outputs": [
    {
     "data": {
      "text/html": [
       "<div>\n",
       "<style scoped>\n",
       "    .dataframe tbody tr th:only-of-type {\n",
       "        vertical-align: middle;\n",
       "    }\n",
       "\n",
       "    .dataframe tbody tr th {\n",
       "        vertical-align: top;\n",
       "    }\n",
       "\n",
       "    .dataframe thead th {\n",
       "        text-align: right;\n",
       "    }\n",
       "</style>\n",
       "<table border=\"1\" class=\"dataframe\">\n",
       "  <thead>\n",
       "    <tr style=\"text-align: right;\">\n",
       "      <th></th>\n",
       "      <th>path</th>\n",
       "      <th>label</th>\n",
       "      <th>environment</th>\n",
       "      <th>mfcc_mean</th>\n",
       "      <th>mfcc_var</th>\n",
       "    </tr>\n",
       "  </thead>\n",
       "  <tbody>\n",
       "    <tr>\n",
       "      <th>0</th>\n",
       "      <td>../recordings/combined/a196dbae-1f50-4d0e-b345...</td>\n",
       "      <td>washing_hands</td>\n",
       "      <td>marsberg</td>\n",
       "      <td>None</td>\n",
       "      <td>None</td>\n",
       "    </tr>\n",
       "    <tr>\n",
       "      <th>1</th>\n",
       "      <td>../recordings/combined/826e36b1-2a7e-4d22-9c81...</td>\n",
       "      <td>washing_hands</td>\n",
       "      <td>marsberg</td>\n",
       "      <td>None</td>\n",
       "      <td>None</td>\n",
       "    </tr>\n",
       "    <tr>\n",
       "      <th>2</th>\n",
       "      <td>../recordings/combined/9a6b6b01-e466-47fb-9fcc...</td>\n",
       "      <td>washing_hands</td>\n",
       "      <td>marsberg</td>\n",
       "      <td>None</td>\n",
       "      <td>None</td>\n",
       "    </tr>\n",
       "    <tr>\n",
       "      <th>3</th>\n",
       "      <td>../recordings/combined/84ee02e6-44d5-4ab3-b875...</td>\n",
       "      <td>washing_hands</td>\n",
       "      <td>marsberg</td>\n",
       "      <td>None</td>\n",
       "      <td>None</td>\n",
       "    </tr>\n",
       "    <tr>\n",
       "      <th>4</th>\n",
       "      <td>../recordings/combined/ec24c55a-39ec-4b36-86fe...</td>\n",
       "      <td>washing_hands</td>\n",
       "      <td>marsberg</td>\n",
       "      <td>None</td>\n",
       "      <td>None</td>\n",
       "    </tr>\n",
       "  </tbody>\n",
       "</table>\n",
       "</div>"
      ],
      "text/plain": [
       "                                                path          label  \\\n",
       "0  ../recordings/combined/a196dbae-1f50-4d0e-b345...  washing_hands   \n",
       "1  ../recordings/combined/826e36b1-2a7e-4d22-9c81...  washing_hands   \n",
       "2  ../recordings/combined/9a6b6b01-e466-47fb-9fcc...  washing_hands   \n",
       "3  ../recordings/combined/84ee02e6-44d5-4ab3-b875...  washing_hands   \n",
       "4  ../recordings/combined/ec24c55a-39ec-4b36-86fe...  washing_hands   \n",
       "\n",
       "  environment mfcc_mean mfcc_var  \n",
       "0    marsberg      None     None  \n",
       "1    marsberg      None     None  \n",
       "2    marsberg      None     None  \n",
       "3    marsberg      None     None  \n",
       "4    marsberg      None     None  "
      ]
     },
     "execution_count": 3,
     "metadata": {},
     "output_type": "execute_result"
    }
   ],
   "source": [
    "# Get list of all recordings\n",
    "data = requests.get(\"https://dolphin-app-9sdeq.ondigitalocean.app/api/v1/recordings\").json()\n",
    "\n",
    "recordings = []\n",
    "\n",
    "for recording in data:\n",
    "    recordings.append({\n",
    "        \"path\": f'../recordings/combined/{recording[\"name\"]}',\n",
    "        \"label\": recording[\"label\"],\n",
    "        \"environment\": recording[\"environment\"],\n",
    "        \"mfcc_mean\": None,\n",
    "        \"mfcc_var\": None\n",
    "    })\n",
    "\n",
    "dataframe = pandas.json_normalize(recordings)\n",
    "\n",
    "dataframe.head()"
   ]
  },
  {
   "cell_type": "code",
   "execution_count": 4,
   "id": "f8f3cfaf-f607-40cd-9a8f-4767fc983a9f",
   "metadata": {},
   "outputs": [
    {
     "name": "stderr",
     "output_type": "stream",
     "text": [
      "119it [03:18,  1.66s/it]\n"
     ]
    }
   ],
   "source": [
    "# Function to extract mean and variance of the mfcc\n",
    "def preprocess(dataframe):\n",
    "    for index, row in tqdm(dataframe.iterrows()):\n",
    "        audio, sample_rate = librosa.load(row[\"path\"])\n",
    "        mfcc = librosa.feature.mfcc(y=audio, sr=sample_rate)\n",
    "        dataframe.at[index, \"mfcc_mean\"] = numpy.mean(mfcc)\n",
    "        dataframe.at[index, \"mfcc_var\"] = numpy.var(mfcc)\n",
    "        \n",
    "    return dataframe\n",
    "\n",
    "dataframe = preprocess(dataframe)"
   ]
  },
  {
   "cell_type": "code",
   "execution_count": 5,
   "id": "a33bac4c-60fb-495d-94ee-7309fc2b92c1",
   "metadata": {},
   "outputs": [],
   "source": [
    "# Extract separate dataframes for environments marsberg and duesseldorf\n",
    "dataframe_marsberg = dataframe[dataframe[\"environment\"] == \"marsberg\"]\n",
    "dataframe_duesseldorf = dataframe[dataframe[\"environment\"] == \"duesseldorf\"]"
   ]
  },
  {
   "cell_type": "markdown",
   "id": "1c3baf3c-dd40-4c62-a822-c996cae7af15",
   "metadata": {
    "tags": []
   },
   "source": [
    "## Support Vector Classifier trained on data from _marsberg_"
   ]
  },
  {
   "cell_type": "code",
   "execution_count": 6,
   "id": "c0e580cc-499a-46b3-bd2b-91444b32b716",
   "metadata": {},
   "outputs": [
    {
     "name": "stderr",
     "output_type": "stream",
     "text": [
      "/Library/Frameworks/Python.framework/Versions/3.7/lib/python3.7/site-packages/pandas/core/generic.py:6619: SettingWithCopyWarning: \n",
      "A value is trying to be set on a copy of a slice from a DataFrame\n",
      "\n",
      "See the caveats in the documentation: https://pandas.pydata.org/pandas-docs/stable/user_guide/indexing.html#returning-a-view-versus-a-copy\n",
      "  return self._update_inplace(result)\n"
     ]
    }
   ],
   "source": [
    "# Prepare and split data for training\n",
    "y = dataframe_marsberg['label']\n",
    "x = dataframe_marsberg.drop(['label', 'path', 'environment'], axis=1)\n",
    "\n",
    "y.replace(labels,[0, 1, 2, 3, 4], inplace=True)\n",
    "\n",
    "cols = x.columns\n",
    "min_max_scaler = preprocessing.MinMaxScaler()\n",
    "np_scaled = min_max_scaler.fit_transform(x)\n",
    "x = pandas.DataFrame(np_scaled, columns = cols)\n",
    "\n",
    "x_train, x_test, y_train, y_test = train_test_split(x, y, test_size=0.2, random_state=1)"
   ]
  },
  {
   "cell_type": "code",
   "execution_count": 7,
   "id": "3ad1e7a0-f8ff-455e-9042-667d4d04f52c",
   "metadata": {},
   "outputs": [],
   "source": [
    "model = SVC(\n",
    "    kernel=\"rbf\",\n",
    "    gamma=50,\n",
    "    probability=True\n",
    ").fit(x_train, y_train)"
   ]
  },
  {
   "cell_type": "code",
   "execution_count": 8,
   "id": "03ad5ff6-63ce-414d-a691-b651a15e09f8",
   "metadata": {},
   "outputs": [
    {
     "name": "stdout",
     "output_type": "stream",
     "text": [
      "1.0\n"
     ]
    }
   ],
   "source": [
    "test_predictions = model.predict(x_test)\n",
    "print(accuracy_score(y_test, test_predictions))"
   ]
  },
  {
   "cell_type": "code",
   "execution_count": 9,
   "id": "0f2529b6-21da-4254-97fe-8827dcd828e9",
   "metadata": {},
   "outputs": [
    {
     "data": {
      "text/plain": [
       "<AxesSubplot:xlabel='PREDICTED LABEL', ylabel='GROUND TRUTH'>"
      ]
     },
     "execution_count": 9,
     "metadata": {},
     "output_type": "execute_result"
    },
    {
     "data": {
      "image/png": "[encoded data removed]",
      "text/plain": [
       "<Figure size 432x288 with 2 Axes>"
      ]
     },
     "metadata": {
      "needs_background": "light"
     },
     "output_type": "display_data"
    }
   ],
   "source": [
    "def confusion_matrix_table(y_true, y_pred):\n",
    "    labels = sklearn.utils.multiclass.unique_labels(y_test)\n",
    "    columns = [f'{label}' for label in labels]\n",
    "    index = [f'{label}' for label in labels]\n",
    "    confusion_matrix = sklearn.metrics.confusion_matrix(y_true, y_pred, labels=labels)\n",
    "    table = pandas.DataFrame(confusion_matrix, columns=columns, index=index)\n",
    "    return table\n",
    "\n",
    "def confusion_matrix_plot(y_true, y_pred):\n",
    "    table = confusion_matrix_table(y_true, y_pred)\n",
    "    plot = seaborn.heatmap(table, annot=True, fmt=\"d\", cmap=\"viridis\")\n",
    "    plt.yticks(rotation=0)\n",
    "    plt.ylabel(\n",
    "        'GROUND TRUTH', \n",
    "        fontsize = 12, \n",
    "        fontweight = 600\n",
    "    )\n",
    "    plt.xlabel(\n",
    "        'PREDICTED LABEL', \n",
    "        fontsize = 12, \n",
    "        fontweight = 600\n",
    "    )\n",
    "    return plot\n",
    "\n",
    "confusion_matrix_plot(y_test, test_predictions)"
   ]
  },
  {
   "cell_type": "code",
   "execution_count": 10,
   "id": "119891ee-7494-4de3-a3ed-555045ef7ef6",
   "metadata": {},
   "outputs": [
    {
     "name": "stderr",
     "output_type": "stream",
     "text": [
      "/Library/Frameworks/Python.framework/Versions/3.7/lib/python3.7/site-packages/sklearn/base.py:451: UserWarning: X does not have valid feature names, but SVC was fitted with feature names\n",
      "  \"X does not have valid feature names, but\"\n"
     ]
    },
    {
     "data": {
      "image/png": "[encoded data removed]",
      "text/plain": [
       "<Figure size 432x288 with 1 Axes>"
      ]
     },
     "metadata": {
      "needs_background": "light"
     },
     "output_type": "display_data"
    }
   ],
   "source": [
    "h = .02\n",
    "\n",
    "cmap_primary = plt.cm.get_cmap('viridis')\n",
    "cmap_secondary = cmap_primary\n",
    "\n",
    "x_min, x_max = x_train[\"mfcc_mean\"].min() - 1, x_train[\"mfcc_mean\"].max() + 1\n",
    "y_min, y_max = x_train[\"mfcc_var\"].min() - 1, x_train[\"mfcc_var\"].max() + 1\n",
    "\n",
    "xx, yy = numpy.meshgrid(numpy.arange(x_min, x_max, h), numpy.arange(y_min, y_max, h))\n",
    "\n",
    "Z = model.predict(numpy.c_[xx.ravel(), yy.ravel()])\n",
    "\n",
    "Z = Z.reshape(xx.shape)\n",
    "\n",
    "contourf = plt.contourf(xx, yy, Z, alpha=0.8, cmap=cmap_secondary)\n",
    "scatter = plt.scatter(x_train['mfcc_mean'], x_train['mfcc_var'], c=y_train, cmap=cmap_primary)\n",
    "plt.xlabel('MFCC mean')\n",
    "plt.ylabel('MFCC var')\n",
    "plt.xlim(xx.min(), xx.max())\n",
    "plt.ylim(yy.min(), yy.max())\n",
    "plt.legend(handles=scatter.legend_elements()[0], labels=labels, loc='best');"
   ]
  },
  {
   "cell_type": "code",
   "execution_count": 11,
   "id": "57fc6d7f-96ec-42e6-a001-9cedebceee37",
   "metadata": {},
   "outputs": [
    {
     "name": "stdout",
     "output_type": "stream",
     "text": [
      "0.14583333333333334\n"
     ]
    },
    {
     "name": "stderr",
     "output_type": "stream",
     "text": [
      "/Library/Frameworks/Python.framework/Versions/3.7/lib/python3.7/site-packages/pandas/core/generic.py:6619: SettingWithCopyWarning: \n",
      "A value is trying to be set on a copy of a slice from a DataFrame\n",
      "\n",
      "See the caveats in the documentation: https://pandas.pydata.org/pandas-docs/stable/user_guide/indexing.html#returning-a-view-versus-a-copy\n",
      "  return self._update_inplace(result)\n"
     ]
    }
   ],
   "source": [
    "# Calculate accuracy on data from duesseldorf\n",
    "y_duesseldorf = dataframe_duesseldorf['label']\n",
    "x_duesseldorf = dataframe_duesseldorf.drop(['label', 'path', 'environment'], axis=1)\n",
    "\n",
    "y_duesseldorf.replace(labels,[0, 1, 2, 3, 4], inplace=True)\n",
    "\n",
    "cols = x_duesseldorf.columns\n",
    "min_max_scaler = preprocessing.MinMaxScaler()\n",
    "np_scaled = min_max_scaler.fit_transform(x_duesseldorf)\n",
    "x_duesseldorf = pandas.DataFrame(np_scaled, columns = cols)\n",
    "\n",
    "test_duesseldorf_predictions = model.predict(x_duesseldorf)\n",
    "print(accuracy_score(y_duesseldorf, test_duesseldorf_predictions))"
   ]
  },
  {
   "cell_type": "code",
   "execution_count": 12,
   "id": "ee918f75-6892-4c66-9a46-ef6dc5717d8d",
   "metadata": {},
   "outputs": [
    {
     "data": {
      "text/plain": [
       "<AxesSubplot:xlabel='PREDICTED LABEL', ylabel='GROUND TRUTH'>"
      ]
     },
     "execution_count": 12,
     "metadata": {},
     "output_type": "execute_result"
    },
    {
     "data": {
      "image/png": "[encoded data removed]",
      "text/plain": [
       "<Figure size 432x288 with 2 Axes>"
      ]
     },
     "metadata": {
      "needs_background": "light"
     },
     "output_type": "display_data"
    }
   ],
   "source": [
    "confusion_matrix_plot(y_duesseldorf, test_duesseldorf_predictions)"
   ]
  },
  {
   "cell_type": "markdown",
   "id": "c3390fbb-cfac-4cb7-83a6-9aca29c6b9fb",
   "metadata": {
    "tags": []
   },
   "source": [
    "## Support Vector Classifier trained on data from all environments"
   ]
  },
  {
   "cell_type": "code",
   "execution_count": 13,
   "id": "9d738f51-4ef8-4f31-8e3d-a5aa48728512",
   "metadata": {},
   "outputs": [],
   "source": [
    "# Prepare and split data for training\n",
    "y = dataframe['label']\n",
    "x = dataframe.drop(['label', 'path', 'environment'], axis=1)\n",
    "\n",
    "y.replace(labels,[0, 1, 2, 3, 4], inplace=True)\n",
    "\n",
    "cols = x.columns\n",
    "min_max_scaler = preprocessing.MinMaxScaler()\n",
    "np_scaled = min_max_scaler.fit_transform(x)\n",
    "x = pandas.DataFrame(np_scaled, columns = cols)\n",
    "\n",
    "x_train, x_test, y_train, y_test = train_test_split(x, y, test_size=0.2, random_state=1)"
   ]
  },
  {
   "cell_type": "code",
   "execution_count": 14,
   "id": "2253938b-73b7-4041-8ff5-975c02711c83",
   "metadata": {},
   "outputs": [],
   "source": [
    "model = SVC(\n",
    "    kernel=\"rbf\",\n",
    "    gamma=50,\n",
    "    probability=True\n",
    ").fit(x_train, y_train)"
   ]
  },
  {
   "cell_type": "code",
   "execution_count": 15,
   "id": "3ab95ba2-2bb0-4006-9679-d005c6551446",
   "metadata": {},
   "outputs": [
    {
     "name": "stdout",
     "output_type": "stream",
     "text": [
      "0.7916666666666666\n"
     ]
    }
   ],
   "source": [
    "test_predictions = model.predict(x_test)\n",
    "print(accuracy_score(y_test, test_predictions))"
   ]
  },
  {
   "cell_type": "code",
   "execution_count": 16,
   "id": "766bfaab-e255-44be-9115-c43b2fd51474",
   "metadata": {},
   "outputs": [
    {
     "data": {
      "text/plain": [
       "<AxesSubplot:xlabel='PREDICTED LABEL', ylabel='GROUND TRUTH'>"
      ]
     },
     "execution_count": 16,
     "metadata": {},
     "output_type": "execute_result"
    },
    {
     "data": {
      "image/png": "[encoded data removed]",
      "text/plain": [
       "<Figure size 432x288 with 2 Axes>"
      ]
     },
     "metadata": {
      "needs_background": "light"
     },
     "output_type": "display_data"
    }
   ],
   "source": [
    "def confusion_matrix_table(y_true, y_pred):\n",
    "    labels = sklearn.utils.multiclass.unique_labels(y_test)\n",
    "    columns = [f'{label}' for label in labels]\n",
    "    index = [f'{label}' for label in labels]\n",
    "    confusion_matrix = sklearn.metrics.confusion_matrix(y_true, y_pred, labels=labels)\n",
    "    table = pandas.DataFrame(confusion_matrix, columns=columns, index=index)\n",
    "    return table\n",
    "\n",
    "def confusion_matrix_plot(y_true, y_pred):\n",
    "    table = confusion_matrix_table(y_true, y_pred)\n",
    "    plot = seaborn.heatmap(table, annot=True, fmt=\"d\", cmap=\"viridis\")\n",
    "    plt.yticks(rotation=0)\n",
    "    plt.ylabel(\n",
    "        'GROUND TRUTH', \n",
    "        fontsize = 12, \n",
    "        fontweight = 600\n",
    "    )\n",
    "    plt.xlabel(\n",
    "        'PREDICTED LABEL', \n",
    "        fontsize = 12, \n",
    "        fontweight = 600\n",
    "    )\n",
    "    return plot\n",
    "\n",
    "confusion_matrix_plot(y_test, test_predictions)"
   ]
  },
  {
   "cell_type": "code",
   "execution_count": 17,
   "id": "34e94f96-fcc9-4b8a-b878-92c67af35a05",
   "metadata": {},
   "outputs": [
    {
     "name": "stderr",
     "output_type": "stream",
     "text": [
      "/Library/Frameworks/Python.framework/Versions/3.7/lib/python3.7/site-packages/sklearn/base.py:451: UserWarning: X does not have valid feature names, but SVC was fitted with feature names\n",
      "  \"X does not have valid feature names, but\"\n"
     ]
    },
    {
     "data": {
      "image/png": "[encoded data removed]",
      "text/plain": [
       "<Figure size 432x288 with 1 Axes>"
      ]
     },
     "metadata": {
      "needs_background": "light"
     },
     "output_type": "display_data"
    }
   ],
   "source": [
    "h = .02\n",
    "\n",
    "cmap_primary = plt.cm.get_cmap('viridis')\n",
    "cmap_secondary = cmap_primary\n",
    "\n",
    "x_min, x_max = x_train[\"mfcc_mean\"].min() - 1, x_train[\"mfcc_mean\"].max() + 1\n",
    "y_min, y_max = x_train[\"mfcc_var\"].min() - 1, x_train[\"mfcc_var\"].max() + 1\n",
    "\n",
    "xx, yy = numpy.meshgrid(numpy.arange(x_min, x_max, h), numpy.arange(y_min, y_max, h))\n",
    "\n",
    "Z = model.predict(numpy.c_[xx.ravel(), yy.ravel()])\n",
    "\n",
    "Z = Z.reshape(xx.shape)\n",
    "\n",
    "contourf = plt.contourf(xx, yy, Z, alpha=0.8, cmap=cmap_secondary)\n",
    "scatter = plt.scatter(x_train['mfcc_mean'], x_train['mfcc_var'], c=y_train, cmap=cmap_primary)\n",
    "plt.xlabel('MFCC mean')\n",
    "plt.ylabel('MFCC var')\n",
    "plt.xlim(xx.min(), xx.max())\n",
    "plt.ylim(yy.min(), yy.max())\n",
    "plt.legend(handles=scatter.legend_elements()[0], labels=labels, loc='best');"
   ]
  }
 ],
 "metadata": {
  "kernelspec": {
   "display_name": "Python 3 (ipykernel)",
   "language": "python",
   "name": "python3"
  },
  "language_info": {
   "codemirror_mode": {
    "name": "ipython",
    "version": 3
   },
   "file_extension": ".py",
   "mimetype": "text/x-python",
   "name": "python",
   "nbconvert_exporter": "python",
   "pygments_lexer": "ipython3",
   "version": "3.7.9"
  }
 },
 "nbformat": 4,
 "nbformat_minor": 5
}
