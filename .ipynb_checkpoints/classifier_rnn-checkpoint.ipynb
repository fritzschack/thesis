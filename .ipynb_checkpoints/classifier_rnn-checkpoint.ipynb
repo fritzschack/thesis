{
 "cells": [
  {
   "cell_type": "code",
   "execution_count": 1,
   "id": "b8d79e25-7649-4652-8673-da795f21166e",
   "metadata": {},
   "outputs": [],
   "source": [
    "import librosa\n",
    "import numpy\n",
    "import pandas\n",
    "import requests\n",
    "import seaborn\n",
    "import sklearn\n",
    "import tensorflow\n",
    "\n",
    "import matplotlib.pyplot as plt\n",
    "\n",
    "from tensorflow import keras\n",
    "from tensorflow.keras.layers import LSTM, Dense, Dropout\n",
    "from tqdm import tqdm\n",
    "from tensorflow.keras.utils import to_categorical"
   ]
  },
  {
   "cell_type": "code",
   "execution_count": 6,
   "id": "d361006f-b775-43d4-a768-39ae3726b4e7",
   "metadata": {},
   "outputs": [
    {
     "data": {
      "text/html": [
       "<div>\n",
       "<style scoped>\n",
       "    .dataframe tbody tr th:only-of-type {\n",
       "        vertical-align: middle;\n",
       "    }\n",
       "\n",
       "    .dataframe tbody tr th {\n",
       "        vertical-align: top;\n",
       "    }\n",
       "\n",
       "    .dataframe thead th {\n",
       "        text-align: right;\n",
       "    }\n",
       "</style>\n",
       "<table border=\"1\" class=\"dataframe\">\n",
       "  <thead>\n",
       "    <tr style=\"text-align: right;\">\n",
       "      <th></th>\n",
       "      <th>path</th>\n",
       "      <th>label</th>\n",
       "      <th>environment</th>\n",
       "    </tr>\n",
       "  </thead>\n",
       "  <tbody>\n",
       "    <tr>\n",
       "      <th>0</th>\n",
       "      <td>../recordings/combined/a196dbae-1f50-4d0e-b345...</td>\n",
       "      <td>washing_hands</td>\n",
       "      <td>marsberg</td>\n",
       "    </tr>\n",
       "    <tr>\n",
       "      <th>1</th>\n",
       "      <td>../recordings/combined/826e36b1-2a7e-4d22-9c81...</td>\n",
       "      <td>washing_hands</td>\n",
       "      <td>marsberg</td>\n",
       "    </tr>\n",
       "    <tr>\n",
       "      <th>2</th>\n",
       "      <td>../recordings/combined/9a6b6b01-e466-47fb-9fcc...</td>\n",
       "      <td>washing_hands</td>\n",
       "      <td>marsberg</td>\n",
       "    </tr>\n",
       "    <tr>\n",
       "      <th>3</th>\n",
       "      <td>../recordings/combined/84ee02e6-44d5-4ab3-b875...</td>\n",
       "      <td>washing_hands</td>\n",
       "      <td>marsberg</td>\n",
       "    </tr>\n",
       "    <tr>\n",
       "      <th>4</th>\n",
       "      <td>../recordings/combined/ec24c55a-39ec-4b36-86fe...</td>\n",
       "      <td>washing_hands</td>\n",
       "      <td>marsberg</td>\n",
       "    </tr>\n",
       "  </tbody>\n",
       "</table>\n",
       "</div>"
      ],
      "text/plain": [
       "                                                path          label  \\\n",
       "0  ../recordings/combined/a196dbae-1f50-4d0e-b345...  washing_hands   \n",
       "1  ../recordings/combined/826e36b1-2a7e-4d22-9c81...  washing_hands   \n",
       "2  ../recordings/combined/9a6b6b01-e466-47fb-9fcc...  washing_hands   \n",
       "3  ../recordings/combined/84ee02e6-44d5-4ab3-b875...  washing_hands   \n",
       "4  ../recordings/combined/ec24c55a-39ec-4b36-86fe...  washing_hands   \n",
       "\n",
       "  environment  \n",
       "0    marsberg  \n",
       "1    marsberg  \n",
       "2    marsberg  \n",
       "3    marsberg  \n",
       "4    marsberg  "
      ]
     },
     "execution_count": 6,
     "metadata": {},
     "output_type": "execute_result"
    }
   ],
   "source": [
    "# Get list of all recordings\n",
    "data = requests.get(\"https://dolphin-app-9sdeq.ondigitalocean.app/api/v1/recordings\").json()\n",
    "\n",
    "recordings = []\n",
    "\n",
    "for recording in data:\n",
    "    recordings.append({\n",
    "        \"path\": f'../recordings/combined/{recording[\"name\"]}',\n",
    "        \"label\": recording[\"label\"],\n",
    "        \"environment\": recording[\"environment\"]\n",
    "    })\n",
    "\n",
    "dataframe = pandas.json_normalize(recordings)\n",
    "\n",
    "dataframe.head()"
   ]
  },
  {
   "cell_type": "code",
   "execution_count": 7,
   "id": "cfa7960d-309d-48e8-a280-bbc09ef0966b",
   "metadata": {},
   "outputs": [],
   "source": [
    "dataframe = dataframe[dataframe[\"environment\"] == \"marsberg\"]"
   ]
  },
  {
   "cell_type": "code",
   "execution_count": 8,
   "id": "08d2ea8b-aecb-4ce4-b49f-2887813f0afa",
   "metadata": {},
   "outputs": [
    {
     "name": "stderr",
     "output_type": "stream",
     "text": [
      "71it [01:03,  1.11it/s]\n"
     ]
    }
   ],
   "source": [
    "# Generate MFCCs for each recording\n",
    "def preprocess(dataframe):\n",
    "    features = []\n",
    "    for index, row in tqdm(dataframe.iterrows()):\n",
    "        audio, sample_rate = librosa.load(row[\"path\"])\n",
    "        mfcc = librosa.feature.mfcc(y=audio, sr=sample_rate)\n",
    "        features.append(numpy.mean(mfcc.T, axis=0))\n",
    "        \n",
    "    dataframe[\"features\"] = features\n",
    "    \n",
    "    return dataframe\n",
    "\n",
    "dataframe = preprocess(dataframe)"
   ]
  },
  {
   "cell_type": "code",
   "execution_count": 9,
   "id": "9a48b532-611a-4f08-8e3c-71a3917ac489",
   "metadata": {},
   "outputs": [
    {
     "name": "stdout",
     "output_type": "stream",
     "text": [
      "(51, 20, 1) (11, 20, 1) (9, 20, 1)\n"
     ]
    }
   ],
   "source": [
    "# Prepare and split data for training\n",
    "x = numpy.array(dataframe[\"features\"].tolist())\n",
    "y = numpy.array(dataframe[\"label\"].tolist())\n",
    "\n",
    "x = numpy.expand_dims(x, axis=2)\n",
    "\n",
    "label_encoder = sklearn.preprocessing.LabelEncoder()\n",
    "y = to_categorical(label_encoder.fit_transform(y))\n",
    "\n",
    "x_train, x_test, y_train, y_test = sklearn.model_selection.train_test_split(x, y, test_size=0.15, random_state=1)\n",
    "x_train, x_val, y_train, y_val = sklearn.model_selection.train_test_split(x_train, y_train, test_size=0.15, random_state=1)\n",
    "\n",
    "print(x_train.shape, x_test.shape, x_val.shape)"
   ]
  },
  {
   "cell_type": "code",
   "execution_count": 11,
   "id": "2154e555-5e15-448c-82ce-b9518fc454ac",
   "metadata": {},
   "outputs": [
    {
     "name": "stdout",
     "output_type": "stream",
     "text": [
      "Model: \"sequential_1\"\n",
      "_________________________________________________________________\n",
      " Layer (type)                Output Shape              Param #   \n",
      "=================================================================\n",
      " lstm_1 (LSTM)               (None, 80)                26240     \n",
      "                                                                 \n",
      " dropout_3 (Dropout)         (None, 80)                0         \n",
      "                                                                 \n",
      " dense_4 (Dense)             (None, 40)                3240      \n",
      "                                                                 \n",
      " dense_5 (Dense)             (None, 20)                820       \n",
      "                                                                 \n",
      " dropout_4 (Dropout)         (None, 20)                0         \n",
      "                                                                 \n",
      " dense_6 (Dense)             (None, 10)                210       \n",
      "                                                                 \n",
      " dropout_5 (Dropout)         (None, 10)                0         \n",
      "                                                                 \n",
      " dense_7 (Dense)             (None, 5)                 55        \n",
      "                                                                 \n",
      "=================================================================\n",
      "Total params: 30,565\n",
      "Trainable params: 30,565\n",
      "Non-trainable params: 0\n",
      "_________________________________________________________________\n",
      "Epoch 1/75\n",
      "2/2 [==============================] - 3s 516ms/step - loss: 1.6089 - acc: 0.1373 - val_loss: 1.6079 - val_acc: 0.2222\n",
      "Epoch 2/75\n",
      "2/2 [==============================] - 0s 60ms/step - loss: 1.6145 - acc: 0.1961 - val_loss: 1.5954 - val_acc: 0.2222\n",
      "Epoch 3/75\n",
      "2/2 [==============================] - 0s 37ms/step - loss: 1.5596 - acc: 0.3333 - val_loss: 1.5854 - val_acc: 0.3333\n",
      "Epoch 4/75\n",
      "2/2 [==============================] - 0s 36ms/step - loss: 1.5696 - acc: 0.3333 - val_loss: 1.5826 - val_acc: 0.3333\n",
      "Epoch 5/75\n",
      "2/2 [==============================] - 0s 34ms/step - loss: 1.5656 - acc: 0.3333 - val_loss: 1.5795 - val_acc: 0.4444\n",
      "Epoch 6/75\n",
      "2/2 [==============================] - 0s 38ms/step - loss: 1.5624 - acc: 0.4118 - val_loss: 1.5745 - val_acc: 0.3333\n",
      "Epoch 7/75\n",
      "2/2 [==============================] - 0s 51ms/step - loss: 1.5112 - acc: 0.4118 - val_loss: 1.5664 - val_acc: 0.3333\n",
      "Epoch 8/75\n",
      "2/2 [==============================] - 0s 60ms/step - loss: 1.5318 - acc: 0.3725 - val_loss: 1.5531 - val_acc: 0.4444\n",
      "Epoch 9/75\n",
      "2/2 [==============================] - 0s 35ms/step - loss: 1.5496 - acc: 0.2745 - val_loss: 1.5372 - val_acc: 0.5556\n",
      "Epoch 10/75\n",
      "2/2 [==============================] - 0s 37ms/step - loss: 1.4778 - acc: 0.3725 - val_loss: 1.5230 - val_acc: 0.5556\n",
      "Epoch 11/75\n",
      "2/2 [==============================] - 0s 37ms/step - loss: 1.5118 - acc: 0.2941 - val_loss: 1.5097 - val_acc: 0.5556\n",
      "Epoch 12/75\n",
      "2/2 [==============================] - 0s 36ms/step - loss: 1.4662 - acc: 0.4314 - val_loss: 1.4990 - val_acc: 0.5556\n",
      "Epoch 13/75\n",
      "2/2 [==============================] - 0s 35ms/step - loss: 1.5315 - acc: 0.3137 - val_loss: 1.4799 - val_acc: 0.5556\n",
      "Epoch 14/75\n",
      "2/2 [==============================] - 0s 36ms/step - loss: 1.4804 - acc: 0.3725 - val_loss: 1.4666 - val_acc: 0.5556\n",
      "Epoch 15/75\n",
      "2/2 [==============================] - 0s 35ms/step - loss: 1.4673 - acc: 0.4118 - val_loss: 1.4589 - val_acc: 0.5556\n",
      "Epoch 16/75\n",
      "2/2 [==============================] - 0s 39ms/step - loss: 1.4569 - acc: 0.3333 - val_loss: 1.4525 - val_acc: 0.5556\n",
      "Epoch 17/75\n",
      "2/2 [==============================] - 0s 40ms/step - loss: 1.3611 - acc: 0.4706 - val_loss: 1.4392 - val_acc: 0.5556\n",
      "Epoch 18/75\n",
      "2/2 [==============================] - 0s 49ms/step - loss: 1.4709 - acc: 0.3333 - val_loss: 1.4260 - val_acc: 0.5556\n",
      "Epoch 19/75\n",
      "2/2 [==============================] - 0s 32ms/step - loss: 1.3332 - acc: 0.4706 - val_loss: 1.4109 - val_acc: 0.4444\n",
      "Epoch 20/75\n",
      "2/2 [==============================] - 0s 31ms/step - loss: 1.3652 - acc: 0.3725 - val_loss: 1.3959 - val_acc: 0.4444\n",
      "Epoch 21/75\n",
      "2/2 [==============================] - 0s 36ms/step - loss: 1.3708 - acc: 0.3922 - val_loss: 1.3791 - val_acc: 0.5556\n",
      "Epoch 22/75\n",
      "2/2 [==============================] - 0s 33ms/step - loss: 1.5077 - acc: 0.2941 - val_loss: 1.3657 - val_acc: 0.5556\n",
      "Epoch 23/75\n",
      "2/2 [==============================] - 0s 35ms/step - loss: 1.4201 - acc: 0.4118 - val_loss: 1.3569 - val_acc: 0.5556\n",
      "Epoch 24/75\n",
      "2/2 [==============================] - 0s 34ms/step - loss: 1.3651 - acc: 0.5490 - val_loss: 1.3484 - val_acc: 0.5556\n",
      "Epoch 25/75\n",
      "2/2 [==============================] - 0s 32ms/step - loss: 1.2877 - acc: 0.3725 - val_loss: 1.3387 - val_acc: 0.5556\n",
      "Epoch 26/75\n",
      "2/2 [==============================] - 0s 33ms/step - loss: 1.3316 - acc: 0.3922 - val_loss: 1.3382 - val_acc: 0.5556\n",
      "Epoch 27/75\n",
      "2/2 [==============================] - 0s 35ms/step - loss: 1.4340 - acc: 0.3333 - val_loss: 1.3361 - val_acc: 0.5556\n",
      "Epoch 28/75\n",
      "2/2 [==============================] - 0s 34ms/step - loss: 1.4106 - acc: 0.4118 - val_loss: 1.3256 - val_acc: 0.5556\n",
      "Epoch 29/75\n",
      "2/2 [==============================] - 0s 34ms/step - loss: 1.3747 - acc: 0.4118 - val_loss: 1.3182 - val_acc: 0.5556\n",
      "Epoch 30/75\n",
      "2/2 [==============================] - 0s 34ms/step - loss: 1.2352 - acc: 0.5490 - val_loss: 1.3045 - val_acc: 0.5556\n",
      "Epoch 31/75\n",
      "2/2 [==============================] - 0s 47ms/step - loss: 1.3204 - acc: 0.4118 - val_loss: 1.2889 - val_acc: 0.5556\n",
      "Epoch 32/75\n",
      "2/2 [==============================] - 0s 34ms/step - loss: 1.3951 - acc: 0.3922 - val_loss: 1.2617 - val_acc: 0.5556\n",
      "Epoch 33/75\n",
      "2/2 [==============================] - 0s 33ms/step - loss: 1.2804 - acc: 0.4314 - val_loss: 1.2433 - val_acc: 0.5556\n",
      "Epoch 34/75\n",
      "2/2 [==============================] - 0s 39ms/step - loss: 1.2539 - acc: 0.4510 - val_loss: 1.2434 - val_acc: 0.5556\n",
      "Epoch 35/75\n",
      "2/2 [==============================] - 0s 37ms/step - loss: 1.2807 - acc: 0.4314 - val_loss: 1.2126 - val_acc: 0.5556\n",
      "Epoch 36/75\n",
      "2/2 [==============================] - 0s 35ms/step - loss: 1.2558 - acc: 0.4902 - val_loss: 1.1699 - val_acc: 0.5556\n",
      "Epoch 37/75\n",
      "2/2 [==============================] - 0s 37ms/step - loss: 1.3102 - acc: 0.4118 - val_loss: 1.1628 - val_acc: 0.5556\n",
      "Epoch 38/75\n",
      "2/2 [==============================] - 0s 33ms/step - loss: 1.2268 - acc: 0.4314 - val_loss: 1.1790 - val_acc: 0.5556\n",
      "Epoch 39/75\n",
      "2/2 [==============================] - 0s 32ms/step - loss: 1.3423 - acc: 0.4314 - val_loss: 1.1828 - val_acc: 0.5556\n",
      "Epoch 40/75\n",
      "2/2 [==============================] - 0s 32ms/step - loss: 1.1631 - acc: 0.5294 - val_loss: 1.1558 - val_acc: 0.5556\n",
      "Epoch 41/75\n",
      "2/2 [==============================] - 0s 34ms/step - loss: 1.2640 - acc: 0.4706 - val_loss: 1.1211 - val_acc: 0.5556\n",
      "Epoch 42/75\n",
      "2/2 [==============================] - 0s 34ms/step - loss: 1.2827 - acc: 0.4902 - val_loss: 1.1067 - val_acc: 0.5556\n",
      "Epoch 43/75\n",
      "2/2 [==============================] - 0s 35ms/step - loss: 1.1454 - acc: 0.5490 - val_loss: 1.0963 - val_acc: 0.5556\n",
      "Epoch 44/75\n",
      "2/2 [==============================] - 0s 36ms/step - loss: 1.1813 - acc: 0.4706 - val_loss: 1.0807 - val_acc: 0.5556\n",
      "Epoch 45/75\n",
      "2/2 [==============================] - 0s 32ms/step - loss: 1.1910 - acc: 0.5294 - val_loss: 1.0643 - val_acc: 0.5556\n",
      "Epoch 46/75\n",
      "2/2 [==============================] - 0s 31ms/step - loss: 1.1268 - acc: 0.5490 - val_loss: 1.0534 - val_acc: 0.5556\n",
      "Epoch 47/75\n",
      "2/2 [==============================] - 0s 31ms/step - loss: 1.2033 - acc: 0.4314 - val_loss: 1.0417 - val_acc: 0.5556\n",
      "Epoch 48/75\n",
      "2/2 [==============================] - 0s 31ms/step - loss: 1.1035 - acc: 0.4706 - val_loss: 1.0600 - val_acc: 0.5556\n",
      "Epoch 49/75\n",
      "2/2 [==============================] - 0s 31ms/step - loss: 1.2600 - acc: 0.4902 - val_loss: 1.0166 - val_acc: 0.5556\n",
      "Epoch 50/75\n",
      "2/2 [==============================] - 0s 34ms/step - loss: 1.1651 - acc: 0.4510 - val_loss: 0.9719 - val_acc: 0.5556\n",
      "Epoch 51/75\n",
      "2/2 [==============================] - 0s 73ms/step - loss: 1.1342 - acc: 0.4314 - val_loss: 0.9728 - val_acc: 0.5556\n",
      "Epoch 52/75\n",
      "2/2 [==============================] - 0s 53ms/step - loss: 0.9710 - acc: 0.6275 - val_loss: 0.9876 - val_acc: 0.5556\n",
      "Epoch 53/75\n",
      "2/2 [==============================] - 0s 33ms/step - loss: 1.1189 - acc: 0.5098 - val_loss: 0.9909 - val_acc: 0.4444\n",
      "Epoch 54/75\n",
      "2/2 [==============================] - 0s 32ms/step - loss: 1.1490 - acc: 0.4902 - val_loss: 0.9587 - val_acc: 0.6667\n",
      "Epoch 55/75\n",
      "2/2 [==============================] - 0s 32ms/step - loss: 1.1573 - acc: 0.5098 - val_loss: 0.9181 - val_acc: 0.6667\n",
      "Epoch 56/75\n",
      "2/2 [==============================] - 0s 32ms/step - loss: 0.9760 - acc: 0.6471 - val_loss: 0.8862 - val_acc: 0.6667\n",
      "Epoch 57/75\n",
      "2/2 [==============================] - 0s 33ms/step - loss: 0.9881 - acc: 0.5882 - val_loss: 0.8629 - val_acc: 0.6667\n",
      "Epoch 58/75\n",
      "2/2 [==============================] - 0s 36ms/step - loss: 0.9938 - acc: 0.5294 - val_loss: 0.8494 - val_acc: 0.6667\n",
      "Epoch 59/75\n",
      "2/2 [==============================] - 0s 34ms/step - loss: 1.0195 - acc: 0.5686 - val_loss: 0.8491 - val_acc: 0.6667\n",
      "Epoch 60/75\n",
      "2/2 [==============================] - 0s 32ms/step - loss: 0.9282 - acc: 0.6275 - val_loss: 0.9044 - val_acc: 0.6667\n",
      "Epoch 61/75\n",
      "2/2 [==============================] - 0s 32ms/step - loss: 0.9873 - acc: 0.5490 - val_loss: 0.8967 - val_acc: 0.6667\n",
      "Epoch 62/75\n",
      "2/2 [==============================] - 0s 31ms/step - loss: 0.8898 - acc: 0.6471 - val_loss: 0.8187 - val_acc: 0.6667\n",
      "Epoch 63/75\n",
      "2/2 [==============================] - 0s 33ms/step - loss: 0.9659 - acc: 0.5882 - val_loss: 0.7684 - val_acc: 0.6667\n",
      "Epoch 64/75\n",
      "2/2 [==============================] - 0s 33ms/step - loss: 0.9306 - acc: 0.6275 - val_loss: 0.7553 - val_acc: 0.6667\n",
      "Epoch 65/75\n",
      "2/2 [==============================] - 0s 34ms/step - loss: 0.9639 - acc: 0.6078 - val_loss: 0.7534 - val_acc: 0.6667\n",
      "Epoch 66/75\n",
      "2/2 [==============================] - 0s 35ms/step - loss: 0.8562 - acc: 0.5882 - val_loss: 0.7614 - val_acc: 0.6667\n",
      "Epoch 67/75\n",
      "2/2 [==============================] - 0s 34ms/step - loss: 0.9198 - acc: 0.6078 - val_loss: 0.7940 - val_acc: 0.6667\n",
      "Epoch 68/75\n",
      "2/2 [==============================] - 0s 35ms/step - loss: 0.9142 - acc: 0.6275 - val_loss: 0.7809 - val_acc: 0.6667\n",
      "Epoch 69/75\n",
      "2/2 [==============================] - 0s 35ms/step - loss: 0.8142 - acc: 0.6863 - val_loss: 0.7669 - val_acc: 0.6667\n",
      "Epoch 70/75\n",
      "2/2 [==============================] - 0s 33ms/step - loss: 0.9020 - acc: 0.5490 - val_loss: 0.7494 - val_acc: 0.6667\n",
      "Epoch 71/75\n",
      "2/2 [==============================] - 0s 33ms/step - loss: 0.7827 - acc: 0.6471 - val_loss: 0.7426 - val_acc: 0.6667\n",
      "Epoch 72/75\n",
      "2/2 [==============================] - 0s 37ms/step - loss: 0.7382 - acc: 0.7255 - val_loss: 0.7371 - val_acc: 0.6667\n",
      "Epoch 73/75\n",
      "2/2 [==============================] - 0s 35ms/step - loss: 0.8421 - acc: 0.5882 - val_loss: 0.7604 - val_acc: 0.6667\n",
      "Epoch 74/75\n",
      "2/2 [==============================] - 0s 32ms/step - loss: 0.8391 - acc: 0.6078 - val_loss: 0.8060 - val_acc: 0.6667\n",
      "Epoch 75/75\n",
      "2/2 [==============================] - 0s 31ms/step - loss: 0.8687 - acc: 0.6275 - val_loss: 0.7892 - val_acc: 0.6667\n"
     ]
    }
   ],
   "source": [
    "input_shape=(20, 1)\n",
    "model = keras.Sequential()\n",
    "model.add(LSTM(80,input_shape=input_shape))\n",
    "model.add(Dropout(0.2))\n",
    "model.add(Dense(40, activation='relu'))\n",
    "model.add(Dense(20, activation='relu'))\n",
    "model.add(Dropout(0.4))\n",
    "model.add(Dense(10, activation='relu'))\n",
    "model.add(Dropout(0.4))\n",
    "model.add(Dense(5, activation='softmax'))\n",
    "model.summary()\n",
    "\n",
    "model.compile(optimizer='adam',loss='categorical_crossentropy',metrics=['acc'])\n",
    "\n",
    "history = model.fit(x_train, y_train, epochs=75, validation_data=(x_val, y_val), shuffle=False)"
   ]
  },
  {
   "cell_type": "code",
   "execution_count": 12,
   "id": "befcb50b-a9cf-455a-bb93-5f4f1199df13",
   "metadata": {},
   "outputs": [
    {
     "name": "stdout",
     "output_type": "stream",
     "text": [
      "0.8181818127632141\n"
     ]
    }
   ],
   "source": [
    "test_accuracy=model.evaluate(x_test, y_test, verbose=0)\n",
    "print(test_accuracy[1])"
   ]
  },
  {
   "cell_type": "code",
   "execution_count": 13,
   "id": "a7db896a-9afa-4c96-8d3a-39e7be50d8b7",
   "metadata": {},
   "outputs": [
    {
     "name": "stdout",
     "output_type": "stream",
     "text": [
      "1/1 [==============================] - 0s 376ms/step\n"
     ]
    },
    {
     "data": {
      "text/plain": [
       "array([[2, 0, 0, 0, 0],\n",
       "       [0, 3, 0, 0, 0],\n",
       "       [0, 0, 0, 2, 0],\n",
       "       [0, 0, 0, 1, 0],\n",
       "       [0, 0, 0, 0, 3]])"
      ]
     },
     "execution_count": 13,
     "metadata": {},
     "output_type": "execute_result"
    }
   ],
   "source": [
    "y_true, y_pred = numpy.argmax(y_test, axis=1), numpy.argmax(model.predict(x_test), axis=1)\n",
    "\n",
    "confusion_matrix = sklearn.metrics.confusion_matrix(y_true, y_pred)\n",
    "\n",
    "confusion_matrix"
   ]
  },
  {
   "cell_type": "code",
   "execution_count": 14,
   "id": "0ee4a78e-3fcd-4274-afd5-d8cae8ce1f43",
   "metadata": {},
   "outputs": [],
   "source": [
    "def confusion_matrix_table(y_true, y_pred):\n",
    "    labels = sklearn.utils.multiclass.unique_labels(y_test)\n",
    "    columns = [f'Predicted {label}' for label in labels]\n",
    "    index = [f'Actual {label}' for label in labels]\n",
    "    table = pandas.DataFrame(sklearn.metrics.confusion_matrix(y_true, y_pred), columns=columns, index=index)\n",
    "    return table"
   ]
  },
  {
   "cell_type": "code",
   "execution_count": 15,
   "id": "983ebe6e-7146-49c2-a36a-4e99d706b9dc",
   "metadata": {},
   "outputs": [],
   "source": [
    "def confusion_matrix_plot(y_true, y_pred):\n",
    "    table = confusion_matrix_table(y_true, y_pred)\n",
    "    plot = seaborn.heatmap(table, annot=True, fmt=\"d\", cmap=\"viridis\")\n",
    "    plt.yticks(rotation=0) \n",
    "    return plot"
   ]
  },
  {
   "cell_type": "code",
   "execution_count": 16,
   "id": "b2fe864f-45ac-4830-97b7-76b70897b007",
   "metadata": {},
   "outputs": [
    {
     "data": {
      "text/plain": [
       "<AxesSubplot:>"
      ]
     },
     "execution_count": 16,
     "metadata": {},
     "output_type": "execute_result"
    },
    {
     "data": {
      "image/png": "[encoded data removed]",
      "text/plain": [
       "<Figure size 432x288 with 2 Axes>"
      ]
     },
     "metadata": {
      "needs_background": "light"
     },
     "output_type": "display_data"
    }
   ],
   "source": [
    "confusion_matrix_plot(y_true, y_pred)"
   ]
  }
 ],
 "metadata": {
  "kernelspec": {
   "display_name": "Python 3 (ipykernel)",
   "language": "python",
   "name": "python3"
  },
  "language_info": {
   "codemirror_mode": {
    "name": "ipython",
    "version": 3
   },
   "file_extension": ".py",
   "mimetype": "text/x-python",
   "name": "python",
   "nbconvert_exporter": "python",
   "pygments_lexer": "ipython3",
   "version": "3.7.9"
  }
 },
 "nbformat": 4,
 "nbformat_minor": 5
}
