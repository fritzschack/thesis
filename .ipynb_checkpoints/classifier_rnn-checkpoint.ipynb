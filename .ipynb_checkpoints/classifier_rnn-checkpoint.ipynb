{
 "cells": [
  {
   "cell_type": "markdown",
   "id": "008f7137-5e35-4f16-987e-bc662f21f01d",
   "metadata": {},
   "source": [
    "## Imports & Variables"
   ]
  },
  {
   "cell_type": "code",
   "execution_count": 1,
   "id": "b8d79e25-7649-4652-8673-da795f21166e",
   "metadata": {},
   "outputs": [],
   "source": [
    "import librosa\n",
    "import numpy\n",
    "import pandas\n",
    "import requests\n",
    "import seaborn\n",
    "import sklearn\n",
    "import tensorflow\n",
    "\n",
    "import matplotlib.pyplot as plt\n",
    "\n",
    "from tensorflow import keras\n",
    "from tensorflow.keras.layers import LSTM, Dense, Dropout\n",
    "from tqdm import tqdm\n",
    "from tensorflow.keras.utils import to_categorical\n",
    "from imblearn.under_sampling import RandomUnderSampler"
   ]
  },
  {
   "cell_type": "code",
   "execution_count": 2,
   "id": "d814cb6f-7186-400c-b454-b91d2ec22683",
   "metadata": {},
   "outputs": [],
   "source": [
    "# List of all labels\n",
    "labels = [\"washing_hands\", \"shower\", \"flushing_toilet\", \"dishwasher\", \"washing_machine\"]"
   ]
  },
  {
   "cell_type": "markdown",
   "id": "0c15cfb2-c3cf-462f-b710-be88c30e5282",
   "metadata": {},
   "source": [
    "## Data Collection & Feature Extraction"
   ]
  },
  {
   "cell_type": "code",
   "execution_count": 3,
   "id": "d361006f-b775-43d4-a768-39ae3726b4e7",
   "metadata": {},
   "outputs": [
    {
     "data": {
      "text/html": [
       "<div>\n",
       "<style scoped>\n",
       "    .dataframe tbody tr th:only-of-type {\n",
       "        vertical-align: middle;\n",
       "    }\n",
       "\n",
       "    .dataframe tbody tr th {\n",
       "        vertical-align: top;\n",
       "    }\n",
       "\n",
       "    .dataframe thead th {\n",
       "        text-align: right;\n",
       "    }\n",
       "</style>\n",
       "<table border=\"1\" class=\"dataframe\">\n",
       "  <thead>\n",
       "    <tr style=\"text-align: right;\">\n",
       "      <th></th>\n",
       "      <th>path</th>\n",
       "      <th>label</th>\n",
       "      <th>environment</th>\n",
       "    </tr>\n",
       "  </thead>\n",
       "  <tbody>\n",
       "    <tr>\n",
       "      <th>0</th>\n",
       "      <td>../recordings/combined/a196dbae-1f50-4d0e-b345...</td>\n",
       "      <td>washing_hands</td>\n",
       "      <td>marsberg</td>\n",
       "    </tr>\n",
       "    <tr>\n",
       "      <th>1</th>\n",
       "      <td>../recordings/combined/826e36b1-2a7e-4d22-9c81...</td>\n",
       "      <td>washing_hands</td>\n",
       "      <td>marsberg</td>\n",
       "    </tr>\n",
       "    <tr>\n",
       "      <th>2</th>\n",
       "      <td>../recordings/combined/9a6b6b01-e466-47fb-9fcc...</td>\n",
       "      <td>washing_hands</td>\n",
       "      <td>marsberg</td>\n",
       "    </tr>\n",
       "    <tr>\n",
       "      <th>3</th>\n",
       "      <td>../recordings/combined/84ee02e6-44d5-4ab3-b875...</td>\n",
       "      <td>washing_hands</td>\n",
       "      <td>marsberg</td>\n",
       "    </tr>\n",
       "    <tr>\n",
       "      <th>4</th>\n",
       "      <td>../recordings/combined/ec24c55a-39ec-4b36-86fe...</td>\n",
       "      <td>washing_hands</td>\n",
       "      <td>marsberg</td>\n",
       "    </tr>\n",
       "  </tbody>\n",
       "</table>\n",
       "</div>"
      ],
      "text/plain": [
       "                                                path          label  \\\n",
       "0  ../recordings/combined/a196dbae-1f50-4d0e-b345...  washing_hands   \n",
       "1  ../recordings/combined/826e36b1-2a7e-4d22-9c81...  washing_hands   \n",
       "2  ../recordings/combined/9a6b6b01-e466-47fb-9fcc...  washing_hands   \n",
       "3  ../recordings/combined/84ee02e6-44d5-4ab3-b875...  washing_hands   \n",
       "4  ../recordings/combined/ec24c55a-39ec-4b36-86fe...  washing_hands   \n",
       "\n",
       "  environment  \n",
       "0    marsberg  \n",
       "1    marsberg  \n",
       "2    marsberg  \n",
       "3    marsberg  \n",
       "4    marsberg  "
      ]
     },
     "execution_count": 3,
     "metadata": {},
     "output_type": "execute_result"
    }
   ],
   "source": [
    "# Get list of all recordings\n",
    "data = requests.get(\"https://dolphin-app-9sdeq.ondigitalocean.app/api/v1/recordings\").json()\n",
    "\n",
    "recordings = []\n",
    "\n",
    "for recording in data:\n",
    "    recordings.append({\n",
    "        \"path\": f'../recordings/combined/{recording[\"name\"]}',\n",
    "        \"label\": recording[\"label\"],\n",
    "        \"environment\": recording[\"environment\"]\n",
    "    })\n",
    "\n",
    "dataframe = pandas.json_normalize(recordings)\n",
    "\n",
    "dataframe.head()"
   ]
  },
  {
   "cell_type": "code",
   "execution_count": 4,
   "id": "08d2ea8b-aecb-4ce4-b49f-2887813f0afa",
   "metadata": {},
   "outputs": [
    {
     "name": "stderr",
     "output_type": "stream",
     "text": [
      "119it [02:41,  1.36s/it]\n"
     ]
    }
   ],
   "source": [
    "# Generate MFCCs for each recording\n",
    "def preprocess(dataframe):\n",
    "    features = []\n",
    "    for index, row in tqdm(dataframe.iterrows()):\n",
    "        audio, sample_rate = librosa.load(row[\"path\"])\n",
    "        mfcc = librosa.feature.mfcc(y=audio, n_mfcc=24, sr=sample_rate)\n",
    "        features.append(numpy.mean(mfcc.T, axis=0))\n",
    "        \n",
    "    dataframe[\"features\"] = features\n",
    "    \n",
    "    return dataframe\n",
    "\n",
    "dataframe = preprocess(dataframe)"
   ]
  },
  {
   "cell_type": "code",
   "execution_count": 5,
   "id": "cfa7960d-309d-48e8-a280-bbc09ef0966b",
   "metadata": {},
   "outputs": [],
   "source": [
    "# Filter dataframe to include only data from marsberg\n",
    "dataframe_marsberg = dataframe[dataframe[\"environment\"] == \"marsberg\"]\n",
    "dataframe_duesseldorf = dataframe[dataframe[\"environment\"] == \"duesseldorf\"]"
   ]
  },
  {
   "cell_type": "markdown",
   "id": "5a1a2348-314b-417c-a255-8d7bdfdbcc1b",
   "metadata": {},
   "source": [
    "## Recurrent Neural Network trained on data from _marsberg_"
   ]
  },
  {
   "cell_type": "code",
   "execution_count": 6,
   "id": "9a48b532-611a-4f08-8e3c-71a3917ac489",
   "metadata": {},
   "outputs": [
    {
     "name": "stdout",
     "output_type": "stream",
     "text": [
      "(51, 24, 1) (11, 24, 1) (9, 24, 1)\n"
     ]
    }
   ],
   "source": [
    "# Prepare and split data for training\n",
    "x = numpy.array(dataframe_marsberg[\"features\"].tolist())\n",
    "y = numpy.array(dataframe_marsberg[\"label\"].tolist())\n",
    "\n",
    "x = numpy.expand_dims(x, axis=2)\n",
    "\n",
    "label_encoder = sklearn.preprocessing.LabelEncoder()\n",
    "y = to_categorical(label_encoder.fit_transform(y))\n",
    "\n",
    "x_train, x_test, y_train, y_test = sklearn.model_selection.train_test_split(x, y, test_size=0.15, random_state=1)\n",
    "x_train, x_val, y_train, y_val = sklearn.model_selection.train_test_split(x_train, y_train, test_size=0.15, random_state=1)\n",
    "\n",
    "print(x_train.shape, x_test.shape, x_val.shape)"
   ]
  },
  {
   "cell_type": "code",
   "execution_count": 7,
   "id": "2154e555-5e15-448c-82ce-b9518fc454ac",
   "metadata": {},
   "outputs": [
    {
     "name": "stderr",
     "output_type": "stream",
     "text": [
      "2022-09-20 20:03:41.148425: I tensorflow/core/platform/cpu_feature_guard.cc:193] This TensorFlow binary is optimized with oneAPI Deep Neural Network Library (oneDNN) to use the following CPU instructions in performance-critical operations:  AVX2 AVX512F AVX512_VNNI FMA\n",
      "To enable them in other operations, rebuild TensorFlow with the appropriate compiler flags.\n"
     ]
    },
    {
     "name": "stdout",
     "output_type": "stream",
     "text": [
      "Model: \"sequential\"\n",
      "_________________________________________________________________\n",
      " Layer (type)                Output Shape              Param #   \n",
      "=================================================================\n",
      " lstm (LSTM)                 (None, 40)                6720      \n",
      "                                                                 \n",
      " dropout (Dropout)           (None, 40)                0         \n",
      "                                                                 \n",
      " dense (Dense)               (None, 80)                3280      \n",
      "                                                                 \n",
      " dense_1 (Dense)             (None, 40)                3240      \n",
      "                                                                 \n",
      " dropout_1 (Dropout)         (None, 40)                0         \n",
      "                                                                 \n",
      " dense_2 (Dense)             (None, 20)                820       \n",
      "                                                                 \n",
      " dropout_2 (Dropout)         (None, 20)                0         \n",
      "                                                                 \n",
      " dense_3 (Dense)             (None, 5)                 105       \n",
      "                                                                 \n",
      "=================================================================\n",
      "Total params: 14,165\n",
      "Trainable params: 14,165\n",
      "Non-trainable params: 0\n",
      "_________________________________________________________________\n",
      "Epoch 1/72\n",
      "2/2 [==============================] - 2s 519ms/step - loss: 1.6376 - acc: 0.2157 - val_loss: 1.5831 - val_acc: 0.2222\n",
      "Epoch 2/72\n",
      "2/2 [==============================] - 0s 31ms/step - loss: 1.6328 - acc: 0.1373 - val_loss: 1.5793 - val_acc: 0.2222\n",
      "Epoch 3/72\n",
      "2/2 [==============================] - 0s 27ms/step - loss: 1.5927 - acc: 0.1765 - val_loss: 1.5751 - val_acc: 0.2222\n",
      "Epoch 4/72\n",
      "2/2 [==============================] - 0s 28ms/step - loss: 1.5991 - acc: 0.1961 - val_loss: 1.5740 - val_acc: 0.2222\n",
      "Epoch 5/72\n",
      "2/2 [==============================] - 0s 26ms/step - loss: 1.5776 - acc: 0.2157 - val_loss: 1.5725 - val_acc: 0.3333\n",
      "Epoch 6/72\n",
      "2/2 [==============================] - 0s 29ms/step - loss: 1.5665 - acc: 0.2353 - val_loss: 1.5655 - val_acc: 0.6667\n",
      "Epoch 7/72\n",
      "2/2 [==============================] - 0s 28ms/step - loss: 1.5428 - acc: 0.3137 - val_loss: 1.5531 - val_acc: 0.5556\n",
      "Epoch 8/72\n",
      "2/2 [==============================] - 0s 31ms/step - loss: 1.5398 - acc: 0.2745 - val_loss: 1.5432 - val_acc: 0.5556\n",
      "Epoch 9/72\n",
      "2/2 [==============================] - 0s 28ms/step - loss: 1.5185 - acc: 0.2941 - val_loss: 1.5331 - val_acc: 0.5556\n",
      "Epoch 10/72\n",
      "2/2 [==============================] - 0s 30ms/step - loss: 1.5278 - acc: 0.3922 - val_loss: 1.5217 - val_acc: 0.5556\n",
      "Epoch 11/72\n",
      "2/2 [==============================] - 0s 27ms/step - loss: 1.5487 - acc: 0.2745 - val_loss: 1.5122 - val_acc: 0.5556\n",
      "Epoch 12/72\n",
      "2/2 [==============================] - 0s 29ms/step - loss: 1.5180 - acc: 0.2941 - val_loss: 1.5036 - val_acc: 0.5556\n",
      "Epoch 13/72\n",
      "2/2 [==============================] - 0s 27ms/step - loss: 1.5062 - acc: 0.4314 - val_loss: 1.4930 - val_acc: 0.5556\n",
      "Epoch 14/72\n",
      "2/2 [==============================] - 0s 26ms/step - loss: 1.4833 - acc: 0.4510 - val_loss: 1.4819 - val_acc: 0.5556\n",
      "Epoch 15/72\n",
      "2/2 [==============================] - 0s 26ms/step - loss: 1.4601 - acc: 0.3922 - val_loss: 1.4678 - val_acc: 0.5556\n",
      "Epoch 16/72\n",
      "2/2 [==============================] - 0s 27ms/step - loss: 1.4471 - acc: 0.4902 - val_loss: 1.4476 - val_acc: 0.5556\n",
      "Epoch 17/72\n",
      "2/2 [==============================] - 0s 26ms/step - loss: 1.3996 - acc: 0.5294 - val_loss: 1.4236 - val_acc: 0.5556\n",
      "Epoch 18/72\n",
      "2/2 [==============================] - 0s 26ms/step - loss: 1.4381 - acc: 0.4706 - val_loss: 1.3981 - val_acc: 0.6667\n",
      "Epoch 19/72\n",
      "2/2 [==============================] - 0s 27ms/step - loss: 1.3901 - acc: 0.5098 - val_loss: 1.3675 - val_acc: 0.6667\n",
      "Epoch 20/72\n",
      "2/2 [==============================] - 0s 27ms/step - loss: 1.3554 - acc: 0.4510 - val_loss: 1.3329 - val_acc: 0.6667\n",
      "Epoch 21/72\n",
      "2/2 [==============================] - 0s 27ms/step - loss: 1.3153 - acc: 0.5490 - val_loss: 1.2951 - val_acc: 0.6667\n",
      "Epoch 22/72\n",
      "2/2 [==============================] - 0s 26ms/step - loss: 1.3602 - acc: 0.4510 - val_loss: 1.2578 - val_acc: 0.6667\n",
      "Epoch 23/72\n",
      "2/2 [==============================] - 0s 27ms/step - loss: 1.2727 - acc: 0.5098 - val_loss: 1.2239 - val_acc: 0.6667\n",
      "Epoch 24/72\n",
      "2/2 [==============================] - 0s 27ms/step - loss: 1.2625 - acc: 0.5098 - val_loss: 1.1860 - val_acc: 0.6667\n",
      "Epoch 25/72\n",
      "2/2 [==============================] - 0s 26ms/step - loss: 1.2866 - acc: 0.4510 - val_loss: 1.1510 - val_acc: 0.6667\n",
      "Epoch 26/72\n",
      "2/2 [==============================] - 0s 28ms/step - loss: 1.1757 - acc: 0.5490 - val_loss: 1.1027 - val_acc: 0.6667\n",
      "Epoch 27/72\n",
      "2/2 [==============================] - 0s 27ms/step - loss: 1.1317 - acc: 0.4902 - val_loss: 1.0407 - val_acc: 0.6667\n",
      "Epoch 28/72\n",
      "2/2 [==============================] - 0s 27ms/step - loss: 1.1839 - acc: 0.4510 - val_loss: 0.9882 - val_acc: 0.6667\n",
      "Epoch 29/72\n",
      "2/2 [==============================] - 0s 27ms/step - loss: 1.1031 - acc: 0.6275 - val_loss: 0.9526 - val_acc: 0.6667\n",
      "Epoch 30/72\n",
      "2/2 [==============================] - 0s 27ms/step - loss: 1.0587 - acc: 0.5686 - val_loss: 0.9482 - val_acc: 0.6667\n",
      "Epoch 31/72\n",
      "2/2 [==============================] - 0s 26ms/step - loss: 1.0227 - acc: 0.7059 - val_loss: 0.9327 - val_acc: 0.4444\n",
      "Epoch 32/72\n",
      "2/2 [==============================] - 0s 26ms/step - loss: 1.1466 - acc: 0.5882 - val_loss: 0.8861 - val_acc: 0.6667\n",
      "Epoch 33/72\n",
      "2/2 [==============================] - 0s 27ms/step - loss: 1.0368 - acc: 0.5686 - val_loss: 0.8238 - val_acc: 0.6667\n",
      "Epoch 34/72\n",
      "2/2 [==============================] - 0s 27ms/step - loss: 1.0030 - acc: 0.5686 - val_loss: 0.7839 - val_acc: 0.6667\n",
      "Epoch 35/72\n",
      "2/2 [==============================] - 0s 27ms/step - loss: 0.9650 - acc: 0.6863 - val_loss: 0.7550 - val_acc: 0.6667\n",
      "Epoch 36/72\n",
      "2/2 [==============================] - 0s 27ms/step - loss: 0.9631 - acc: 0.6275 - val_loss: 0.7460 - val_acc: 0.6667\n",
      "Epoch 37/72\n",
      "2/2 [==============================] - 0s 29ms/step - loss: 0.8285 - acc: 0.6471 - val_loss: 0.7345 - val_acc: 0.6667\n",
      "Epoch 38/72\n",
      "2/2 [==============================] - 0s 26ms/step - loss: 0.9031 - acc: 0.7255 - val_loss: 0.7125 - val_acc: 0.6667\n",
      "Epoch 39/72\n",
      "2/2 [==============================] - 0s 25ms/step - loss: 0.9600 - acc: 0.6471 - val_loss: 0.6701 - val_acc: 0.7778\n",
      "Epoch 40/72\n",
      "2/2 [==============================] - 0s 28ms/step - loss: 0.9714 - acc: 0.5490 - val_loss: 0.6409 - val_acc: 0.7778\n",
      "Epoch 41/72\n",
      "2/2 [==============================] - 0s 27ms/step - loss: 1.0381 - acc: 0.4706 - val_loss: 0.6240 - val_acc: 0.8889\n",
      "Epoch 42/72\n",
      "2/2 [==============================] - 0s 27ms/step - loss: 0.8132 - acc: 0.7647 - val_loss: 0.6205 - val_acc: 0.8889\n",
      "Epoch 43/72\n",
      "2/2 [==============================] - 0s 28ms/step - loss: 0.8534 - acc: 0.7255 - val_loss: 0.6038 - val_acc: 1.0000\n",
      "Epoch 44/72\n",
      "2/2 [==============================] - 0s 27ms/step - loss: 0.8069 - acc: 0.7059 - val_loss: 0.5616 - val_acc: 1.0000\n",
      "Epoch 45/72\n",
      "2/2 [==============================] - 0s 27ms/step - loss: 0.8525 - acc: 0.7059 - val_loss: 0.5272 - val_acc: 1.0000\n",
      "Epoch 46/72\n",
      "2/2 [==============================] - 0s 26ms/step - loss: 0.7494 - acc: 0.6863 - val_loss: 0.5016 - val_acc: 1.0000\n",
      "Epoch 47/72\n",
      "2/2 [==============================] - 0s 27ms/step - loss: 0.8487 - acc: 0.7059 - val_loss: 0.4828 - val_acc: 1.0000\n",
      "Epoch 48/72\n",
      "2/2 [==============================] - 0s 27ms/step - loss: 0.8122 - acc: 0.6471 - val_loss: 0.4666 - val_acc: 1.0000\n",
      "Epoch 49/72\n",
      "2/2 [==============================] - 0s 28ms/step - loss: 0.8025 - acc: 0.6863 - val_loss: 0.4488 - val_acc: 1.0000\n",
      "Epoch 50/72\n",
      "2/2 [==============================] - 0s 26ms/step - loss: 0.7825 - acc: 0.6667 - val_loss: 0.4322 - val_acc: 1.0000\n",
      "Epoch 51/72\n",
      "2/2 [==============================] - 0s 28ms/step - loss: 0.7494 - acc: 0.7255 - val_loss: 0.4114 - val_acc: 1.0000\n",
      "Epoch 52/72\n",
      "2/2 [==============================] - 0s 26ms/step - loss: 0.7219 - acc: 0.6471 - val_loss: 0.3903 - val_acc: 1.0000\n",
      "Epoch 53/72\n",
      "2/2 [==============================] - 0s 27ms/step - loss: 0.6341 - acc: 0.8039 - val_loss: 0.3770 - val_acc: 1.0000\n",
      "Epoch 54/72\n",
      "2/2 [==============================] - 0s 27ms/step - loss: 0.7162 - acc: 0.7255 - val_loss: 0.3696 - val_acc: 1.0000\n",
      "Epoch 55/72\n",
      "2/2 [==============================] - 0s 26ms/step - loss: 0.6375 - acc: 0.8431 - val_loss: 0.3624 - val_acc: 1.0000\n",
      "Epoch 56/72\n",
      "2/2 [==============================] - 0s 27ms/step - loss: 0.7765 - acc: 0.7059 - val_loss: 0.3990 - val_acc: 1.0000\n",
      "Epoch 57/72\n",
      "2/2 [==============================] - 0s 26ms/step - loss: 0.5693 - acc: 0.8039 - val_loss: 0.3758 - val_acc: 1.0000\n",
      "Epoch 58/72\n",
      "2/2 [==============================] - 0s 27ms/step - loss: 0.5893 - acc: 0.8039 - val_loss: 0.3482 - val_acc: 0.8889\n",
      "Epoch 59/72\n",
      "2/2 [==============================] - 0s 26ms/step - loss: 0.6504 - acc: 0.7451 - val_loss: 0.3198 - val_acc: 0.8889\n",
      "Epoch 60/72\n",
      "2/2 [==============================] - 0s 27ms/step - loss: 0.6119 - acc: 0.7451 - val_loss: 0.2842 - val_acc: 1.0000\n",
      "Epoch 61/72\n",
      "2/2 [==============================] - 0s 27ms/step - loss: 0.4364 - acc: 0.9020 - val_loss: 0.2575 - val_acc: 1.0000\n",
      "Epoch 62/72\n",
      "2/2 [==============================] - 0s 26ms/step - loss: 0.6395 - acc: 0.7255 - val_loss: 0.2479 - val_acc: 1.0000\n",
      "Epoch 63/72\n",
      "2/2 [==============================] - 0s 27ms/step - loss: 0.5907 - acc: 0.8235 - val_loss: 0.2384 - val_acc: 1.0000\n",
      "Epoch 64/72\n",
      "2/2 [==============================] - 0s 27ms/step - loss: 0.5964 - acc: 0.7843 - val_loss: 0.2216 - val_acc: 1.0000\n",
      "Epoch 65/72\n",
      "2/2 [==============================] - 0s 27ms/step - loss: 0.7470 - acc: 0.7451 - val_loss: 0.2014 - val_acc: 1.0000\n",
      "Epoch 66/72\n",
      "2/2 [==============================] - 0s 26ms/step - loss: 0.4401 - acc: 0.8824 - val_loss: 0.1978 - val_acc: 1.0000\n",
      "Epoch 67/72\n",
      "2/2 [==============================] - 0s 27ms/step - loss: 0.4434 - acc: 0.8039 - val_loss: 0.1912 - val_acc: 1.0000\n",
      "Epoch 68/72\n",
      "2/2 [==============================] - 0s 26ms/step - loss: 0.6564 - acc: 0.7647 - val_loss: 0.1927 - val_acc: 1.0000\n",
      "Epoch 69/72\n",
      "2/2 [==============================] - 0s 26ms/step - loss: 0.4689 - acc: 0.8627 - val_loss: 0.1943 - val_acc: 1.0000\n",
      "Epoch 70/72\n",
      "2/2 [==============================] - 0s 28ms/step - loss: 0.5140 - acc: 0.8235 - val_loss: 0.1981 - val_acc: 1.0000\n",
      "Epoch 71/72\n",
      "2/2 [==============================] - 0s 27ms/step - loss: 0.3804 - acc: 0.8824 - val_loss: 0.1793 - val_acc: 1.0000\n",
      "Epoch 72/72\n",
      "2/2 [==============================] - 0s 27ms/step - loss: 0.5493 - acc: 0.7843 - val_loss: 0.1682 - val_acc: 1.0000\n"
     ]
    }
   ],
   "source": [
    "# Configure, compile, and fit model\n",
    "input_shape=(24, 1)\n",
    "model = keras.Sequential()\n",
    "model.add(LSTM(40,input_shape=input_shape))\n",
    "model.add(Dropout(0.2))\n",
    "model.add(Dense(80, activation='relu'))\n",
    "model.add(Dense(40, activation='relu'))\n",
    "model.add(Dropout(0.4))\n",
    "model.add(Dense(20, activation='relu'))\n",
    "model.add(Dropout(0.4))\n",
    "model.add(Dense(5, activation='softmax'))\n",
    "model.summary()\n",
    "\n",
    "model.compile(optimizer='adam',loss='categorical_crossentropy',metrics=['acc'])\n",
    "\n",
    "history = model.fit(x_train, y_train, epochs=72, validation_data=(x_val, y_val), shuffle=False)"
   ]
  },
  {
   "cell_type": "code",
   "execution_count": 8,
   "id": "7029598b-cbdb-4044-a03e-762cec387c1d",
   "metadata": {},
   "outputs": [
    {
     "data": {
      "image/png": "[encoded data removed]",
      "text/plain": [
       "<IPython.core.display.Image object>"
      ]
     },
     "execution_count": 8,
     "metadata": {},
     "output_type": "execute_result"
    }
   ],
   "source": [
    "keras.utils.plot_model(model, to_file=\"files/rnn_visual.png\", rankdir=\"LR\", show_shapes=True)"
   ]
  },
  {
   "cell_type": "code",
   "execution_count": 9,
   "id": "befcb50b-a9cf-455a-bb93-5f4f1199df13",
   "metadata": {},
   "outputs": [
    {
     "name": "stdout",
     "output_type": "stream",
     "text": [
      "1.0\n"
     ]
    }
   ],
   "source": [
    "# Calculate accuracy on test dataset\n",
    "test_accuracy=model.evaluate(x_test, y_test, verbose=0)\n",
    "print(test_accuracy[1])"
   ]
  },
  {
   "cell_type": "code",
   "execution_count": 10,
   "id": "a7db896a-9afa-4c96-8d3a-39e7be50d8b7",
   "metadata": {},
   "outputs": [
    {
     "name": "stdout",
     "output_type": "stream",
     "text": [
      "1/1 [==============================] - 0s 468ms/step\n"
     ]
    },
    {
     "data": {
      "text/plain": [
       "<AxesSubplot:xlabel='PREDICTED LABEL', ylabel='GROUND TRUTH'>"
      ]
     },
     "execution_count": 10,
     "metadata": {},
     "output_type": "execute_result"
    },
    {
     "data": {
      "image/png": "[encoded data removed]",
      "text/plain": [
       "<Figure size 432x288 with 2 Axes>"
      ]
     },
     "metadata": {
      "needs_background": "light"
     },
     "output_type": "display_data"
    }
   ],
   "source": [
    "# Generate confusion matrix\n",
    "y_true, y_pred = numpy.argmax(y_test, axis=1), numpy.argmax(model.predict(x_test), axis=1)\n",
    "\n",
    "confusion_matrix = sklearn.metrics.confusion_matrix(y_true, y_pred)\n",
    "\n",
    "def confusion_matrix_table(y_true, y_pred):\n",
    "    columns = [label for label in label_encoder.classes_]\n",
    "    index = [label for label in label_encoder.classes_]\n",
    "    table = pandas.DataFrame(sklearn.metrics.confusion_matrix(y_true, y_pred), columns=columns, index=index)\n",
    "    return table\n",
    "\n",
    "def confusion_matrix_plot(y_true, y_pred):\n",
    "    table = confusion_matrix_table(y_true, y_pred)\n",
    "    plot = seaborn.heatmap(table, annot=True, fmt=\"d\", cmap=\"viridis\")\n",
    "    plt.yticks(rotation=0) \n",
    "    plt.ylabel(\n",
    "        'GROUND TRUTH', \n",
    "        fontsize = 12, \n",
    "        fontweight = 600\n",
    "    )\n",
    "    plt.xlabel(\n",
    "        'PREDICTED LABEL', \n",
    "        fontsize = 12, \n",
    "        fontweight = 600\n",
    "    )\n",
    "    return plot\n",
    "\n",
    "confusion_matrix_plot(y_true, y_pred)"
   ]
  },
  {
   "cell_type": "code",
   "execution_count": 11,
   "id": "304182af-2395-4102-81a4-5da90ad4ad5e",
   "metadata": {},
   "outputs": [
    {
     "name": "stdout",
     "output_type": "stream",
     "text": [
      "0.0416666679084301\n"
     ]
    }
   ],
   "source": [
    "# Calculate accuracy on data from duesseldorf\n",
    "x_duesseldorf = numpy.array(dataframe_duesseldorf[\"features\"].tolist())\n",
    "y_duesseldorf = numpy.array(dataframe_duesseldorf[\"label\"].tolist())\n",
    "\n",
    "x_duesseldorf = numpy.expand_dims(x_duesseldorf, axis=2)\n",
    "\n",
    "label_encoder = sklearn.preprocessing.LabelEncoder()\n",
    "y_duesseldorf = to_categorical(label_encoder.fit_transform(y_duesseldorf))\n",
    "\n",
    "test_accuracy=model.evaluate(x_duesseldorf, y_duesseldorf, verbose=0)\n",
    "print(test_accuracy[1])"
   ]
  },
  {
   "cell_type": "code",
   "execution_count": 12,
   "id": "3b5d5df1-9fe9-4331-984f-bc7757ff114e",
   "metadata": {},
   "outputs": [
    {
     "name": "stdout",
     "output_type": "stream",
     "text": [
      "2/2 [==============================] - 0s 5ms/step\n"
     ]
    },
    {
     "data": {
      "text/plain": [
       "<AxesSubplot:xlabel='PREDICTED LABEL', ylabel='GROUND TRUTH'>"
      ]
     },
     "execution_count": 12,
     "metadata": {},
     "output_type": "execute_result"
    },
    {
     "data": {
      "image/png": "[encoded data removed]",
      "text/plain": [
       "<Figure size 432x288 with 2 Axes>"
      ]
     },
     "metadata": {
      "needs_background": "light"
     },
     "output_type": "display_data"
    }
   ],
   "source": [
    "# Generate confusion matrix on data from duesseldorf\n",
    "y_true, y_pred = numpy.argmax(y_duesseldorf, axis=1), numpy.argmax(model.predict(x_duesseldorf), axis=1)\n",
    "\n",
    "confusion_matrix = sklearn.metrics.confusion_matrix(y_true, y_pred)\n",
    "\n",
    "def confusion_matrix_table(y_true, y_pred):\n",
    "    columns = [label for label in label_encoder.classes_]\n",
    "    index = [label for label in label_encoder.classes_]\n",
    "    table = pandas.DataFrame(sklearn.metrics.confusion_matrix(y_true, y_pred), columns=columns, index=index)\n",
    "    return table\n",
    "\n",
    "def confusion_matrix_plot(y_true, y_pred):\n",
    "    table = confusion_matrix_table(y_true, y_pred)\n",
    "    plot = seaborn.heatmap(table, annot=True, fmt=\"d\", cmap=\"viridis\")\n",
    "    plt.yticks(rotation=0) \n",
    "    plt.ylabel(\n",
    "        'GROUND TRUTH', \n",
    "        fontsize = 12, \n",
    "        fontweight = 600\n",
    "    )\n",
    "    plt.xlabel(\n",
    "        'PREDICTED LABEL', \n",
    "        fontsize = 12, \n",
    "        fontweight = 600\n",
    "    )\n",
    "    return plot\n",
    "\n",
    "confusion_matrix_plot(y_true, y_pred)"
   ]
  },
  {
   "cell_type": "markdown",
   "id": "09e91621-6f7e-4843-a142-d6dacafc152e",
   "metadata": {},
   "source": [
    "## Recurrent Neural Network trained on all data"
   ]
  },
  {
   "cell_type": "code",
   "execution_count": 13,
   "id": "7d0a88de-e4c9-4673-97e2-0423a7c0fd95",
   "metadata": {},
   "outputs": [
    {
     "name": "stdout",
     "output_type": "stream",
     "text": [
      "(85, 24, 1) (18, 24, 1) (16, 24, 1)\n"
     ]
    }
   ],
   "source": [
    "# Prepare and split data for training\n",
    "x_all = numpy.array(dataframe[\"features\"].tolist())\n",
    "y_all = numpy.array(dataframe[\"label\"].tolist())\n",
    "\n",
    "x_all = numpy.expand_dims(x_all, axis=2)\n",
    "\n",
    "label_encoder = sklearn.preprocessing.LabelEncoder()\n",
    "y_all = to_categorical(label_encoder.fit_transform(y_all))\n",
    "\n",
    "x_all_train, x_all_test, y_all_train, y_all_test = sklearn.model_selection.train_test_split(x_all, y_all, test_size=0.15, random_state=1)\n",
    "x_all_train, x_all_val, y_all_train, y_all_val = sklearn.model_selection.train_test_split(x_all_train, y_all_train, test_size=0.15, random_state=1)\n",
    "\n",
    "print(x_all_train.shape, x_all_test.shape, x_all_val.shape)"
   ]
  },
  {
   "cell_type": "code",
   "execution_count": 14,
   "id": "46c70d50-4c4f-491e-a0cc-6f4df79fde4d",
   "metadata": {},
   "outputs": [
    {
     "name": "stdout",
     "output_type": "stream",
     "text": [
      "Epoch 1/72\n",
      "3/3 [==============================] - 0s 28ms/step - loss: 1.9274 - acc: 0.5647 - val_loss: 0.7592 - val_acc: 0.7500\n",
      "Epoch 2/72\n",
      "3/3 [==============================] - 0s 20ms/step - loss: 1.5006 - acc: 0.5294 - val_loss: 0.5676 - val_acc: 0.9375\n",
      "Epoch 3/72\n",
      "3/3 [==============================] - 0s 17ms/step - loss: 1.1470 - acc: 0.5882 - val_loss: 0.7650 - val_acc: 0.6250\n",
      "Epoch 4/72\n",
      "3/3 [==============================] - 0s 16ms/step - loss: 1.2430 - acc: 0.5412 - val_loss: 0.7434 - val_acc: 0.6250\n",
      "Epoch 5/72\n",
      "3/3 [==============================] - 0s 16ms/step - loss: 1.0933 - acc: 0.6000 - val_loss: 0.6796 - val_acc: 0.6250\n",
      "Epoch 6/72\n",
      "3/3 [==============================] - 0s 16ms/step - loss: 1.0132 - acc: 0.6353 - val_loss: 0.6079 - val_acc: 0.7500\n",
      "Epoch 7/72\n",
      "3/3 [==============================] - 0s 16ms/step - loss: 0.8770 - acc: 0.6353 - val_loss: 0.5684 - val_acc: 0.9375\n",
      "Epoch 8/72\n",
      "3/3 [==============================] - 0s 16ms/step - loss: 0.8715 - acc: 0.6706 - val_loss: 0.5539 - val_acc: 0.9375\n",
      "Epoch 9/72\n",
      "3/3 [==============================] - 0s 19ms/step - loss: 0.8947 - acc: 0.6353 - val_loss: 0.5332 - val_acc: 0.9375\n",
      "Epoch 10/72\n",
      "3/3 [==============================] - 0s 16ms/step - loss: 0.9200 - acc: 0.6353 - val_loss: 0.5266 - val_acc: 0.9375\n",
      "Epoch 11/72\n",
      "3/3 [==============================] - 0s 16ms/step - loss: 0.9858 - acc: 0.5765 - val_loss: 0.5173 - val_acc: 0.9375\n",
      "Epoch 12/72\n",
      "3/3 [==============================] - 0s 17ms/step - loss: 0.9953 - acc: 0.6000 - val_loss: 0.5022 - val_acc: 0.9375\n",
      "Epoch 13/72\n",
      "3/3 [==============================] - 0s 17ms/step - loss: 0.8416 - acc: 0.6941 - val_loss: 0.5042 - val_acc: 0.8750\n",
      "Epoch 14/72\n",
      "3/3 [==============================] - 0s 19ms/step - loss: 0.8814 - acc: 0.5765 - val_loss: 0.5113 - val_acc: 0.7500\n",
      "Epoch 15/72\n",
      "3/3 [==============================] - 0s 18ms/step - loss: 0.8672 - acc: 0.6000 - val_loss: 0.5244 - val_acc: 0.7500\n",
      "Epoch 16/72\n",
      "3/3 [==============================] - 0s 20ms/step - loss: 0.8391 - acc: 0.6706 - val_loss: 0.5251 - val_acc: 0.7500\n",
      "Epoch 17/72\n",
      "3/3 [==============================] - 0s 17ms/step - loss: 0.8352 - acc: 0.6235 - val_loss: 0.5097 - val_acc: 0.7500\n",
      "Epoch 18/72\n",
      "3/3 [==============================] - 0s 17ms/step - loss: 0.8168 - acc: 0.7176 - val_loss: 0.4970 - val_acc: 0.7500\n",
      "Epoch 19/72\n",
      "3/3 [==============================] - 0s 17ms/step - loss: 0.8269 - acc: 0.7176 - val_loss: 0.5006 - val_acc: 0.7500\n",
      "Epoch 20/72\n",
      "3/3 [==============================] - 0s 16ms/step - loss: 0.7565 - acc: 0.7176 - val_loss: 0.4970 - val_acc: 0.7500\n",
      "Epoch 21/72\n",
      "3/3 [==============================] - 0s 23ms/step - loss: 0.7478 - acc: 0.7412 - val_loss: 0.4795 - val_acc: 0.7500\n",
      "Epoch 22/72\n",
      "3/3 [==============================] - 0s 17ms/step - loss: 0.8208 - acc: 0.7176 - val_loss: 0.4486 - val_acc: 0.7500\n",
      "Epoch 23/72\n",
      "3/3 [==============================] - 0s 19ms/step - loss: 0.7932 - acc: 0.6941 - val_loss: 0.4348 - val_acc: 0.7500\n",
      "Epoch 24/72\n",
      "3/3 [==============================] - 0s 17ms/step - loss: 0.7326 - acc: 0.6706 - val_loss: 0.4309 - val_acc: 0.7500\n",
      "Epoch 25/72\n",
      "3/3 [==============================] - 0s 16ms/step - loss: 0.7036 - acc: 0.7647 - val_loss: 0.4199 - val_acc: 0.7500\n",
      "Epoch 26/72\n",
      "3/3 [==============================] - 0s 16ms/step - loss: 0.7856 - acc: 0.6588 - val_loss: 0.4071 - val_acc: 0.7500\n",
      "Epoch 27/72\n",
      "3/3 [==============================] - 0s 16ms/step - loss: 0.7886 - acc: 0.7176 - val_loss: 0.4018 - val_acc: 0.7500\n",
      "Epoch 28/72\n",
      "3/3 [==============================] - 0s 16ms/step - loss: 0.6840 - acc: 0.7412 - val_loss: 0.4168 - val_acc: 0.7500\n",
      "Epoch 29/72\n",
      "3/3 [==============================] - 0s 16ms/step - loss: 0.7412 - acc: 0.6353 - val_loss: 0.4230 - val_acc: 0.7500\n",
      "Epoch 30/72\n",
      "3/3 [==============================] - 0s 16ms/step - loss: 0.7378 - acc: 0.7059 - val_loss: 0.3847 - val_acc: 0.7500\n",
      "Epoch 31/72\n",
      "3/3 [==============================] - 0s 17ms/step - loss: 0.6847 - acc: 0.7059 - val_loss: 0.3860 - val_acc: 0.7500\n",
      "Epoch 32/72\n",
      "3/3 [==============================] - 0s 16ms/step - loss: 0.6966 - acc: 0.7059 - val_loss: 0.3935 - val_acc: 0.7500\n",
      "Epoch 33/72\n",
      "3/3 [==============================] - 0s 16ms/step - loss: 0.6356 - acc: 0.7765 - val_loss: 0.3964 - val_acc: 0.7500\n",
      "Epoch 34/72\n",
      "3/3 [==============================] - 0s 16ms/step - loss: 0.7013 - acc: 0.6824 - val_loss: 0.3857 - val_acc: 0.7500\n",
      "Epoch 35/72\n",
      "3/3 [==============================] - 0s 16ms/step - loss: 0.6760 - acc: 0.7059 - val_loss: 0.3774 - val_acc: 0.7500\n",
      "Epoch 36/72\n",
      "3/3 [==============================] - 0s 17ms/step - loss: 0.6485 - acc: 0.7529 - val_loss: 0.3796 - val_acc: 0.7500\n",
      "Epoch 37/72\n",
      "3/3 [==============================] - 0s 16ms/step - loss: 0.6877 - acc: 0.7059 - val_loss: 0.3942 - val_acc: 0.7500\n",
      "Epoch 38/72\n",
      "3/3 [==============================] - 0s 17ms/step - loss: 0.7423 - acc: 0.6941 - val_loss: 0.3842 - val_acc: 0.7500\n",
      "Epoch 39/72\n",
      "3/3 [==============================] - 0s 16ms/step - loss: 0.6084 - acc: 0.7059 - val_loss: 0.3723 - val_acc: 0.7500\n",
      "Epoch 40/72\n",
      "3/3 [==============================] - 0s 17ms/step - loss: 0.6808 - acc: 0.6824 - val_loss: 0.3588 - val_acc: 0.7500\n",
      "Epoch 41/72\n",
      "3/3 [==============================] - 0s 17ms/step - loss: 0.5958 - acc: 0.7412 - val_loss: 0.3473 - val_acc: 0.7500\n",
      "Epoch 42/72\n",
      "3/3 [==============================] - 0s 16ms/step - loss: 0.5587 - acc: 0.7647 - val_loss: 0.3603 - val_acc: 0.7500\n",
      "Epoch 43/72\n",
      "3/3 [==============================] - 0s 16ms/step - loss: 0.6916 - acc: 0.6706 - val_loss: 0.4217 - val_acc: 0.6875\n",
      "Epoch 44/72\n",
      "3/3 [==============================] - 0s 16ms/step - loss: 0.5604 - acc: 0.7647 - val_loss: 0.3936 - val_acc: 0.6875\n",
      "Epoch 45/72\n",
      "3/3 [==============================] - 0s 16ms/step - loss: 0.6011 - acc: 0.7412 - val_loss: 0.3512 - val_acc: 0.7500\n",
      "Epoch 46/72\n",
      "3/3 [==============================] - 0s 17ms/step - loss: 0.5975 - acc: 0.7647 - val_loss: 0.3521 - val_acc: 0.7500\n",
      "Epoch 47/72\n",
      "3/3 [==============================] - 0s 17ms/step - loss: 0.5882 - acc: 0.7412 - val_loss: 0.3598 - val_acc: 0.7500\n",
      "Epoch 48/72\n",
      "3/3 [==============================] - 0s 16ms/step - loss: 0.6190 - acc: 0.6941 - val_loss: 0.3540 - val_acc: 0.7500\n",
      "Epoch 49/72\n",
      "3/3 [==============================] - 0s 15ms/step - loss: 0.6240 - acc: 0.6941 - val_loss: 0.3473 - val_acc: 0.7500\n",
      "Epoch 50/72\n",
      "3/3 [==============================] - 0s 16ms/step - loss: 0.5975 - acc: 0.7529 - val_loss: 0.3409 - val_acc: 0.7500\n",
      "Epoch 51/72\n",
      "3/3 [==============================] - 0s 16ms/step - loss: 0.6146 - acc: 0.7176 - val_loss: 0.3274 - val_acc: 0.7500\n",
      "Epoch 52/72\n",
      "3/3 [==============================] - 0s 17ms/step - loss: 0.6089 - acc: 0.7529 - val_loss: 0.3248 - val_acc: 0.7500\n",
      "Epoch 53/72\n",
      "3/3 [==============================] - 0s 29ms/step - loss: 0.6609 - acc: 0.7059 - val_loss: 0.3318 - val_acc: 0.7500\n",
      "Epoch 54/72\n",
      "3/3 [==============================] - 0s 16ms/step - loss: 0.5534 - acc: 0.6941 - val_loss: 0.3499 - val_acc: 0.7500\n",
      "Epoch 55/72\n",
      "3/3 [==============================] - 0s 17ms/step - loss: 0.5186 - acc: 0.7647 - val_loss: 0.3752 - val_acc: 0.6875\n",
      "Epoch 56/72\n",
      "3/3 [==============================] - 0s 16ms/step - loss: 0.5323 - acc: 0.7059 - val_loss: 0.3381 - val_acc: 0.7500\n",
      "Epoch 57/72\n",
      "3/3 [==============================] - 0s 16ms/step - loss: 0.5202 - acc: 0.7294 - val_loss: 0.3503 - val_acc: 0.7500\n",
      "Epoch 58/72\n",
      "3/3 [==============================] - 0s 17ms/step - loss: 0.5874 - acc: 0.7294 - val_loss: 0.3336 - val_acc: 0.7500\n",
      "Epoch 59/72\n",
      "3/3 [==============================] - 0s 16ms/step - loss: 0.5071 - acc: 0.7882 - val_loss: 0.3210 - val_acc: 0.7500\n",
      "Epoch 60/72\n",
      "3/3 [==============================] - 0s 16ms/step - loss: 0.5230 - acc: 0.7529 - val_loss: 0.3171 - val_acc: 0.7500\n",
      "Epoch 61/72\n",
      "3/3 [==============================] - 0s 17ms/step - loss: 0.4964 - acc: 0.7882 - val_loss: 0.3077 - val_acc: 0.7500\n",
      "Epoch 62/72\n",
      "3/3 [==============================] - 0s 17ms/step - loss: 0.4877 - acc: 0.8235 - val_loss: 0.2989 - val_acc: 0.9375\n",
      "Epoch 63/72\n",
      "3/3 [==============================] - 0s 17ms/step - loss: 0.5201 - acc: 0.7882 - val_loss: 0.2977 - val_acc: 1.0000\n",
      "Epoch 64/72\n",
      "3/3 [==============================] - 0s 17ms/step - loss: 0.5121 - acc: 0.7412 - val_loss: 0.2973 - val_acc: 1.0000\n",
      "Epoch 65/72\n",
      "3/3 [==============================] - 0s 16ms/step - loss: 0.4822 - acc: 0.7529 - val_loss: 0.2997 - val_acc: 1.0000\n",
      "Epoch 66/72\n",
      "3/3 [==============================] - 0s 16ms/step - loss: 0.5356 - acc: 0.7647 - val_loss: 0.2970 - val_acc: 0.8750\n",
      "Epoch 67/72\n",
      "3/3 [==============================] - 0s 17ms/step - loss: 0.5382 - acc: 0.8000 - val_loss: 0.2995 - val_acc: 0.7500\n",
      "Epoch 68/72\n",
      "3/3 [==============================] - 0s 16ms/step - loss: 0.5418 - acc: 0.7529 - val_loss: 0.3064 - val_acc: 0.7500\n",
      "Epoch 69/72\n",
      "3/3 [==============================] - 0s 16ms/step - loss: 0.3833 - acc: 0.8353 - val_loss: 0.3387 - val_acc: 0.7500\n",
      "Epoch 70/72\n",
      "3/3 [==============================] - 0s 16ms/step - loss: 0.4915 - acc: 0.7765 - val_loss: 0.3130 - val_acc: 0.7500\n",
      "Epoch 71/72\n",
      "3/3 [==============================] - 0s 16ms/step - loss: 0.5811 - acc: 0.7294 - val_loss: 0.3156 - val_acc: 0.7500\n",
      "Epoch 72/72\n",
      "3/3 [==============================] - 0s 16ms/step - loss: 0.4864 - acc: 0.7765 - val_loss: 0.3144 - val_acc: 0.7500\n"
     ]
    }
   ],
   "source": [
    "# Configure, compile, and fit model\n",
    "history_all = model.fit(x_all_train, y_all_train, epochs=72, validation_data=(x_all_val, y_all_val), shuffle=False)"
   ]
  },
  {
   "cell_type": "code",
   "execution_count": 15,
   "id": "da555cd0-e6dc-49f6-893b-d46e3d8ac0d5",
   "metadata": {},
   "outputs": [
    {
     "name": "stdout",
     "output_type": "stream",
     "text": [
      "0.6111111044883728\n"
     ]
    }
   ],
   "source": [
    "# Calculate accuracy on test dataset\n",
    "test_accuracy=model.evaluate(x_all_test, y_all_test, verbose=0)\n",
    "print(test_accuracy[1])"
   ]
  },
  {
   "cell_type": "code",
   "execution_count": 16,
   "id": "5646ca71-684c-4dcf-8afc-a0f836bb750c",
   "metadata": {},
   "outputs": [
    {
     "name": "stdout",
     "output_type": "stream",
     "text": [
      "1/1 [==============================] - 0s 18ms/step\n"
     ]
    },
    {
     "data": {
      "text/plain": [
       "<AxesSubplot:xlabel='PREDICTED LABEL', ylabel='GROUND TRUTH'>"
      ]
     },
     "execution_count": 16,
     "metadata": {},
     "output_type": "execute_result"
    },
    {
     "data": {
      "image/png": "[encoded data removed]",
      "text/plain": [
       "<Figure size 432x288 with 2 Axes>"
      ]
     },
     "metadata": {
      "needs_background": "light"
     },
     "output_type": "display_data"
    }
   ],
   "source": [
    "# Generate confusion matrix\n",
    "y_all_true, y_all_pred = numpy.argmax(y_all_test, axis=1), numpy.argmax(model.predict(x_all_test), axis=1)\n",
    "\n",
    "confusion_matrix_plot(y_all_true, y_all_pred)"
   ]
  }
 ],
 "metadata": {
  "kernelspec": {
   "display_name": "Python 3 (ipykernel)",
   "language": "python",
   "name": "python3"
  },
  "language_info": {
   "codemirror_mode": {
    "name": "ipython",
    "version": 3
   },
   "file_extension": ".py",
   "mimetype": "text/x-python",
   "name": "python",
   "nbconvert_exporter": "python",
   "pygments_lexer": "ipython3",
   "version": "3.7.9"
  }
 },
 "nbformat": 4,
 "nbformat_minor": 5
}
