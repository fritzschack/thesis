{
 "cells": [
  {
   "cell_type": "code",
   "execution_count": 1,
   "id": "b8d79e25-7649-4652-8673-da795f21166e",
   "metadata": {},
   "outputs": [],
   "source": [
    "import librosa\n",
    "import numpy\n",
    "import pandas\n",
    "import requests\n",
    "import seaborn\n",
    "import sklearn\n",
    "import tensorflow\n",
    "\n",
    "import matplotlib.pyplot as plt\n",
    "\n",
    "from tensorflow import keras\n",
    "from tensorflow.keras.layers import LSTM, Dense, Dropout\n",
    "from tqdm import tqdm\n",
    "from tensorflow.keras.utils import to_categorical\n",
    "from imblearn.under_sampling import RandomUnderSampler"
   ]
  },
  {
   "cell_type": "code",
   "execution_count": 2,
   "id": "d361006f-b775-43d4-a768-39ae3726b4e7",
   "metadata": {},
   "outputs": [
    {
     "data": {
      "text/html": [
       "<div>\n",
       "<style scoped>\n",
       "    .dataframe tbody tr th:only-of-type {\n",
       "        vertical-align: middle;\n",
       "    }\n",
       "\n",
       "    .dataframe tbody tr th {\n",
       "        vertical-align: top;\n",
       "    }\n",
       "\n",
       "    .dataframe thead th {\n",
       "        text-align: right;\n",
       "    }\n",
       "</style>\n",
       "<table border=\"1\" class=\"dataframe\">\n",
       "  <thead>\n",
       "    <tr style=\"text-align: right;\">\n",
       "      <th></th>\n",
       "      <th>path</th>\n",
       "      <th>label</th>\n",
       "      <th>environment</th>\n",
       "    </tr>\n",
       "  </thead>\n",
       "  <tbody>\n",
       "    <tr>\n",
       "      <th>0</th>\n",
       "      <td>../recordings/combined/a196dbae-1f50-4d0e-b345...</td>\n",
       "      <td>washing_hands</td>\n",
       "      <td>marsberg</td>\n",
       "    </tr>\n",
       "    <tr>\n",
       "      <th>1</th>\n",
       "      <td>../recordings/combined/826e36b1-2a7e-4d22-9c81...</td>\n",
       "      <td>washing_hands</td>\n",
       "      <td>marsberg</td>\n",
       "    </tr>\n",
       "    <tr>\n",
       "      <th>2</th>\n",
       "      <td>../recordings/combined/9a6b6b01-e466-47fb-9fcc...</td>\n",
       "      <td>washing_hands</td>\n",
       "      <td>marsberg</td>\n",
       "    </tr>\n",
       "    <tr>\n",
       "      <th>3</th>\n",
       "      <td>../recordings/combined/84ee02e6-44d5-4ab3-b875...</td>\n",
       "      <td>washing_hands</td>\n",
       "      <td>marsberg</td>\n",
       "    </tr>\n",
       "    <tr>\n",
       "      <th>4</th>\n",
       "      <td>../recordings/combined/ec24c55a-39ec-4b36-86fe...</td>\n",
       "      <td>washing_hands</td>\n",
       "      <td>marsberg</td>\n",
       "    </tr>\n",
       "  </tbody>\n",
       "</table>\n",
       "</div>"
      ],
      "text/plain": [
       "                                                path          label  \\\n",
       "0  ../recordings/combined/a196dbae-1f50-4d0e-b345...  washing_hands   \n",
       "1  ../recordings/combined/826e36b1-2a7e-4d22-9c81...  washing_hands   \n",
       "2  ../recordings/combined/9a6b6b01-e466-47fb-9fcc...  washing_hands   \n",
       "3  ../recordings/combined/84ee02e6-44d5-4ab3-b875...  washing_hands   \n",
       "4  ../recordings/combined/ec24c55a-39ec-4b36-86fe...  washing_hands   \n",
       "\n",
       "  environment  \n",
       "0    marsberg  \n",
       "1    marsberg  \n",
       "2    marsberg  \n",
       "3    marsberg  \n",
       "4    marsberg  "
      ]
     },
     "execution_count": 2,
     "metadata": {},
     "output_type": "execute_result"
    }
   ],
   "source": [
    "# Get list of all recordings\n",
    "data = requests.get(\"https://dolphin-app-9sdeq.ondigitalocean.app/api/v1/recordings\").json()\n",
    "\n",
    "recordings = []\n",
    "\n",
    "for recording in data:\n",
    "    recordings.append({\n",
    "        \"path\": f'../recordings/combined/{recording[\"name\"]}',\n",
    "        \"label\": recording[\"label\"],\n",
    "        \"environment\": recording[\"environment\"]\n",
    "    })\n",
    "\n",
    "dataframe = pandas.json_normalize(recordings)\n",
    "\n",
    "dataframe.head()"
   ]
  },
  {
   "cell_type": "code",
   "execution_count": 3,
   "id": "cfa7960d-309d-48e8-a280-bbc09ef0966b",
   "metadata": {},
   "outputs": [],
   "source": [
    "# Filter dataframe to include only data from marsberg\n",
    "dataframe = dataframe[dataframe[\"environment\"] == \"marsberg\"]"
   ]
  },
  {
   "cell_type": "code",
   "execution_count": 4,
   "id": "34e1b71e-b5a4-45f6-bd72-d724466ee693",
   "metadata": {},
   "outputs": [],
   "source": [
    "# Rebalance dataset to have equal number of samples per label\n",
    "\n",
    "x = dataframe.drop([\"label\"], axis=1)\n",
    "y = dataframe[\"label\"]\n",
    "\n",
    "rus = RandomUnderSampler(sampling_strategy=\"auto\")\n",
    "x, y = rus.fit_resample(x, y)\n",
    "\n",
    "dataframe = x\n",
    "dataframe[\"label\"] = y"
   ]
  },
  {
   "cell_type": "code",
   "execution_count": 5,
   "id": "08d2ea8b-aecb-4ce4-b49f-2887813f0afa",
   "metadata": {},
   "outputs": [
    {
     "name": "stderr",
     "output_type": "stream",
     "text": [
      "60it [01:09,  1.16s/it]\n"
     ]
    }
   ],
   "source": [
    "# Generate MFCCs for each recording\n",
    "def preprocess(dataframe):\n",
    "    features = []\n",
    "    for index, row in tqdm(dataframe.iterrows()):\n",
    "        audio, sample_rate = librosa.load(row[\"path\"])\n",
    "        mfcc = librosa.feature.mfcc(y=audio, n_mfcc=24, sr=sample_rate)\n",
    "        features.append(numpy.mean(mfcc.T, axis=0))\n",
    "        \n",
    "    dataframe[\"features\"] = features\n",
    "    \n",
    "    return dataframe\n",
    "\n",
    "dataframe = preprocess(dataframe)"
   ]
  },
  {
   "cell_type": "code",
   "execution_count": 6,
   "id": "9a48b532-611a-4f08-8e3c-71a3917ac489",
   "metadata": {},
   "outputs": [
    {
     "name": "stdout",
     "output_type": "stream",
     "text": [
      "(43, 24, 1) (9, 24, 1) (8, 24, 1)\n"
     ]
    }
   ],
   "source": [
    "# Prepare and split data for training\n",
    "x = numpy.array(dataframe[\"features\"].tolist())\n",
    "y = numpy.array(dataframe[\"label\"].tolist())\n",
    "\n",
    "x = numpy.expand_dims(x, axis=2)\n",
    "\n",
    "label_encoder = sklearn.preprocessing.LabelEncoder()\n",
    "y = to_categorical(label_encoder.fit_transform(y))\n",
    "\n",
    "x_train, x_test, y_train, y_test = sklearn.model_selection.train_test_split(x, y, test_size=0.15, random_state=2)\n",
    "x_train, x_val, y_train, y_val = sklearn.model_selection.train_test_split(x_train, y_train, test_size=0.15, random_state=2)\n",
    "\n",
    "print(x_train.shape, x_test.shape, x_val.shape)"
   ]
  },
  {
   "cell_type": "code",
   "execution_count": 7,
   "id": "2154e555-5e15-448c-82ce-b9518fc454ac",
   "metadata": {},
   "outputs": [
    {
     "name": "stderr",
     "output_type": "stream",
     "text": [
      "2022-09-19 18:22:22.058506: I tensorflow/core/platform/cpu_feature_guard.cc:193] This TensorFlow binary is optimized with oneAPI Deep Neural Network Library (oneDNN) to use the following CPU instructions in performance-critical operations:  AVX2 AVX512F AVX512_VNNI FMA\n",
      "To enable them in other operations, rebuild TensorFlow with the appropriate compiler flags.\n"
     ]
    },
    {
     "name": "stdout",
     "output_type": "stream",
     "text": [
      "Model: \"sequential\"\n",
      "_________________________________________________________________\n",
      " Layer (type)                Output Shape              Param #   \n",
      "=================================================================\n",
      " lstm (LSTM)                 (None, 40)                6720      \n",
      "                                                                 \n",
      " dropout (Dropout)           (None, 40)                0         \n",
      "                                                                 \n",
      " dense (Dense)               (None, 80)                3280      \n",
      "                                                                 \n",
      " dense_1 (Dense)             (None, 40)                3240      \n",
      "                                                                 \n",
      " dropout_1 (Dropout)         (None, 40)                0         \n",
      "                                                                 \n",
      " dense_2 (Dense)             (None, 20)                820       \n",
      "                                                                 \n",
      " dropout_2 (Dropout)         (None, 20)                0         \n",
      "                                                                 \n",
      " dense_3 (Dense)             (None, 5)                 105       \n",
      "                                                                 \n",
      "=================================================================\n",
      "Total params: 14,165\n",
      "Trainable params: 14,165\n",
      "Non-trainable params: 0\n",
      "_________________________________________________________________\n",
      "Epoch 1/72\n",
      "2/2 [==============================] - 3s 649ms/step - loss: 1.6040 - acc: 0.1860 - val_loss: 1.6300 - val_acc: 0.0000e+00\n",
      "Epoch 2/72\n",
      "2/2 [==============================] - 0s 69ms/step - loss: 1.5872 - acc: 0.2093 - val_loss: 1.6280 - val_acc: 0.1250\n",
      "Epoch 3/72\n",
      "2/2 [==============================] - 0s 46ms/step - loss: 1.5790 - acc: 0.2791 - val_loss: 1.6267 - val_acc: 0.1250\n",
      "Epoch 4/72\n",
      "2/2 [==============================] - 0s 43ms/step - loss: 1.5849 - acc: 0.2791 - val_loss: 1.6254 - val_acc: 0.2500\n",
      "Epoch 5/72\n",
      "2/2 [==============================] - 0s 45ms/step - loss: 1.5830 - acc: 0.2558 - val_loss: 1.6192 - val_acc: 0.2500\n",
      "Epoch 6/72\n",
      "2/2 [==============================] - 0s 35ms/step - loss: 1.5294 - acc: 0.3256 - val_loss: 1.6144 - val_acc: 0.2500\n",
      "Epoch 7/72\n",
      "2/2 [==============================] - 0s 34ms/step - loss: 1.5884 - acc: 0.2558 - val_loss: 1.6066 - val_acc: 0.3750\n",
      "Epoch 8/72\n",
      "2/2 [==============================] - 0s 31ms/step - loss: 1.5272 - acc: 0.3953 - val_loss: 1.5995 - val_acc: 0.3750\n",
      "Epoch 9/72\n",
      "2/2 [==============================] - 0s 33ms/step - loss: 1.5107 - acc: 0.3953 - val_loss: 1.5942 - val_acc: 0.3750\n",
      "Epoch 10/72\n",
      "2/2 [==============================] - 0s 33ms/step - loss: 1.5118 - acc: 0.3488 - val_loss: 1.5870 - val_acc: 0.3750\n",
      "Epoch 11/72\n",
      "2/2 [==============================] - 0s 32ms/step - loss: 1.5385 - acc: 0.3256 - val_loss: 1.5763 - val_acc: 0.3750\n",
      "Epoch 12/72\n",
      "2/2 [==============================] - 0s 30ms/step - loss: 1.4822 - acc: 0.4884 - val_loss: 1.5649 - val_acc: 0.3750\n",
      "Epoch 13/72\n",
      "2/2 [==============================] - 0s 30ms/step - loss: 1.4390 - acc: 0.4651 - val_loss: 1.5532 - val_acc: 0.3750\n",
      "Epoch 14/72\n",
      "2/2 [==============================] - 0s 32ms/step - loss: 1.4732 - acc: 0.4186 - val_loss: 1.5409 - val_acc: 0.3750\n",
      "Epoch 15/72\n",
      "2/2 [==============================] - 0s 33ms/step - loss: 1.4200 - acc: 0.4186 - val_loss: 1.5302 - val_acc: 0.3750\n",
      "Epoch 16/72\n",
      "2/2 [==============================] - 0s 35ms/step - loss: 1.4191 - acc: 0.3721 - val_loss: 1.5211 - val_acc: 0.3750\n",
      "Epoch 17/72\n",
      "2/2 [==============================] - 0s 33ms/step - loss: 1.3714 - acc: 0.4419 - val_loss: 1.5130 - val_acc: 0.3750\n",
      "Epoch 18/72\n",
      "2/2 [==============================] - 0s 31ms/step - loss: 1.4046 - acc: 0.4186 - val_loss: 1.5059 - val_acc: 0.3750\n",
      "Epoch 19/72\n",
      "2/2 [==============================] - 0s 27ms/step - loss: 1.3680 - acc: 0.3721 - val_loss: 1.4878 - val_acc: 0.3750\n",
      "Epoch 20/72\n",
      "2/2 [==============================] - 0s 50ms/step - loss: 1.3675 - acc: 0.4419 - val_loss: 1.4616 - val_acc: 0.3750\n",
      "Epoch 21/72\n",
      "2/2 [==============================] - 0s 40ms/step - loss: 1.3213 - acc: 0.5116 - val_loss: 1.4304 - val_acc: 0.3750\n",
      "Epoch 22/72\n",
      "2/2 [==============================] - 0s 38ms/step - loss: 1.2421 - acc: 0.5116 - val_loss: 1.4061 - val_acc: 0.3750\n",
      "Epoch 23/72\n",
      "2/2 [==============================] - 0s 32ms/step - loss: 1.2940 - acc: 0.5116 - val_loss: 1.3790 - val_acc: 0.3750\n",
      "Epoch 24/72\n",
      "2/2 [==============================] - 0s 34ms/step - loss: 1.2280 - acc: 0.4419 - val_loss: 1.3541 - val_acc: 0.3750\n",
      "Epoch 25/72\n",
      "2/2 [==============================] - 0s 54ms/step - loss: 1.2009 - acc: 0.5349 - val_loss: 1.3364 - val_acc: 0.3750\n",
      "Epoch 26/72\n",
      "2/2 [==============================] - 0s 30ms/step - loss: 1.3027 - acc: 0.4651 - val_loss: 1.3185 - val_acc: 0.3750\n",
      "Epoch 27/72\n",
      "2/2 [==============================] - 0s 34ms/step - loss: 1.2304 - acc: 0.4651 - val_loss: 1.2994 - val_acc: 0.3750\n",
      "Epoch 28/72\n",
      "2/2 [==============================] - 0s 32ms/step - loss: 1.2320 - acc: 0.5116 - val_loss: 1.2828 - val_acc: 0.3750\n",
      "Epoch 29/72\n",
      "2/2 [==============================] - 0s 31ms/step - loss: 1.1701 - acc: 0.4651 - val_loss: 1.2653 - val_acc: 0.3750\n",
      "Epoch 30/72\n",
      "2/2 [==============================] - 0s 31ms/step - loss: 1.2426 - acc: 0.4186 - val_loss: 1.2501 - val_acc: 0.3750\n",
      "Epoch 31/72\n",
      "2/2 [==============================] - 0s 31ms/step - loss: 1.1262 - acc: 0.5116 - val_loss: 1.2371 - val_acc: 0.3750\n",
      "Epoch 32/72\n",
      "2/2 [==============================] - 0s 47ms/step - loss: 1.0788 - acc: 0.5581 - val_loss: 1.2232 - val_acc: 0.3750\n",
      "Epoch 33/72\n",
      "2/2 [==============================] - 0s 32ms/step - loss: 1.0878 - acc: 0.4884 - val_loss: 1.2161 - val_acc: 0.3750\n",
      "Epoch 34/72\n",
      "2/2 [==============================] - 0s 34ms/step - loss: 1.1005 - acc: 0.4419 - val_loss: 1.2114 - val_acc: 0.3750\n",
      "Epoch 35/72\n",
      "2/2 [==============================] - 0s 31ms/step - loss: 1.0240 - acc: 0.5814 - val_loss: 1.2055 - val_acc: 0.3750\n",
      "Epoch 36/72\n",
      "2/2 [==============================] - 0s 27ms/step - loss: 1.0567 - acc: 0.5581 - val_loss: 1.1880 - val_acc: 0.3750\n",
      "Epoch 37/72\n",
      "2/2 [==============================] - 0s 43ms/step - loss: 1.0278 - acc: 0.6279 - val_loss: 1.1730 - val_acc: 0.3750\n",
      "Epoch 38/72\n",
      "2/2 [==============================] - 0s 55ms/step - loss: 0.9983 - acc: 0.6279 - val_loss: 1.1491 - val_acc: 0.3750\n",
      "Epoch 39/72\n",
      "2/2 [==============================] - 0s 33ms/step - loss: 1.0333 - acc: 0.5349 - val_loss: 1.1243 - val_acc: 0.3750\n",
      "Epoch 40/72\n",
      "2/2 [==============================] - 0s 32ms/step - loss: 0.9146 - acc: 0.6279 - val_loss: 1.0973 - val_acc: 0.3750\n",
      "Epoch 41/72\n",
      "2/2 [==============================] - 0s 32ms/step - loss: 0.9461 - acc: 0.6279 - val_loss: 1.0769 - val_acc: 0.3750\n",
      "Epoch 42/72\n",
      "2/2 [==============================] - 0s 36ms/step - loss: 0.8782 - acc: 0.6512 - val_loss: 1.0481 - val_acc: 0.3750\n",
      "Epoch 43/72\n",
      "2/2 [==============================] - 0s 34ms/step - loss: 0.9095 - acc: 0.6279 - val_loss: 1.0237 - val_acc: 0.3750\n",
      "Epoch 44/72\n",
      "2/2 [==============================] - 0s 34ms/step - loss: 0.8652 - acc: 0.6047 - val_loss: 1.0064 - val_acc: 0.3750\n",
      "Epoch 45/72\n",
      "2/2 [==============================] - 0s 33ms/step - loss: 0.8228 - acc: 0.6512 - val_loss: 0.9878 - val_acc: 0.3750\n",
      "Epoch 46/72\n",
      "2/2 [==============================] - 0s 54ms/step - loss: 0.8243 - acc: 0.6512 - val_loss: 0.9846 - val_acc: 0.3750\n",
      "Epoch 47/72\n",
      "2/2 [==============================] - 0s 36ms/step - loss: 0.9408 - acc: 0.5581 - val_loss: 0.9856 - val_acc: 0.3750\n",
      "Epoch 48/72\n",
      "2/2 [==============================] - 0s 31ms/step - loss: 0.8026 - acc: 0.6512 - val_loss: 0.9689 - val_acc: 0.3750\n",
      "Epoch 49/72\n",
      "2/2 [==============================] - 0s 30ms/step - loss: 0.9501 - acc: 0.6047 - val_loss: 0.9405 - val_acc: 0.5000\n",
      "Epoch 50/72\n",
      "2/2 [==============================] - 0s 47ms/step - loss: 0.7353 - acc: 0.6744 - val_loss: 0.9174 - val_acc: 0.5000\n",
      "Epoch 51/72\n",
      "2/2 [==============================] - 0s 41ms/step - loss: 0.6721 - acc: 0.7442 - val_loss: 0.8969 - val_acc: 0.5000\n",
      "Epoch 52/72\n",
      "2/2 [==============================] - 0s 37ms/step - loss: 0.6890 - acc: 0.7442 - val_loss: 0.8696 - val_acc: 0.6250\n",
      "Epoch 53/72\n",
      "2/2 [==============================] - 0s 41ms/step - loss: 0.7142 - acc: 0.6512 - val_loss: 0.8563 - val_acc: 0.6250\n",
      "Epoch 54/72\n",
      "2/2 [==============================] - 0s 30ms/step - loss: 0.7118 - acc: 0.6744 - val_loss: 0.8520 - val_acc: 0.6250\n",
      "Epoch 55/72\n",
      "2/2 [==============================] - 0s 35ms/step - loss: 0.6840 - acc: 0.7209 - val_loss: 0.8406 - val_acc: 0.6250\n",
      "Epoch 56/72\n",
      "2/2 [==============================] - 0s 34ms/step - loss: 0.5942 - acc: 0.7674 - val_loss: 0.8315 - val_acc: 0.6250\n",
      "Epoch 57/72\n",
      "2/2 [==============================] - 0s 34ms/step - loss: 0.5404 - acc: 0.7674 - val_loss: 0.8323 - val_acc: 0.6250\n",
      "Epoch 58/72\n",
      "2/2 [==============================] - 0s 34ms/step - loss: 0.7419 - acc: 0.6977 - val_loss: 0.8113 - val_acc: 0.6250\n",
      "Epoch 59/72\n",
      "2/2 [==============================] - 0s 35ms/step - loss: 0.5123 - acc: 0.7442 - val_loss: 0.7906 - val_acc: 0.6250\n",
      "Epoch 60/72\n",
      "2/2 [==============================] - 0s 30ms/step - loss: 0.5182 - acc: 0.7907 - val_loss: 0.7953 - val_acc: 0.6250\n",
      "Epoch 61/72\n",
      "2/2 [==============================] - 0s 30ms/step - loss: 0.6308 - acc: 0.7209 - val_loss: 0.8027 - val_acc: 0.6250\n",
      "Epoch 62/72\n",
      "2/2 [==============================] - 0s 30ms/step - loss: 0.5901 - acc: 0.7442 - val_loss: 0.7859 - val_acc: 0.5000\n",
      "Epoch 63/72\n",
      "2/2 [==============================] - 0s 39ms/step - loss: 0.5028 - acc: 0.7907 - val_loss: 0.7600 - val_acc: 0.6250\n",
      "Epoch 64/72\n",
      "2/2 [==============================] - 0s 30ms/step - loss: 0.6846 - acc: 0.6744 - val_loss: 0.7116 - val_acc: 0.7500\n",
      "Epoch 65/72\n",
      "2/2 [==============================] - 0s 31ms/step - loss: 0.5444 - acc: 0.7442 - val_loss: 0.6956 - val_acc: 0.7500\n",
      "Epoch 66/72\n",
      "2/2 [==============================] - 0s 32ms/step - loss: 0.6624 - acc: 0.7442 - val_loss: 0.6944 - val_acc: 0.7500\n",
      "Epoch 67/72\n",
      "2/2 [==============================] - 0s 28ms/step - loss: 0.5342 - acc: 0.7907 - val_loss: 0.7061 - val_acc: 0.7500\n",
      "Epoch 68/72\n",
      "2/2 [==============================] - 0s 27ms/step - loss: 0.5652 - acc: 0.7674 - val_loss: 0.7154 - val_acc: 0.7500\n",
      "Epoch 69/72\n",
      "2/2 [==============================] - 0s 28ms/step - loss: 0.5515 - acc: 0.7442 - val_loss: 0.7057 - val_acc: 0.7500\n",
      "Epoch 70/72\n",
      "2/2 [==============================] - 0s 28ms/step - loss: 0.4242 - acc: 0.7907 - val_loss: 0.6716 - val_acc: 0.8750\n",
      "Epoch 71/72\n",
      "2/2 [==============================] - 0s 29ms/step - loss: 0.4171 - acc: 0.8140 - val_loss: 0.6572 - val_acc: 0.8750\n",
      "Epoch 72/72\n",
      "2/2 [==============================] - 0s 29ms/step - loss: 0.5804 - acc: 0.7442 - val_loss: 0.6468 - val_acc: 0.8750\n"
     ]
    }
   ],
   "source": [
    "# Configure, compile, and fit model\n",
    "input_shape=(24, 1)\n",
    "model = keras.Sequential()\n",
    "model.add(LSTM(40,input_shape=input_shape))\n",
    "model.add(Dropout(0.2))\n",
    "model.add(Dense(80, activation='relu'))\n",
    "model.add(Dense(40, activation='relu'))\n",
    "model.add(Dropout(0.4))\n",
    "model.add(Dense(20, activation='relu'))\n",
    "model.add(Dropout(0.4))\n",
    "model.add(Dense(5, activation='softmax'))\n",
    "model.summary()\n",
    "\n",
    "model.compile(optimizer='adam',loss='categorical_crossentropy',metrics=['acc'])\n",
    "\n",
    "history = model.fit(x_train, y_train, epochs=72, validation_data=(x_val, y_val), shuffle=False)"
   ]
  },
  {
   "cell_type": "code",
   "execution_count": 8,
   "id": "befcb50b-a9cf-455a-bb93-5f4f1199df13",
   "metadata": {},
   "outputs": [
    {
     "name": "stdout",
     "output_type": "stream",
     "text": [
      "0.8888888955116272\n"
     ]
    }
   ],
   "source": [
    "# Calculate accuracy on test dataset\n",
    "test_accuracy=model.evaluate(x_test, y_test, verbose=0)\n",
    "print(test_accuracy[1])"
   ]
  },
  {
   "cell_type": "code",
   "execution_count": 9,
   "id": "a7db896a-9afa-4c96-8d3a-39e7be50d8b7",
   "metadata": {},
   "outputs": [
    {
     "name": "stdout",
     "output_type": "stream",
     "text": [
      "1/1 [==============================] - 0s 434ms/step\n",
      "[[1 0 0 0 0]\n",
      " [0 1 0 0 0]\n",
      " [0 0 2 0 0]\n",
      " [0 0 1 2 0]\n",
      " [0 0 0 0 2]]\n"
     ]
    },
    {
     "data": {
      "text/plain": [
       "<AxesSubplot:>"
      ]
     },
     "execution_count": 9,
     "metadata": {},
     "output_type": "execute_result"
    },
    {
     "data": {
      "image/png": "[encoded data removed]",
      "text/plain": [
       "<Figure size 432x288 with 2 Axes>"
      ]
     },
     "metadata": {
      "needs_background": "light"
     },
     "output_type": "display_data"
    }
   ],
   "source": [
    "# Generate confusion matrix\n",
    "y_true, y_pred = numpy.argmax(y_test, axis=1), numpy.argmax(model.predict(x_test), axis=1)\n",
    "\n",
    "confusion_matrix = sklearn.metrics.confusion_matrix(y_true, y_pred)\n",
    "\n",
    "print(confusion_matrix)\n",
    "\n",
    "def confusion_matrix_table(y_true, y_pred):\n",
    "    labels = sklearn.utils.multiclass.unique_labels(y_test)\n",
    "    columns = [f'Predicted {label}' for label in labels]\n",
    "    index = [f'Actual {label}' for label in labels]\n",
    "    table = pandas.DataFrame(sklearn.metrics.confusion_matrix(y_true, y_pred), columns=columns, index=index)\n",
    "    return table\n",
    "\n",
    "def confusion_matrix_plot(y_true, y_pred):\n",
    "    table = confusion_matrix_table(y_true, y_pred)\n",
    "    plot = seaborn.heatmap(table, annot=True, fmt=\"d\", cmap=\"viridis\")\n",
    "    plt.yticks(rotation=0) \n",
    "    return plot\n",
    "\n",
    "confusion_matrix_plot(y_true, y_pred)"
   ]
  }
 ],
 "metadata": {
  "kernelspec": {
   "display_name": "Python 3 (ipykernel)",
   "language": "python",
   "name": "python3"
  },
  "language_info": {
   "codemirror_mode": {
    "name": "ipython",
    "version": 3
   },
   "file_extension": ".py",
   "mimetype": "text/x-python",
   "name": "python",
   "nbconvert_exporter": "python",
   "pygments_lexer": "ipython3",
   "version": "3.7.9"
  }
 },
 "nbformat": 4,
 "nbformat_minor": 5
}
