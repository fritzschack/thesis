{
 "cells": [
  {
   "cell_type": "code",
   "execution_count": 1,
   "id": "b8d79e25-7649-4652-8673-da795f21166e",
   "metadata": {},
   "outputs": [],
   "source": [
    "import librosa\n",
    "import numpy\n",
    "import pandas\n",
    "import requests\n",
    "import seaborn\n",
    "import sklearn\n",
    "import tensorflow\n",
    "\n",
    "import matplotlib.pyplot as plt\n",
    "\n",
    "from tensorflow import keras\n",
    "from tensorflow.keras.layers import LSTM, Dense, Dropout\n",
    "from tqdm import tqdm\n",
    "from tensorflow.keras.utils import to_categorical"
   ]
  },
  {
   "cell_type": "code",
   "execution_count": 2,
   "id": "d361006f-b775-43d4-a768-39ae3726b4e7",
   "metadata": {},
   "outputs": [
    {
     "data": {
      "text/html": [
       "<div>\n",
       "<style scoped>\n",
       "    .dataframe tbody tr th:only-of-type {\n",
       "        vertical-align: middle;\n",
       "    }\n",
       "\n",
       "    .dataframe tbody tr th {\n",
       "        vertical-align: top;\n",
       "    }\n",
       "\n",
       "    .dataframe thead th {\n",
       "        text-align: right;\n",
       "    }\n",
       "</style>\n",
       "<table border=\"1\" class=\"dataframe\">\n",
       "  <thead>\n",
       "    <tr style=\"text-align: right;\">\n",
       "      <th></th>\n",
       "      <th>path</th>\n",
       "      <th>label</th>\n",
       "      <th>environment</th>\n",
       "    </tr>\n",
       "  </thead>\n",
       "  <tbody>\n",
       "    <tr>\n",
       "      <th>0</th>\n",
       "      <td>../recordings/combined/a196dbae-1f50-4d0e-b345...</td>\n",
       "      <td>washing_hands</td>\n",
       "      <td>marsberg</td>\n",
       "    </tr>\n",
       "    <tr>\n",
       "      <th>1</th>\n",
       "      <td>../recordings/combined/826e36b1-2a7e-4d22-9c81...</td>\n",
       "      <td>washing_hands</td>\n",
       "      <td>marsberg</td>\n",
       "    </tr>\n",
       "    <tr>\n",
       "      <th>2</th>\n",
       "      <td>../recordings/combined/9a6b6b01-e466-47fb-9fcc...</td>\n",
       "      <td>washing_hands</td>\n",
       "      <td>marsberg</td>\n",
       "    </tr>\n",
       "    <tr>\n",
       "      <th>3</th>\n",
       "      <td>../recordings/combined/84ee02e6-44d5-4ab3-b875...</td>\n",
       "      <td>washing_hands</td>\n",
       "      <td>marsberg</td>\n",
       "    </tr>\n",
       "    <tr>\n",
       "      <th>4</th>\n",
       "      <td>../recordings/combined/ec24c55a-39ec-4b36-86fe...</td>\n",
       "      <td>washing_hands</td>\n",
       "      <td>marsberg</td>\n",
       "    </tr>\n",
       "  </tbody>\n",
       "</table>\n",
       "</div>"
      ],
      "text/plain": [
       "                                                path          label  \\\n",
       "0  ../recordings/combined/a196dbae-1f50-4d0e-b345...  washing_hands   \n",
       "1  ../recordings/combined/826e36b1-2a7e-4d22-9c81...  washing_hands   \n",
       "2  ../recordings/combined/9a6b6b01-e466-47fb-9fcc...  washing_hands   \n",
       "3  ../recordings/combined/84ee02e6-44d5-4ab3-b875...  washing_hands   \n",
       "4  ../recordings/combined/ec24c55a-39ec-4b36-86fe...  washing_hands   \n",
       "\n",
       "  environment  \n",
       "0    marsberg  \n",
       "1    marsberg  \n",
       "2    marsberg  \n",
       "3    marsberg  \n",
       "4    marsberg  "
      ]
     },
     "execution_count": 2,
     "metadata": {},
     "output_type": "execute_result"
    }
   ],
   "source": [
    "# Get list of all recordings\n",
    "data = requests.get(\"https://dolphin-app-9sdeq.ondigitalocean.app/api/v1/recordings\").json()\n",
    "\n",
    "recordings = []\n",
    "\n",
    "for recording in data:\n",
    "    recordings.append({\n",
    "        \"path\": f'../recordings/combined/{recording[\"name\"]}',\n",
    "        \"label\": recording[\"label\"],\n",
    "        \"environment\": recording[\"environment\"]\n",
    "    })\n",
    "\n",
    "dataframe = pandas.json_normalize(recordings)\n",
    "\n",
    "dataframe.head()"
   ]
  },
  {
   "cell_type": "code",
   "execution_count": 3,
   "id": "cfa7960d-309d-48e8-a280-bbc09ef0966b",
   "metadata": {},
   "outputs": [],
   "source": [
    "# Filter dataframe to include only data from marsberg\n",
    "dataframe = dataframe[dataframe[\"environment\"] == \"marsberg\"]"
   ]
  },
  {
   "cell_type": "code",
   "execution_count": 4,
   "id": "08d2ea8b-aecb-4ce4-b49f-2887813f0afa",
   "metadata": {},
   "outputs": [
    {
     "name": "stderr",
     "output_type": "stream",
     "text": [
      "71it [01:12,  1.02s/it]\n"
     ]
    }
   ],
   "source": [
    "# Generate MFCCs for each recording\n",
    "def preprocess(dataframe):\n",
    "    features = []\n",
    "    for index, row in tqdm(dataframe.iterrows()):\n",
    "        audio, sample_rate = librosa.load(row[\"path\"])\n",
    "        mfcc = librosa.feature.mfcc(y=audio, n_mfcc=24, sr=sample_rate)\n",
    "        features.append(numpy.mean(mfcc.T, axis=0))\n",
    "        \n",
    "    dataframe[\"features\"] = features\n",
    "    \n",
    "    return dataframe\n",
    "\n",
    "dataframe = preprocess(dataframe)"
   ]
  },
  {
   "cell_type": "code",
   "execution_count": 5,
   "id": "9a48b532-611a-4f08-8e3c-71a3917ac489",
   "metadata": {},
   "outputs": [
    {
     "name": "stdout",
     "output_type": "stream",
     "text": [
      "(51, 24, 1) (11, 24, 1) (9, 24, 1)\n"
     ]
    }
   ],
   "source": [
    "# Prepare and split data for training\n",
    "x = numpy.array(dataframe[\"features\"].tolist())\n",
    "y = numpy.array(dataframe[\"label\"].tolist())\n",
    "\n",
    "x = numpy.expand_dims(x, axis=2)\n",
    "\n",
    "label_encoder = sklearn.preprocessing.LabelEncoder()\n",
    "y = to_categorical(label_encoder.fit_transform(y))\n",
    "\n",
    "x_train, x_test, y_train, y_test = sklearn.model_selection.train_test_split(x, y, test_size=0.15, random_state=1)\n",
    "x_train, x_val, y_train, y_val = sklearn.model_selection.train_test_split(x_train, y_train, test_size=0.15, random_state=1)\n",
    "\n",
    "print(x_train.shape, x_test.shape, x_val.shape)"
   ]
  },
  {
   "cell_type": "code",
   "execution_count": 6,
   "id": "2154e555-5e15-448c-82ce-b9518fc454ac",
   "metadata": {},
   "outputs": [
    {
     "name": "stderr",
     "output_type": "stream",
     "text": [
      "2022-09-19 17:56:02.528399: I tensorflow/core/platform/cpu_feature_guard.cc:193] This TensorFlow binary is optimized with oneAPI Deep Neural Network Library (oneDNN) to use the following CPU instructions in performance-critical operations:  AVX2 AVX512F AVX512_VNNI FMA\n",
      "To enable them in other operations, rebuild TensorFlow with the appropriate compiler flags.\n"
     ]
    },
    {
     "name": "stdout",
     "output_type": "stream",
     "text": [
      "Model: \"sequential\"\n",
      "_________________________________________________________________\n",
      " Layer (type)                Output Shape              Param #   \n",
      "=================================================================\n",
      " lstm (LSTM)                 (None, 200)               161600    \n",
      "                                                                 \n",
      " dropout (Dropout)           (None, 200)               0         \n",
      "                                                                 \n",
      " dense (Dense)               (None, 100)               20100     \n",
      "                                                                 \n",
      " dense_1 (Dense)             (None, 50)                5050      \n",
      "                                                                 \n",
      " dropout_1 (Dropout)         (None, 50)                0         \n",
      "                                                                 \n",
      " dense_2 (Dense)             (None, 20)                1020      \n",
      "                                                                 \n",
      " dropout_2 (Dropout)         (None, 20)                0         \n",
      "                                                                 \n",
      " dense_3 (Dense)             (None, 5)                 105       \n",
      "                                                                 \n",
      "=================================================================\n",
      "Total params: 187,875\n",
      "Trainable params: 187,875\n",
      "Non-trainable params: 0\n",
      "_________________________________________________________________\n",
      "Epoch 1/75\n",
      "2/2 [==============================] - 3s 633ms/step - loss: 1.6312 - acc: 0.1569 - val_loss: 1.5798 - val_acc: 0.1111\n",
      "Epoch 2/75\n",
      "2/2 [==============================] - 0s 41ms/step - loss: 1.6042 - acc: 0.1373 - val_loss: 1.5500 - val_acc: 0.4444\n",
      "Epoch 3/75\n",
      "2/2 [==============================] - 0s 44ms/step - loss: 1.5552 - acc: 0.2353 - val_loss: 1.5199 - val_acc: 0.4444\n",
      "Epoch 4/75\n",
      "2/2 [==============================] - 0s 43ms/step - loss: 1.4950 - acc: 0.4510 - val_loss: 1.4814 - val_acc: 0.4444\n",
      "Epoch 5/75\n",
      "2/2 [==============================] - 0s 38ms/step - loss: 1.4315 - acc: 0.5490 - val_loss: 1.4236 - val_acc: 0.4444\n",
      "Epoch 6/75\n",
      "2/2 [==============================] - 0s 36ms/step - loss: 1.3369 - acc: 0.5882 - val_loss: 1.3508 - val_acc: 0.4444\n",
      "Epoch 7/75\n",
      "2/2 [==============================] - 0s 37ms/step - loss: 1.2289 - acc: 0.6078 - val_loss: 1.2656 - val_acc: 0.4444\n",
      "Epoch 8/75\n",
      "2/2 [==============================] - 0s 41ms/step - loss: 1.2959 - acc: 0.4902 - val_loss: 1.2041 - val_acc: 0.4444\n",
      "Epoch 9/75\n",
      "2/2 [==============================] - 0s 38ms/step - loss: 1.2062 - acc: 0.4314 - val_loss: 1.1368 - val_acc: 0.4444\n",
      "Epoch 10/75\n",
      "2/2 [==============================] - 0s 40ms/step - loss: 1.1123 - acc: 0.5882 - val_loss: 1.1340 - val_acc: 0.4444\n",
      "Epoch 11/75\n",
      "2/2 [==============================] - 0s 37ms/step - loss: 1.1266 - acc: 0.5294 - val_loss: 1.0233 - val_acc: 0.4444\n",
      "Epoch 12/75\n",
      "2/2 [==============================] - 0s 41ms/step - loss: 0.9585 - acc: 0.6275 - val_loss: 1.2870 - val_acc: 0.6667\n",
      "Epoch 13/75\n",
      "2/2 [==============================] - 0s 37ms/step - loss: 1.0765 - acc: 0.5882 - val_loss: 0.9107 - val_acc: 0.6667\n",
      "Epoch 14/75\n",
      "2/2 [==============================] - 0s 36ms/step - loss: 0.8908 - acc: 0.5882 - val_loss: 0.8335 - val_acc: 0.6667\n",
      "Epoch 15/75\n",
      "2/2 [==============================] - 0s 37ms/step - loss: 0.8037 - acc: 0.6471 - val_loss: 0.8345 - val_acc: 0.5556\n",
      "Epoch 16/75\n",
      "2/2 [==============================] - 0s 36ms/step - loss: 0.7800 - acc: 0.6471 - val_loss: 0.7616 - val_acc: 0.6667\n",
      "Epoch 17/75\n",
      "2/2 [==============================] - 0s 38ms/step - loss: 0.8625 - acc: 0.6471 - val_loss: 0.7035 - val_acc: 0.7778\n",
      "Epoch 18/75\n",
      "2/2 [==============================] - 0s 37ms/step - loss: 0.6233 - acc: 0.7843 - val_loss: 0.6539 - val_acc: 0.6667\n",
      "Epoch 19/75\n",
      "2/2 [==============================] - 0s 40ms/step - loss: 0.7314 - acc: 0.6471 - val_loss: 0.6190 - val_acc: 0.8889\n",
      "Epoch 20/75\n",
      "2/2 [==============================] - 0s 36ms/step - loss: 0.6192 - acc: 0.7255 - val_loss: 0.6939 - val_acc: 0.6667\n",
      "Epoch 21/75\n",
      "2/2 [==============================] - 0s 41ms/step - loss: 0.5103 - acc: 0.8039 - val_loss: 0.6080 - val_acc: 0.6667\n",
      "Epoch 22/75\n",
      "2/2 [==============================] - 0s 37ms/step - loss: 0.5475 - acc: 0.7843 - val_loss: 0.5337 - val_acc: 0.7778\n",
      "Epoch 23/75\n",
      "2/2 [==============================] - 0s 38ms/step - loss: 0.4861 - acc: 0.7255 - val_loss: 0.4853 - val_acc: 0.8889\n",
      "Epoch 24/75\n",
      "2/2 [==============================] - 0s 37ms/step - loss: 0.5150 - acc: 0.8039 - val_loss: 0.4280 - val_acc: 1.0000\n",
      "Epoch 25/75\n",
      "2/2 [==============================] - 0s 41ms/step - loss: 0.4812 - acc: 0.7843 - val_loss: 0.4116 - val_acc: 1.0000\n",
      "Epoch 26/75\n",
      "2/2 [==============================] - 0s 37ms/step - loss: 0.4565 - acc: 0.8431 - val_loss: 0.5899 - val_acc: 0.8889\n",
      "Epoch 27/75\n",
      "2/2 [==============================] - 0s 37ms/step - loss: 0.4391 - acc: 0.7843 - val_loss: 0.7501 - val_acc: 0.8889\n",
      "Epoch 28/75\n",
      "2/2 [==============================] - 0s 38ms/step - loss: 0.3780 - acc: 0.8824 - val_loss: 0.5185 - val_acc: 0.8889\n",
      "Epoch 29/75\n",
      "2/2 [==============================] - 0s 40ms/step - loss: 0.4481 - acc: 0.8627 - val_loss: 0.4498 - val_acc: 0.8889\n",
      "Epoch 30/75\n",
      "2/2 [==============================] - 0s 38ms/step - loss: 0.4515 - acc: 0.8235 - val_loss: 0.4423 - val_acc: 0.8889\n",
      "Epoch 31/75\n",
      "2/2 [==============================] - 0s 36ms/step - loss: 0.5162 - acc: 0.8039 - val_loss: 0.2874 - val_acc: 1.0000\n",
      "Epoch 32/75\n",
      "2/2 [==============================] - 0s 35ms/step - loss: 0.4891 - acc: 0.7843 - val_loss: 0.2972 - val_acc: 1.0000\n",
      "Epoch 33/75\n",
      "2/2 [==============================] - 0s 35ms/step - loss: 0.2096 - acc: 0.9608 - val_loss: 1.1547 - val_acc: 0.8889\n",
      "Epoch 34/75\n",
      "2/2 [==============================] - 0s 36ms/step - loss: 0.4846 - acc: 0.8431 - val_loss: 1.4562 - val_acc: 0.7778\n",
      "Epoch 35/75\n",
      "2/2 [==============================] - 0s 38ms/step - loss: 0.3464 - acc: 0.9020 - val_loss: 0.2472 - val_acc: 0.8889\n",
      "Epoch 36/75\n",
      "2/2 [==============================] - 0s 38ms/step - loss: 0.3407 - acc: 0.9216 - val_loss: 0.1772 - val_acc: 1.0000\n",
      "Epoch 37/75\n",
      "2/2 [==============================] - 0s 38ms/step - loss: 0.5139 - acc: 0.7843 - val_loss: 0.2106 - val_acc: 1.0000\n",
      "Epoch 38/75\n",
      "2/2 [==============================] - 0s 43ms/step - loss: 0.5324 - acc: 0.7843 - val_loss: 0.1496 - val_acc: 1.0000\n",
      "Epoch 39/75\n",
      "2/2 [==============================] - 0s 40ms/step - loss: 0.3207 - acc: 0.8627 - val_loss: 0.1628 - val_acc: 1.0000\n",
      "Epoch 40/75\n",
      "2/2 [==============================] - 0s 36ms/step - loss: 0.4474 - acc: 0.7647 - val_loss: 0.1274 - val_acc: 1.0000\n",
      "Epoch 41/75\n",
      "2/2 [==============================] - 0s 35ms/step - loss: 0.1663 - acc: 0.9608 - val_loss: 0.1591 - val_acc: 1.0000\n",
      "Epoch 42/75\n",
      "2/2 [==============================] - 0s 39ms/step - loss: 0.2912 - acc: 0.9020 - val_loss: 0.3851 - val_acc: 0.8889\n",
      "Epoch 43/75\n",
      "2/2 [==============================] - 0s 36ms/step - loss: 0.2483 - acc: 0.9216 - val_loss: 0.4833 - val_acc: 0.8889\n",
      "Epoch 44/75\n",
      "2/2 [==============================] - 0s 35ms/step - loss: 0.2134 - acc: 0.9412 - val_loss: 0.4891 - val_acc: 0.8889\n",
      "Epoch 45/75\n",
      "2/2 [==============================] - 0s 35ms/step - loss: 0.2765 - acc: 0.9412 - val_loss: 0.3701 - val_acc: 0.8889\n",
      "Epoch 46/75\n",
      "2/2 [==============================] - 0s 37ms/step - loss: 0.1185 - acc: 0.9608 - val_loss: 0.2590 - val_acc: 0.8889\n",
      "Epoch 47/75\n",
      "2/2 [==============================] - 0s 36ms/step - loss: 0.2616 - acc: 0.8627 - val_loss: 0.1849 - val_acc: 0.8889\n",
      "Epoch 48/75\n",
      "2/2 [==============================] - 0s 36ms/step - loss: 0.0909 - acc: 0.9804 - val_loss: 0.1022 - val_acc: 1.0000\n",
      "Epoch 49/75\n",
      "2/2 [==============================] - 0s 35ms/step - loss: 0.1356 - acc: 0.9804 - val_loss: 0.0989 - val_acc: 1.0000\n",
      "Epoch 50/75\n",
      "2/2 [==============================] - 0s 35ms/step - loss: 0.2022 - acc: 0.9020 - val_loss: 0.0655 - val_acc: 1.0000\n",
      "Epoch 51/75\n",
      "2/2 [==============================] - 0s 40ms/step - loss: 0.1473 - acc: 0.9412 - val_loss: 0.0308 - val_acc: 1.0000\n",
      "Epoch 52/75\n",
      "2/2 [==============================] - 0s 37ms/step - loss: 0.1927 - acc: 0.9216 - val_loss: 0.0286 - val_acc: 1.0000\n",
      "Epoch 53/75\n",
      "2/2 [==============================] - 0s 37ms/step - loss: 0.2108 - acc: 0.9020 - val_loss: 0.0282 - val_acc: 1.0000\n",
      "Epoch 54/75\n",
      "2/2 [==============================] - 0s 36ms/step - loss: 0.1650 - acc: 0.9608 - val_loss: 0.0206 - val_acc: 1.0000\n",
      "Epoch 55/75\n",
      "2/2 [==============================] - 0s 37ms/step - loss: 0.1323 - acc: 0.9608 - val_loss: 0.0166 - val_acc: 1.0000\n",
      "Epoch 56/75\n",
      "2/2 [==============================] - 0s 35ms/step - loss: 0.2323 - acc: 0.9020 - val_loss: 0.1309 - val_acc: 0.8889\n",
      "Epoch 57/75\n",
      "2/2 [==============================] - 0s 36ms/step - loss: 0.1305 - acc: 0.9412 - val_loss: 0.0996 - val_acc: 0.8889\n",
      "Epoch 58/75\n",
      "2/2 [==============================] - 0s 39ms/step - loss: 0.2428 - acc: 0.9412 - val_loss: 0.0852 - val_acc: 1.0000\n",
      "Epoch 59/75\n",
      "2/2 [==============================] - 0s 35ms/step - loss: 0.1011 - acc: 0.9608 - val_loss: 0.0382 - val_acc: 1.0000\n",
      "Epoch 60/75\n",
      "2/2 [==============================] - 0s 37ms/step - loss: 0.1135 - acc: 0.9804 - val_loss: 0.0194 - val_acc: 1.0000\n",
      "Epoch 61/75\n",
      "2/2 [==============================] - 0s 36ms/step - loss: 0.1046 - acc: 0.9412 - val_loss: 0.0114 - val_acc: 1.0000\n",
      "Epoch 62/75\n",
      "2/2 [==============================] - 0s 35ms/step - loss: 0.2070 - acc: 0.9216 - val_loss: 0.0100 - val_acc: 1.0000\n",
      "Epoch 63/75\n",
      "2/2 [==============================] - 0s 37ms/step - loss: 0.0776 - acc: 0.9804 - val_loss: 0.0148 - val_acc: 1.0000\n",
      "Epoch 64/75\n",
      "2/2 [==============================] - 0s 38ms/step - loss: 0.1187 - acc: 0.9804 - val_loss: 0.0459 - val_acc: 1.0000\n",
      "Epoch 65/75\n",
      "2/2 [==============================] - 0s 35ms/step - loss: 0.0986 - acc: 0.9608 - val_loss: 0.0100 - val_acc: 1.0000\n",
      "Epoch 66/75\n",
      "2/2 [==============================] - 0s 36ms/step - loss: 0.1378 - acc: 0.9412 - val_loss: 0.0073 - val_acc: 1.0000\n",
      "Epoch 67/75\n",
      "2/2 [==============================] - 0s 35ms/step - loss: 0.1109 - acc: 0.9412 - val_loss: 0.0074 - val_acc: 1.0000\n",
      "Epoch 68/75\n",
      "2/2 [==============================] - 0s 36ms/step - loss: 0.1132 - acc: 0.9608 - val_loss: 0.0082 - val_acc: 1.0000\n",
      "Epoch 69/75\n",
      "2/2 [==============================] - 0s 36ms/step - loss: 0.1122 - acc: 0.9608 - val_loss: 0.0055 - val_acc: 1.0000\n",
      "Epoch 70/75\n",
      "2/2 [==============================] - 0s 36ms/step - loss: 0.1010 - acc: 0.9804 - val_loss: 0.0034 - val_acc: 1.0000\n",
      "Epoch 71/75\n",
      "2/2 [==============================] - 0s 37ms/step - loss: 0.0336 - acc: 1.0000 - val_loss: 0.0025 - val_acc: 1.0000\n",
      "Epoch 72/75\n",
      "2/2 [==============================] - 0s 40ms/step - loss: 0.1367 - acc: 0.9608 - val_loss: 0.0022 - val_acc: 1.0000\n",
      "Epoch 73/75\n",
      "2/2 [==============================] - 0s 48ms/step - loss: 0.0817 - acc: 0.9608 - val_loss: 0.0021 - val_acc: 1.0000\n",
      "Epoch 74/75\n",
      "2/2 [==============================] - 0s 41ms/step - loss: 0.1815 - acc: 0.9412 - val_loss: 0.0025 - val_acc: 1.0000\n",
      "Epoch 75/75\n",
      "2/2 [==============================] - 0s 38ms/step - loss: 0.1446 - acc: 0.9216 - val_loss: 0.0015 - val_acc: 1.0000\n"
     ]
    }
   ],
   "source": [
    "# Configure, compile, and fit model\n",
    "input_shape=(24, 1)\n",
    "model = keras.Sequential()\n",
    "model.add(LSTM(200,input_shape=input_shape))\n",
    "model.add(Dropout(0.2))\n",
    "model.add(Dense(100, activation='relu'))\n",
    "model.add(Dense(50, activation='relu'))\n",
    "model.add(Dropout(0.4))\n",
    "model.add(Dense(20, activation='relu'))\n",
    "model.add(Dropout(0.4))\n",
    "model.add(Dense(5, activation='softmax'))\n",
    "model.summary()\n",
    "\n",
    "model.compile(optimizer='adam',loss='categorical_crossentropy',metrics=['acc'])\n",
    "\n",
    "history = model.fit(x_train, y_train, epochs=75, validation_data=(x_val, y_val), shuffle=False)"
   ]
  },
  {
   "cell_type": "code",
   "execution_count": 7,
   "id": "befcb50b-a9cf-455a-bb93-5f4f1199df13",
   "metadata": {},
   "outputs": [
    {
     "name": "stdout",
     "output_type": "stream",
     "text": [
      "1.0\n"
     ]
    }
   ],
   "source": [
    "# Calculate accuracy on test dataset\n",
    "test_accuracy=model.evaluate(x_test, y_test, verbose=0)\n",
    "print(test_accuracy[1])"
   ]
  },
  {
   "cell_type": "code",
   "execution_count": 8,
   "id": "a7db896a-9afa-4c96-8d3a-39e7be50d8b7",
   "metadata": {},
   "outputs": [
    {
     "name": "stdout",
     "output_type": "stream",
     "text": [
      "1/1 [==============================] - 0s 493ms/step\n"
     ]
    },
    {
     "data": {
      "text/plain": [
       "<AxesSubplot:>"
      ]
     },
     "execution_count": 8,
     "metadata": {},
     "output_type": "execute_result"
    },
    {
     "data": {
      "image/png": "[encoded data removed]",
      "text/plain": [
       "<Figure size 432x288 with 2 Axes>"
      ]
     },
     "metadata": {
      "needs_background": "light"
     },
     "output_type": "display_data"
    }
   ],
   "source": [
    "# Generate confusion matrix\n",
    "y_true, y_pred = numpy.argmax(y_test, axis=1), numpy.argmax(model.predict(x_test), axis=1)\n",
    "\n",
    "confusion_matrix = sklearn.metrics.confusion_matrix(y_true, y_pred)\n",
    "\n",
    "def confusion_matrix_table(y_true, y_pred):\n",
    "    labels = sklearn.utils.multiclass.unique_labels(y_test)\n",
    "    columns = [f'Predicted {label}' for label in labels]\n",
    "    index = [f'Actual {label}' for label in labels]\n",
    "    table = pandas.DataFrame(sklearn.metrics.confusion_matrix(y_true, y_pred), columns=columns, index=index)\n",
    "    return table\n",
    "\n",
    "def confusion_matrix_plot(y_true, y_pred):\n",
    "    table = confusion_matrix_table(y_true, y_pred)\n",
    "    plot = seaborn.heatmap(table, annot=True, fmt=\"d\", cmap=\"viridis\")\n",
    "    plt.yticks(rotation=0) \n",
    "    return plot\n",
    "\n",
    "confusion_matrix_plot(y_true, y_pred)"
   ]
  }
 ],
 "metadata": {
  "kernelspec": {
   "display_name": "Python 3 (ipykernel)",
   "language": "python",
   "name": "python3"
  },
  "language_info": {
   "codemirror_mode": {
    "name": "ipython",
    "version": 3
   },
   "file_extension": ".py",
   "mimetype": "text/x-python",
   "name": "python",
   "nbconvert_exporter": "python",
   "pygments_lexer": "ipython3",
   "version": "3.7.9"
  }
 },
 "nbformat": 4,
 "nbformat_minor": 5
}
