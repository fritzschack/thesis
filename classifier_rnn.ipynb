{
 "cells": [
  {
   "cell_type": "markdown",
   "id": "008f7137-5e35-4f16-987e-bc662f21f01d",
   "metadata": {},
   "source": [
    "## Imports & Variables"
   ]
  },
  {
   "cell_type": "code",
   "execution_count": 1,
   "id": "b8d79e25-7649-4652-8673-da795f21166e",
   "metadata": {},
   "outputs": [],
   "source": [
    "import librosa\n",
    "import numpy\n",
    "import pandas\n",
    "import requests\n",
    "import seaborn\n",
    "import sklearn\n",
    "import tensorflow\n",
    "\n",
    "import matplotlib.pyplot as plt\n",
    "\n",
    "from tensorflow import keras\n",
    "from tensorflow.keras.layers import LSTM, Dense, Dropout\n",
    "from tqdm import tqdm\n",
    "from tensorflow.keras.utils import to_categorical\n",
    "from imblearn.under_sampling import RandomUnderSampler"
   ]
  },
  {
   "cell_type": "code",
   "execution_count": 2,
   "id": "d814cb6f-7186-400c-b454-b91d2ec22683",
   "metadata": {},
   "outputs": [],
   "source": [
    "# List of all labels\n",
    "labels = [\"washing_hands\", \"shower\", \"flushing_toilet\", \"dishwasher\", \"washing_machine\"]"
   ]
  },
  {
   "cell_type": "markdown",
   "id": "0c15cfb2-c3cf-462f-b710-be88c30e5282",
   "metadata": {},
   "source": [
    "## Data Collection & Feature Extraction"
   ]
  },
  {
   "cell_type": "code",
   "execution_count": 3,
   "id": "d361006f-b775-43d4-a768-39ae3726b4e7",
   "metadata": {},
   "outputs": [
    {
     "data": {
      "text/html": [
       "<div>\n",
       "<style scoped>\n",
       "    .dataframe tbody tr th:only-of-type {\n",
       "        vertical-align: middle;\n",
       "    }\n",
       "\n",
       "    .dataframe tbody tr th {\n",
       "        vertical-align: top;\n",
       "    }\n",
       "\n",
       "    .dataframe thead th {\n",
       "        text-align: right;\n",
       "    }\n",
       "</style>\n",
       "<table border=\"1\" class=\"dataframe\">\n",
       "  <thead>\n",
       "    <tr style=\"text-align: right;\">\n",
       "      <th></th>\n",
       "      <th>path</th>\n",
       "      <th>label</th>\n",
       "      <th>environment</th>\n",
       "    </tr>\n",
       "  </thead>\n",
       "  <tbody>\n",
       "    <tr>\n",
       "      <th>0</th>\n",
       "      <td>../recordings/combined/a196dbae-1f50-4d0e-b345...</td>\n",
       "      <td>washing_hands</td>\n",
       "      <td>marsberg</td>\n",
       "    </tr>\n",
       "    <tr>\n",
       "      <th>1</th>\n",
       "      <td>../recordings/combined/826e36b1-2a7e-4d22-9c81...</td>\n",
       "      <td>washing_hands</td>\n",
       "      <td>marsberg</td>\n",
       "    </tr>\n",
       "    <tr>\n",
       "      <th>2</th>\n",
       "      <td>../recordings/combined/9a6b6b01-e466-47fb-9fcc...</td>\n",
       "      <td>washing_hands</td>\n",
       "      <td>marsberg</td>\n",
       "    </tr>\n",
       "    <tr>\n",
       "      <th>3</th>\n",
       "      <td>../recordings/combined/84ee02e6-44d5-4ab3-b875...</td>\n",
       "      <td>washing_hands</td>\n",
       "      <td>marsberg</td>\n",
       "    </tr>\n",
       "    <tr>\n",
       "      <th>4</th>\n",
       "      <td>../recordings/combined/ec24c55a-39ec-4b36-86fe...</td>\n",
       "      <td>washing_hands</td>\n",
       "      <td>marsberg</td>\n",
       "    </tr>\n",
       "  </tbody>\n",
       "</table>\n",
       "</div>"
      ],
      "text/plain": [
       "                                                path          label  \\\n",
       "0  ../recordings/combined/a196dbae-1f50-4d0e-b345...  washing_hands   \n",
       "1  ../recordings/combined/826e36b1-2a7e-4d22-9c81...  washing_hands   \n",
       "2  ../recordings/combined/9a6b6b01-e466-47fb-9fcc...  washing_hands   \n",
       "3  ../recordings/combined/84ee02e6-44d5-4ab3-b875...  washing_hands   \n",
       "4  ../recordings/combined/ec24c55a-39ec-4b36-86fe...  washing_hands   \n",
       "\n",
       "  environment  \n",
       "0    marsberg  \n",
       "1    marsberg  \n",
       "2    marsberg  \n",
       "3    marsberg  \n",
       "4    marsberg  "
      ]
     },
     "execution_count": 3,
     "metadata": {},
     "output_type": "execute_result"
    }
   ],
   "source": [
    "# Get list of all recordings\n",
    "data = requests.get(\"https://dolphin-app-9sdeq.ondigitalocean.app/api/v1/recordings\").json()\n",
    "\n",
    "recordings = []\n",
    "\n",
    "for recording in data:\n",
    "    recordings.append({\n",
    "        \"path\": f'../recordings/combined/{recording[\"name\"]}',\n",
    "        \"label\": recording[\"label\"],\n",
    "        \"environment\": recording[\"environment\"]\n",
    "    })\n",
    "\n",
    "dataframe = pandas.json_normalize(recordings)\n",
    "\n",
    "dataframe.head()"
   ]
  },
  {
   "cell_type": "code",
   "execution_count": 4,
   "id": "08d2ea8b-aecb-4ce4-b49f-2887813f0afa",
   "metadata": {},
   "outputs": [
    {
     "name": "stderr",
     "output_type": "stream",
     "text": [
      "119it [02:29,  1.26s/it]\n"
     ]
    }
   ],
   "source": [
    "# Generate MFCCs for each recording\n",
    "def preprocess(dataframe):\n",
    "    features = []\n",
    "    for index, row in tqdm(dataframe.iterrows()):\n",
    "        audio, sample_rate = librosa.load(row[\"path\"])\n",
    "        mfcc = librosa.feature.mfcc(y=audio, n_mfcc=24, sr=sample_rate)\n",
    "        features.append(numpy.mean(mfcc.T, axis=0))\n",
    "        \n",
    "    dataframe[\"features\"] = features\n",
    "    \n",
    "    return dataframe\n",
    "\n",
    "dataframe = preprocess(dataframe)"
   ]
  },
  {
   "cell_type": "code",
   "execution_count": 5,
   "id": "cfa7960d-309d-48e8-a280-bbc09ef0966b",
   "metadata": {},
   "outputs": [],
   "source": [
    "# Filter dataframe to include only data from marsberg\n",
    "dataframe_marsberg = dataframe[dataframe[\"environment\"] == \"marsberg\"]\n",
    "dataframe_duesseldorf = dataframe[dataframe[\"environment\"] == \"duesseldorf\"]"
   ]
  },
  {
   "cell_type": "markdown",
   "id": "5a1a2348-314b-417c-a255-8d7bdfdbcc1b",
   "metadata": {},
   "source": [
    "## Recurrent Neural Network trained on data from _marsberg_"
   ]
  },
  {
   "cell_type": "code",
   "execution_count": 6,
   "id": "9a48b532-611a-4f08-8e3c-71a3917ac489",
   "metadata": {},
   "outputs": [
    {
     "name": "stdout",
     "output_type": "stream",
     "text": [
      "(51, 24, 1) (11, 24, 1) (9, 24, 1)\n"
     ]
    }
   ],
   "source": [
    "# Prepare and split data for training\n",
    "x = numpy.array(dataframe_marsberg[\"features\"].tolist())\n",
    "y = numpy.array(dataframe_marsberg[\"label\"].tolist())\n",
    "\n",
    "x = numpy.expand_dims(x, axis=2)\n",
    "\n",
    "label_encoder = sklearn.preprocessing.LabelEncoder()\n",
    "y = to_categorical(label_encoder.fit_transform(y))\n",
    "\n",
    "x_train, x_test, y_train, y_test = sklearn.model_selection.train_test_split(x, y, test_size=0.15, random_state=1)\n",
    "x_train, x_val, y_train, y_val = sklearn.model_selection.train_test_split(x_train, y_train, test_size=0.15, random_state=1)\n",
    "\n",
    "print(x_train.shape, x_test.shape, x_val.shape)"
   ]
  },
  {
   "cell_type": "code",
   "execution_count": 7,
   "id": "2154e555-5e15-448c-82ce-b9518fc454ac",
   "metadata": {},
   "outputs": [
    {
     "name": "stderr",
     "output_type": "stream",
     "text": [
      "2022-09-20 19:25:26.069658: I tensorflow/core/platform/cpu_feature_guard.cc:193] This TensorFlow binary is optimized with oneAPI Deep Neural Network Library (oneDNN) to use the following CPU instructions in performance-critical operations:  AVX2 AVX512F AVX512_VNNI FMA\n",
      "To enable them in other operations, rebuild TensorFlow with the appropriate compiler flags.\n"
     ]
    },
    {
     "name": "stdout",
     "output_type": "stream",
     "text": [
      "Model: \"sequential\"\n",
      "_________________________________________________________________\n",
      " Layer (type)                Output Shape              Param #   \n",
      "=================================================================\n",
      " lstm (LSTM)                 (None, 40)                6720      \n",
      "                                                                 \n",
      " dropout (Dropout)           (None, 40)                0         \n",
      "                                                                 \n",
      " dense (Dense)               (None, 80)                3280      \n",
      "                                                                 \n",
      " dense_1 (Dense)             (None, 40)                3240      \n",
      "                                                                 \n",
      " dropout_1 (Dropout)         (None, 40)                0         \n",
      "                                                                 \n",
      " dense_2 (Dense)             (None, 20)                820       \n",
      "                                                                 \n",
      " dropout_2 (Dropout)         (None, 20)                0         \n",
      "                                                                 \n",
      " dense_3 (Dense)             (None, 5)                 105       \n",
      "                                                                 \n",
      "=================================================================\n",
      "Total params: 14,165\n",
      "Trainable params: 14,165\n",
      "Non-trainable params: 0\n",
      "_________________________________________________________________\n",
      "Epoch 1/72\n",
      "2/2 [==============================] - 3s 528ms/step - loss: 1.6362 - acc: 0.1569 - val_loss: 1.6078 - val_acc: 0.3333\n",
      "Epoch 2/72\n",
      "2/2 [==============================] - 0s 34ms/step - loss: 1.5949 - acc: 0.1569 - val_loss: 1.5947 - val_acc: 0.3333\n",
      "Epoch 3/72\n",
      "2/2 [==============================] - 0s 95ms/step - loss: 1.6053 - acc: 0.2353 - val_loss: 1.5912 - val_acc: 0.4444\n",
      "Epoch 4/72\n",
      "2/2 [==============================] - 0s 64ms/step - loss: 1.5784 - acc: 0.2157 - val_loss: 1.5954 - val_acc: 0.4444\n",
      "Epoch 5/72\n",
      "2/2 [==============================] - 0s 26ms/step - loss: 1.5977 - acc: 0.2745 - val_loss: 1.5978 - val_acc: 0.4444\n",
      "Epoch 6/72\n",
      "2/2 [==============================] - 0s 27ms/step - loss: 1.5653 - acc: 0.3922 - val_loss: 1.5957 - val_acc: 0.4444\n",
      "Epoch 7/72\n",
      "2/2 [==============================] - 0s 26ms/step - loss: 1.5698 - acc: 0.2353 - val_loss: 1.5950 - val_acc: 0.4444\n",
      "Epoch 8/72\n",
      "2/2 [==============================] - 0s 26ms/step - loss: 1.5732 - acc: 0.2941 - val_loss: 1.5959 - val_acc: 0.3333\n",
      "Epoch 9/72\n",
      "2/2 [==============================] - 0s 26ms/step - loss: 1.4975 - acc: 0.3137 - val_loss: 1.5953 - val_acc: 0.3333\n",
      "Epoch 10/72\n",
      "2/2 [==============================] - 0s 28ms/step - loss: 1.5371 - acc: 0.3529 - val_loss: 1.5935 - val_acc: 0.3333\n",
      "Epoch 11/72\n",
      "2/2 [==============================] - 0s 27ms/step - loss: 1.5208 - acc: 0.4118 - val_loss: 1.5868 - val_acc: 0.3333\n",
      "Epoch 12/72\n",
      "2/2 [==============================] - 0s 27ms/step - loss: 1.5169 - acc: 0.4118 - val_loss: 1.5753 - val_acc: 0.3333\n",
      "Epoch 13/72\n",
      "2/2 [==============================] - 0s 28ms/step - loss: 1.5189 - acc: 0.3725 - val_loss: 1.5631 - val_acc: 0.3333\n",
      "Epoch 14/72\n",
      "2/2 [==============================] - 0s 27ms/step - loss: 1.5077 - acc: 0.3725 - val_loss: 1.5509 - val_acc: 0.3333\n",
      "Epoch 15/72\n",
      "2/2 [==============================] - 0s 26ms/step - loss: 1.4744 - acc: 0.3922 - val_loss: 1.5385 - val_acc: 0.3333\n",
      "Epoch 16/72\n",
      "2/2 [==============================] - 0s 27ms/step - loss: 1.4459 - acc: 0.3725 - val_loss: 1.5252 - val_acc: 0.3333\n",
      "Epoch 17/72\n",
      "2/2 [==============================] - 0s 26ms/step - loss: 1.4579 - acc: 0.5686 - val_loss: 1.5132 - val_acc: 0.3333\n",
      "Epoch 18/72\n",
      "2/2 [==============================] - 0s 27ms/step - loss: 1.4593 - acc: 0.4118 - val_loss: 1.4995 - val_acc: 0.3333\n",
      "Epoch 19/72\n",
      "2/2 [==============================] - 0s 31ms/step - loss: 1.4669 - acc: 0.4118 - val_loss: 1.4852 - val_acc: 0.3333\n",
      "Epoch 20/72\n",
      "2/2 [==============================] - 0s 35ms/step - loss: 1.4207 - acc: 0.3725 - val_loss: 1.4660 - val_acc: 0.4444\n",
      "Epoch 21/72\n",
      "2/2 [==============================] - 0s 39ms/step - loss: 1.3620 - acc: 0.5294 - val_loss: 1.4449 - val_acc: 0.5556\n",
      "Epoch 22/72\n",
      "2/2 [==============================] - 0s 30ms/step - loss: 1.3800 - acc: 0.4510 - val_loss: 1.4127 - val_acc: 0.5556\n",
      "Epoch 23/72\n",
      "2/2 [==============================] - 0s 32ms/step - loss: 1.3755 - acc: 0.5294 - val_loss: 1.3776 - val_acc: 0.5556\n",
      "Epoch 24/72\n",
      "2/2 [==============================] - 0s 32ms/step - loss: 1.4400 - acc: 0.4314 - val_loss: 1.3437 - val_acc: 0.4444\n",
      "Epoch 25/72\n",
      "2/2 [==============================] - 0s 28ms/step - loss: 1.2422 - acc: 0.5490 - val_loss: 1.3071 - val_acc: 0.4444\n",
      "Epoch 26/72\n",
      "2/2 [==============================] - 0s 25ms/step - loss: 1.2770 - acc: 0.5490 - val_loss: 1.2717 - val_acc: 0.4444\n",
      "Epoch 27/72\n",
      "2/2 [==============================] - 0s 26ms/step - loss: 1.2474 - acc: 0.5490 - val_loss: 1.2387 - val_acc: 0.4444\n",
      "Epoch 28/72\n",
      "2/2 [==============================] - 0s 26ms/step - loss: 1.2271 - acc: 0.5490 - val_loss: 1.2124 - val_acc: 0.4444\n",
      "Epoch 29/72\n",
      "2/2 [==============================] - 0s 25ms/step - loss: 1.2265 - acc: 0.5098 - val_loss: 1.1799 - val_acc: 0.4444\n",
      "Epoch 30/72\n",
      "2/2 [==============================] - 0s 26ms/step - loss: 1.1491 - acc: 0.5098 - val_loss: 1.1309 - val_acc: 0.5556\n",
      "Epoch 31/72\n",
      "2/2 [==============================] - 0s 26ms/step - loss: 1.2524 - acc: 0.4118 - val_loss: 1.0851 - val_acc: 0.5556\n",
      "Epoch 32/72\n",
      "2/2 [==============================] - 0s 26ms/step - loss: 1.0586 - acc: 0.5882 - val_loss: 1.0410 - val_acc: 0.5556\n",
      "Epoch 33/72\n",
      "2/2 [==============================] - 0s 26ms/step - loss: 1.1837 - acc: 0.5098 - val_loss: 0.9990 - val_acc: 0.8889\n",
      "Epoch 34/72\n",
      "2/2 [==============================] - 0s 25ms/step - loss: 0.9754 - acc: 0.7059 - val_loss: 0.9543 - val_acc: 0.8889\n",
      "Epoch 35/72\n",
      "2/2 [==============================] - 0s 26ms/step - loss: 1.1074 - acc: 0.5882 - val_loss: 0.9143 - val_acc: 0.8889\n",
      "Epoch 36/72\n",
      "2/2 [==============================] - 0s 25ms/step - loss: 1.0448 - acc: 0.5294 - val_loss: 0.8744 - val_acc: 0.8889\n",
      "Epoch 37/72\n",
      "2/2 [==============================] - 0s 25ms/step - loss: 1.0030 - acc: 0.5294 - val_loss: 0.8445 - val_acc: 0.8889\n",
      "Epoch 38/72\n",
      "2/2 [==============================] - 0s 26ms/step - loss: 0.9981 - acc: 0.6078 - val_loss: 0.8167 - val_acc: 0.8889\n",
      "Epoch 39/72\n",
      "2/2 [==============================] - 0s 26ms/step - loss: 1.0508 - acc: 0.6275 - val_loss: 0.7783 - val_acc: 0.8889\n",
      "Epoch 40/72\n",
      "2/2 [==============================] - 0s 26ms/step - loss: 0.8767 - acc: 0.7451 - val_loss: 0.7293 - val_acc: 1.0000\n",
      "Epoch 41/72\n",
      "2/2 [==============================] - 0s 27ms/step - loss: 0.8822 - acc: 0.7255 - val_loss: 0.6863 - val_acc: 1.0000\n",
      "Epoch 42/72\n",
      "2/2 [==============================] - 0s 30ms/step - loss: 0.7985 - acc: 0.7451 - val_loss: 0.6384 - val_acc: 1.0000\n",
      "Epoch 43/72\n",
      "2/2 [==============================] - 0s 33ms/step - loss: 0.7624 - acc: 0.7843 - val_loss: 0.5848 - val_acc: 1.0000\n",
      "Epoch 44/72\n",
      "2/2 [==============================] - 0s 28ms/step - loss: 0.7877 - acc: 0.7059 - val_loss: 0.5366 - val_acc: 1.0000\n",
      "Epoch 45/72\n",
      "2/2 [==============================] - 0s 29ms/step - loss: 0.6106 - acc: 0.8627 - val_loss: 0.4936 - val_acc: 1.0000\n",
      "Epoch 46/72\n",
      "2/2 [==============================] - 0s 28ms/step - loss: 0.8686 - acc: 0.6471 - val_loss: 0.4636 - val_acc: 1.0000\n",
      "Epoch 47/72\n",
      "2/2 [==============================] - 0s 27ms/step - loss: 0.6946 - acc: 0.6275 - val_loss: 0.4314 - val_acc: 1.0000\n",
      "Epoch 48/72\n",
      "2/2 [==============================] - 0s 30ms/step - loss: 0.5675 - acc: 0.8235 - val_loss: 0.3788 - val_acc: 1.0000\n",
      "Epoch 49/72\n",
      "2/2 [==============================] - 0s 28ms/step - loss: 0.6386 - acc: 0.7647 - val_loss: 0.3587 - val_acc: 1.0000\n",
      "Epoch 50/72\n",
      "2/2 [==============================] - 0s 28ms/step - loss: 0.6324 - acc: 0.7647 - val_loss: 0.3267 - val_acc: 1.0000\n",
      "Epoch 51/72\n",
      "2/2 [==============================] - 0s 27ms/step - loss: 0.6017 - acc: 0.6863 - val_loss: 0.3317 - val_acc: 1.0000\n",
      "Epoch 52/72\n",
      "2/2 [==============================] - 0s 28ms/step - loss: 0.6100 - acc: 0.8431 - val_loss: 0.3444 - val_acc: 1.0000\n",
      "Epoch 53/72\n",
      "2/2 [==============================] - 0s 29ms/step - loss: 0.6290 - acc: 0.7451 - val_loss: 0.2865 - val_acc: 1.0000\n",
      "Epoch 54/72\n",
      "2/2 [==============================] - 0s 33ms/step - loss: 0.6821 - acc: 0.7255 - val_loss: 0.2775 - val_acc: 1.0000\n",
      "Epoch 55/72\n",
      "2/2 [==============================] - 0s 30ms/step - loss: 0.5342 - acc: 0.8431 - val_loss: 0.2618 - val_acc: 1.0000\n",
      "Epoch 56/72\n",
      "2/2 [==============================] - 0s 29ms/step - loss: 0.4724 - acc: 0.8627 - val_loss: 0.2377 - val_acc: 1.0000\n",
      "Epoch 57/72\n",
      "2/2 [==============================] - 0s 31ms/step - loss: 0.5451 - acc: 0.8431 - val_loss: 0.2384 - val_acc: 1.0000\n",
      "Epoch 58/72\n",
      "2/2 [==============================] - 0s 28ms/step - loss: 0.5543 - acc: 0.8235 - val_loss: 0.3516 - val_acc: 0.8889\n",
      "Epoch 59/72\n",
      "2/2 [==============================] - 0s 30ms/step - loss: 0.5731 - acc: 0.8039 - val_loss: 0.3688 - val_acc: 0.8889\n",
      "Epoch 60/72\n",
      "2/2 [==============================] - 0s 28ms/step - loss: 0.4573 - acc: 0.8824 - val_loss: 0.2752 - val_acc: 1.0000\n",
      "Epoch 61/72\n",
      "2/2 [==============================] - 0s 28ms/step - loss: 0.4835 - acc: 0.8235 - val_loss: 0.1817 - val_acc: 1.0000\n",
      "Epoch 62/72\n",
      "2/2 [==============================] - 0s 33ms/step - loss: 0.4608 - acc: 0.8824 - val_loss: 0.1513 - val_acc: 1.0000\n",
      "Epoch 63/72\n",
      "2/2 [==============================] - 0s 29ms/step - loss: 0.5615 - acc: 0.7843 - val_loss: 0.1470 - val_acc: 1.0000\n",
      "Epoch 64/72\n",
      "2/2 [==============================] - 0s 31ms/step - loss: 0.6025 - acc: 0.8039 - val_loss: 0.1436 - val_acc: 1.0000\n",
      "Epoch 65/72\n",
      "2/2 [==============================] - 0s 27ms/step - loss: 0.5101 - acc: 0.8627 - val_loss: 0.1261 - val_acc: 1.0000\n",
      "Epoch 66/72\n",
      "2/2 [==============================] - 0s 27ms/step - loss: 0.4599 - acc: 0.8039 - val_loss: 0.1260 - val_acc: 1.0000\n",
      "Epoch 67/72\n",
      "2/2 [==============================] - 0s 27ms/step - loss: 0.4566 - acc: 0.8235 - val_loss: 0.1540 - val_acc: 1.0000\n",
      "Epoch 68/72\n",
      "2/2 [==============================] - 0s 27ms/step - loss: 0.6179 - acc: 0.7843 - val_loss: 0.1442 - val_acc: 1.0000\n",
      "Epoch 69/72\n",
      "2/2 [==============================] - 0s 28ms/step - loss: 0.5019 - acc: 0.8039 - val_loss: 0.1100 - val_acc: 1.0000\n",
      "Epoch 70/72\n",
      "2/2 [==============================] - 0s 27ms/step - loss: 0.4293 - acc: 0.8039 - val_loss: 0.1072 - val_acc: 1.0000\n",
      "Epoch 71/72\n",
      "2/2 [==============================] - 0s 27ms/step - loss: 0.4350 - acc: 0.8824 - val_loss: 0.1036 - val_acc: 1.0000\n",
      "Epoch 72/72\n",
      "2/2 [==============================] - 0s 28ms/step - loss: 0.4227 - acc: 0.8039 - val_loss: 0.0931 - val_acc: 1.0000\n"
     ]
    }
   ],
   "source": [
    "# Configure, compile, and fit model\n",
    "input_shape=(24, 1)\n",
    "model = keras.Sequential()\n",
    "model.add(LSTM(40,input_shape=input_shape))\n",
    "model.add(Dropout(0.2))\n",
    "model.add(Dense(80, activation='relu'))\n",
    "model.add(Dense(40, activation='relu'))\n",
    "model.add(Dropout(0.4))\n",
    "model.add(Dense(20, activation='relu'))\n",
    "model.add(Dropout(0.4))\n",
    "model.add(Dense(5, activation='softmax'))\n",
    "model.summary()\n",
    "\n",
    "model.compile(optimizer='adam',loss='categorical_crossentropy',metrics=['acc'])\n",
    "\n",
    "history = model.fit(x_train, y_train, epochs=72, validation_data=(x_val, y_val), shuffle=False)"
   ]
  },
  {
   "cell_type": "code",
   "execution_count": 8,
   "id": "befcb50b-a9cf-455a-bb93-5f4f1199df13",
   "metadata": {},
   "outputs": [
    {
     "name": "stdout",
     "output_type": "stream",
     "text": [
      "1.0\n"
     ]
    }
   ],
   "source": [
    "# Calculate accuracy on test dataset\n",
    "test_accuracy=model.evaluate(x_test, y_test, verbose=0)\n",
    "print(test_accuracy[1])"
   ]
  },
  {
   "cell_type": "code",
   "execution_count": 9,
   "id": "a7db896a-9afa-4c96-8d3a-39e7be50d8b7",
   "metadata": {},
   "outputs": [
    {
     "name": "stdout",
     "output_type": "stream",
     "text": [
      "1/1 [==============================] - 0s 465ms/step\n"
     ]
    },
    {
     "data": {
      "text/plain": [
       "<AxesSubplot:xlabel='PREDICTED LABEL', ylabel='GROUND TRUTH'>"
      ]
     },
     "execution_count": 9,
     "metadata": {},
     "output_type": "execute_result"
    },
    {
     "data": {
      "image/png": "[encoded data removed]",
      "text/plain": [
       "<Figure size 432x288 with 2 Axes>"
      ]
     },
     "metadata": {
      "needs_background": "light"
     },
     "output_type": "display_data"
    }
   ],
   "source": [
    "# Generate confusion matrix\n",
    "y_true, y_pred = numpy.argmax(y_test, axis=1), numpy.argmax(model.predict(x_test), axis=1)\n",
    "\n",
    "confusion_matrix = sklearn.metrics.confusion_matrix(y_true, y_pred)\n",
    "\n",
    "def confusion_matrix_table(y_true, y_pred):\n",
    "    columns = [label for label in label_encoder.classes_]\n",
    "    index = [label for label in label_encoder.classes_]\n",
    "    table = pandas.DataFrame(sklearn.metrics.confusion_matrix(y_true, y_pred), columns=columns, index=index)\n",
    "    return table\n",
    "\n",
    "def confusion_matrix_plot(y_true, y_pred):\n",
    "    table = confusion_matrix_table(y_true, y_pred)\n",
    "    plot = seaborn.heatmap(table, annot=True, fmt=\"d\", cmap=\"viridis\")\n",
    "    plt.yticks(rotation=0) \n",
    "    plt.ylabel(\n",
    "        'GROUND TRUTH', \n",
    "        fontsize = 12, \n",
    "        fontweight = 600\n",
    "    )\n",
    "    plt.xlabel(\n",
    "        'PREDICTED LABEL', \n",
    "        fontsize = 12, \n",
    "        fontweight = 600\n",
    "    )\n",
    "    return plot\n",
    "\n",
    "confusion_matrix_plot(y_true, y_pred)"
   ]
  },
  {
   "cell_type": "code",
   "execution_count": 10,
   "id": "304182af-2395-4102-81a4-5da90ad4ad5e",
   "metadata": {},
   "outputs": [
    {
     "name": "stdout",
     "output_type": "stream",
     "text": [
      "0.02083333395421505\n"
     ]
    }
   ],
   "source": [
    "# Calculate accuracy on data from duesseldorf\n",
    "x_duesseldorf = numpy.array(dataframe_duesseldorf[\"features\"].tolist())\n",
    "y_duesseldorf = numpy.array(dataframe_duesseldorf[\"label\"].tolist())\n",
    "\n",
    "x_duesseldorf = numpy.expand_dims(x_duesseldorf, axis=2)\n",
    "\n",
    "label_encoder = sklearn.preprocessing.LabelEncoder()\n",
    "y_duesseldorf = to_categorical(label_encoder.fit_transform(y_duesseldorf))\n",
    "\n",
    "test_accuracy=model.evaluate(x_duesseldorf, y_duesseldorf, verbose=0)\n",
    "print(test_accuracy[1])"
   ]
  },
  {
   "cell_type": "code",
   "execution_count": 11,
   "id": "3b5d5df1-9fe9-4331-984f-bc7757ff114e",
   "metadata": {},
   "outputs": [
    {
     "name": "stdout",
     "output_type": "stream",
     "text": [
      "2/2 [==============================] - 0s 6ms/step\n"
     ]
    },
    {
     "data": {
      "text/plain": [
       "<AxesSubplot:xlabel='PREDICTED LABEL', ylabel='GROUND TRUTH'>"
      ]
     },
     "execution_count": 11,
     "metadata": {},
     "output_type": "execute_result"
    },
    {
     "data": {
      "image/png": "[encoded data removed]",
      "text/plain": [
       "<Figure size 432x288 with 2 Axes>"
      ]
     },
     "metadata": {
      "needs_background": "light"
     },
     "output_type": "display_data"
    }
   ],
   "source": [
    "# Generate confusion matrix on data from duesseldorf\n",
    "y_true, y_pred = numpy.argmax(y_duesseldorf, axis=1), numpy.argmax(model.predict(x_duesseldorf), axis=1)\n",
    "\n",
    "confusion_matrix = sklearn.metrics.confusion_matrix(y_true, y_pred)\n",
    "\n",
    "def confusion_matrix_table(y_true, y_pred):\n",
    "    columns = [label for label in label_encoder.classes_]\n",
    "    index = [label for label in label_encoder.classes_]\n",
    "    table = pandas.DataFrame(sklearn.metrics.confusion_matrix(y_true, y_pred), columns=columns, index=index)\n",
    "    return table\n",
    "\n",
    "def confusion_matrix_plot(y_true, y_pred):\n",
    "    table = confusion_matrix_table(y_true, y_pred)\n",
    "    plot = seaborn.heatmap(table, annot=True, fmt=\"d\", cmap=\"viridis\")\n",
    "    plt.yticks(rotation=0) \n",
    "    plt.ylabel(\n",
    "        'GROUND TRUTH', \n",
    "        fontsize = 12, \n",
    "        fontweight = 600\n",
    "    )\n",
    "    plt.xlabel(\n",
    "        'PREDICTED LABEL', \n",
    "        fontsize = 12, \n",
    "        fontweight = 600\n",
    "    )\n",
    "    return plot\n",
    "\n",
    "confusion_matrix_plot(y_true, y_pred)"
   ]
  },
  {
   "cell_type": "markdown",
   "id": "09e91621-6f7e-4843-a142-d6dacafc152e",
   "metadata": {},
   "source": [
    "## Recurrent Neural Network trained on all data"
   ]
  },
  {
   "cell_type": "code",
   "execution_count": 12,
   "id": "7d0a88de-e4c9-4673-97e2-0423a7c0fd95",
   "metadata": {},
   "outputs": [
    {
     "name": "stdout",
     "output_type": "stream",
     "text": [
      "(85, 24, 1) (18, 24, 1) (16, 24, 1)\n"
     ]
    }
   ],
   "source": [
    "# Prepare and split data for training\n",
    "x_all = numpy.array(dataframe[\"features\"].tolist())\n",
    "y_all = numpy.array(dataframe[\"label\"].tolist())\n",
    "\n",
    "x_all = numpy.expand_dims(x_all, axis=2)\n",
    "\n",
    "label_encoder = sklearn.preprocessing.LabelEncoder()\n",
    "y_all = to_categorical(label_encoder.fit_transform(y_all))\n",
    "\n",
    "x_all_train, x_all_test, y_all_train, y_all_test = sklearn.model_selection.train_test_split(x_all, y_all, test_size=0.15, random_state=1)\n",
    "x_all_train, x_all_val, y_all_train, y_all_val = sklearn.model_selection.train_test_split(x_all_train, y_all_train, test_size=0.15, random_state=1)\n",
    "\n",
    "print(x_all_train.shape, x_all_test.shape, x_all_val.shape)"
   ]
  },
  {
   "cell_type": "code",
   "execution_count": 13,
   "id": "46c70d50-4c4f-491e-a0cc-6f4df79fde4d",
   "metadata": {},
   "outputs": [
    {
     "name": "stdout",
     "output_type": "stream",
     "text": [
      "Epoch 1/72\n",
      "3/3 [==============================] - 0s 32ms/step - loss: 2.2038 - acc: 0.4941 - val_loss: 0.9548 - val_acc: 0.7500\n",
      "Epoch 2/72\n",
      "3/3 [==============================] - 0s 20ms/step - loss: 1.5687 - acc: 0.5529 - val_loss: 0.6999 - val_acc: 0.7500\n",
      "Epoch 3/72\n",
      "3/3 [==============================] - 0s 18ms/step - loss: 1.2653 - acc: 0.5412 - val_loss: 0.5605 - val_acc: 0.7500\n",
      "Epoch 4/72\n",
      "3/3 [==============================] - 0s 18ms/step - loss: 0.9831 - acc: 0.6000 - val_loss: 0.6025 - val_acc: 0.8125\n",
      "Epoch 5/72\n",
      "3/3 [==============================] - 0s 18ms/step - loss: 1.0123 - acc: 0.5412 - val_loss: 0.6421 - val_acc: 0.8125\n",
      "Epoch 6/72\n",
      "3/3 [==============================] - 0s 17ms/step - loss: 1.0033 - acc: 0.5529 - val_loss: 0.6550 - val_acc: 0.8125\n",
      "Epoch 7/72\n",
      "3/3 [==============================] - 0s 17ms/step - loss: 1.0819 - acc: 0.5294 - val_loss: 0.6348 - val_acc: 0.8125\n",
      "Epoch 8/72\n",
      "3/3 [==============================] - 0s 17ms/step - loss: 1.0339 - acc: 0.5294 - val_loss: 0.6108 - val_acc: 0.8125\n",
      "Epoch 9/72\n",
      "3/3 [==============================] - 0s 16ms/step - loss: 0.9156 - acc: 0.6353 - val_loss: 0.5900 - val_acc: 0.8125\n",
      "Epoch 10/72\n",
      "3/3 [==============================] - 0s 15ms/step - loss: 0.9304 - acc: 0.5647 - val_loss: 0.5709 - val_acc: 0.8125\n",
      "Epoch 11/72\n",
      "3/3 [==============================] - 0s 15ms/step - loss: 0.8846 - acc: 0.6824 - val_loss: 0.5600 - val_acc: 0.8125\n",
      "Epoch 12/72\n",
      "3/3 [==============================] - 0s 16ms/step - loss: 0.9001 - acc: 0.6235 - val_loss: 0.5759 - val_acc: 0.8125\n",
      "Epoch 13/72\n",
      "3/3 [==============================] - 0s 15ms/step - loss: 0.8987 - acc: 0.6000 - val_loss: 0.5558 - val_acc: 0.8125\n",
      "Epoch 14/72\n",
      "3/3 [==============================] - 0s 16ms/step - loss: 0.9022 - acc: 0.6235 - val_loss: 0.5548 - val_acc: 0.8125\n",
      "Epoch 15/72\n",
      "3/3 [==============================] - 0s 16ms/step - loss: 0.8408 - acc: 0.6941 - val_loss: 0.5426 - val_acc: 0.8125\n",
      "Epoch 16/72\n",
      "3/3 [==============================] - 0s 18ms/step - loss: 0.8734 - acc: 0.6235 - val_loss: 0.5276 - val_acc: 0.8125\n",
      "Epoch 17/72\n",
      "3/3 [==============================] - 0s 19ms/step - loss: 0.8799 - acc: 0.6471 - val_loss: 0.5241 - val_acc: 0.8125\n",
      "Epoch 18/72\n",
      "3/3 [==============================] - 0s 20ms/step - loss: 0.8794 - acc: 0.6118 - val_loss: 0.5237 - val_acc: 0.8125\n",
      "Epoch 19/72\n",
      "3/3 [==============================] - 0s 20ms/step - loss: 0.8069 - acc: 0.6118 - val_loss: 0.5243 - val_acc: 0.8125\n",
      "Epoch 20/72\n",
      "3/3 [==============================] - 0s 73ms/step - loss: 0.8176 - acc: 0.6588 - val_loss: 0.5315 - val_acc: 0.8125\n",
      "Epoch 21/72\n",
      "3/3 [==============================] - 0s 34ms/step - loss: 0.7817 - acc: 0.6824 - val_loss: 0.5221 - val_acc: 0.8125\n",
      "Epoch 22/72\n",
      "3/3 [==============================] - 0s 17ms/step - loss: 0.7978 - acc: 0.6588 - val_loss: 0.5151 - val_acc: 0.8125\n",
      "Epoch 23/72\n",
      "3/3 [==============================] - 0s 17ms/step - loss: 0.7612 - acc: 0.6941 - val_loss: 0.5093 - val_acc: 0.8125\n",
      "Epoch 24/72\n",
      "3/3 [==============================] - 0s 17ms/step - loss: 0.8218 - acc: 0.6706 - val_loss: 0.4973 - val_acc: 0.8125\n",
      "Epoch 25/72\n",
      "3/3 [==============================] - 0s 17ms/step - loss: 0.7390 - acc: 0.6588 - val_loss: 0.4872 - val_acc: 0.8125\n",
      "Epoch 26/72\n",
      "3/3 [==============================] - 0s 16ms/step - loss: 0.8845 - acc: 0.6353 - val_loss: 0.4822 - val_acc: 0.8125\n",
      "Epoch 27/72\n",
      "3/3 [==============================] - 0s 17ms/step - loss: 0.7920 - acc: 0.6588 - val_loss: 0.4841 - val_acc: 0.8125\n",
      "Epoch 28/72\n",
      "3/3 [==============================] - 0s 20ms/step - loss: 0.8824 - acc: 0.6118 - val_loss: 0.5147 - val_acc: 0.7500\n",
      "Epoch 29/72\n",
      "3/3 [==============================] - 0s 20ms/step - loss: 0.7415 - acc: 0.6941 - val_loss: 0.4912 - val_acc: 0.8125\n",
      "Epoch 30/72\n",
      "3/3 [==============================] - 0s 20ms/step - loss: 0.8466 - acc: 0.6471 - val_loss: 0.4683 - val_acc: 0.8125\n",
      "Epoch 31/72\n",
      "3/3 [==============================] - 0s 20ms/step - loss: 0.7446 - acc: 0.7059 - val_loss: 0.4511 - val_acc: 0.8125\n",
      "Epoch 32/72\n",
      "3/3 [==============================] - 0s 20ms/step - loss: 0.7589 - acc: 0.6941 - val_loss: 0.4477 - val_acc: 0.8125\n",
      "Epoch 33/72\n",
      "3/3 [==============================] - 0s 19ms/step - loss: 0.7362 - acc: 0.6471 - val_loss: 0.4458 - val_acc: 0.8125\n",
      "Epoch 34/72\n",
      "3/3 [==============================] - 0s 31ms/step - loss: 0.8634 - acc: 0.5765 - val_loss: 0.4491 - val_acc: 0.8125\n",
      "Epoch 35/72\n",
      "3/3 [==============================] - 0s 23ms/step - loss: 0.7247 - acc: 0.6471 - val_loss: 0.4687 - val_acc: 0.8125\n",
      "Epoch 36/72\n",
      "3/3 [==============================] - 0s 16ms/step - loss: 0.7787 - acc: 0.6941 - val_loss: 0.4545 - val_acc: 0.8125\n",
      "Epoch 37/72\n",
      "3/3 [==============================] - 0s 16ms/step - loss: 0.8346 - acc: 0.6118 - val_loss: 0.4288 - val_acc: 0.8125\n",
      "Epoch 38/72\n",
      "3/3 [==============================] - 0s 16ms/step - loss: 0.6920 - acc: 0.6588 - val_loss: 0.4213 - val_acc: 0.8125\n",
      "Epoch 39/72\n",
      "3/3 [==============================] - 0s 16ms/step - loss: 0.7463 - acc: 0.6588 - val_loss: 0.4190 - val_acc: 0.8125\n",
      "Epoch 40/72\n",
      "3/3 [==============================] - 0s 16ms/step - loss: 0.7054 - acc: 0.7294 - val_loss: 0.4352 - val_acc: 0.8125\n",
      "Epoch 41/72\n",
      "3/3 [==============================] - 0s 16ms/step - loss: 0.7455 - acc: 0.7176 - val_loss: 0.4629 - val_acc: 0.7500\n",
      "Epoch 42/72\n",
      "3/3 [==============================] - 0s 16ms/step - loss: 0.8056 - acc: 0.6353 - val_loss: 0.4584 - val_acc: 0.8125\n",
      "Epoch 43/72\n",
      "3/3 [==============================] - 0s 16ms/step - loss: 0.7802 - acc: 0.6588 - val_loss: 0.4208 - val_acc: 0.8125\n",
      "Epoch 44/72\n",
      "3/3 [==============================] - 0s 16ms/step - loss: 0.7608 - acc: 0.6471 - val_loss: 0.4086 - val_acc: 0.8125\n",
      "Epoch 45/72\n",
      "3/3 [==============================] - 0s 15ms/step - loss: 0.6425 - acc: 0.7176 - val_loss: 0.4080 - val_acc: 0.8125\n",
      "Epoch 46/72\n",
      "3/3 [==============================] - 0s 15ms/step - loss: 0.7132 - acc: 0.6588 - val_loss: 0.4146 - val_acc: 0.8125\n",
      "Epoch 47/72\n",
      "3/3 [==============================] - 0s 15ms/step - loss: 0.7401 - acc: 0.6706 - val_loss: 0.4151 - val_acc: 0.8125\n",
      "Epoch 48/72\n",
      "3/3 [==============================] - 0s 18ms/step - loss: 0.7068 - acc: 0.6941 - val_loss: 0.4165 - val_acc: 0.7500\n",
      "Epoch 49/72\n",
      "3/3 [==============================] - 0s 17ms/step - loss: 0.6810 - acc: 0.7059 - val_loss: 0.4328 - val_acc: 0.7500\n",
      "Epoch 50/72\n",
      "3/3 [==============================] - 0s 16ms/step - loss: 0.6597 - acc: 0.6941 - val_loss: 0.4410 - val_acc: 0.7500\n",
      "Epoch 51/72\n",
      "3/3 [==============================] - 0s 17ms/step - loss: 0.7181 - acc: 0.6000 - val_loss: 0.4208 - val_acc: 0.7500\n",
      "Epoch 52/72\n",
      "3/3 [==============================] - 0s 16ms/step - loss: 0.6353 - acc: 0.7529 - val_loss: 0.4021 - val_acc: 0.8125\n",
      "Epoch 53/72\n",
      "3/3 [==============================] - 0s 17ms/step - loss: 0.6949 - acc: 0.6706 - val_loss: 0.3981 - val_acc: 0.8125\n",
      "Epoch 54/72\n",
      "3/3 [==============================] - 0s 16ms/step - loss: 0.6288 - acc: 0.7294 - val_loss: 0.5386 - val_acc: 0.6875\n",
      "Epoch 55/72\n",
      "3/3 [==============================] - 0s 15ms/step - loss: 0.6468 - acc: 0.6941 - val_loss: 0.6306 - val_acc: 0.6250\n",
      "Epoch 56/72\n",
      "3/3 [==============================] - 0s 15ms/step - loss: 0.6654 - acc: 0.7176 - val_loss: 0.3742 - val_acc: 0.8125\n",
      "Epoch 57/72\n",
      "3/3 [==============================] - 0s 15ms/step - loss: 0.6233 - acc: 0.7412 - val_loss: 0.3392 - val_acc: 0.8125\n",
      "Epoch 58/72\n",
      "3/3 [==============================] - 0s 15ms/step - loss: 0.5936 - acc: 0.7412 - val_loss: 0.3613 - val_acc: 0.8125\n",
      "Epoch 59/72\n",
      "3/3 [==============================] - 0s 15ms/step - loss: 0.5674 - acc: 0.7412 - val_loss: 0.3867 - val_acc: 0.8125\n",
      "Epoch 60/72\n",
      "3/3 [==============================] - 0s 15ms/step - loss: 0.6893 - acc: 0.7647 - val_loss: 0.3696 - val_acc: 0.8125\n",
      "Epoch 61/72\n",
      "3/3 [==============================] - 0s 15ms/step - loss: 0.6376 - acc: 0.7412 - val_loss: 0.3717 - val_acc: 0.8125\n",
      "Epoch 62/72\n",
      "3/3 [==============================] - 0s 16ms/step - loss: 0.6921 - acc: 0.7176 - val_loss: 0.3831 - val_acc: 0.7500\n",
      "Epoch 63/72\n",
      "3/3 [==============================] - 0s 15ms/step - loss: 0.6625 - acc: 0.7176 - val_loss: 0.3994 - val_acc: 0.8125\n",
      "Epoch 64/72\n",
      "3/3 [==============================] - 0s 15ms/step - loss: 0.6687 - acc: 0.6941 - val_loss: 0.4136 - val_acc: 0.7500\n",
      "Epoch 65/72\n",
      "3/3 [==============================] - 0s 15ms/step - loss: 0.6012 - acc: 0.7176 - val_loss: 0.4175 - val_acc: 0.7500\n",
      "Epoch 66/72\n",
      "3/3 [==============================] - 0s 16ms/step - loss: 0.5463 - acc: 0.7529 - val_loss: 0.4201 - val_acc: 0.7500\n",
      "Epoch 67/72\n",
      "3/3 [==============================] - 0s 16ms/step - loss: 0.6016 - acc: 0.7647 - val_loss: 0.4052 - val_acc: 0.7500\n",
      "Epoch 68/72\n",
      "3/3 [==============================] - 0s 16ms/step - loss: 0.6266 - acc: 0.7176 - val_loss: 0.3888 - val_acc: 0.7500\n",
      "Epoch 69/72\n",
      "3/3 [==============================] - 0s 16ms/step - loss: 0.6561 - acc: 0.7176 - val_loss: 0.3743 - val_acc: 0.7500\n",
      "Epoch 70/72\n",
      "3/3 [==============================] - 0s 16ms/step - loss: 0.6651 - acc: 0.6706 - val_loss: 0.3668 - val_acc: 0.7500\n",
      "Epoch 71/72\n",
      "3/3 [==============================] - 0s 18ms/step - loss: 0.7198 - acc: 0.6353 - val_loss: 0.3642 - val_acc: 0.7500\n",
      "Epoch 72/72\n",
      "3/3 [==============================] - 0s 17ms/step - loss: 0.6082 - acc: 0.7412 - val_loss: 0.3562 - val_acc: 0.7500\n"
     ]
    }
   ],
   "source": [
    "# Configure, compile, and fit model\n",
    "history_all = model.fit(x_all_train, y_all_train, epochs=72, validation_data=(x_all_val, y_all_val), shuffle=False)"
   ]
  },
  {
   "cell_type": "code",
   "execution_count": 14,
   "id": "da555cd0-e6dc-49f6-893b-d46e3d8ac0d5",
   "metadata": {},
   "outputs": [
    {
     "name": "stdout",
     "output_type": "stream",
     "text": [
      "0.6666666865348816\n"
     ]
    }
   ],
   "source": [
    "# Calculate accuracy on test dataset\n",
    "test_accuracy=model.evaluate(x_all_test, y_all_test, verbose=0)\n",
    "print(test_accuracy[1])"
   ]
  },
  {
   "cell_type": "code",
   "execution_count": 15,
   "id": "5646ca71-684c-4dcf-8afc-a0f836bb750c",
   "metadata": {},
   "outputs": [
    {
     "name": "stdout",
     "output_type": "stream",
     "text": [
      "1/1 [==============================] - 0s 25ms/step\n"
     ]
    },
    {
     "data": {
      "text/plain": [
       "<AxesSubplot:xlabel='PREDICTED LABEL', ylabel='GROUND TRUTH'>"
      ]
     },
     "execution_count": 15,
     "metadata": {},
     "output_type": "execute_result"
    },
    {
     "data": {
      "image/png": "[encoded data removed]",
      "text/plain": [
       "<Figure size 432x288 with 2 Axes>"
      ]
     },
     "metadata": {
      "needs_background": "light"
     },
     "output_type": "display_data"
    }
   ],
   "source": [
    "# Generate confusion matrix\n",
    "y_all_true, y_all_pred = numpy.argmax(y_all_test, axis=1), numpy.argmax(model.predict(x_all_test), axis=1)\n",
    "\n",
    "confusion_matrix_plot(y_all_true, y_all_pred)"
   ]
  }
 ],
 "metadata": {
  "kernelspec": {
   "display_name": "Python 3 (ipykernel)",
   "language": "python",
   "name": "python3"
  },
  "language_info": {
   "codemirror_mode": {
    "name": "ipython",
    "version": 3
   },
   "file_extension": ".py",
   "mimetype": "text/x-python",
   "name": "python",
   "nbconvert_exporter": "python",
   "pygments_lexer": "ipython3",
   "version": "3.7.9"
  }
 },
 "nbformat": 4,
 "nbformat_minor": 5
}
