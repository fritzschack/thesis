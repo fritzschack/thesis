{
 "cells": [
  {
   "cell_type": "code",
   "execution_count": 1,
   "id": "b8d79e25-7649-4652-8673-da795f21166e",
   "metadata": {},
   "outputs": [],
   "source": [
    "import librosa\n",
    "import numpy\n",
    "import pandas\n",
    "import requests\n",
    "import seaborn\n",
    "import sklearn\n",
    "import tensorflow\n",
    "\n",
    "import matplotlib.pyplot as plt\n",
    "\n",
    "from tensorflow import keras\n",
    "from tensorflow.keras.layers import LSTM, Dense, Dropout\n",
    "from tqdm import tqdm\n",
    "from tensorflow.keras.utils import to_categorical\n",
    "from imblearn.under_sampling import RandomUnderSampler"
   ]
  },
  {
   "cell_type": "code",
   "execution_count": 2,
   "id": "d814cb6f-7186-400c-b454-b91d2ec22683",
   "metadata": {},
   "outputs": [],
   "source": [
    "# List of all labels\n",
    "labels = [\"washing_hands\", \"shower\", \"flushing_toilet\", \"dishwasher\", \"washing_machine\"]"
   ]
  },
  {
   "cell_type": "code",
   "execution_count": 3,
   "id": "d361006f-b775-43d4-a768-39ae3726b4e7",
   "metadata": {},
   "outputs": [
    {
     "data": {
      "text/html": [
       "<div>\n",
       "<style scoped>\n",
       "    .dataframe tbody tr th:only-of-type {\n",
       "        vertical-align: middle;\n",
       "    }\n",
       "\n",
       "    .dataframe tbody tr th {\n",
       "        vertical-align: top;\n",
       "    }\n",
       "\n",
       "    .dataframe thead th {\n",
       "        text-align: right;\n",
       "    }\n",
       "</style>\n",
       "<table border=\"1\" class=\"dataframe\">\n",
       "  <thead>\n",
       "    <tr style=\"text-align: right;\">\n",
       "      <th></th>\n",
       "      <th>path</th>\n",
       "      <th>label</th>\n",
       "      <th>environment</th>\n",
       "    </tr>\n",
       "  </thead>\n",
       "  <tbody>\n",
       "    <tr>\n",
       "      <th>0</th>\n",
       "      <td>../recordings/combined/a196dbae-1f50-4d0e-b345...</td>\n",
       "      <td>washing_hands</td>\n",
       "      <td>marsberg</td>\n",
       "    </tr>\n",
       "    <tr>\n",
       "      <th>1</th>\n",
       "      <td>../recordings/combined/826e36b1-2a7e-4d22-9c81...</td>\n",
       "      <td>washing_hands</td>\n",
       "      <td>marsberg</td>\n",
       "    </tr>\n",
       "    <tr>\n",
       "      <th>2</th>\n",
       "      <td>../recordings/combined/9a6b6b01-e466-47fb-9fcc...</td>\n",
       "      <td>washing_hands</td>\n",
       "      <td>marsberg</td>\n",
       "    </tr>\n",
       "    <tr>\n",
       "      <th>3</th>\n",
       "      <td>../recordings/combined/84ee02e6-44d5-4ab3-b875...</td>\n",
       "      <td>washing_hands</td>\n",
       "      <td>marsberg</td>\n",
       "    </tr>\n",
       "    <tr>\n",
       "      <th>4</th>\n",
       "      <td>../recordings/combined/ec24c55a-39ec-4b36-86fe...</td>\n",
       "      <td>washing_hands</td>\n",
       "      <td>marsberg</td>\n",
       "    </tr>\n",
       "  </tbody>\n",
       "</table>\n",
       "</div>"
      ],
      "text/plain": [
       "                                                path          label  \\\n",
       "0  ../recordings/combined/a196dbae-1f50-4d0e-b345...  washing_hands   \n",
       "1  ../recordings/combined/826e36b1-2a7e-4d22-9c81...  washing_hands   \n",
       "2  ../recordings/combined/9a6b6b01-e466-47fb-9fcc...  washing_hands   \n",
       "3  ../recordings/combined/84ee02e6-44d5-4ab3-b875...  washing_hands   \n",
       "4  ../recordings/combined/ec24c55a-39ec-4b36-86fe...  washing_hands   \n",
       "\n",
       "  environment  \n",
       "0    marsberg  \n",
       "1    marsberg  \n",
       "2    marsberg  \n",
       "3    marsberg  \n",
       "4    marsberg  "
      ]
     },
     "execution_count": 3,
     "metadata": {},
     "output_type": "execute_result"
    }
   ],
   "source": [
    "# Get list of all recordings\n",
    "data = requests.get(\"https://dolphin-app-9sdeq.ondigitalocean.app/api/v1/recordings\").json()\n",
    "\n",
    "recordings = []\n",
    "\n",
    "for recording in data:\n",
    "    recordings.append({\n",
    "        \"path\": f'../recordings/combined/{recording[\"name\"]}',\n",
    "        \"label\": recording[\"label\"],\n",
    "        \"environment\": recording[\"environment\"]\n",
    "    })\n",
    "\n",
    "dataframe = pandas.json_normalize(recordings)\n",
    "\n",
    "dataframe.head()"
   ]
  },
  {
   "cell_type": "code",
   "execution_count": 4,
   "id": "08d2ea8b-aecb-4ce4-b49f-2887813f0afa",
   "metadata": {},
   "outputs": [
    {
     "name": "stderr",
     "output_type": "stream",
     "text": [
      "119it [02:37,  1.32s/it]\n"
     ]
    }
   ],
   "source": [
    "# Generate MFCCs for each recording\n",
    "def preprocess(dataframe):\n",
    "    features = []\n",
    "    for index, row in tqdm(dataframe.iterrows()):\n",
    "        audio, sample_rate = librosa.load(row[\"path\"])\n",
    "        mfcc = librosa.feature.mfcc(y=audio, n_mfcc=24, sr=sample_rate)\n",
    "        features.append(numpy.mean(mfcc.T, axis=0))\n",
    "        \n",
    "    dataframe[\"features\"] = features\n",
    "    \n",
    "    return dataframe\n",
    "\n",
    "dataframe = preprocess(dataframe)"
   ]
  },
  {
   "cell_type": "code",
   "execution_count": 5,
   "id": "cfa7960d-309d-48e8-a280-bbc09ef0966b",
   "metadata": {},
   "outputs": [],
   "source": [
    "# Filter dataframe to include only data from marsberg\n",
    "dataframe_marsberg = dataframe[dataframe[\"environment\"] == \"marsberg\"]\n",
    "dataframe_duesseldorf = dataframe[dataframe[\"environment\"] == \"duesseldorf\"]"
   ]
  },
  {
   "cell_type": "code",
   "execution_count": 6,
   "id": "9a48b532-611a-4f08-8e3c-71a3917ac489",
   "metadata": {},
   "outputs": [
    {
     "name": "stdout",
     "output_type": "stream",
     "text": [
      "(51, 24, 1) (11, 24, 1) (9, 24, 1)\n"
     ]
    }
   ],
   "source": [
    "# Prepare and split data for training\n",
    "x = numpy.array(dataframe_marsberg[\"features\"].tolist())\n",
    "y = numpy.array(dataframe_marsberg[\"label\"].tolist())\n",
    "\n",
    "x = numpy.expand_dims(x, axis=2)\n",
    "\n",
    "label_encoder = sklearn.preprocessing.LabelEncoder()\n",
    "y = to_categorical(label_encoder.fit_transform(y))\n",
    "\n",
    "x_train, x_test, y_train, y_test = sklearn.model_selection.train_test_split(x, y, test_size=0.15, random_state=2)\n",
    "x_train, x_val, y_train, y_val = sklearn.model_selection.train_test_split(x_train, y_train, test_size=0.15, random_state=2)\n",
    "\n",
    "print(x_train.shape, x_test.shape, x_val.shape)"
   ]
  },
  {
   "cell_type": "code",
   "execution_count": 7,
   "id": "2154e555-5e15-448c-82ce-b9518fc454ac",
   "metadata": {},
   "outputs": [
    {
     "name": "stderr",
     "output_type": "stream",
     "text": [
      "2022-09-19 23:39:56.395101: I tensorflow/core/platform/cpu_feature_guard.cc:193] This TensorFlow binary is optimized with oneAPI Deep Neural Network Library (oneDNN) to use the following CPU instructions in performance-critical operations:  AVX2 AVX512F AVX512_VNNI FMA\n",
      "To enable them in other operations, rebuild TensorFlow with the appropriate compiler flags.\n"
     ]
    },
    {
     "name": "stdout",
     "output_type": "stream",
     "text": [
      "Model: \"sequential\"\n",
      "_________________________________________________________________\n",
      " Layer (type)                Output Shape              Param #   \n",
      "=================================================================\n",
      " lstm (LSTM)                 (None, 40)                6720      \n",
      "                                                                 \n",
      " dropout (Dropout)           (None, 40)                0         \n",
      "                                                                 \n",
      " dense (Dense)               (None, 80)                3280      \n",
      "                                                                 \n",
      " dense_1 (Dense)             (None, 40)                3240      \n",
      "                                                                 \n",
      " dropout_1 (Dropout)         (None, 40)                0         \n",
      "                                                                 \n",
      " dense_2 (Dense)             (None, 20)                820       \n",
      "                                                                 \n",
      " dropout_2 (Dropout)         (None, 20)                0         \n",
      "                                                                 \n",
      " dense_3 (Dense)             (None, 5)                 105       \n",
      "                                                                 \n",
      "=================================================================\n",
      "Total params: 14,165\n",
      "Trainable params: 14,165\n",
      "Non-trainable params: 0\n",
      "_________________________________________________________________\n",
      "Epoch 1/72\n",
      "2/2 [==============================] - 3s 543ms/step - loss: 1.6106 - acc: 0.1961 - val_loss: 1.5665 - val_acc: 0.2222\n",
      "Epoch 2/72\n",
      "2/2 [==============================] - 0s 31ms/step - loss: 1.6327 - acc: 0.1569 - val_loss: 1.5613 - val_acc: 0.2222\n",
      "Epoch 3/72\n",
      "2/2 [==============================] - 0s 27ms/step - loss: 1.5981 - acc: 0.2353 - val_loss: 1.5619 - val_acc: 0.2222\n",
      "Epoch 4/72\n",
      "2/2 [==============================] - 0s 27ms/step - loss: 1.6030 - acc: 0.1961 - val_loss: 1.5583 - val_acc: 0.2222\n",
      "Epoch 5/72\n",
      "2/2 [==============================] - 0s 28ms/step - loss: 1.5892 - acc: 0.1961 - val_loss: 1.5502 - val_acc: 0.2222\n",
      "Epoch 6/72\n",
      "2/2 [==============================] - 0s 26ms/step - loss: 1.5752 - acc: 0.1373 - val_loss: 1.5399 - val_acc: 0.2222\n",
      "Epoch 7/72\n",
      "2/2 [==============================] - 0s 26ms/step - loss: 1.5700 - acc: 0.1373 - val_loss: 1.5273 - val_acc: 0.3333\n",
      "Epoch 8/72\n",
      "2/2 [==============================] - 0s 26ms/step - loss: 1.5211 - acc: 0.3137 - val_loss: 1.5091 - val_acc: 0.4444\n",
      "Epoch 9/72\n",
      "2/2 [==============================] - 0s 27ms/step - loss: 1.5173 - acc: 0.2745 - val_loss: 1.4870 - val_acc: 0.6667\n",
      "Epoch 10/72\n",
      "2/2 [==============================] - 0s 28ms/step - loss: 1.5204 - acc: 0.3725 - val_loss: 1.4621 - val_acc: 0.6667\n",
      "Epoch 11/72\n",
      "2/2 [==============================] - 0s 25ms/step - loss: 1.4783 - acc: 0.3725 - val_loss: 1.4374 - val_acc: 0.5556\n",
      "Epoch 12/72\n",
      "2/2 [==============================] - 0s 27ms/step - loss: 1.4989 - acc: 0.2549 - val_loss: 1.4125 - val_acc: 0.4444\n",
      "Epoch 13/72\n",
      "2/2 [==============================] - 0s 26ms/step - loss: 1.4682 - acc: 0.3137 - val_loss: 1.3879 - val_acc: 0.4444\n",
      "Epoch 14/72\n",
      "2/2 [==============================] - 0s 26ms/step - loss: 1.5128 - acc: 0.3333 - val_loss: 1.3635 - val_acc: 0.5556\n",
      "Epoch 15/72\n",
      "2/2 [==============================] - 0s 27ms/step - loss: 1.4514 - acc: 0.2941 - val_loss: 1.3409 - val_acc: 0.6667\n",
      "Epoch 16/72\n",
      "2/2 [==============================] - 0s 28ms/step - loss: 1.4392 - acc: 0.3137 - val_loss: 1.3168 - val_acc: 0.6667\n",
      "Epoch 17/72\n",
      "2/2 [==============================] - 0s 28ms/step - loss: 1.3637 - acc: 0.4118 - val_loss: 1.2924 - val_acc: 0.7778\n",
      "Epoch 18/72\n",
      "2/2 [==============================] - 0s 26ms/step - loss: 1.4006 - acc: 0.3529 - val_loss: 1.2688 - val_acc: 0.8889\n",
      "Epoch 19/72\n",
      "2/2 [==============================] - 0s 27ms/step - loss: 1.3449 - acc: 0.4706 - val_loss: 1.2409 - val_acc: 0.8889\n",
      "Epoch 20/72\n",
      "2/2 [==============================] - 0s 27ms/step - loss: 1.3388 - acc: 0.4510 - val_loss: 1.2067 - val_acc: 0.8889\n",
      "Epoch 21/72\n",
      "2/2 [==============================] - 0s 26ms/step - loss: 1.2645 - acc: 0.5882 - val_loss: 1.1680 - val_acc: 0.8889\n",
      "Epoch 22/72\n",
      "2/2 [==============================] - 0s 28ms/step - loss: 1.2815 - acc: 0.5882 - val_loss: 1.1258 - val_acc: 0.8889\n",
      "Epoch 23/72\n",
      "2/2 [==============================] - 0s 28ms/step - loss: 1.2161 - acc: 0.5098 - val_loss: 1.0835 - val_acc: 0.8889\n",
      "Epoch 24/72\n",
      "2/2 [==============================] - 0s 26ms/step - loss: 1.1564 - acc: 0.6275 - val_loss: 1.0406 - val_acc: 0.8889\n",
      "Epoch 25/72\n",
      "2/2 [==============================] - 0s 28ms/step - loss: 1.1768 - acc: 0.5294 - val_loss: 0.9912 - val_acc: 0.8889\n",
      "Epoch 26/72\n",
      "2/2 [==============================] - 0s 26ms/step - loss: 1.0507 - acc: 0.6667 - val_loss: 0.9345 - val_acc: 0.8889\n",
      "Epoch 27/72\n",
      "2/2 [==============================] - 0s 26ms/step - loss: 1.0366 - acc: 0.6667 - val_loss: 0.8798 - val_acc: 0.8889\n",
      "Epoch 28/72\n",
      "2/2 [==============================] - 0s 26ms/step - loss: 1.0598 - acc: 0.5882 - val_loss: 0.8340 - val_acc: 0.8889\n",
      "Epoch 29/72\n",
      "2/2 [==============================] - 0s 27ms/step - loss: 1.0615 - acc: 0.5686 - val_loss: 0.7921 - val_acc: 0.8889\n",
      "Epoch 30/72\n",
      "2/2 [==============================] - 0s 27ms/step - loss: 0.8883 - acc: 0.6078 - val_loss: 0.7516 - val_acc: 0.8889\n",
      "Epoch 31/72\n",
      "2/2 [==============================] - 0s 27ms/step - loss: 0.9036 - acc: 0.6667 - val_loss: 0.7130 - val_acc: 0.8889\n",
      "Epoch 32/72\n",
      "2/2 [==============================] - 0s 29ms/step - loss: 0.9355 - acc: 0.5490 - val_loss: 0.6857 - val_acc: 0.8889\n",
      "Epoch 33/72\n",
      "2/2 [==============================] - 0s 27ms/step - loss: 0.8530 - acc: 0.5686 - val_loss: 0.6591 - val_acc: 0.8889\n",
      "Epoch 34/72\n",
      "2/2 [==============================] - 0s 27ms/step - loss: 0.9349 - acc: 0.6667 - val_loss: 0.6250 - val_acc: 0.8889\n",
      "Epoch 35/72\n",
      "2/2 [==============================] - 0s 26ms/step - loss: 0.8276 - acc: 0.6078 - val_loss: 0.5892 - val_acc: 0.8889\n",
      "Epoch 36/72\n",
      "2/2 [==============================] - 0s 27ms/step - loss: 0.7207 - acc: 0.7451 - val_loss: 0.5608 - val_acc: 0.8889\n",
      "Epoch 37/72\n",
      "2/2 [==============================] - 0s 27ms/step - loss: 0.9129 - acc: 0.6275 - val_loss: 0.5441 - val_acc: 0.8889\n",
      "Epoch 38/72\n",
      "2/2 [==============================] - 0s 28ms/step - loss: 0.7979 - acc: 0.6863 - val_loss: 0.5234 - val_acc: 0.8889\n",
      "Epoch 39/72\n",
      "2/2 [==============================] - 0s 26ms/step - loss: 0.8622 - acc: 0.5490 - val_loss: 0.4930 - val_acc: 0.8889\n",
      "Epoch 40/72\n",
      "2/2 [==============================] - 0s 26ms/step - loss: 0.8367 - acc: 0.6863 - val_loss: 0.4680 - val_acc: 0.8889\n",
      "Epoch 41/72\n",
      "2/2 [==============================] - 0s 27ms/step - loss: 0.7855 - acc: 0.6667 - val_loss: 0.4610 - val_acc: 0.8889\n",
      "Epoch 42/72\n",
      "2/2 [==============================] - 0s 26ms/step - loss: 0.7470 - acc: 0.7059 - val_loss: 0.4316 - val_acc: 0.8889\n",
      "Epoch 43/72\n",
      "2/2 [==============================] - 0s 27ms/step - loss: 0.6833 - acc: 0.7255 - val_loss: 0.4179 - val_acc: 0.8889\n",
      "Epoch 44/72\n",
      "2/2 [==============================] - 0s 28ms/step - loss: 0.7855 - acc: 0.7255 - val_loss: 0.4046 - val_acc: 0.8889\n",
      "Epoch 45/72\n",
      "2/2 [==============================] - 0s 28ms/step - loss: 0.6479 - acc: 0.6863 - val_loss: 0.3895 - val_acc: 0.8889\n",
      "Epoch 46/72\n",
      "2/2 [==============================] - 0s 27ms/step - loss: 0.7513 - acc: 0.7451 - val_loss: 0.3843 - val_acc: 0.8889\n",
      "Epoch 47/72\n",
      "2/2 [==============================] - 0s 26ms/step - loss: 0.7561 - acc: 0.7059 - val_loss: 0.3979 - val_acc: 0.8889\n",
      "Epoch 48/72\n",
      "2/2 [==============================] - 0s 28ms/step - loss: 0.7131 - acc: 0.7451 - val_loss: 0.3642 - val_acc: 0.8889\n",
      "Epoch 49/72\n",
      "2/2 [==============================] - 0s 26ms/step - loss: 0.6817 - acc: 0.7059 - val_loss: 0.3464 - val_acc: 0.8889\n",
      "Epoch 50/72\n",
      "2/2 [==============================] - 0s 27ms/step - loss: 0.6703 - acc: 0.7451 - val_loss: 0.3356 - val_acc: 0.8889\n",
      "Epoch 51/72\n",
      "2/2 [==============================] - 0s 26ms/step - loss: 0.6637 - acc: 0.7451 - val_loss: 0.3290 - val_acc: 0.8889\n",
      "Epoch 52/72\n",
      "2/2 [==============================] - 0s 28ms/step - loss: 0.6399 - acc: 0.6863 - val_loss: 0.3204 - val_acc: 0.8889\n",
      "Epoch 53/72\n",
      "2/2 [==============================] - 0s 27ms/step - loss: 0.6166 - acc: 0.6863 - val_loss: 0.3053 - val_acc: 0.8889\n",
      "Epoch 54/72\n",
      "2/2 [==============================] - 0s 26ms/step - loss: 0.5459 - acc: 0.7647 - val_loss: 0.2899 - val_acc: 0.8889\n",
      "Epoch 55/72\n",
      "2/2 [==============================] - 0s 28ms/step - loss: 0.6850 - acc: 0.6471 - val_loss: 0.2807 - val_acc: 0.8889\n",
      "Epoch 56/72\n",
      "2/2 [==============================] - 0s 27ms/step - loss: 0.5123 - acc: 0.8431 - val_loss: 0.2774 - val_acc: 0.8889\n",
      "Epoch 57/72\n",
      "2/2 [==============================] - 0s 28ms/step - loss: 0.5958 - acc: 0.7255 - val_loss: 0.2608 - val_acc: 0.8889\n",
      "Epoch 58/72\n",
      "2/2 [==============================] - 0s 29ms/step - loss: 0.6779 - acc: 0.7255 - val_loss: 0.2440 - val_acc: 0.8889\n",
      "Epoch 59/72\n",
      "2/2 [==============================] - 0s 28ms/step - loss: 0.5304 - acc: 0.8039 - val_loss: 0.2329 - val_acc: 0.8889\n",
      "Epoch 60/72\n",
      "2/2 [==============================] - 0s 28ms/step - loss: 0.5571 - acc: 0.7451 - val_loss: 0.2237 - val_acc: 0.8889\n",
      "Epoch 61/72\n",
      "2/2 [==============================] - 0s 27ms/step - loss: 0.6014 - acc: 0.7059 - val_loss: 0.2197 - val_acc: 0.8889\n",
      "Epoch 62/72\n",
      "2/2 [==============================] - 0s 29ms/step - loss: 0.5648 - acc: 0.7843 - val_loss: 0.2198 - val_acc: 0.8889\n",
      "Epoch 63/72\n",
      "2/2 [==============================] - 0s 27ms/step - loss: 0.5009 - acc: 0.7843 - val_loss: 0.2275 - val_acc: 0.8889\n",
      "Epoch 64/72\n",
      "2/2 [==============================] - 0s 27ms/step - loss: 0.5668 - acc: 0.7059 - val_loss: 0.2325 - val_acc: 0.8889\n",
      "Epoch 65/72\n",
      "2/2 [==============================] - 0s 28ms/step - loss: 0.3910 - acc: 0.8235 - val_loss: 0.2015 - val_acc: 0.8889\n",
      "Epoch 66/72\n",
      "2/2 [==============================] - 0s 28ms/step - loss: 0.5009 - acc: 0.8235 - val_loss: 0.1813 - val_acc: 1.0000\n",
      "Epoch 67/72\n",
      "2/2 [==============================] - 0s 27ms/step - loss: 0.5875 - acc: 0.6667 - val_loss: 0.1594 - val_acc: 1.0000\n",
      "Epoch 68/72\n",
      "2/2 [==============================] - 0s 28ms/step - loss: 0.4520 - acc: 0.8235 - val_loss: 0.1465 - val_acc: 1.0000\n",
      "Epoch 69/72\n",
      "2/2 [==============================] - 0s 26ms/step - loss: 0.4053 - acc: 0.8039 - val_loss: 0.1397 - val_acc: 1.0000\n",
      "Epoch 70/72\n",
      "2/2 [==============================] - 0s 27ms/step - loss: 0.5552 - acc: 0.7647 - val_loss: 0.1350 - val_acc: 1.0000\n",
      "Epoch 71/72\n",
      "2/2 [==============================] - 0s 26ms/step - loss: 0.4292 - acc: 0.8235 - val_loss: 0.1282 - val_acc: 1.0000\n",
      "Epoch 72/72\n",
      "2/2 [==============================] - 0s 27ms/step - loss: 0.4055 - acc: 0.8039 - val_loss: 0.1213 - val_acc: 1.0000\n"
     ]
    }
   ],
   "source": [
    "# Configure, compile, and fit model\n",
    "input_shape=(24, 1)\n",
    "model = keras.Sequential()\n",
    "model.add(LSTM(40,input_shape=input_shape))\n",
    "model.add(Dropout(0.2))\n",
    "model.add(Dense(80, activation='relu'))\n",
    "model.add(Dense(40, activation='relu'))\n",
    "model.add(Dropout(0.4))\n",
    "model.add(Dense(20, activation='relu'))\n",
    "model.add(Dropout(0.4))\n",
    "model.add(Dense(5, activation='softmax'))\n",
    "model.summary()\n",
    "\n",
    "model.compile(optimizer='adam',loss='categorical_crossentropy',metrics=['acc'])\n",
    "\n",
    "history = model.fit(x_train, y_train, epochs=72, validation_data=(x_val, y_val), shuffle=False)"
   ]
  },
  {
   "cell_type": "code",
   "execution_count": 8,
   "id": "befcb50b-a9cf-455a-bb93-5f4f1199df13",
   "metadata": {},
   "outputs": [
    {
     "name": "stdout",
     "output_type": "stream",
     "text": [
      "1.0\n"
     ]
    }
   ],
   "source": [
    "# Calculate accuracy on test dataset\n",
    "test_accuracy=model.evaluate(x_test, y_test, verbose=0)\n",
    "print(test_accuracy[1])"
   ]
  },
  {
   "cell_type": "code",
   "execution_count": 9,
   "id": "a7db896a-9afa-4c96-8d3a-39e7be50d8b7",
   "metadata": {},
   "outputs": [
    {
     "name": "stdout",
     "output_type": "stream",
     "text": [
      "1/1 [==============================] - 0s 418ms/step\n"
     ]
    },
    {
     "data": {
      "text/plain": [
       "<AxesSubplot:xlabel='PREDICTED LABEL', ylabel='GROUND TRUTH'>"
      ]
     },
     "execution_count": 9,
     "metadata": {},
     "output_type": "execute_result"
    },
    {
     "data": {
      "image/png": "[encoded data removed]",
      "text/plain": [
       "<Figure size 432x288 with 2 Axes>"
      ]
     },
     "metadata": {
      "needs_background": "light"
     },
     "output_type": "display_data"
    }
   ],
   "source": [
    "# Generate confusion matrix\n",
    "y_true, y_pred = numpy.argmax(y_test, axis=1), numpy.argmax(model.predict(x_test), axis=1)\n",
    "\n",
    "confusion_matrix = sklearn.metrics.confusion_matrix(y_true, y_pred)\n",
    "\n",
    "def confusion_matrix_table(y_true, y_pred):\n",
    "    columns = [label for label in label_encoder.classes_]\n",
    "    index = [label for label in label_encoder.classes_]\n",
    "    table = pandas.DataFrame(sklearn.metrics.confusion_matrix(y_true, y_pred), columns=columns, index=index)\n",
    "    return table\n",
    "\n",
    "def confusion_matrix_plot(y_true, y_pred):\n",
    "    table = confusion_matrix_table(y_true, y_pred)\n",
    "    plot = seaborn.heatmap(table, annot=True, fmt=\"d\", cmap=\"viridis\")\n",
    "    plt.yticks(rotation=0) \n",
    "    plt.ylabel(\n",
    "        'GROUND TRUTH', \n",
    "        fontsize = 12, \n",
    "        fontweight = 600\n",
    "    )\n",
    "    plt.xlabel(\n",
    "        'PREDICTED LABEL', \n",
    "        fontsize = 12, \n",
    "        fontweight = 600\n",
    "    )\n",
    "    return plot\n",
    "\n",
    "confusion_matrix_plot(y_true, y_pred)"
   ]
  },
  {
   "cell_type": "code",
   "execution_count": 10,
   "id": "304182af-2395-4102-81a4-5da90ad4ad5e",
   "metadata": {},
   "outputs": [
    {
     "name": "stdout",
     "output_type": "stream",
     "text": [
      "0.0416666679084301\n"
     ]
    }
   ],
   "source": [
    "# Calculate accuracy on data from duesseldorf\n",
    "x_duesseldorf = numpy.array(dataframe_duesseldorf[\"features\"].tolist())\n",
    "y_duesseldorf = numpy.array(dataframe_duesseldorf[\"label\"].tolist())\n",
    "\n",
    "x_duesseldorf = numpy.expand_dims(x_duesseldorf, axis=2)\n",
    "\n",
    "label_encoder = sklearn.preprocessing.LabelEncoder()\n",
    "y_duesseldorf = to_categorical(label_encoder.fit_transform(y_duesseldorf))\n",
    "\n",
    "test_accuracy=model.evaluate(x_duesseldorf, y_duesseldorf, verbose=0)\n",
    "print(test_accuracy[1])"
   ]
  },
  {
   "cell_type": "code",
   "execution_count": 11,
   "id": "3b5d5df1-9fe9-4331-984f-bc7757ff114e",
   "metadata": {},
   "outputs": [
    {
     "name": "stdout",
     "output_type": "stream",
     "text": [
      "2/2 [==============================] - 0s 4ms/step\n"
     ]
    },
    {
     "data": {
      "text/plain": [
       "<AxesSubplot:xlabel='PREDICTED LABEL', ylabel='GROUND TRUTH'>"
      ]
     },
     "execution_count": 11,
     "metadata": {},
     "output_type": "execute_result"
    },
    {
     "data": {
      "image/png": "[encoded data removed]",
      "text/plain": [
       "<Figure size 432x288 with 2 Axes>"
      ]
     },
     "metadata": {
      "needs_background": "light"
     },
     "output_type": "display_data"
    }
   ],
   "source": [
    "# Generate confusion matrix on data from duesseldorf\n",
    "y_true, y_pred = numpy.argmax(y_duesseldorf, axis=1), numpy.argmax(model.predict(x_duesseldorf), axis=1)\n",
    "\n",
    "confusion_matrix = sklearn.metrics.confusion_matrix(y_true, y_pred)\n",
    "\n",
    "def confusion_matrix_table(y_true, y_pred):\n",
    "    columns = [label for label in label_encoder.classes_]\n",
    "    index = [label for label in label_encoder.classes_]\n",
    "    table = pandas.DataFrame(sklearn.metrics.confusion_matrix(y_true, y_pred), columns=columns, index=index)\n",
    "    return table\n",
    "\n",
    "def confusion_matrix_plot(y_true, y_pred):\n",
    "    table = confusion_matrix_table(y_true, y_pred)\n",
    "    plot = seaborn.heatmap(table, annot=True, fmt=\"d\", cmap=\"viridis\")\n",
    "    plt.yticks(rotation=0) \n",
    "    plt.ylabel(\n",
    "        'GROUND TRUTH', \n",
    "        fontsize = 12, \n",
    "        fontweight = 600\n",
    "    )\n",
    "    plt.xlabel(\n",
    "        'PREDICTED LABEL', \n",
    "        fontsize = 12, \n",
    "        fontweight = 600\n",
    "    )\n",
    "    return plot\n",
    "\n",
    "confusion_matrix_plot(y_true, y_pred)"
   ]
  }
 ],
 "metadata": {
  "kernelspec": {
   "display_name": "Python 3 (ipykernel)",
   "language": "python",
   "name": "python3"
  },
  "language_info": {
   "codemirror_mode": {
    "name": "ipython",
    "version": 3
   },
   "file_extension": ".py",
   "mimetype": "text/x-python",
   "name": "python",
   "nbconvert_exporter": "python",
   "pygments_lexer": "ipython3",
   "version": "3.7.9"
  }
 },
 "nbformat": 4,
 "nbformat_minor": 5
}
