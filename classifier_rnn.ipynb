{
 "cells": [
  {
   "cell_type": "code",
   "execution_count": 1,
   "id": "b8d79e25-7649-4652-8673-da795f21166e",
   "metadata": {},
   "outputs": [],
   "source": [
    "import librosa\n",
    "import numpy\n",
    "import pandas\n",
    "import requests\n",
    "import seaborn\n",
    "import sklearn\n",
    "import tensorflow\n",
    "\n",
    "import matplotlib.pyplot as plt\n",
    "\n",
    "from tensorflow import keras\n",
    "from tensorflow.keras.layers import LSTM, Dense, Dropout\n",
    "from tqdm import tqdm\n",
    "from tensorflow.keras.utils import to_categorical"
   ]
  },
  {
   "cell_type": "code",
   "execution_count": 2,
   "id": "d361006f-b775-43d4-a768-39ae3726b4e7",
   "metadata": {},
   "outputs": [
    {
     "data": {
      "text/html": [
       "<div>\n",
       "<style scoped>\n",
       "    .dataframe tbody tr th:only-of-type {\n",
       "        vertical-align: middle;\n",
       "    }\n",
       "\n",
       "    .dataframe tbody tr th {\n",
       "        vertical-align: top;\n",
       "    }\n",
       "\n",
       "    .dataframe thead th {\n",
       "        text-align: right;\n",
       "    }\n",
       "</style>\n",
       "<table border=\"1\" class=\"dataframe\">\n",
       "  <thead>\n",
       "    <tr style=\"text-align: right;\">\n",
       "      <th></th>\n",
       "      <th>path</th>\n",
       "      <th>label</th>\n",
       "      <th>environment</th>\n",
       "    </tr>\n",
       "  </thead>\n",
       "  <tbody>\n",
       "    <tr>\n",
       "      <th>0</th>\n",
       "      <td>../recordings/combined/a196dbae-1f50-4d0e-b345...</td>\n",
       "      <td>washing_hands</td>\n",
       "      <td>marsberg</td>\n",
       "    </tr>\n",
       "    <tr>\n",
       "      <th>1</th>\n",
       "      <td>../recordings/combined/826e36b1-2a7e-4d22-9c81...</td>\n",
       "      <td>washing_hands</td>\n",
       "      <td>marsberg</td>\n",
       "    </tr>\n",
       "    <tr>\n",
       "      <th>2</th>\n",
       "      <td>../recordings/combined/9a6b6b01-e466-47fb-9fcc...</td>\n",
       "      <td>washing_hands</td>\n",
       "      <td>marsberg</td>\n",
       "    </tr>\n",
       "    <tr>\n",
       "      <th>3</th>\n",
       "      <td>../recordings/combined/84ee02e6-44d5-4ab3-b875...</td>\n",
       "      <td>washing_hands</td>\n",
       "      <td>marsberg</td>\n",
       "    </tr>\n",
       "    <tr>\n",
       "      <th>4</th>\n",
       "      <td>../recordings/combined/ec24c55a-39ec-4b36-86fe...</td>\n",
       "      <td>washing_hands</td>\n",
       "      <td>marsberg</td>\n",
       "    </tr>\n",
       "  </tbody>\n",
       "</table>\n",
       "</div>"
      ],
      "text/plain": [
       "                                                path          label  \\\n",
       "0  ../recordings/combined/a196dbae-1f50-4d0e-b345...  washing_hands   \n",
       "1  ../recordings/combined/826e36b1-2a7e-4d22-9c81...  washing_hands   \n",
       "2  ../recordings/combined/9a6b6b01-e466-47fb-9fcc...  washing_hands   \n",
       "3  ../recordings/combined/84ee02e6-44d5-4ab3-b875...  washing_hands   \n",
       "4  ../recordings/combined/ec24c55a-39ec-4b36-86fe...  washing_hands   \n",
       "\n",
       "  environment  \n",
       "0    marsberg  \n",
       "1    marsberg  \n",
       "2    marsberg  \n",
       "3    marsberg  \n",
       "4    marsberg  "
      ]
     },
     "execution_count": 2,
     "metadata": {},
     "output_type": "execute_result"
    }
   ],
   "source": [
    "# Get list of all recordings\n",
    "data = requests.get(\"https://dolphin-app-9sdeq.ondigitalocean.app/api/v1/recordings\").json()\n",
    "\n",
    "recordings = []\n",
    "\n",
    "for recording in data:\n",
    "    recordings.append({\n",
    "        \"path\": f'../recordings/combined/{recording[\"name\"]}',\n",
    "        \"label\": recording[\"label\"],\n",
    "        \"environment\": recording[\"environment\"]\n",
    "    })\n",
    "\n",
    "dataframe = pandas.json_normalize(recordings)\n",
    "\n",
    "dataframe.head()"
   ]
  },
  {
   "cell_type": "code",
   "execution_count": 3,
   "id": "cfa7960d-309d-48e8-a280-bbc09ef0966b",
   "metadata": {},
   "outputs": [],
   "source": [
    "dataframe = dataframe[dataframe[\"environment\"] == \"marsberg\"]"
   ]
  },
  {
   "cell_type": "code",
   "execution_count": 4,
   "id": "08d2ea8b-aecb-4ce4-b49f-2887813f0afa",
   "metadata": {},
   "outputs": [
    {
     "name": "stderr",
     "output_type": "stream",
     "text": [
      "71it [01:07,  1.05it/s]\n"
     ]
    }
   ],
   "source": [
    "# Generate MFCCs for each recording\n",
    "def preprocess(dataframe):\n",
    "    features = []\n",
    "    for index, row in tqdm(dataframe.iterrows()):\n",
    "        audio, sample_rate = librosa.load(row[\"path\"])\n",
    "        mfcc = librosa.feature.mfcc(y=audio, sr=sample_rate)\n",
    "        features.append(numpy.mean(mfcc.T, axis=0))\n",
    "        \n",
    "    dataframe[\"features\"] = features\n",
    "    \n",
    "    return dataframe\n",
    "\n",
    "dataframe = preprocess(dataframe)"
   ]
  },
  {
   "cell_type": "code",
   "execution_count": 5,
   "id": "9a48b532-611a-4f08-8e3c-71a3917ac489",
   "metadata": {},
   "outputs": [
    {
     "name": "stdout",
     "output_type": "stream",
     "text": [
      "(51, 20, 1) (11, 20, 1) (9, 20, 1)\n"
     ]
    }
   ],
   "source": [
    "# Prepare and split data for training\n",
    "x = numpy.array(dataframe[\"features\"].tolist())\n",
    "y = numpy.array(dataframe[\"label\"].tolist())\n",
    "\n",
    "x = numpy.expand_dims(x, axis=2)\n",
    "\n",
    "label_encoder = sklearn.preprocessing.LabelEncoder()\n",
    "y = to_categorical(label_encoder.fit_transform(y))\n",
    "\n",
    "x_train, x_test, y_train, y_test = sklearn.model_selection.train_test_split(x, y, test_size=0.15, random_state=1)\n",
    "x_train, x_val, y_train, y_val = sklearn.model_selection.train_test_split(x_train, y_train, test_size=0.15, random_state=1)\n",
    "\n",
    "print(x_train.shape, x_test.shape, x_val.shape)"
   ]
  },
  {
   "cell_type": "code",
   "execution_count": 6,
   "id": "2154e555-5e15-448c-82ce-b9518fc454ac",
   "metadata": {},
   "outputs": [
    {
     "name": "stderr",
     "output_type": "stream",
     "text": [
      "2022-09-19 16:50:37.644408: I tensorflow/core/platform/cpu_feature_guard.cc:193] This TensorFlow binary is optimized with oneAPI Deep Neural Network Library (oneDNN) to use the following CPU instructions in performance-critical operations:  AVX2 AVX512F AVX512_VNNI FMA\n",
      "To enable them in other operations, rebuild TensorFlow with the appropriate compiler flags.\n"
     ]
    },
    {
     "name": "stdout",
     "output_type": "stream",
     "text": [
      "Model: \"sequential\"\n",
      "_________________________________________________________________\n",
      " Layer (type)                Output Shape              Param #   \n",
      "=================================================================\n",
      " lstm (LSTM)                 (None, 200)               161600    \n",
      "                                                                 \n",
      " dropout (Dropout)           (None, 200)               0         \n",
      "                                                                 \n",
      " dense (Dense)               (None, 100)               20100     \n",
      "                                                                 \n",
      " dense_1 (Dense)             (None, 50)                5050      \n",
      "                                                                 \n",
      " dropout_1 (Dropout)         (None, 50)                0         \n",
      "                                                                 \n",
      " dense_2 (Dense)             (None, 20)                1020      \n",
      "                                                                 \n",
      " dropout_2 (Dropout)         (None, 20)                0         \n",
      "                                                                 \n",
      " dense_3 (Dense)             (None, 5)                 105       \n",
      "                                                                 \n",
      "=================================================================\n",
      "Total params: 187,875\n",
      "Trainable params: 187,875\n",
      "Non-trainable params: 0\n",
      "_________________________________________________________________\n",
      "Epoch 1/75\n",
      "2/2 [==============================] - 3s 638ms/step - loss: 1.6100 - acc: 0.1569 - val_loss: 1.5568 - val_acc: 0.5556\n",
      "Epoch 2/75\n",
      "2/2 [==============================] - 0s 48ms/step - loss: 1.5442 - acc: 0.3333 - val_loss: 1.5176 - val_acc: 0.4444\n",
      "Epoch 3/75\n",
      "2/2 [==============================] - 0s 43ms/step - loss: 1.5619 - acc: 0.2745 - val_loss: 1.4795 - val_acc: 0.5556\n",
      "Epoch 4/75\n",
      "2/2 [==============================] - 0s 54ms/step - loss: 1.4188 - acc: 0.3725 - val_loss: 1.4475 - val_acc: 0.5556\n",
      "Epoch 5/75\n",
      "2/2 [==============================] - 0s 47ms/step - loss: 1.4625 - acc: 0.3333 - val_loss: 1.4224 - val_acc: 0.3333\n",
      "Epoch 6/75\n",
      "2/2 [==============================] - 0s 47ms/step - loss: 1.4476 - acc: 0.4118 - val_loss: 1.3665 - val_acc: 0.3333\n",
      "Epoch 7/75\n",
      "2/2 [==============================] - 0s 43ms/step - loss: 1.2969 - acc: 0.4902 - val_loss: 1.2960 - val_acc: 0.5556\n",
      "Epoch 8/75\n",
      "2/2 [==============================] - 0s 45ms/step - loss: 1.4031 - acc: 0.3725 - val_loss: 1.2631 - val_acc: 0.5556\n",
      "Epoch 9/75\n",
      "2/2 [==============================] - 0s 102ms/step - loss: 1.2628 - acc: 0.5294 - val_loss: 1.2065 - val_acc: 0.5556\n",
      "Epoch 10/75\n",
      "2/2 [==============================] - 0s 45ms/step - loss: 1.2446 - acc: 0.4902 - val_loss: 1.1571 - val_acc: 0.5556\n",
      "Epoch 11/75\n",
      "2/2 [==============================] - 0s 63ms/step - loss: 1.3415 - acc: 0.5294 - val_loss: 1.1510 - val_acc: 0.5556\n",
      "Epoch 12/75\n",
      "2/2 [==============================] - 0s 45ms/step - loss: 1.1727 - acc: 0.4706 - val_loss: 1.0930 - val_acc: 0.5556\n",
      "Epoch 13/75\n",
      "2/2 [==============================] - 0s 43ms/step - loss: 1.1279 - acc: 0.5294 - val_loss: 1.0081 - val_acc: 0.5556\n",
      "Epoch 14/75\n",
      "2/2 [==============================] - 0s 44ms/step - loss: 1.0636 - acc: 0.6078 - val_loss: 0.9155 - val_acc: 0.5556\n",
      "Epoch 15/75\n",
      "2/2 [==============================] - 0s 42ms/step - loss: 0.9500 - acc: 0.6471 - val_loss: 0.8428 - val_acc: 0.6667\n",
      "Epoch 16/75\n",
      "2/2 [==============================] - 0s 44ms/step - loss: 0.8763 - acc: 0.6471 - val_loss: 0.8079 - val_acc: 0.5556\n",
      "Epoch 17/75\n",
      "2/2 [==============================] - 0s 46ms/step - loss: 0.7791 - acc: 0.6667 - val_loss: 0.7804 - val_acc: 0.6667\n",
      "Epoch 18/75\n",
      "2/2 [==============================] - 0s 40ms/step - loss: 0.9869 - acc: 0.6078 - val_loss: 0.7360 - val_acc: 0.7778\n",
      "Epoch 19/75\n",
      "2/2 [==============================] - 0s 47ms/step - loss: 0.9485 - acc: 0.5490 - val_loss: 0.7127 - val_acc: 0.7778\n",
      "Epoch 20/75\n",
      "2/2 [==============================] - 0s 46ms/step - loss: 0.8960 - acc: 0.6275 - val_loss: 0.7128 - val_acc: 0.7778\n",
      "Epoch 21/75\n",
      "2/2 [==============================] - 0s 43ms/step - loss: 0.8021 - acc: 0.5882 - val_loss: 0.6978 - val_acc: 0.7778\n",
      "Epoch 22/75\n",
      "2/2 [==============================] - 0s 46ms/step - loss: 0.7438 - acc: 0.7255 - val_loss: 0.7038 - val_acc: 0.6667\n",
      "Epoch 23/75\n",
      "2/2 [==============================] - 0s 46ms/step - loss: 0.7626 - acc: 0.7451 - val_loss: 0.6618 - val_acc: 0.7778\n",
      "Epoch 24/75\n",
      "2/2 [==============================] - 0s 45ms/step - loss: 0.7709 - acc: 0.6863 - val_loss: 0.7105 - val_acc: 0.6667\n",
      "Epoch 25/75\n",
      "2/2 [==============================] - 0s 46ms/step - loss: 0.7014 - acc: 0.6863 - val_loss: 0.8716 - val_acc: 0.5556\n",
      "Epoch 26/75\n",
      "2/2 [==============================] - 0s 49ms/step - loss: 0.7361 - acc: 0.7451 - val_loss: 0.5555 - val_acc: 0.7778\n",
      "Epoch 27/75\n",
      "2/2 [==============================] - 0s 50ms/step - loss: 0.7294 - acc: 0.7059 - val_loss: 0.4676 - val_acc: 0.8889\n",
      "Epoch 28/75\n",
      "2/2 [==============================] - 0s 47ms/step - loss: 0.7174 - acc: 0.6667 - val_loss: 0.7324 - val_acc: 0.7778\n",
      "Epoch 29/75\n",
      "2/2 [==============================] - 0s 45ms/step - loss: 0.7281 - acc: 0.7255 - val_loss: 0.7806 - val_acc: 0.7778\n",
      "Epoch 30/75\n",
      "2/2 [==============================] - 0s 59ms/step - loss: 0.5972 - acc: 0.7451 - val_loss: 0.4682 - val_acc: 0.8889\n",
      "Epoch 31/75\n",
      "2/2 [==============================] - 0s 43ms/step - loss: 0.5723 - acc: 0.7843 - val_loss: 0.4662 - val_acc: 0.8889\n",
      "Epoch 32/75\n",
      "2/2 [==============================] - 0s 43ms/step - loss: 0.5814 - acc: 0.8431 - val_loss: 0.4518 - val_acc: 0.8889\n",
      "Epoch 33/75\n",
      "2/2 [==============================] - 0s 44ms/step - loss: 0.5523 - acc: 0.7843 - val_loss: 0.4844 - val_acc: 0.7778\n",
      "Epoch 34/75\n",
      "2/2 [==============================] - 0s 48ms/step - loss: 0.5290 - acc: 0.7255 - val_loss: 0.6397 - val_acc: 0.7778\n",
      "Epoch 35/75\n",
      "2/2 [==============================] - 0s 49ms/step - loss: 0.6948 - acc: 0.7059 - val_loss: 0.6299 - val_acc: 0.7778\n",
      "Epoch 36/75\n",
      "2/2 [==============================] - 0s 62ms/step - loss: 0.4266 - acc: 0.8431 - val_loss: 0.5311 - val_acc: 0.6667\n",
      "Epoch 37/75\n",
      "2/2 [==============================] - 0s 48ms/step - loss: 0.3564 - acc: 0.9020 - val_loss: 0.4309 - val_acc: 0.8889\n",
      "Epoch 38/75\n",
      "2/2 [==============================] - 0s 44ms/step - loss: 0.4028 - acc: 0.8431 - val_loss: 0.3634 - val_acc: 0.8889\n",
      "Epoch 39/75\n",
      "2/2 [==============================] - 0s 44ms/step - loss: 0.4372 - acc: 0.8431 - val_loss: 0.3111 - val_acc: 0.8889\n",
      "Epoch 40/75\n",
      "2/2 [==============================] - 0s 65ms/step - loss: 0.4189 - acc: 0.8431 - val_loss: 0.3205 - val_acc: 0.7778\n",
      "Epoch 41/75\n",
      "2/2 [==============================] - 0s 65ms/step - loss: 0.4019 - acc: 0.8627 - val_loss: 0.2991 - val_acc: 0.8889\n",
      "Epoch 42/75\n",
      "2/2 [==============================] - 0s 42ms/step - loss: 0.3748 - acc: 0.8627 - val_loss: 0.4402 - val_acc: 0.7778\n",
      "Epoch 43/75\n",
      "2/2 [==============================] - 0s 43ms/step - loss: 0.4844 - acc: 0.7451 - val_loss: 0.4155 - val_acc: 0.7778\n",
      "Epoch 44/75\n",
      "2/2 [==============================] - 0s 44ms/step - loss: 0.3211 - acc: 0.9020 - val_loss: 0.3064 - val_acc: 0.7778\n",
      "Epoch 45/75\n",
      "2/2 [==============================] - 0s 45ms/step - loss: 0.5891 - acc: 0.8039 - val_loss: 0.4255 - val_acc: 0.7778\n",
      "Epoch 46/75\n",
      "2/2 [==============================] - 0s 102ms/step - loss: 0.4370 - acc: 0.8627 - val_loss: 0.3808 - val_acc: 0.8889\n",
      "Epoch 47/75\n",
      "2/2 [==============================] - 0s 45ms/step - loss: 0.3419 - acc: 0.9020 - val_loss: 0.5993 - val_acc: 0.8889\n",
      "Epoch 48/75\n",
      "2/2 [==============================] - 0s 44ms/step - loss: 0.4829 - acc: 0.7647 - val_loss: 0.1599 - val_acc: 0.8889\n",
      "Epoch 49/75\n",
      "2/2 [==============================] - 0s 45ms/step - loss: 0.3253 - acc: 0.8627 - val_loss: 0.1609 - val_acc: 0.8889\n",
      "Epoch 50/75\n",
      "2/2 [==============================] - 0s 47ms/step - loss: 0.3453 - acc: 0.8627 - val_loss: 0.1904 - val_acc: 0.8889\n",
      "Epoch 51/75\n",
      "2/2 [==============================] - 0s 48ms/step - loss: 0.2506 - acc: 0.8824 - val_loss: 0.6736 - val_acc: 0.8889\n",
      "Epoch 52/75\n",
      "2/2 [==============================] - 0s 43ms/step - loss: 0.2860 - acc: 0.9020 - val_loss: 0.3636 - val_acc: 0.8889\n",
      "Epoch 53/75\n",
      "2/2 [==============================] - 0s 67ms/step - loss: 0.4949 - acc: 0.7647 - val_loss: 0.1732 - val_acc: 0.8889\n",
      "Epoch 54/75\n",
      "2/2 [==============================] - 0s 53ms/step - loss: 0.3032 - acc: 0.9020 - val_loss: 0.3354 - val_acc: 0.8889\n",
      "Epoch 55/75\n",
      "2/2 [==============================] - 0s 48ms/step - loss: 0.3283 - acc: 0.8824 - val_loss: 0.2577 - val_acc: 0.8889\n",
      "Epoch 56/75\n",
      "2/2 [==============================] - 0s 46ms/step - loss: 0.3174 - acc: 0.8235 - val_loss: 0.1824 - val_acc: 0.8889\n",
      "Epoch 57/75\n",
      "2/2 [==============================] - 0s 46ms/step - loss: 0.3342 - acc: 0.8824 - val_loss: 0.1575 - val_acc: 1.0000\n",
      "Epoch 58/75\n",
      "2/2 [==============================] - 0s 66ms/step - loss: 0.3681 - acc: 0.8627 - val_loss: 0.1546 - val_acc: 1.0000\n",
      "Epoch 59/75\n",
      "2/2 [==============================] - 0s 44ms/step - loss: 0.3945 - acc: 0.8235 - val_loss: 0.1681 - val_acc: 1.0000\n",
      "Epoch 60/75\n",
      "2/2 [==============================] - 0s 46ms/step - loss: 0.2377 - acc: 0.9412 - val_loss: 0.2762 - val_acc: 0.8889\n",
      "Epoch 61/75\n",
      "2/2 [==============================] - 0s 47ms/step - loss: 0.2392 - acc: 0.9412 - val_loss: 0.3174 - val_acc: 0.8889\n",
      "Epoch 62/75\n",
      "2/2 [==============================] - 0s 46ms/step - loss: 0.3097 - acc: 0.9412 - val_loss: 0.3721 - val_acc: 0.8889\n",
      "Epoch 63/75\n",
      "2/2 [==============================] - 0s 44ms/step - loss: 0.1802 - acc: 0.9804 - val_loss: 0.4227 - val_acc: 0.7778\n",
      "Epoch 64/75\n",
      "2/2 [==============================] - 0s 47ms/step - loss: 0.2640 - acc: 0.8627 - val_loss: 0.4286 - val_acc: 0.7778\n",
      "Epoch 65/75\n",
      "2/2 [==============================] - 0s 71ms/step - loss: 0.3053 - acc: 0.8431 - val_loss: 0.5394 - val_acc: 0.7778\n",
      "Epoch 66/75\n",
      "2/2 [==============================] - 0s 44ms/step - loss: 0.1688 - acc: 0.9608 - val_loss: 0.8699 - val_acc: 0.7778\n",
      "Epoch 67/75\n",
      "2/2 [==============================] - 0s 41ms/step - loss: 0.2566 - acc: 0.8824 - val_loss: 0.1941 - val_acc: 1.0000\n",
      "Epoch 68/75\n",
      "2/2 [==============================] - 0s 69ms/step - loss: 0.3272 - acc: 0.9020 - val_loss: 0.0736 - val_acc: 1.0000\n",
      "Epoch 69/75\n",
      "2/2 [==============================] - 0s 48ms/step - loss: 0.2042 - acc: 0.9216 - val_loss: 0.0513 - val_acc: 1.0000\n",
      "Epoch 70/75\n",
      "2/2 [==============================] - 0s 51ms/step - loss: 0.1937 - acc: 0.9608 - val_loss: 0.0381 - val_acc: 1.0000\n",
      "Epoch 71/75\n",
      "2/2 [==============================] - 0s 47ms/step - loss: 0.2676 - acc: 0.9608 - val_loss: 0.6158 - val_acc: 0.7778\n",
      "Epoch 72/75\n",
      "2/2 [==============================] - 0s 49ms/step - loss: 0.3199 - acc: 0.8235 - val_loss: 1.4011 - val_acc: 0.6667\n",
      "Epoch 73/75\n",
      "2/2 [==============================] - 0s 46ms/step - loss: 0.4783 - acc: 0.9216 - val_loss: 0.2163 - val_acc: 0.8889\n",
      "Epoch 74/75\n",
      "2/2 [==============================] - 0s 45ms/step - loss: 0.2849 - acc: 0.8627 - val_loss: 1.3416 - val_acc: 0.6667\n",
      "Epoch 75/75\n",
      "2/2 [==============================] - 0s 45ms/step - loss: 0.8603 - acc: 0.8235 - val_loss: 0.2641 - val_acc: 0.8889\n"
     ]
    }
   ],
   "source": [
    "input_shape=(20, 1)\n",
    "model = keras.Sequential()\n",
    "model.add(LSTM(200,input_shape=input_shape))\n",
    "model.add(Dropout(0.2))\n",
    "model.add(Dense(100, activation='relu'))\n",
    "model.add(Dense(50, activation='relu'))\n",
    "model.add(Dropout(0.4))\n",
    "model.add(Dense(20, activation='relu'))\n",
    "model.add(Dropout(0.4))\n",
    "model.add(Dense(5, activation='softmax'))\n",
    "model.summary()\n",
    "\n",
    "model.compile(optimizer='adam',loss='categorical_crossentropy',metrics=['acc'])\n",
    "\n",
    "history = model.fit(x_train, y_train, epochs=75, validation_data=(x_val, y_val), shuffle=False)"
   ]
  },
  {
   "cell_type": "code",
   "execution_count": 7,
   "id": "befcb50b-a9cf-455a-bb93-5f4f1199df13",
   "metadata": {},
   "outputs": [
    {
     "name": "stdout",
     "output_type": "stream",
     "text": [
      "0.9090909361839294\n"
     ]
    }
   ],
   "source": [
    "test_accuracy=model.evaluate(x_test, y_test, verbose=0)\n",
    "print(test_accuracy[1])"
   ]
  },
  {
   "cell_type": "code",
   "execution_count": 8,
   "id": "a7db896a-9afa-4c96-8d3a-39e7be50d8b7",
   "metadata": {},
   "outputs": [
    {
     "name": "stdout",
     "output_type": "stream",
     "text": [
      "1/1 [==============================] - 1s 519ms/step\n"
     ]
    },
    {
     "data": {
      "text/plain": [
       "array([[2, 0, 0, 0, 0],\n",
       "       [0, 3, 0, 0, 0],\n",
       "       [0, 0, 2, 0, 0],\n",
       "       [0, 0, 0, 1, 0],\n",
       "       [0, 0, 1, 0, 2]])"
      ]
     },
     "execution_count": 8,
     "metadata": {},
     "output_type": "execute_result"
    }
   ],
   "source": [
    "y_true, y_pred = numpy.argmax(y_test, axis=1), numpy.argmax(model.predict(x_test), axis=1)\n",
    "\n",
    "confusion_matrix = sklearn.metrics.confusion_matrix(y_true, y_pred)\n",
    "\n",
    "confusion_matrix"
   ]
  },
  {
   "cell_type": "code",
   "execution_count": 9,
   "id": "0ee4a78e-3fcd-4274-afd5-d8cae8ce1f43",
   "metadata": {},
   "outputs": [],
   "source": [
    "def confusion_matrix_table(y_true, y_pred):\n",
    "    labels = sklearn.utils.multiclass.unique_labels(y_test)\n",
    "    columns = [f'Predicted {label}' for label in labels]\n",
    "    index = [f'Actual {label}' for label in labels]\n",
    "    table = pandas.DataFrame(sklearn.metrics.confusion_matrix(y_true, y_pred), columns=columns, index=index)\n",
    "    return table"
   ]
  },
  {
   "cell_type": "code",
   "execution_count": 10,
   "id": "983ebe6e-7146-49c2-a36a-4e99d706b9dc",
   "metadata": {},
   "outputs": [],
   "source": [
    "def confusion_matrix_plot(y_true, y_pred):\n",
    "    table = confusion_matrix_table(y_true, y_pred)\n",
    "    plot = seaborn.heatmap(table, annot=True, fmt=\"d\", cmap=\"viridis\")\n",
    "    plt.yticks(rotation=0) \n",
    "    return plot"
   ]
  },
  {
   "cell_type": "code",
   "execution_count": 11,
   "id": "b2fe864f-45ac-4830-97b7-76b70897b007",
   "metadata": {},
   "outputs": [
    {
     "data": {
      "text/plain": [
       "<AxesSubplot:>"
      ]
     },
     "execution_count": 11,
     "metadata": {},
     "output_type": "execute_result"
    },
    {
     "data": {
      "image/png": "[encoded data removed]",
      "text/plain": [
       "<Figure size 432x288 with 2 Axes>"
      ]
     },
     "metadata": {
      "needs_background": "light"
     },
     "output_type": "display_data"
    }
   ],
   "source": [
    "confusion_matrix_plot(y_true, y_pred)"
   ]
  }
 ],
 "metadata": {
  "kernelspec": {
   "display_name": "Python 3 (ipykernel)",
   "language": "python",
   "name": "python3"
  },
  "language_info": {
   "codemirror_mode": {
    "name": "ipython",
    "version": 3
   },
   "file_extension": ".py",
   "mimetype": "text/x-python",
   "name": "python",
   "nbconvert_exporter": "python",
   "pygments_lexer": "ipython3",
   "version": "3.7.9"
  }
 },
 "nbformat": 4,
 "nbformat_minor": 5
}
