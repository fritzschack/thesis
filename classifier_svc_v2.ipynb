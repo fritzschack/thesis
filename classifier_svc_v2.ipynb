{
 "cells": [
  {
   "cell_type": "markdown",
   "id": "d21bb9dd-c63e-4c22-abfd-78228789f875",
   "metadata": {},
   "source": [
    "## Imports and Variables"
   ]
  },
  {
   "cell_type": "code",
   "execution_count": 1,
   "id": "c41ad20c-4cb3-449b-bd9c-72efd34652be",
   "metadata": {},
   "outputs": [],
   "source": [
    "import pandas\n",
    "import numpy\n",
    "import librosa\n",
    "import requests\n",
    "import seaborn\n",
    "import sklearn\n",
    "import matplotlib.pyplot as plt\n",
    "from sklearn import preprocessing\n",
    "from sklearn.preprocessing import minmax_scale\n",
    "from sklearn.model_selection import train_test_split\n",
    "from sklearn.svm import SVC\n",
    "from sklearn.metrics import accuracy_score\n",
    "from tqdm import tqdm"
   ]
  },
  {
   "cell_type": "code",
   "execution_count": 2,
   "id": "ea1854dc-84af-49e0-b6c4-072a96ab87f5",
   "metadata": {},
   "outputs": [],
   "source": [
    "labels = ['dishwasher', 'washing_machine', 'shower', 'washing_hands', 'flushing_toilet']"
   ]
  },
  {
   "cell_type": "markdown",
   "id": "22b77dda-4a57-4d11-8cf2-c1900c7820f6",
   "metadata": {},
   "source": [
    "## Data Collection & Feature Extraction"
   ]
  },
  {
   "cell_type": "code",
   "execution_count": 3,
   "id": "caddfd3c-55a6-426b-8317-fffbb1e9db12",
   "metadata": {},
   "outputs": [
    {
     "data": {
      "text/html": [
       "<div>\n",
       "<style scoped>\n",
       "    .dataframe tbody tr th:only-of-type {\n",
       "        vertical-align: middle;\n",
       "    }\n",
       "\n",
       "    .dataframe tbody tr th {\n",
       "        vertical-align: top;\n",
       "    }\n",
       "\n",
       "    .dataframe thead th {\n",
       "        text-align: right;\n",
       "    }\n",
       "</style>\n",
       "<table border=\"1\" class=\"dataframe\">\n",
       "  <thead>\n",
       "    <tr style=\"text-align: right;\">\n",
       "      <th></th>\n",
       "      <th>path</th>\n",
       "      <th>label</th>\n",
       "      <th>environment</th>\n",
       "      <th>mfcc_mean</th>\n",
       "      <th>mfcc_var</th>\n",
       "      <th>n_samples</th>\n",
       "      <th>chroma_mean</th>\n",
       "      <th>chroma_var</th>\n",
       "      <th>rms_mean</th>\n",
       "      <th>rms_var</th>\n",
       "      <th>sc_mean</th>\n",
       "      <th>sc_var</th>\n",
       "    </tr>\n",
       "  </thead>\n",
       "  <tbody>\n",
       "    <tr>\n",
       "      <th>0</th>\n",
       "      <td>../recordings/combined/a196dbae-1f50-4d0e-b345...</td>\n",
       "      <td>washing_hands</td>\n",
       "      <td>marsberg</td>\n",
       "      <td>None</td>\n",
       "      <td>None</td>\n",
       "      <td>None</td>\n",
       "      <td>None</td>\n",
       "      <td>None</td>\n",
       "      <td>None</td>\n",
       "      <td>None</td>\n",
       "      <td>None</td>\n",
       "      <td>None</td>\n",
       "    </tr>\n",
       "    <tr>\n",
       "      <th>1</th>\n",
       "      <td>../recordings/combined/826e36b1-2a7e-4d22-9c81...</td>\n",
       "      <td>washing_hands</td>\n",
       "      <td>marsberg</td>\n",
       "      <td>None</td>\n",
       "      <td>None</td>\n",
       "      <td>None</td>\n",
       "      <td>None</td>\n",
       "      <td>None</td>\n",
       "      <td>None</td>\n",
       "      <td>None</td>\n",
       "      <td>None</td>\n",
       "      <td>None</td>\n",
       "    </tr>\n",
       "    <tr>\n",
       "      <th>2</th>\n",
       "      <td>../recordings/combined/9a6b6b01-e466-47fb-9fcc...</td>\n",
       "      <td>washing_hands</td>\n",
       "      <td>marsberg</td>\n",
       "      <td>None</td>\n",
       "      <td>None</td>\n",
       "      <td>None</td>\n",
       "      <td>None</td>\n",
       "      <td>None</td>\n",
       "      <td>None</td>\n",
       "      <td>None</td>\n",
       "      <td>None</td>\n",
       "      <td>None</td>\n",
       "    </tr>\n",
       "    <tr>\n",
       "      <th>3</th>\n",
       "      <td>../recordings/combined/84ee02e6-44d5-4ab3-b875...</td>\n",
       "      <td>washing_hands</td>\n",
       "      <td>marsberg</td>\n",
       "      <td>None</td>\n",
       "      <td>None</td>\n",
       "      <td>None</td>\n",
       "      <td>None</td>\n",
       "      <td>None</td>\n",
       "      <td>None</td>\n",
       "      <td>None</td>\n",
       "      <td>None</td>\n",
       "      <td>None</td>\n",
       "    </tr>\n",
       "    <tr>\n",
       "      <th>4</th>\n",
       "      <td>../recordings/combined/ec24c55a-39ec-4b36-86fe...</td>\n",
       "      <td>washing_hands</td>\n",
       "      <td>marsberg</td>\n",
       "      <td>None</td>\n",
       "      <td>None</td>\n",
       "      <td>None</td>\n",
       "      <td>None</td>\n",
       "      <td>None</td>\n",
       "      <td>None</td>\n",
       "      <td>None</td>\n",
       "      <td>None</td>\n",
       "      <td>None</td>\n",
       "    </tr>\n",
       "  </tbody>\n",
       "</table>\n",
       "</div>"
      ],
      "text/plain": [
       "                                                path          label  \\\n",
       "0  ../recordings/combined/a196dbae-1f50-4d0e-b345...  washing_hands   \n",
       "1  ../recordings/combined/826e36b1-2a7e-4d22-9c81...  washing_hands   \n",
       "2  ../recordings/combined/9a6b6b01-e466-47fb-9fcc...  washing_hands   \n",
       "3  ../recordings/combined/84ee02e6-44d5-4ab3-b875...  washing_hands   \n",
       "4  ../recordings/combined/ec24c55a-39ec-4b36-86fe...  washing_hands   \n",
       "\n",
       "  environment mfcc_mean mfcc_var n_samples chroma_mean chroma_var rms_mean  \\\n",
       "0    marsberg      None     None      None        None       None     None   \n",
       "1    marsberg      None     None      None        None       None     None   \n",
       "2    marsberg      None     None      None        None       None     None   \n",
       "3    marsberg      None     None      None        None       None     None   \n",
       "4    marsberg      None     None      None        None       None     None   \n",
       "\n",
       "  rms_var sc_mean sc_var  \n",
       "0    None    None   None  \n",
       "1    None    None   None  \n",
       "2    None    None   None  \n",
       "3    None    None   None  \n",
       "4    None    None   None  "
      ]
     },
     "execution_count": 3,
     "metadata": {},
     "output_type": "execute_result"
    }
   ],
   "source": [
    "# Get list of all recordings\n",
    "data = requests.get(\"https://dolphin-app-9sdeq.ondigitalocean.app/api/v1/recordings\").json()\n",
    "\n",
    "recordings = []\n",
    "\n",
    "for recording in data:\n",
    "    recordings.append({\n",
    "        \"path\": f'../recordings/combined/{recording[\"name\"]}',\n",
    "        \"label\": recording[\"label\"],\n",
    "        \"environment\": recording[\"environment\"],\n",
    "        \"mfcc_mean\": None,\n",
    "        \"mfcc_var\": None,\n",
    "        \"n_samples\": None,\n",
    "        \"chroma_mean\": None,\n",
    "        \"chroma_var\": None,\n",
    "        \"rms_mean\": None,\n",
    "        \"rms_var\": None,\n",
    "        \"sc_mean\": None,\n",
    "        \"sc_var\": None\n",
    "    })\n",
    "\n",
    "dataframe = pandas.json_normalize(recordings)\n",
    "\n",
    "dataframe.head()"
   ]
  },
  {
   "cell_type": "code",
   "execution_count": 4,
   "id": "f8f3cfaf-f607-40cd-9a8f-4767fc983a9f",
   "metadata": {},
   "outputs": [
    {
     "name": "stderr",
     "output_type": "stream",
     "text": [
      "119it [03:59,  2.01s/it]\n"
     ]
    }
   ],
   "source": [
    "# Function to extract features\n",
    "def preprocess(dataframe):\n",
    "    for index, row in tqdm(dataframe.iterrows()):\n",
    "        audio, sample_rate = librosa.load(row[\"path\"])\n",
    "        \n",
    "        # Calculate mean and variance of the MFCCs\n",
    "        mfcc_stft = librosa.feature.mfcc(y=audio, sr=sample_rate)\n",
    "        dataframe.at[index, \"mfcc_mean\"] = numpy.mean(mfcc_stft)\n",
    "        dataframe.at[index, \"mfcc_var\"] = numpy.var(mfcc_stft)\n",
    "        \n",
    "        # Calculate number of samples, representing length\n",
    "        dataframe.at[index, \"n_samples\"] = audio.shape[0]\n",
    "\n",
    "        # Calculate mean and variance of the chromagram\n",
    "        chroma_stft = librosa.feature.chroma_stft(y=audio, sr=sample_rate)\n",
    "        dataframe.at[index, \"chroma_mean\"] = numpy.mean(chroma_stft)\n",
    "        dataframe.at[index, \"chroma_var\"] = numpy.var(chroma_stft)\n",
    "        \n",
    "        # Calculate mean and variance of the root mean square array\n",
    "        rms = librosa.feature.rms(y=audio)\n",
    "        dataframe.at[index, \"rms_mean\"] = numpy.mean(rms)\n",
    "        dataframe.at[index, \"rms_var\"] = numpy.var(rms)\n",
    "        \n",
    "        # Calculate mean and variance of the spectral centroid\n",
    "        spectral_centroid = librosa.feature.spectral_centroid(y=audio, sr=sample_rate)\n",
    "        dataframe.at[index, \"sc_mean\"] = numpy.mean(spectral_centroid)\n",
    "        dataframe.at[index, \"sc_var\"] = numpy.var(spectral_centroid)\n",
    "        \n",
    "    return dataframe\n",
    "\n",
    "dataframe = preprocess(dataframe)"
   ]
  },
  {
   "cell_type": "code",
   "execution_count": 5,
   "id": "a33bac4c-60fb-495d-94ee-7309fc2b92c1",
   "metadata": {},
   "outputs": [],
   "source": [
    "# Extract separate dataframes for environments marsberg and duesseldorf\n",
    "dataframe_marsberg = dataframe[dataframe[\"environment\"] == \"marsberg\"]\n",
    "dataframe_duesseldorf = dataframe[dataframe[\"environment\"] == \"duesseldorf\"]"
   ]
  },
  {
   "cell_type": "code",
   "execution_count": 16,
   "id": "6e5643d5-d614-48fd-9e6c-0e651a65ffd7",
   "metadata": {},
   "outputs": [
    {
     "data": {
      "text/html": [
       "<div>\n",
       "<style scoped>\n",
       "    .dataframe tbody tr th:only-of-type {\n",
       "        vertical-align: middle;\n",
       "    }\n",
       "\n",
       "    .dataframe tbody tr th {\n",
       "        vertical-align: top;\n",
       "    }\n",
       "\n",
       "    .dataframe thead th {\n",
       "        text-align: right;\n",
       "    }\n",
       "</style>\n",
       "<table border=\"1\" class=\"dataframe\">\n",
       "  <thead>\n",
       "    <tr style=\"text-align: right;\">\n",
       "      <th></th>\n",
       "      <th>path</th>\n",
       "      <th>label</th>\n",
       "      <th>environment</th>\n",
       "      <th>mfcc_mean</th>\n",
       "      <th>mfcc_var</th>\n",
       "      <th>n_samples</th>\n",
       "      <th>chroma_mean</th>\n",
       "      <th>chroma_var</th>\n",
       "      <th>rms_mean</th>\n",
       "      <th>rms_var</th>\n",
       "      <th>sc_mean</th>\n",
       "      <th>sc_var</th>\n",
       "    </tr>\n",
       "  </thead>\n",
       "  <tbody>\n",
       "    <tr>\n",
       "      <th>0</th>\n",
       "      <td>../recordings/combined/a196dbae-1f50-4d0e-b345...</td>\n",
       "      <td>3</td>\n",
       "      <td>marsberg</td>\n",
       "      <td>-27.676704</td>\n",
       "      <td>19290.720703</td>\n",
       "      <td>2259243</td>\n",
       "      <td>0.510744</td>\n",
       "      <td>0.064451</td>\n",
       "      <td>0.000268</td>\n",
       "      <td>0.0</td>\n",
       "      <td>4039.849911</td>\n",
       "      <td>22786.888439</td>\n",
       "    </tr>\n",
       "    <tr>\n",
       "      <th>1</th>\n",
       "      <td>../recordings/combined/826e36b1-2a7e-4d22-9c81...</td>\n",
       "      <td>3</td>\n",
       "      <td>marsberg</td>\n",
       "      <td>-27.430916</td>\n",
       "      <td>19336.501953</td>\n",
       "      <td>1017387</td>\n",
       "      <td>0.505415</td>\n",
       "      <td>0.067332</td>\n",
       "      <td>0.000268</td>\n",
       "      <td>0.0</td>\n",
       "      <td>4047.545843</td>\n",
       "      <td>31016.973748</td>\n",
       "    </tr>\n",
       "    <tr>\n",
       "      <th>2</th>\n",
       "      <td>../recordings/combined/9a6b6b01-e466-47fb-9fcc...</td>\n",
       "      <td>3</td>\n",
       "      <td>marsberg</td>\n",
       "      <td>-27.275898</td>\n",
       "      <td>19287.546875</td>\n",
       "      <td>1035799</td>\n",
       "      <td>0.508465</td>\n",
       "      <td>0.068212</td>\n",
       "      <td>0.000272</td>\n",
       "      <td>0.0</td>\n",
       "      <td>4017.004389</td>\n",
       "      <td>29156.230358</td>\n",
       "    </tr>\n",
       "    <tr>\n",
       "      <th>3</th>\n",
       "      <td>../recordings/combined/84ee02e6-44d5-4ab3-b875...</td>\n",
       "      <td>3</td>\n",
       "      <td>marsberg</td>\n",
       "      <td>-27.048124</td>\n",
       "      <td>19276.820312</td>\n",
       "      <td>1581845</td>\n",
       "      <td>0.502856</td>\n",
       "      <td>0.068207</td>\n",
       "      <td>0.000278</td>\n",
       "      <td>0.0</td>\n",
       "      <td>3996.417722</td>\n",
       "      <td>28836.591416</td>\n",
       "    </tr>\n",
       "    <tr>\n",
       "      <th>4</th>\n",
       "      <td>../recordings/combined/ec24c55a-39ec-4b36-86fe...</td>\n",
       "      <td>3</td>\n",
       "      <td>marsberg</td>\n",
       "      <td>-27.311382</td>\n",
       "      <td>19310.251953</td>\n",
       "      <td>892959</td>\n",
       "      <td>0.508524</td>\n",
       "      <td>0.067869</td>\n",
       "      <td>0.000273</td>\n",
       "      <td>0.0</td>\n",
       "      <td>4022.255436</td>\n",
       "      <td>35037.803311</td>\n",
       "    </tr>\n",
       "    <tr>\n",
       "      <th>...</th>\n",
       "      <td>...</td>\n",
       "      <td>...</td>\n",
       "      <td>...</td>\n",
       "      <td>...</td>\n",
       "      <td>...</td>\n",
       "      <td>...</td>\n",
       "      <td>...</td>\n",
       "      <td>...</td>\n",
       "      <td>...</td>\n",
       "      <td>...</td>\n",
       "      <td>...</td>\n",
       "      <td>...</td>\n",
       "    </tr>\n",
       "    <tr>\n",
       "      <th>66</th>\n",
       "      <td>../recordings/combined/538da1c3-1f14-452e-8378...</td>\n",
       "      <td>1</td>\n",
       "      <td>marsberg</td>\n",
       "      <td>-24.173405</td>\n",
       "      <td>17489.919922</td>\n",
       "      <td>890908</td>\n",
       "      <td>0.466656</td>\n",
       "      <td>0.089942</td>\n",
       "      <td>0.000715</td>\n",
       "      <td>0.0</td>\n",
       "      <td>3099.993795</td>\n",
       "      <td>538289.786033</td>\n",
       "    </tr>\n",
       "    <tr>\n",
       "      <th>67</th>\n",
       "      <td>../recordings/combined/fe317879-ae15-4c9d-9f5c...</td>\n",
       "      <td>0</td>\n",
       "      <td>marsberg</td>\n",
       "      <td>-26.288023</td>\n",
       "      <td>18909.082031</td>\n",
       "      <td>5052449</td>\n",
       "      <td>0.583819</td>\n",
       "      <td>0.08994</td>\n",
       "      <td>0.000276</td>\n",
       "      <td>0.0</td>\n",
       "      <td>4045.521725</td>\n",
       "      <td>165538.654084</td>\n",
       "    </tr>\n",
       "    <tr>\n",
       "      <th>68</th>\n",
       "      <td>../recordings/combined/b24c13e6-aaa1-4971-8104...</td>\n",
       "      <td>1</td>\n",
       "      <td>marsberg</td>\n",
       "      <td>-24.468508</td>\n",
       "      <td>17460.287109</td>\n",
       "      <td>894503</td>\n",
       "      <td>0.45203</td>\n",
       "      <td>0.091696</td>\n",
       "      <td>0.000729</td>\n",
       "      <td>0.0</td>\n",
       "      <td>3106.04827</td>\n",
       "      <td>591390.735701</td>\n",
       "    </tr>\n",
       "    <tr>\n",
       "      <th>69</th>\n",
       "      <td>../recordings/combined/1ca2c39b-a516-435f-877a...</td>\n",
       "      <td>0</td>\n",
       "      <td>marsberg</td>\n",
       "      <td>-26.673759</td>\n",
       "      <td>18867.615234</td>\n",
       "      <td>5055514</td>\n",
       "      <td>0.570826</td>\n",
       "      <td>0.091558</td>\n",
       "      <td>0.000262</td>\n",
       "      <td>0.0</td>\n",
       "      <td>4087.846123</td>\n",
       "      <td>150526.572039</td>\n",
       "    </tr>\n",
       "    <tr>\n",
       "      <th>70</th>\n",
       "      <td>../recordings/combined/9b64b307-abf9-4b4a-8a9b...</td>\n",
       "      <td>0</td>\n",
       "      <td>marsberg</td>\n",
       "      <td>-27.443846</td>\n",
       "      <td>18906.814453</td>\n",
       "      <td>5079086</td>\n",
       "      <td>0.538206</td>\n",
       "      <td>0.100215</td>\n",
       "      <td>0.000295</td>\n",
       "      <td>0.0</td>\n",
       "      <td>4024.946244</td>\n",
       "      <td>327164.951304</td>\n",
       "    </tr>\n",
       "  </tbody>\n",
       "</table>\n",
       "<p>71 rows × 12 columns</p>\n",
       "</div>"
      ],
      "text/plain": [
       "                                                 path  label environment  \\\n",
       "0   ../recordings/combined/a196dbae-1f50-4d0e-b345...      3    marsberg   \n",
       "1   ../recordings/combined/826e36b1-2a7e-4d22-9c81...      3    marsberg   \n",
       "2   ../recordings/combined/9a6b6b01-e466-47fb-9fcc...      3    marsberg   \n",
       "3   ../recordings/combined/84ee02e6-44d5-4ab3-b875...      3    marsberg   \n",
       "4   ../recordings/combined/ec24c55a-39ec-4b36-86fe...      3    marsberg   \n",
       "..                                                ...    ...         ...   \n",
       "66  ../recordings/combined/538da1c3-1f14-452e-8378...      1    marsberg   \n",
       "67  ../recordings/combined/fe317879-ae15-4c9d-9f5c...      0    marsberg   \n",
       "68  ../recordings/combined/b24c13e6-aaa1-4971-8104...      1    marsberg   \n",
       "69  ../recordings/combined/1ca2c39b-a516-435f-877a...      0    marsberg   \n",
       "70  ../recordings/combined/9b64b307-abf9-4b4a-8a9b...      0    marsberg   \n",
       "\n",
       "    mfcc_mean      mfcc_var n_samples chroma_mean chroma_var  rms_mean  \\\n",
       "0  -27.676704  19290.720703   2259243    0.510744   0.064451  0.000268   \n",
       "1  -27.430916  19336.501953   1017387    0.505415   0.067332  0.000268   \n",
       "2  -27.275898  19287.546875   1035799    0.508465   0.068212  0.000272   \n",
       "3  -27.048124  19276.820312   1581845    0.502856   0.068207  0.000278   \n",
       "4  -27.311382  19310.251953    892959    0.508524   0.067869  0.000273   \n",
       "..        ...           ...       ...         ...        ...       ...   \n",
       "66 -24.173405  17489.919922    890908    0.466656   0.089942  0.000715   \n",
       "67 -26.288023  18909.082031   5052449    0.583819    0.08994  0.000276   \n",
       "68 -24.468508  17460.287109    894503     0.45203   0.091696  0.000729   \n",
       "69 -26.673759  18867.615234   5055514    0.570826   0.091558  0.000262   \n",
       "70 -27.443846  18906.814453   5079086    0.538206   0.100215  0.000295   \n",
       "\n",
       "   rms_var      sc_mean         sc_var  \n",
       "0      0.0  4039.849911   22786.888439  \n",
       "1      0.0  4047.545843   31016.973748  \n",
       "2      0.0  4017.004389   29156.230358  \n",
       "3      0.0  3996.417722   28836.591416  \n",
       "4      0.0  4022.255436   35037.803311  \n",
       "..     ...          ...            ...  \n",
       "66     0.0  3099.993795  538289.786033  \n",
       "67     0.0  4045.521725  165538.654084  \n",
       "68     0.0   3106.04827  591390.735701  \n",
       "69     0.0  4087.846123  150526.572039  \n",
       "70     0.0  4024.946244  327164.951304  \n",
       "\n",
       "[71 rows x 12 columns]"
      ]
     },
     "execution_count": 16,
     "metadata": {},
     "output_type": "execute_result"
    }
   ],
   "source": [
    "dataframe_marsberg"
   ]
  },
  {
   "cell_type": "markdown",
   "id": "1c3baf3c-dd40-4c62-a822-c996cae7af15",
   "metadata": {
    "tags": []
   },
   "source": [
    "## Support Vector Classifier trained on data from _marsberg_"
   ]
  },
  {
   "cell_type": "code",
   "execution_count": 6,
   "id": "c0e580cc-499a-46b3-bd2b-91444b32b716",
   "metadata": {},
   "outputs": [
    {
     "name": "stderr",
     "output_type": "stream",
     "text": [
      "/Library/Frameworks/Python.framework/Versions/3.7/lib/python3.7/site-packages/pandas/core/generic.py:6619: SettingWithCopyWarning: \n",
      "A value is trying to be set on a copy of a slice from a DataFrame\n",
      "\n",
      "See the caveats in the documentation: https://pandas.pydata.org/pandas-docs/stable/user_guide/indexing.html#returning-a-view-versus-a-copy\n",
      "  return self._update_inplace(result)\n"
     ]
    }
   ],
   "source": [
    "# Prepare and split data for training\n",
    "y = dataframe_marsberg['label']\n",
    "x = dataframe_marsberg.drop(['label', 'path', 'environment'], axis=1)\n",
    "\n",
    "y.replace(labels,[0, 1, 2, 3, 4], inplace=True)\n",
    "\n",
    "cols = x.columns\n",
    "min_max_scaler = preprocessing.MinMaxScaler()\n",
    "np_scaled = min_max_scaler.fit_transform(x)\n",
    "x = pandas.DataFrame(np_scaled, columns = cols)\n",
    "\n",
    "x_train, x_test, y_train, y_test = train_test_split(x, y, test_size=0.2, random_state=1)"
   ]
  },
  {
   "cell_type": "code",
   "execution_count": 7,
   "id": "3ad1e7a0-f8ff-455e-9042-667d4d04f52c",
   "metadata": {},
   "outputs": [],
   "source": [
    "model = SVC(\n",
    "    kernel=\"rbf\",\n",
    "    gamma=\"scale\",\n",
    "    probability=True\n",
    ").fit(x_train, y_train)"
   ]
  },
  {
   "cell_type": "code",
   "execution_count": 8,
   "id": "03ad5ff6-63ce-414d-a691-b651a15e09f8",
   "metadata": {},
   "outputs": [
    {
     "name": "stdout",
     "output_type": "stream",
     "text": [
      "1.0\n"
     ]
    }
   ],
   "source": [
    "test_predictions = model.predict(x_test)\n",
    "print(accuracy_score(y_test, test_predictions))"
   ]
  },
  {
   "cell_type": "code",
   "execution_count": 9,
   "id": "0f2529b6-21da-4254-97fe-8827dcd828e9",
   "metadata": {},
   "outputs": [
    {
     "data": {
      "text/plain": [
       "<AxesSubplot:xlabel='PREDICTED LABEL', ylabel='GROUND TRUTH'>"
      ]
     },
     "execution_count": 9,
     "metadata": {},
     "output_type": "execute_result"
    },
    {
     "data": {
      "image/png": "[encoded data removed]",
      "text/plain": [
       "<Figure size 432x288 with 2 Axes>"
      ]
     },
     "metadata": {
      "needs_background": "light"
     },
     "output_type": "display_data"
    }
   ],
   "source": [
    "def confusion_matrix_table(y_true, y_pred):\n",
    "    labels = sklearn.utils.multiclass.unique_labels(y_test)\n",
    "    columns = [f'{label}' for label in labels]\n",
    "    index = [f'{label}' for label in labels]\n",
    "    confusion_matrix = sklearn.metrics.confusion_matrix(y_true, y_pred, labels=labels)\n",
    "    table = pandas.DataFrame(confusion_matrix, columns=columns, index=index)\n",
    "    return table\n",
    "\n",
    "def confusion_matrix_plot(y_true, y_pred):\n",
    "    table = confusion_matrix_table(y_true, y_pred)\n",
    "    plot = seaborn.heatmap(table, annot=True, fmt=\"d\", cmap=\"viridis\")\n",
    "    plt.yticks(rotation=0)\n",
    "    plt.ylabel(\n",
    "        'GROUND TRUTH', \n",
    "        fontsize = 12, \n",
    "        fontweight = 600\n",
    "    )\n",
    "    plt.xlabel(\n",
    "        'PREDICTED LABEL', \n",
    "        fontsize = 12, \n",
    "        fontweight = 600\n",
    "    )\n",
    "    return plot\n",
    "\n",
    "confusion_matrix_plot(y_test, test_predictions)"
   ]
  },
  {
   "cell_type": "code",
   "execution_count": 10,
   "id": "57fc6d7f-96ec-42e6-a001-9cedebceee37",
   "metadata": {},
   "outputs": [
    {
     "name": "stdout",
     "output_type": "stream",
     "text": [
      "0.375\n"
     ]
    },
    {
     "name": "stderr",
     "output_type": "stream",
     "text": [
      "/Library/Frameworks/Python.framework/Versions/3.7/lib/python3.7/site-packages/pandas/core/generic.py:6619: SettingWithCopyWarning: \n",
      "A value is trying to be set on a copy of a slice from a DataFrame\n",
      "\n",
      "See the caveats in the documentation: https://pandas.pydata.org/pandas-docs/stable/user_guide/indexing.html#returning-a-view-versus-a-copy\n",
      "  return self._update_inplace(result)\n"
     ]
    }
   ],
   "source": [
    "# Calculate accuracy on data from duesseldorf\n",
    "y_duesseldorf = dataframe_duesseldorf['label']\n",
    "x_duesseldorf = dataframe_duesseldorf.drop(['label', 'path', 'environment'], axis=1)\n",
    "\n",
    "y_duesseldorf.replace(labels,[0, 1, 2, 3, 4], inplace=True)\n",
    "\n",
    "cols = x_duesseldorf.columns\n",
    "min_max_scaler = preprocessing.MinMaxScaler()\n",
    "np_scaled = min_max_scaler.fit_transform(x_duesseldorf)\n",
    "x_duesseldorf = pandas.DataFrame(np_scaled, columns = cols)\n",
    "\n",
    "test_duesseldorf_predictions = model.predict(x_duesseldorf)\n",
    "print(accuracy_score(y_duesseldorf, test_duesseldorf_predictions))"
   ]
  },
  {
   "cell_type": "code",
   "execution_count": 11,
   "id": "ee918f75-6892-4c66-9a46-ef6dc5717d8d",
   "metadata": {},
   "outputs": [
    {
     "data": {
      "text/plain": [
       "<AxesSubplot:xlabel='PREDICTED LABEL', ylabel='GROUND TRUTH'>"
      ]
     },
     "execution_count": 11,
     "metadata": {},
     "output_type": "execute_result"
    },
    {
     "data": {
      "image/png": "[encoded data removed]",
      "text/plain": [
       "<Figure size 432x288 with 2 Axes>"
      ]
     },
     "metadata": {
      "needs_background": "light"
     },
     "output_type": "display_data"
    }
   ],
   "source": [
    "confusion_matrix_plot(y_duesseldorf, test_duesseldorf_predictions)"
   ]
  },
  {
   "cell_type": "markdown",
   "id": "c3390fbb-cfac-4cb7-83a6-9aca29c6b9fb",
   "metadata": {
    "tags": []
   },
   "source": [
    "## Support Vector Classifier trained on data from all environments"
   ]
  },
  {
   "cell_type": "code",
   "execution_count": 12,
   "id": "9d738f51-4ef8-4f31-8e3d-a5aa48728512",
   "metadata": {},
   "outputs": [],
   "source": [
    "# Prepare and split data for training\n",
    "y = dataframe['label']\n",
    "x = dataframe.drop(['label', 'path', 'environment'], axis=1)\n",
    "\n",
    "y.replace(labels,[0, 1, 2, 3, 4], inplace=True)\n",
    "\n",
    "cols = x.columns\n",
    "min_max_scaler = preprocessing.MinMaxScaler()\n",
    "np_scaled = min_max_scaler.fit_transform(x)\n",
    "x = pandas.DataFrame(np_scaled, columns = cols)\n",
    "\n",
    "x_train, x_test, y_train, y_test = train_test_split(x, y, test_size=0.2, random_state=1)"
   ]
  },
  {
   "cell_type": "code",
   "execution_count": 13,
   "id": "2253938b-73b7-4041-8ff5-975c02711c83",
   "metadata": {},
   "outputs": [],
   "source": [
    "model = SVC(\n",
    "    kernel=\"rbf\",\n",
    "    gamma=\"scale\",\n",
    "    probability=True\n",
    ").fit(x_train, y_train)"
   ]
  },
  {
   "cell_type": "code",
   "execution_count": 14,
   "id": "3ab95ba2-2bb0-4006-9679-d005c6551446",
   "metadata": {},
   "outputs": [
    {
     "name": "stdout",
     "output_type": "stream",
     "text": [
      "1.0\n"
     ]
    }
   ],
   "source": [
    "test_predictions = model.predict(x_test)\n",
    "print(accuracy_score(y_test, test_predictions))"
   ]
  },
  {
   "cell_type": "code",
   "execution_count": 15,
   "id": "766bfaab-e255-44be-9115-c43b2fd51474",
   "metadata": {},
   "outputs": [
    {
     "data": {
      "text/plain": [
       "<AxesSubplot:xlabel='PREDICTED LABEL', ylabel='GROUND TRUTH'>"
      ]
     },
     "execution_count": 15,
     "metadata": {},
     "output_type": "execute_result"
    },
    {
     "data": {
      "image/png": "[encoded data removed]",
      "text/plain": [
       "<Figure size 432x288 with 2 Axes>"
      ]
     },
     "metadata": {
      "needs_background": "light"
     },
     "output_type": "display_data"
    }
   ],
   "source": [
    "def confusion_matrix_table(y_true, y_pred):\n",
    "    labels = sklearn.utils.multiclass.unique_labels(y_test)\n",
    "    columns = [f'{label}' for label in labels]\n",
    "    index = [f'{label}' for label in labels]\n",
    "    confusion_matrix = sklearn.metrics.confusion_matrix(y_true, y_pred, labels=labels)\n",
    "    table = pandas.DataFrame(confusion_matrix, columns=columns, index=index)\n",
    "    return table\n",
    "\n",
    "def confusion_matrix_plot(y_true, y_pred):\n",
    "    table = confusion_matrix_table(y_true, y_pred)\n",
    "    plot = seaborn.heatmap(table, annot=True, fmt=\"d\", cmap=\"viridis\")\n",
    "    plt.yticks(rotation=0)\n",
    "    plt.ylabel(\n",
    "        'GROUND TRUTH', \n",
    "        fontsize = 12, \n",
    "        fontweight = 600\n",
    "    )\n",
    "    plt.xlabel(\n",
    "        'PREDICTED LABEL', \n",
    "        fontsize = 12, \n",
    "        fontweight = 600\n",
    "    )\n",
    "    return plot\n",
    "\n",
    "confusion_matrix_plot(y_test, test_predictions)"
   ]
  }
 ],
 "metadata": {
  "kernelspec": {
   "display_name": "Python 3 (ipykernel)",
   "language": "python",
   "name": "python3"
  },
  "language_info": {
   "codemirror_mode": {
    "name": "ipython",
    "version": 3
   },
   "file_extension": ".py",
   "mimetype": "text/x-python",
   "name": "python",
   "nbconvert_exporter": "python",
   "pygments_lexer": "ipython3",
   "version": "3.7.9"
  }
 },
 "nbformat": 4,
 "nbformat_minor": 5
}
